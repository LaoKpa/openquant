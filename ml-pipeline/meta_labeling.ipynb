{
 "cells": [
  {
   "cell_type": "markdown",
   "metadata": {},
   "source": [
    "# Meta-Labeling for bet side and size"
   ]
  },
  {
   "cell_type": "markdown",
   "metadata": {},
   "source": [
    "Implementation of Triple-barrier method for determining side and Meta-labeling for size of the bet. Meta-labeling is a technique introduced by Marco Lopez De Prado in Advances to Financial machine learning."
   ]
  },
  {
   "cell_type": "markdown",
   "metadata": {},
   "source": [
    "## Imports"
   ]
  },
  {
   "cell_type": "code",
   "execution_count": 161,
   "metadata": {},
   "outputs": [
    {
     "name": "stdout",
     "output_type": "stream",
     "text": [
      "The autoreload extension is already loaded. To reload it, use:\n",
      "  %reload_ext autoreload\n"
     ]
    }
   ],
   "source": [
    "%load_ext autoreload\n",
    "%autoreload 2\n",
    "\n",
    "# standard imports\n",
    "from pathlib import PurePath, Path \n",
    "import sys\n",
    "import time\n",
    "from collections import OrderedDict as od \n",
    "import re \n",
    "import os \n",
    "import json \n",
    "\n",
    "# scientific stack\n",
    "import pandas as pd \n",
    "import numpy as np\n",
    "import scipy.stats as stats\n",
    "import statsmodels.api as sm\n",
    "import math\n",
    "import mlfinlab as ml\n",
    "import sklearn as sk\n",
    "\n",
    "# visual tools and plotting\n",
    "import matplotlib as mpl\n",
    "import matplotlib.pyplot as plt\n",
    "%matplotlib inline\n",
    "import seaborn as sns"
   ]
  },
  {
   "cell_type": "markdown",
   "metadata": {},
   "source": [
    "## Import Dataset"
   ]
  },
  {
   "cell_type": "code",
   "execution_count": 162,
   "metadata": {},
   "outputs": [
    {
     "name": "stdout",
     "output_type": "stream",
     "text": [
      "                            open     high      low    close  cum_vol  \\\n",
      "date_time                                                              \n",
      "2011-07-31 23:31:58.810  1306.00  1308.75  1301.75  1305.75    53658   \n",
      "2011-08-01 02:55:17.443  1305.75  1309.50  1304.00  1306.50    53552   \n",
      "2011-08-01 07:25:56.319  1306.75  1309.75  1304.75  1305.00    53543   \n",
      "2011-08-01 08:33:10.903  1305.00  1305.00  1299.00  1300.00    53830   \n",
      "2011-08-01 10:51:41.842  1300.00  1307.75  1299.00  1307.75    53734   \n",
      "...                          ...      ...      ...      ...      ...   \n",
      "2012-07-30 12:30:28.642  1379.25  1380.00  1377.50  1377.75    50843   \n",
      "2012-07-30 13:29:21.258  1377.75  1380.00  1377.00  1379.25    50782   \n",
      "2012-07-30 13:35:05.407  1379.25  1383.25  1379.00  1382.50    50675   \n",
      "2012-07-30 13:43:43.711  1382.50  1383.25  1380.00  1381.00    50667   \n",
      "2012-07-30 13:54:26.158  1380.75  1381.75  1379.75  1380.75    50698   \n",
      "\n",
      "                          cum_dollar  cum_ticks  \n",
      "date_time                                        \n",
      "2011-07-31 23:31:58.810  70035704.75      14115  \n",
      "2011-08-01 02:55:17.443  70006277.00      15422  \n",
      "2011-08-01 07:25:56.319  70000901.00      14727  \n",
      "2011-08-01 08:33:10.903  70094217.75      14987  \n",
      "2011-08-01 10:51:41.842  70033006.25      14499  \n",
      "...                              ...        ...  \n",
      "2012-07-30 12:30:28.642  70116589.50      17923  \n",
      "2012-07-30 13:29:21.258  70014483.25      14040  \n",
      "2012-07-30 13:35:05.407  70001889.25      12017  \n",
      "2012-07-30 13:43:43.711  70002243.75      13904  \n",
      "2012-07-30 13:54:26.158  70007575.25      12706  \n",
      "\n",
      "[10000 rows x 7 columns]\n"
     ]
    }
   ],
   "source": [
    "# read in and store raw tick data in pandas dataframe to be cleaned and transformed\n",
    "raw_tick_data = pd.read_csv('tick_data.csv')\n",
    "raw_tick_data['date_time'] = pd.to_datetime(raw_tick_data.date_time)\n",
    "raw_tick_data.set_index('date_time', drop=True, inplace=True)\n",
    "print(raw_tick_data)"
   ]
  },
  {
   "cell_type": "markdown",
   "metadata": {},
   "source": [
    "## Create Dollar Bars"
   ]
  },
  {
   "cell_type": "markdown",
   "metadata": {},
   "source": [
    "Here we transform the raw ohlc data into various financial data structures that provide a better representation of the movement of trade information throughout the market.  These bars include: dollar, tick, and volume bars."
   ]
  },
  {
   "cell_type": "markdown",
   "metadata": {},
   "source": [
    "## Fitting the Primary Model"
   ]
  },
  {
   "cell_type": "markdown",
   "metadata": {},
   "source": [
    "This is is the primary model that we will use to drive our strategy (EMA Crossover)"
   ]
  },
  {
   "cell_type": "code",
   "execution_count": 163,
   "metadata": {},
   "outputs": [],
   "source": [
    "fast_window = 12\n",
    "slow_window = 26\n",
    "\n",
    "raw_tick_data['fast_mavg'] = raw_tick_data['close'].rolling(window=fast_window, min_periods=fast_window, center=False).mean()\n",
    "raw_tick_data['slow_mavg'] = raw_tick_data['close'].rolling(window=slow_window, min_periods=slow_window, center=False).mean()"
   ]
  },
  {
   "cell_type": "markdown",
   "metadata": {},
   "source": [
    "### Compute side"
   ]
  },
  {
   "cell_type": "code",
   "execution_count": 164,
   "metadata": {},
   "outputs": [
    {
     "name": "stdout",
     "output_type": "stream",
     "text": [
      "date_time\n",
      "2011-07-31 23:31:58.810    False\n",
      "2011-08-01 02:55:17.443    False\n",
      "2011-08-01 07:25:56.319    False\n",
      "2011-08-01 08:33:10.903    False\n",
      "2011-08-01 10:51:41.842    False\n",
      "                           ...  \n",
      "2012-07-30 12:30:28.642     True\n",
      "2012-07-30 13:29:21.258    False\n",
      "2012-07-30 13:35:05.407    False\n",
      "2012-07-30 13:43:43.711    False\n",
      "2012-07-30 13:54:26.158    False\n",
      "Length: 10000, dtype: bool\n"
     ]
    }
   ],
   "source": [
    "raw_tick_data['side'] = np.nan\n",
    "long_signals = raw_tick_data['fast_mavg'] >= raw_tick_data['slow_mavg']\n",
    "short_signals = raw_tick_data['fast_mavg'] < raw_tick_data['slow_mavg']\n",
    "raw_tick_data.loc[long_signals, 'side'] = 1\n",
    "raw_tick_data.loc[short_signals, 'side'] = -1\n",
    "data = raw_tick_data.dropna()\n",
    "raw_data = data.copy()\n",
    "print(long_signals)"
   ]
  },
  {
   "cell_type": "code",
   "execution_count": 165,
   "metadata": {},
   "outputs": [
    {
     "name": "stdout",
     "output_type": "stream",
     "text": [
      "date_time\n",
      "2011-08-02 14:49:14.665         NaN\n",
      "2011-08-02 14:55:22.761    0.000009\n",
      "2011-08-02 15:02:12.277    0.000013\n",
      "2011-08-02 15:07:17.932    0.001585\n",
      "2011-08-02 15:12:42.641    0.001509\n",
      "                             ...   \n",
      "2012-07-30 12:30:28.642    0.008794\n",
      "2012-07-30 13:29:21.258    0.009193\n",
      "2012-07-30 13:35:05.407    0.009381\n",
      "2012-07-30 13:43:43.711    0.009588\n",
      "2012-07-30 13:54:26.158    0.009764\n",
      "Name: close, Length: 9926, dtype: float64\n"
     ]
    }
   ],
   "source": [
    "# set daily volatility\n",
    "daily_vol = ml.util.get_daily_vol(close=data['close'], lookback=50)\n",
    "print(daily_vol)"
   ]
  },
  {
   "cell_type": "markdown",
   "metadata": {},
   "source": []
  },
  {
   "cell_type": "code",
   "execution_count": 166,
   "metadata": {},
   "outputs": [
    {
     "name": "stdout",
     "output_type": "stream",
     "text": [
      "date_time\n",
      "2011-08-02 14:49:14.665             NaN\n",
      "2011-08-02 14:55:22.761    2.095284e-07\n",
      "2011-08-02 15:02:12.277    2.818900e-07\n",
      "2011-08-02 15:07:17.932    3.530381e-05\n",
      "2011-08-02 15:12:42.641    3.359834e-05\n",
      "                               ...     \n",
      "2012-07-30 12:30:28.642    1.958661e-04\n",
      "2012-07-30 13:29:21.258    2.047418e-04\n",
      "2012-07-30 13:35:05.407    2.089223e-04\n",
      "2012-07-30 13:43:43.711    2.135460e-04\n",
      "2012-07-30 13:54:26.158    2.174610e-04\n",
      "Name: close, Length: 9926, dtype: float64\n"
     ]
    }
   ],
   "source": [
    "# convert from daily vol to hourly vol (since our data in hourly)\n",
    "trading_hours_in_day = 8\n",
    "trading_days_in_year = 252\n",
    "hourly_vol = daily_vol / math.sqrt(trading_hours_in_day * trading_days_in_year)\n",
    "hourly_vol_mean = hourly_vol.mean()\n",
    "print(hourly_vol)"
   ]
  },
  {
   "cell_type": "markdown",
   "metadata": {},
   "source": [
    "### Apply CUSUM Filter"
   ]
  },
  {
   "cell_type": "markdown",
   "metadata": {},
   "source": [
    "The purpose of the CUSUM filter is to locate instances of change detection.  These are points that will later be used as t_events for the Triple-barrier method."
   ]
  },
  {
   "cell_type": "code",
   "execution_count": 167,
   "metadata": {},
   "outputs": [
    {
     "data": {
      "text/plain": [
       "DatetimeIndex(['2011-08-01 14:54:45.324000', '2011-08-01 15:01:17.292000',\n",
       "               '2011-08-01 15:05:30.877000', '2011-08-01 15:11:41.236000',\n",
       "               '2011-08-01 15:26:40.200000', '2011-08-01 15:34:37.446000',\n",
       "               '2011-08-01 15:38:23.090000', '2011-08-01 15:56:25.240000',\n",
       "               '2011-08-01 16:16:58.143000', '2011-08-01 16:29:55.276000',\n",
       "               ...\n",
       "               '2012-07-27 20:01:25.794000', '2012-07-27 20:14:35.480000',\n",
       "               '2012-07-30 06:13:28.136000', '2012-07-30 08:10:13.266000',\n",
       "               '2012-07-30 10:16:04.616000', '2012-07-30 12:30:28.642000',\n",
       "               '2012-07-30 13:29:21.258000', '2012-07-30 13:35:05.407000',\n",
       "               '2012-07-30 13:43:43.711000', '2012-07-30 13:54:26.158000'],\n",
       "              dtype='datetime64[ns]', length=9523, freq=None)"
      ]
     },
     "execution_count": 167,
     "metadata": {},
     "output_type": "execute_result"
    }
   ],
   "source": [
    "# apply symetric CUSUM filter and get timestamps for events\n",
    "cusum_events = ml.filters.cusum_filter(data['close'], threshold=hourly_vol_mean * 0.5)\n",
    "cusum_events"
   ]
  },
  {
   "cell_type": "code",
   "execution_count": 168,
   "metadata": {},
   "outputs": [
    {
     "data": {
      "text/plain": [
       "2011-08-01 14:54:45.324   2011-08-02 14:55:22.761\n",
       "2011-08-01 15:01:17.292   2011-08-02 15:02:12.277\n",
       "2011-08-01 15:05:30.877   2011-08-02 15:07:17.932\n",
       "2011-08-01 15:11:41.236   2011-08-02 15:12:42.641\n",
       "2011-08-01 15:26:40.200   2011-08-02 15:27:24.004\n",
       "                                    ...          \n",
       "2012-07-27 19:53:34.640   2012-07-30 06:13:28.136\n",
       "2012-07-27 19:57:45.879   2012-07-30 06:13:28.136\n",
       "2012-07-27 19:59:58.054   2012-07-30 06:13:28.136\n",
       "2012-07-27 20:01:25.794   2012-07-30 06:13:28.136\n",
       "2012-07-27 20:14:35.480   2012-07-30 06:13:28.136\n",
       "Name: date_time, Length: 9515, dtype: datetime64[ns]"
      ]
     },
     "execution_count": 168,
     "metadata": {},
     "output_type": "execute_result"
    }
   ],
   "source": [
    "# compute vertical barrier\n",
    "vertical_barriers = ml.labeling.add_vertical_barrier(t_events=cusum_events, close=data['close'], num_days=1)\n",
    "vertical_barriers"
   ]
  },
  {
   "cell_type": "markdown",
   "metadata": {},
   "source": [
    "### Set Take Profit and Stop Loss"
   ]
  },
  {
   "cell_type": "code",
   "execution_count": 169,
   "metadata": {},
   "outputs": [],
   "source": [
    "pt_sl = [1,2]\n",
    "min_ret = 0.005"
   ]
  },
  {
   "cell_type": "markdown",
   "metadata": {},
   "source": [
    "### Get Triple-barrier Events using CUSUM filter"
   ]
  },
  {
   "cell_type": "code",
   "execution_count": 170,
   "metadata": {},
   "outputs": [
    {
     "name": "stderr",
     "output_type": "stream",
     "text": [
      "2020-10-07 15:06:07.878537 100.0% apply_pt_sl_on_t1 done after 0.13 minutes. Remaining 0.0 minutes..\n"
     ]
    },
    {
     "data": {
      "text/html": [
       "<div>\n",
       "<style scoped>\n",
       "    .dataframe tbody tr th:only-of-type {\n",
       "        vertical-align: middle;\n",
       "    }\n",
       "\n",
       "    .dataframe tbody tr th {\n",
       "        vertical-align: top;\n",
       "    }\n",
       "\n",
       "    .dataframe thead th {\n",
       "        text-align: right;\n",
       "    }\n",
       "</style>\n",
       "<table border=\"1\" class=\"dataframe\">\n",
       "  <thead>\n",
       "    <tr style=\"text-align: right;\">\n",
       "      <th></th>\n",
       "      <th>ret</th>\n",
       "      <th>trgt</th>\n",
       "      <th>bin</th>\n",
       "      <th>side</th>\n",
       "    </tr>\n",
       "  </thead>\n",
       "  <tbody>\n",
       "    <tr>\n",
       "      <th>2011-08-02 19:31:14.387</th>\n",
       "      <td>0.005400</td>\n",
       "      <td>0.005069</td>\n",
       "      <td>1</td>\n",
       "      <td>-1.0</td>\n",
       "    </tr>\n",
       "    <tr>\n",
       "      <th>2011-08-02 19:42:30.586</th>\n",
       "      <td>0.006422</td>\n",
       "      <td>0.006108</td>\n",
       "      <td>1</td>\n",
       "      <td>-1.0</td>\n",
       "    </tr>\n",
       "    <tr>\n",
       "      <th>2011-08-02 19:45:56.176</th>\n",
       "      <td>0.007222</td>\n",
       "      <td>0.006424</td>\n",
       "      <td>1</td>\n",
       "      <td>-1.0</td>\n",
       "    </tr>\n",
       "    <tr>\n",
       "      <th>2011-08-02 19:50:37.185</th>\n",
       "      <td>0.009869</td>\n",
       "      <td>0.006789</td>\n",
       "      <td>1</td>\n",
       "      <td>-1.0</td>\n",
       "    </tr>\n",
       "    <tr>\n",
       "      <th>2011-08-02 19:52:57.011</th>\n",
       "      <td>0.009063</td>\n",
       "      <td>0.007127</td>\n",
       "      <td>1</td>\n",
       "      <td>-1.0</td>\n",
       "    </tr>\n",
       "    <tr>\n",
       "      <th>...</th>\n",
       "      <td>...</td>\n",
       "      <td>...</td>\n",
       "      <td>...</td>\n",
       "      <td>...</td>\n",
       "    </tr>\n",
       "    <tr>\n",
       "      <th>2012-07-27 19:53:34.640</th>\n",
       "      <td>-0.001991</td>\n",
       "      <td>0.005877</td>\n",
       "      <td>0</td>\n",
       "      <td>1.0</td>\n",
       "    </tr>\n",
       "    <tr>\n",
       "      <th>2012-07-27 19:57:45.879</th>\n",
       "      <td>-0.001268</td>\n",
       "      <td>0.005763</td>\n",
       "      <td>0</td>\n",
       "      <td>1.0</td>\n",
       "    </tr>\n",
       "    <tr>\n",
       "      <th>2012-07-27 19:59:58.054</th>\n",
       "      <td>-0.001810</td>\n",
       "      <td>0.005655</td>\n",
       "      <td>0</td>\n",
       "      <td>1.0</td>\n",
       "    </tr>\n",
       "    <tr>\n",
       "      <th>2012-07-27 20:01:25.794</th>\n",
       "      <td>-0.002713</td>\n",
       "      <td>0.005590</td>\n",
       "      <td>0</td>\n",
       "      <td>1.0</td>\n",
       "    </tr>\n",
       "    <tr>\n",
       "      <th>2012-07-27 20:14:35.480</th>\n",
       "      <td>-0.002893</td>\n",
       "      <td>0.005528</td>\n",
       "      <td>0</td>\n",
       "      <td>1.0</td>\n",
       "    </tr>\n",
       "  </tbody>\n",
       "</table>\n",
       "<p>7821 rows × 4 columns</p>\n",
       "</div>"
      ],
      "text/plain": [
       "                              ret      trgt  bin  side\n",
       "2011-08-02 19:31:14.387  0.005400  0.005069    1  -1.0\n",
       "2011-08-02 19:42:30.586  0.006422  0.006108    1  -1.0\n",
       "2011-08-02 19:45:56.176  0.007222  0.006424    1  -1.0\n",
       "2011-08-02 19:50:37.185  0.009869  0.006789    1  -1.0\n",
       "2011-08-02 19:52:57.011  0.009063  0.007127    1  -1.0\n",
       "...                           ...       ...  ...   ...\n",
       "2012-07-27 19:53:34.640 -0.001991  0.005877    0   1.0\n",
       "2012-07-27 19:57:45.879 -0.001268  0.005763    0   1.0\n",
       "2012-07-27 19:59:58.054 -0.001810  0.005655    0   1.0\n",
       "2012-07-27 20:01:25.794 -0.002713  0.005590    0   1.0\n",
       "2012-07-27 20:14:35.480 -0.002893  0.005528    0   1.0\n",
       "\n",
       "[7821 rows x 4 columns]"
      ]
     },
     "execution_count": 170,
     "metadata": {},
     "output_type": "execute_result"
    }
   ],
   "source": [
    "triple_barrier_events = ml.labeling.get_events(close=data['close'],\n",
    "                                                t_events=cusum_events,\n",
    "                                                pt_sl=pt_sl,\n",
    "                                                #check between hourly and daily vol\n",
    "                                                target=daily_vol,\n",
    "                                                min_ret=min_ret,\n",
    "                                                num_threads=3,\n",
    "                                                vertical_barrier_times=vertical_barriers,\n",
    "                                                side_prediction=data['side'],\n",
    "                                                verbose=True\n",
    "                                                )\n",
    "\n",
    "labels = ml.labeling.get_bins(triple_barrier_events, data['close'])\n",
    "labels"
   ]
  },
  {
   "cell_type": "markdown",
   "metadata": {},
   "source": [
    "## Results of the Primary Model"
   ]
  },
  {
   "cell_type": "code",
   "execution_count": 171,
   "metadata": {},
   "outputs": [],
   "source": [
    "# set variables for analysis\n",
    "primary_forecast = pd.DataFrame(labels['bin'])\n",
    "primary_forecast['pred'] = 1\n",
    "primary_forecast.columns = ['actual', 'pred']"
   ]
  },
  {
   "cell_type": "code",
   "execution_count": 172,
   "metadata": {},
   "outputs": [],
   "source": [
    "# performance metrics\n",
    "actual = primary_forecast['actual']\n",
    "pred = primary_forecast['pred']"
   ]
  },
  {
   "cell_type": "markdown",
   "metadata": {},
   "source": [
    "#### Classification Report"
   ]
  },
  {
   "cell_type": "code",
   "execution_count": 173,
   "metadata": {},
   "outputs": [
    {
     "name": "stdout",
     "output_type": "stream",
     "text": [
      "CLassification Report\n",
      "              precision    recall  f1-score   support\n",
      "\n",
      "           0       0.00      0.00      0.00      4659\n",
      "           1       0.40      1.00      0.58      3162\n",
      "\n",
      "    accuracy                           0.40      7821\n",
      "   macro avg       0.20      0.50      0.29      7821\n",
      "weighted avg       0.16      0.40      0.23      7821\n",
      "\n"
     ]
    }
   ],
   "source": [
    "print('CLassification Report')\n",
    "print(sk.metrics.classification_report(y_true=actual,  y_pred=pred, zero_division=False))"
   ]
  },
  {
   "cell_type": "markdown",
   "metadata": {},
   "source": [
    "#### Confusion Matrix"
   ]
  },
  {
   "cell_type": "code",
   "execution_count": 174,
   "metadata": {},
   "outputs": [
    {
     "name": "stdout",
     "output_type": "stream",
     "text": [
      "Confusion Matrix\n"
     ]
    },
    {
     "data": {
      "text/plain": [
       "array([[   0, 4659],\n",
       "       [   0, 3162]], dtype=int64)"
      ]
     },
     "execution_count": 174,
     "metadata": {},
     "output_type": "execute_result"
    }
   ],
   "source": [
    "print('Confusion Matrix')\n",
    "sk.metrics.confusion_matrix(actual, pred)"
   ]
  },
  {
   "cell_type": "markdown",
   "metadata": {},
   "source": [
    "#### Accuracy"
   ]
  },
  {
   "cell_type": "code",
   "execution_count": 175,
   "metadata": {},
   "outputs": [
    {
     "name": "stdout",
     "output_type": "stream",
     "text": [
      "Accuracy\n"
     ]
    },
    {
     "data": {
      "text/plain": [
       "0.40429612581511315"
      ]
     },
     "execution_count": 175,
     "metadata": {},
     "output_type": "execute_result"
    }
   ],
   "source": [
    "print('Accuracy')\n",
    "sk.metrics.accuracy_score(actual, pred)"
   ]
  },
  {
   "cell_type": "markdown",
   "metadata": {},
   "source": [
    "## Fit the Meta Model (Train Forest for bet size)"
   ]
  },
  {
   "cell_type": "code",
   "execution_count": 176,
   "metadata": {},
   "outputs": [],
   "source": [
    "# get log of returns\n",
    "raw_data['log_ret'] = np.log(raw_data['close']).diff()"
   ]
  },
  {
   "cell_type": "code",
   "execution_count": 177,
   "metadata": {},
   "outputs": [],
   "source": [
    "# create momentum columns\n",
    "raw_data['mom1'] = raw_data['close'].pct_change(periods=1)\n",
    "raw_data['mom2'] = raw_data['close'].pct_change(periods=2)\n",
    "raw_data['mom3'] = raw_data['close'].pct_change(periods=3)\n",
    "raw_data['mom4'] = raw_data['close'].pct_change(periods=4)\n",
    "raw_data['mom5'] = raw_data['close'].pct_change(periods=5)"
   ]
  },
  {
   "cell_type": "code",
   "execution_count": 178,
   "metadata": {},
   "outputs": [],
   "source": [
    "# create volatility columns\n",
    "raw_data['volatility_50'] = raw_data['log_ret'].rolling(window=50, min_periods=50, center=False).std()\n",
    "raw_data['volatility_31'] = raw_data['log_ret'].rolling(window=31, min_periods=31, center=False).std()\n",
    "raw_data['volatility_15'] = raw_data['log_ret'].rolling(window=15, min_periods=15, center=False).std()"
   ]
  },
  {
   "cell_type": "code",
   "execution_count": 179,
   "metadata": {},
   "outputs": [],
   "source": [
    "# serial Correlation (Takes about 4 minutes)\n",
    "window_autocorr = 50\n",
    "\n",
    "raw_data['autocorr_1'] = raw_data['log_ret'].rolling(window=window_autocorr, min_periods=window_autocorr, center=False).apply(lambda x: x.autocorr(lag=1), raw=False)\n",
    "raw_data['autocorr_2'] = raw_data['log_ret'].rolling(window=window_autocorr, min_periods=window_autocorr, center=False).apply(lambda x: x.autocorr(lag=2), raw=False)\n",
    "raw_data['autocorr_3'] = raw_data['log_ret'].rolling(window=window_autocorr, min_periods=window_autocorr, center=False).apply(lambda x: x.autocorr(lag=3), raw=False)\n",
    "raw_data['autocorr_4'] = raw_data['log_ret'].rolling(window=window_autocorr, min_periods=window_autocorr, center=False).apply(lambda x: x.autocorr(lag=4), raw=False)\n",
    "raw_data['autocorr_5'] = raw_data['log_ret'].rolling(window=window_autocorr, min_periods=window_autocorr, center=False).apply(lambda x: x.autocorr(lag=5), raw=False)"
   ]
  },
  {
   "cell_type": "code",
   "execution_count": 180,
   "metadata": {},
   "outputs": [],
   "source": [
    "# serial Correlation (Takes about 4 minutes)\n",
    "window_autocorr = 50\n",
    "\n",
    "raw_data['autocorr_1'] = raw_data['log_ret'].rolling(window=window_autocorr, min_periods=window_autocorr, center=False).apply(lambda x: x.autocorr(lag=1), raw=False)\n",
    "raw_data['autocorr_2'] = raw_data['log_ret'].rolling(window=window_autocorr, min_periods=window_autocorr, center=False).apply(lambda x: x.autocorr(lag=2), raw=False)\n",
    "raw_data['autocorr_3'] = raw_data['log_ret'].rolling(window=window_autocorr, min_periods=window_autocorr, center=False).apply(lambda x: x.autocorr(lag=3), raw=False)\n",
    "raw_data['autocorr_4'] = raw_data['log_ret'].rolling(window=window_autocorr, min_periods=window_autocorr, center=False).apply(lambda x: x.autocorr(lag=4), raw=False)\n",
    "raw_data['autocorr_5'] = raw_data['log_ret'].rolling(window=window_autocorr, min_periods=window_autocorr, center=False).apply(lambda x: x.autocorr(lag=5), raw=False)"
   ]
  },
  {
   "cell_type": "markdown",
   "metadata": {},
   "source": [
    "### Recompute sides"
   ]
  },
  {
   "cell_type": "code",
   "execution_count": 181,
   "metadata": {},
   "outputs": [],
   "source": [
    "raw_data['side'] = np.nan\n",
    "long_signals = raw_data['fast_mavg'] >= raw_data['slow_mavg']\n",
    "short_signals = raw_data['fast_mavg'] < raw_data['slow_mavg']\n",
    "raw_data.loc[long_signals, 'side'] = 1\n",
    "raw_data.loc[short_signals, 'side'] = -1"
   ]
  },
  {
   "cell_type": "code",
   "execution_count": 182,
   "metadata": {},
   "outputs": [
    {
     "data": {
      "text/plain": [
       "date_time\n",
       "2011-08-01 14:46:00.072    False\n",
       "2011-08-01 14:54:45.324    False\n",
       "2011-08-01 15:01:17.292    False\n",
       "2011-08-01 15:05:30.877    False\n",
       "2011-08-01 15:11:41.236    False\n",
       "                           ...  \n",
       "2012-07-30 12:30:28.642     True\n",
       "2012-07-30 13:29:21.258    False\n",
       "2012-07-30 13:35:05.407    False\n",
       "2012-07-30 13:43:43.711    False\n",
       "2012-07-30 13:54:26.158    False\n",
       "Length: 9975, dtype: bool"
      ]
     },
     "execution_count": 182,
     "metadata": {},
     "output_type": "execute_result"
    }
   ],
   "source": [
    "long_signals"
   ]
  },
  {
   "cell_type": "code",
   "execution_count": 183,
   "metadata": {},
   "outputs": [],
   "source": [
    "# remove look ahead bias\n",
    "raw_data = raw_data.shift(1)"
   ]
  },
  {
   "cell_type": "code",
   "execution_count": 184,
   "metadata": {},
   "outputs": [
    {
     "data": {
      "text/html": [
       "<div>\n",
       "<style scoped>\n",
       "    .dataframe tbody tr th:only-of-type {\n",
       "        vertical-align: middle;\n",
       "    }\n",
       "\n",
       "    .dataframe tbody tr th {\n",
       "        vertical-align: top;\n",
       "    }\n",
       "\n",
       "    .dataframe thead th {\n",
       "        text-align: right;\n",
       "    }\n",
       "</style>\n",
       "<table border=\"1\" class=\"dataframe\">\n",
       "  <thead>\n",
       "    <tr style=\"text-align: right;\">\n",
       "      <th></th>\n",
       "      <th>open</th>\n",
       "      <th>high</th>\n",
       "      <th>low</th>\n",
       "      <th>close</th>\n",
       "      <th>cum_vol</th>\n",
       "      <th>cum_dollar</th>\n",
       "      <th>cum_ticks</th>\n",
       "      <th>fast_mavg</th>\n",
       "      <th>slow_mavg</th>\n",
       "      <th>side</th>\n",
       "      <th>...</th>\n",
       "      <th>mom4</th>\n",
       "      <th>mom5</th>\n",
       "      <th>volatility_50</th>\n",
       "      <th>volatility_31</th>\n",
       "      <th>volatility_15</th>\n",
       "      <th>autocorr_1</th>\n",
       "      <th>autocorr_2</th>\n",
       "      <th>autocorr_3</th>\n",
       "      <th>autocorr_4</th>\n",
       "      <th>autocorr_5</th>\n",
       "    </tr>\n",
       "  </thead>\n",
       "  <tbody>\n",
       "    <tr>\n",
       "      <th>2011-08-02 19:31:14.387</th>\n",
       "      <td>1260.50</td>\n",
       "      <td>1261.00</td>\n",
       "      <td>1256.25</td>\n",
       "      <td>1257.75</td>\n",
       "      <td>55642.0</td>\n",
       "      <td>70005634.0</td>\n",
       "      <td>10617.0</td>\n",
       "      <td>1261.895833</td>\n",
       "      <td>1265.211538</td>\n",
       "      <td>-1.0</td>\n",
       "      <td>...</td>\n",
       "      <td>-0.002577</td>\n",
       "      <td>-0.004945</td>\n",
       "      <td>0.001702</td>\n",
       "      <td>0.001583</td>\n",
       "      <td>0.001996</td>\n",
       "      <td>0.029843</td>\n",
       "      <td>-0.197186</td>\n",
       "      <td>-0.158058</td>\n",
       "      <td>0.136121</td>\n",
       "      <td>-0.010434</td>\n",
       "    </tr>\n",
       "    <tr>\n",
       "      <th>2011-08-02 19:42:30.586</th>\n",
       "      <td>1256.75</td>\n",
       "      <td>1258.75</td>\n",
       "      <td>1256.50</td>\n",
       "      <td>1256.75</td>\n",
       "      <td>55659.0</td>\n",
       "      <td>70002253.0</td>\n",
       "      <td>9989.0</td>\n",
       "      <td>1260.437500</td>\n",
       "      <td>1264.134615</td>\n",
       "      <td>-1.0</td>\n",
       "      <td>...</td>\n",
       "      <td>-0.005342</td>\n",
       "      <td>-0.004160</td>\n",
       "      <td>0.001701</td>\n",
       "      <td>0.001562</td>\n",
       "      <td>0.001831</td>\n",
       "      <td>0.030560</td>\n",
       "      <td>-0.191755</td>\n",
       "      <td>-0.160330</td>\n",
       "      <td>0.168595</td>\n",
       "      <td>0.007442</td>\n",
       "    </tr>\n",
       "    <tr>\n",
       "      <th>2011-08-02 19:45:56.176</th>\n",
       "      <td>1256.75</td>\n",
       "      <td>1257.00</td>\n",
       "      <td>1253.50</td>\n",
       "      <td>1253.75</td>\n",
       "      <td>55769.0</td>\n",
       "      <td>70009359.0</td>\n",
       "      <td>6933.0</td>\n",
       "      <td>1259.750000</td>\n",
       "      <td>1263.538462</td>\n",
       "      <td>-1.0</td>\n",
       "      <td>...</td>\n",
       "      <td>-0.005355</td>\n",
       "      <td>-0.007717</td>\n",
       "      <td>0.001723</td>\n",
       "      <td>0.001578</td>\n",
       "      <td>0.001750</td>\n",
       "      <td>0.026686</td>\n",
       "      <td>-0.181886</td>\n",
       "      <td>-0.124395</td>\n",
       "      <td>0.193267</td>\n",
       "      <td>-0.017387</td>\n",
       "    </tr>\n",
       "    <tr>\n",
       "      <th>2011-08-02 19:50:37.185</th>\n",
       "      <td>1253.75</td>\n",
       "      <td>1255.75</td>\n",
       "      <td>1253.75</td>\n",
       "      <td>1255.25</td>\n",
       "      <td>55790.0</td>\n",
       "      <td>70001893.0</td>\n",
       "      <td>8166.0</td>\n",
       "      <td>1259.250000</td>\n",
       "      <td>1263.000000</td>\n",
       "      <td>-1.0</td>\n",
       "      <td>...</td>\n",
       "      <td>-0.001988</td>\n",
       "      <td>-0.004165</td>\n",
       "      <td>0.001735</td>\n",
       "      <td>0.001608</td>\n",
       "      <td>0.001785</td>\n",
       "      <td>-0.014724</td>\n",
       "      <td>-0.195696</td>\n",
       "      <td>-0.120401</td>\n",
       "      <td>0.168655</td>\n",
       "      <td>-0.038602</td>\n",
       "    </tr>\n",
       "    <tr>\n",
       "      <th>2011-08-02 19:52:57.011</th>\n",
       "      <td>1255.25</td>\n",
       "      <td>1256.25</td>\n",
       "      <td>1253.25</td>\n",
       "      <td>1253.50</td>\n",
       "      <td>55816.0</td>\n",
       "      <td>70033348.5</td>\n",
       "      <td>8558.0</td>\n",
       "      <td>1258.854167</td>\n",
       "      <td>1262.394231</td>\n",
       "      <td>-1.0</td>\n",
       "      <td>...</td>\n",
       "      <td>-0.002586</td>\n",
       "      <td>-0.003379</td>\n",
       "      <td>0.001658</td>\n",
       "      <td>0.001593</td>\n",
       "      <td>0.001798</td>\n",
       "      <td>-0.103627</td>\n",
       "      <td>-0.143611</td>\n",
       "      <td>-0.131545</td>\n",
       "      <td>0.190062</td>\n",
       "      <td>-0.147810</td>\n",
       "    </tr>\n",
       "  </tbody>\n",
       "</table>\n",
       "<p>5 rows × 24 columns</p>\n",
       "</div>"
      ],
      "text/plain": [
       "                            open     high      low    close  cum_vol  \\\n",
       "2011-08-02 19:31:14.387  1260.50  1261.00  1256.25  1257.75  55642.0   \n",
       "2011-08-02 19:42:30.586  1256.75  1258.75  1256.50  1256.75  55659.0   \n",
       "2011-08-02 19:45:56.176  1256.75  1257.00  1253.50  1253.75  55769.0   \n",
       "2011-08-02 19:50:37.185  1253.75  1255.75  1253.75  1255.25  55790.0   \n",
       "2011-08-02 19:52:57.011  1255.25  1256.25  1253.25  1253.50  55816.0   \n",
       "\n",
       "                         cum_dollar  cum_ticks    fast_mavg    slow_mavg  \\\n",
       "2011-08-02 19:31:14.387  70005634.0    10617.0  1261.895833  1265.211538   \n",
       "2011-08-02 19:42:30.586  70002253.0     9989.0  1260.437500  1264.134615   \n",
       "2011-08-02 19:45:56.176  70009359.0     6933.0  1259.750000  1263.538462   \n",
       "2011-08-02 19:50:37.185  70001893.0     8166.0  1259.250000  1263.000000   \n",
       "2011-08-02 19:52:57.011  70033348.5     8558.0  1258.854167  1262.394231   \n",
       "\n",
       "                         side  ...      mom4      mom5  volatility_50  \\\n",
       "2011-08-02 19:31:14.387  -1.0  ... -0.002577 -0.004945       0.001702   \n",
       "2011-08-02 19:42:30.586  -1.0  ... -0.005342 -0.004160       0.001701   \n",
       "2011-08-02 19:45:56.176  -1.0  ... -0.005355 -0.007717       0.001723   \n",
       "2011-08-02 19:50:37.185  -1.0  ... -0.001988 -0.004165       0.001735   \n",
       "2011-08-02 19:52:57.011  -1.0  ... -0.002586 -0.003379       0.001658   \n",
       "\n",
       "                         volatility_31  volatility_15  autocorr_1  autocorr_2  \\\n",
       "2011-08-02 19:31:14.387       0.001583       0.001996    0.029843   -0.197186   \n",
       "2011-08-02 19:42:30.586       0.001562       0.001831    0.030560   -0.191755   \n",
       "2011-08-02 19:45:56.176       0.001578       0.001750    0.026686   -0.181886   \n",
       "2011-08-02 19:50:37.185       0.001608       0.001785   -0.014724   -0.195696   \n",
       "2011-08-02 19:52:57.011       0.001593       0.001798   -0.103627   -0.143611   \n",
       "\n",
       "                         autocorr_3  autocorr_4  autocorr_5  \n",
       "2011-08-02 19:31:14.387   -0.158058    0.136121   -0.010434  \n",
       "2011-08-02 19:42:30.586   -0.160330    0.168595    0.007442  \n",
       "2011-08-02 19:45:56.176   -0.124395    0.193267   -0.017387  \n",
       "2011-08-02 19:50:37.185   -0.120401    0.168655   -0.038602  \n",
       "2011-08-02 19:52:57.011   -0.131545    0.190062   -0.147810  \n",
       "\n",
       "[5 rows x 24 columns]"
      ]
     },
     "execution_count": 184,
     "metadata": {},
     "output_type": "execute_result"
    }
   ],
   "source": [
    "# get features at event times\n",
    "x = raw_data.loc[labels.index, :]\n",
    "x.head()"
   ]
  },
  {
   "cell_type": "code",
   "execution_count": 185,
   "metadata": {},
   "outputs": [
    {
     "data": {
      "text/html": [
       "<div>\n",
       "<style scoped>\n",
       "    .dataframe tbody tr th:only-of-type {\n",
       "        vertical-align: middle;\n",
       "    }\n",
       "\n",
       "    .dataframe tbody tr th {\n",
       "        vertical-align: top;\n",
       "    }\n",
       "\n",
       "    .dataframe thead th {\n",
       "        text-align: right;\n",
       "    }\n",
       "</style>\n",
       "<table border=\"1\" class=\"dataframe\">\n",
       "  <thead>\n",
       "    <tr style=\"text-align: right;\">\n",
       "      <th></th>\n",
       "      <th>side</th>\n",
       "      <th>log_ret</th>\n",
       "      <th>mom1</th>\n",
       "      <th>mom2</th>\n",
       "      <th>mom3</th>\n",
       "      <th>mom4</th>\n",
       "      <th>mom5</th>\n",
       "      <th>volatility_50</th>\n",
       "      <th>volatility_31</th>\n",
       "      <th>volatility_15</th>\n",
       "      <th>autocorr_1</th>\n",
       "      <th>autocorr_2</th>\n",
       "      <th>autocorr_3</th>\n",
       "      <th>autocorr_4</th>\n",
       "      <th>autocorr_5</th>\n",
       "    </tr>\n",
       "  </thead>\n",
       "  <tbody>\n",
       "    <tr>\n",
       "      <th>2011-08-02 19:31:14.387</th>\n",
       "      <td>-1.0</td>\n",
       "      <td>-0.002184</td>\n",
       "      <td>-0.002182</td>\n",
       "      <td>-0.004551</td>\n",
       "      <td>-0.003368</td>\n",
       "      <td>-0.002577</td>\n",
       "      <td>-0.004945</td>\n",
       "      <td>0.001702</td>\n",
       "      <td>0.001583</td>\n",
       "      <td>0.001996</td>\n",
       "      <td>0.029843</td>\n",
       "      <td>-0.197186</td>\n",
       "      <td>-0.158058</td>\n",
       "      <td>0.136121</td>\n",
       "      <td>-0.010434</td>\n",
       "    </tr>\n",
       "    <tr>\n",
       "      <th>2011-08-02 19:42:30.586</th>\n",
       "      <td>-1.0</td>\n",
       "      <td>0.000000</td>\n",
       "      <td>0.000000</td>\n",
       "      <td>-0.000795</td>\n",
       "      <td>-0.002975</td>\n",
       "      <td>-0.005342</td>\n",
       "      <td>-0.004160</td>\n",
       "      <td>0.001701</td>\n",
       "      <td>0.001562</td>\n",
       "      <td>0.001831</td>\n",
       "      <td>0.030560</td>\n",
       "      <td>-0.191755</td>\n",
       "      <td>-0.160330</td>\n",
       "      <td>0.168595</td>\n",
       "      <td>0.007442</td>\n",
       "    </tr>\n",
       "    <tr>\n",
       "      <th>2011-08-02 19:45:56.176</th>\n",
       "      <td>-1.0</td>\n",
       "      <td>-0.002390</td>\n",
       "      <td>-0.002387</td>\n",
       "      <td>-0.002387</td>\n",
       "      <td>-0.003180</td>\n",
       "      <td>-0.005355</td>\n",
       "      <td>-0.007717</td>\n",
       "      <td>0.001723</td>\n",
       "      <td>0.001578</td>\n",
       "      <td>0.001750</td>\n",
       "      <td>0.026686</td>\n",
       "      <td>-0.181886</td>\n",
       "      <td>-0.124395</td>\n",
       "      <td>0.193267</td>\n",
       "      <td>-0.017387</td>\n",
       "    </tr>\n",
       "    <tr>\n",
       "      <th>2011-08-02 19:50:37.185</th>\n",
       "      <td>-1.0</td>\n",
       "      <td>0.001196</td>\n",
       "      <td>0.001196</td>\n",
       "      <td>-0.001194</td>\n",
       "      <td>-0.001194</td>\n",
       "      <td>-0.001988</td>\n",
       "      <td>-0.004165</td>\n",
       "      <td>0.001735</td>\n",
       "      <td>0.001608</td>\n",
       "      <td>0.001785</td>\n",
       "      <td>-0.014724</td>\n",
       "      <td>-0.195696</td>\n",
       "      <td>-0.120401</td>\n",
       "      <td>0.168655</td>\n",
       "      <td>-0.038602</td>\n",
       "    </tr>\n",
       "    <tr>\n",
       "      <th>2011-08-02 19:52:57.011</th>\n",
       "      <td>-1.0</td>\n",
       "      <td>-0.001395</td>\n",
       "      <td>-0.001394</td>\n",
       "      <td>-0.000199</td>\n",
       "      <td>-0.002586</td>\n",
       "      <td>-0.002586</td>\n",
       "      <td>-0.003379</td>\n",
       "      <td>0.001658</td>\n",
       "      <td>0.001593</td>\n",
       "      <td>0.001798</td>\n",
       "      <td>-0.103627</td>\n",
       "      <td>-0.143611</td>\n",
       "      <td>-0.131545</td>\n",
       "      <td>0.190062</td>\n",
       "      <td>-0.147810</td>\n",
       "    </tr>\n",
       "  </tbody>\n",
       "</table>\n",
       "</div>"
      ],
      "text/plain": [
       "                         side   log_ret      mom1      mom2      mom3  \\\n",
       "2011-08-02 19:31:14.387  -1.0 -0.002184 -0.002182 -0.004551 -0.003368   \n",
       "2011-08-02 19:42:30.586  -1.0  0.000000  0.000000 -0.000795 -0.002975   \n",
       "2011-08-02 19:45:56.176  -1.0 -0.002390 -0.002387 -0.002387 -0.003180   \n",
       "2011-08-02 19:50:37.185  -1.0  0.001196  0.001196 -0.001194 -0.001194   \n",
       "2011-08-02 19:52:57.011  -1.0 -0.001395 -0.001394 -0.000199 -0.002586   \n",
       "\n",
       "                             mom4      mom5  volatility_50  volatility_31  \\\n",
       "2011-08-02 19:31:14.387 -0.002577 -0.004945       0.001702       0.001583   \n",
       "2011-08-02 19:42:30.586 -0.005342 -0.004160       0.001701       0.001562   \n",
       "2011-08-02 19:45:56.176 -0.005355 -0.007717       0.001723       0.001578   \n",
       "2011-08-02 19:50:37.185 -0.001988 -0.004165       0.001735       0.001608   \n",
       "2011-08-02 19:52:57.011 -0.002586 -0.003379       0.001658       0.001593   \n",
       "\n",
       "                         volatility_15  autocorr_1  autocorr_2  autocorr_3  \\\n",
       "2011-08-02 19:31:14.387       0.001996    0.029843   -0.197186   -0.158058   \n",
       "2011-08-02 19:42:30.586       0.001831    0.030560   -0.191755   -0.160330   \n",
       "2011-08-02 19:45:56.176       0.001750    0.026686   -0.181886   -0.124395   \n",
       "2011-08-02 19:50:37.185       0.001785   -0.014724   -0.195696   -0.120401   \n",
       "2011-08-02 19:52:57.011       0.001798   -0.103627   -0.143611   -0.131545   \n",
       "\n",
       "                         autocorr_4  autocorr_5  \n",
       "2011-08-02 19:31:14.387    0.136121   -0.010434  \n",
       "2011-08-02 19:42:30.586    0.168595    0.007442  \n",
       "2011-08-02 19:45:56.176    0.193267   -0.017387  \n",
       "2011-08-02 19:50:37.185    0.168655   -0.038602  \n",
       "2011-08-02 19:52:57.011    0.190062   -0.147810  "
      ]
     },
     "execution_count": 185,
     "metadata": {},
     "output_type": "execute_result"
    }
   ],
   "source": [
    "# remove unwanted columns\n",
    "x.drop(['open', 'high', 'low', 'close', 'cum_vol', 'cum_dollar', 'cum_ticks','fast_mavg', 'slow_mavg'], axis=1, inplace=True)\n",
    "y = labels['bin']\n",
    "x.head()"
   ]
  },
  {
   "cell_type": "code",
   "execution_count": 186,
   "metadata": {},
   "outputs": [
    {
     "data": {
      "text/plain": [
       "0    4659\n",
       "1    3162\n",
       "Name: bin, dtype: int64"
      ]
     },
     "execution_count": 186,
     "metadata": {},
     "output_type": "execute_result"
    }
   ],
   "source": [
    "# print the y values (0, 1)\n",
    "y.value_counts()"
   ]
  },
  {
   "cell_type": "markdown",
   "metadata": {},
   "source": [
    "### Model Training"
   ]
  },
  {
   "cell_type": "markdown",
   "metadata": {},
   "source": [
    "Here we will strart by seperating our dataset in a training and test set for the purpose of implementing our random forest and checking itts abiility to accurately make predictions on the test set."
   ]
  },
  {
   "cell_type": "markdown",
   "metadata": {},
   "source": [
    "#### Split into training and test set"
   ]
  },
  {
   "cell_type": "code",
   "execution_count": 187,
   "metadata": {},
   "outputs": [],
   "source": [
    "raw_data = raw_data.dropna()\n",
    "x_training_validation = x\n",
    "y_training_validation = y"
   ]
  },
  {
   "cell_type": "code",
   "execution_count": 188,
   "metadata": {},
   "outputs": [],
   "source": [
    "# function to create train, test, and split data from scikit-learn\n",
    "x_train, x_validate, y_train, y_validate = sk.model_selection.train_test_split(\n",
    "                                        x_training_validation, \n",
    "                                        y_training_validation,\n",
    "                                        test_size=0.70,\n",
    "                                        train_size=0.30,  \n",
    "                                        shuffle=False)"
   ]
  },
  {
   "cell_type": "code",
   "execution_count": 189,
   "metadata": {},
   "outputs": [
    {
     "data": {
      "text/plain": [
       "1    1198\n",
       "0    1148\n",
       "Name: bin, dtype: int64"
      ]
     },
     "execution_count": 189,
     "metadata": {},
     "output_type": "execute_result"
    }
   ],
   "source": [
    "# create train dataframe\n",
    "train_df = pd.concat([y_train,x_train], axis=1, join='inner')\n",
    "train_df['bin'].value_counts()"
   ]
  },
  {
   "cell_type": "markdown",
   "metadata": {},
   "source": [
    "#### Unsample training data for 50/50 split"
   ]
  },
  {
   "cell_type": "code",
   "execution_count": 190,
   "metadata": {},
   "outputs": [],
   "source": [
    "majority = train_df[train_df['bin'] == 0]\n",
    "minority = train_df[train_df['bin'] == 1]"
   ]
  },
  {
   "cell_type": "code",
   "execution_count": 191,
   "metadata": {},
   "outputs": [],
   "source": [
    "majority = train_df[train_df['bin'] == 0]\n",
    "minority = train_df[train_df['bin'] == 1]\n",
    "\n",
    "new_minority = sk.utils.resample(minority,\n",
    "                        replace=True,\n",
    "                        n_samples=majority.shape[0], # to match majority class\n",
    "                        random_state=42) # figure random state out\n",
    "\n",
    "train_df = pd.concat([majority, new_minority])\n",
    "train_df = sk.utils.shuffle(train_df, random_state=42)"
   ]
  },
  {
   "cell_type": "code",
   "execution_count": 192,
   "metadata": {},
   "outputs": [
    {
     "data": {
      "text/html": [
       "<div>\n",
       "<style scoped>\n",
       "    .dataframe tbody tr th:only-of-type {\n",
       "        vertical-align: middle;\n",
       "    }\n",
       "\n",
       "    .dataframe tbody tr th {\n",
       "        vertical-align: top;\n",
       "    }\n",
       "\n",
       "    .dataframe thead th {\n",
       "        text-align: right;\n",
       "    }\n",
       "</style>\n",
       "<table border=\"1\" class=\"dataframe\">\n",
       "  <thead>\n",
       "    <tr style=\"text-align: right;\">\n",
       "      <th></th>\n",
       "      <th>bin</th>\n",
       "      <th>side</th>\n",
       "      <th>log_ret</th>\n",
       "      <th>mom1</th>\n",
       "      <th>mom2</th>\n",
       "      <th>mom3</th>\n",
       "      <th>mom4</th>\n",
       "      <th>mom5</th>\n",
       "      <th>volatility_50</th>\n",
       "      <th>volatility_31</th>\n",
       "      <th>volatility_15</th>\n",
       "      <th>autocorr_1</th>\n",
       "      <th>autocorr_2</th>\n",
       "      <th>autocorr_3</th>\n",
       "      <th>autocorr_4</th>\n",
       "      <th>autocorr_5</th>\n",
       "    </tr>\n",
       "  </thead>\n",
       "  <tbody>\n",
       "    <tr>\n",
       "      <th>2011-08-10 14:36:47.974</th>\n",
       "      <td>1</td>\n",
       "      <td>-1.0</td>\n",
       "      <td>0.005515</td>\n",
       "      <td>0.005530</td>\n",
       "      <td>0.008877</td>\n",
       "      <td>0.008653</td>\n",
       "      <td>0.004197</td>\n",
       "      <td>0.003754</td>\n",
       "      <td>0.004277</td>\n",
       "      <td>0.004253</td>\n",
       "      <td>0.004030</td>\n",
       "      <td>-0.058383</td>\n",
       "      <td>0.259625</td>\n",
       "      <td>0.197343</td>\n",
       "      <td>-0.028577</td>\n",
       "      <td>0.207175</td>\n",
       "    </tr>\n",
       "    <tr>\n",
       "      <th>2011-09-22 19:42:53.742</th>\n",
       "      <td>1</td>\n",
       "      <td>-1.0</td>\n",
       "      <td>-0.001346</td>\n",
       "      <td>-0.001345</td>\n",
       "      <td>0.002701</td>\n",
       "      <td>0.005191</td>\n",
       "      <td>0.002025</td>\n",
       "      <td>-0.002017</td>\n",
       "      <td>0.002600</td>\n",
       "      <td>0.002863</td>\n",
       "      <td>0.003447</td>\n",
       "      <td>-0.079335</td>\n",
       "      <td>-0.031593</td>\n",
       "      <td>-0.015003</td>\n",
       "      <td>-0.200752</td>\n",
       "      <td>-0.015650</td>\n",
       "    </tr>\n",
       "    <tr>\n",
       "      <th>2011-08-11 13:45:03.082</th>\n",
       "      <td>0</td>\n",
       "      <td>-1.0</td>\n",
       "      <td>-0.003957</td>\n",
       "      <td>-0.003949</td>\n",
       "      <td>0.004647</td>\n",
       "      <td>0.007098</td>\n",
       "      <td>0.003315</td>\n",
       "      <td>0.011586</td>\n",
       "      <td>0.005408</td>\n",
       "      <td>0.006099</td>\n",
       "      <td>0.006557</td>\n",
       "      <td>-0.148196</td>\n",
       "      <td>0.317933</td>\n",
       "      <td>0.146384</td>\n",
       "      <td>-0.075825</td>\n",
       "      <td>-0.047033</td>\n",
       "    </tr>\n",
       "    <tr>\n",
       "      <th>2011-09-14 15:17:47.762</th>\n",
       "      <td>0</td>\n",
       "      <td>-1.0</td>\n",
       "      <td>0.003649</td>\n",
       "      <td>0.003656</td>\n",
       "      <td>0.004088</td>\n",
       "      <td>0.004088</td>\n",
       "      <td>0.004304</td>\n",
       "      <td>0.004304</td>\n",
       "      <td>0.003066</td>\n",
       "      <td>0.003526</td>\n",
       "      <td>0.002373</td>\n",
       "      <td>-0.035688</td>\n",
       "      <td>0.018795</td>\n",
       "      <td>0.021615</td>\n",
       "      <td>-0.288160</td>\n",
       "      <td>-0.211125</td>\n",
       "    </tr>\n",
       "    <tr>\n",
       "      <th>2011-08-04 14:42:19.868</th>\n",
       "      <td>1</td>\n",
       "      <td>-1.0</td>\n",
       "      <td>0.000809</td>\n",
       "      <td>0.000810</td>\n",
       "      <td>0.003247</td>\n",
       "      <td>0.003450</td>\n",
       "      <td>0.002636</td>\n",
       "      <td>0.000405</td>\n",
       "      <td>0.002492</td>\n",
       "      <td>0.002647</td>\n",
       "      <td>0.001792</td>\n",
       "      <td>-0.052389</td>\n",
       "      <td>-0.010864</td>\n",
       "      <td>0.088076</td>\n",
       "      <td>-0.150908</td>\n",
       "      <td>-0.051367</td>\n",
       "    </tr>\n",
       "  </tbody>\n",
       "</table>\n",
       "</div>"
      ],
      "text/plain": [
       "                         bin  side   log_ret      mom1      mom2      mom3  \\\n",
       "2011-08-10 14:36:47.974    1  -1.0  0.005515  0.005530  0.008877  0.008653   \n",
       "2011-09-22 19:42:53.742    1  -1.0 -0.001346 -0.001345  0.002701  0.005191   \n",
       "2011-08-11 13:45:03.082    0  -1.0 -0.003957 -0.003949  0.004647  0.007098   \n",
       "2011-09-14 15:17:47.762    0  -1.0  0.003649  0.003656  0.004088  0.004088   \n",
       "2011-08-04 14:42:19.868    1  -1.0  0.000809  0.000810  0.003247  0.003450   \n",
       "\n",
       "                             mom4      mom5  volatility_50  volatility_31  \\\n",
       "2011-08-10 14:36:47.974  0.004197  0.003754       0.004277       0.004253   \n",
       "2011-09-22 19:42:53.742  0.002025 -0.002017       0.002600       0.002863   \n",
       "2011-08-11 13:45:03.082  0.003315  0.011586       0.005408       0.006099   \n",
       "2011-09-14 15:17:47.762  0.004304  0.004304       0.003066       0.003526   \n",
       "2011-08-04 14:42:19.868  0.002636  0.000405       0.002492       0.002647   \n",
       "\n",
       "                         volatility_15  autocorr_1  autocorr_2  autocorr_3  \\\n",
       "2011-08-10 14:36:47.974       0.004030   -0.058383    0.259625    0.197343   \n",
       "2011-09-22 19:42:53.742       0.003447   -0.079335   -0.031593   -0.015003   \n",
       "2011-08-11 13:45:03.082       0.006557   -0.148196    0.317933    0.146384   \n",
       "2011-09-14 15:17:47.762       0.002373   -0.035688    0.018795    0.021615   \n",
       "2011-08-04 14:42:19.868       0.001792   -0.052389   -0.010864    0.088076   \n",
       "\n",
       "                         autocorr_4  autocorr_5  \n",
       "2011-08-10 14:36:47.974   -0.028577    0.207175  \n",
       "2011-09-22 19:42:53.742   -0.200752   -0.015650  \n",
       "2011-08-11 13:45:03.082   -0.075825   -0.047033  \n",
       "2011-09-14 15:17:47.762   -0.288160   -0.211125  \n",
       "2011-08-04 14:42:19.868   -0.150908   -0.051367  "
      ]
     },
     "execution_count": 192,
     "metadata": {},
     "output_type": "execute_result"
    }
   ],
   "source": [
    "train_df.head()"
   ]
  },
  {
   "cell_type": "code",
   "execution_count": 193,
   "metadata": {},
   "outputs": [
    {
     "data": {
      "text/plain": [
       "1    1148\n",
       "0    1148\n",
       "Name: bin, dtype: int64"
      ]
     },
     "execution_count": 193,
     "metadata": {},
     "output_type": "execute_result"
    }
   ],
   "source": [
    "train_df['bin'].value_counts()"
   ]
  },
  {
   "cell_type": "markdown",
   "metadata": {},
   "source": [
    "#### Create Training Data"
   ]
  },
  {
   "cell_type": "code",
   "execution_count": 194,
   "metadata": {},
   "outputs": [],
   "source": [
    "y_train = train_df['bin']\n",
    "x_train = train_df.loc[:, train_df.columns != 'bin']"
   ]
  },
  {
   "cell_type": "code",
   "execution_count": 195,
   "metadata": {},
   "outputs": [],
   "source": [
    "# fit the model\n",
    "parameters = {'max_depth': [2, 3, 4, 5, 7],\n",
    "                'n_estimators': [1, 10, 25, 50, 100],\n",
    "                'random_state': [42] }\n"
   ]
  },
  {
   "cell_type": "code",
   "execution_count": 196,
   "metadata": {},
   "outputs": [],
   "source": [
    "def perform_grid_search(x_data, y_data):\n",
    "        rf = sk.ensemble.RandomForestClassifier()\n",
    "\n",
    "        clf = sk.model_selection.GridSearchCV(rf, parameters, cv=4, scoring='roc_auc', n_jobs=3)\n",
    "\n",
    "        clf.fit(x_data, y_data)\n",
    "\n",
    "        print(clf.cv_results_['mean_test_score'])\n",
    "        print(clf.best_params_['n_estimators'])\n",
    "        print(clf.best_params_['max_depth'])\n",
    "\n",
    "        return clf.best_params_['n_estimators'], clf.best_params_['max_depth']"
   ]
  },
  {
   "cell_type": "markdown",
   "metadata": {},
   "source": [
    "#### Extract Parameters"
   ]
  },
  {
   "cell_type": "code",
   "execution_count": 197,
   "metadata": {},
   "outputs": [
    {
     "name": "stdout",
     "output_type": "stream",
     "text": [
      "[0.56058104 0.66547791 0.67335405 0.69237668 0.70558098 0.58709284\n",
      " 0.70428043 0.74764474 0.76091734 0.76848086 0.60694557 0.75213673\n",
      " 0.79169955 0.80519674 0.81091187 0.64009215 0.79356311 0.83445076\n",
      " 0.84175175 0.84711785 0.68694988 0.85647817 0.88293533 0.88940621\n",
      " 0.89581335]\n",
      "100\n",
      "7\n",
      "n_estimator: 100 \n",
      "depth: 7 \n",
      "c_random_state: 42\n"
     ]
    }
   ],
   "source": [
    "n_estimator, depth = perform_grid_search(x_train, y_train)\n",
    "c_random_state = 42\n",
    "print('n_estimator: ' + str(n_estimator), '\\ndepth: ' + str(depth), '\\nc_random_state: ' + str(c_random_state))"
   ]
  },
  {
   "cell_type": "markdown",
   "metadata": {},
   "source": [
    "#### Refit new model with best params"
   ]
  },
  {
   "cell_type": "code",
   "execution_count": 198,
   "metadata": {},
   "outputs": [
    {
     "data": {
      "text/plain": [
       "RandomForestClassifier(max_depth=7, random_state=42)"
      ]
     },
     "execution_count": 198,
     "metadata": {},
     "output_type": "execute_result"
    }
   ],
   "source": [
    "rf = sk.ensemble.RandomForestClassifier(max_depth=depth, n_estimators=n_estimator, random_state=c_random_state)\n",
    "rf.fit(x_train, y_train.values.ravel())"
   ]
  },
  {
   "cell_type": "markdown",
   "metadata": {},
   "source": [
    "#### Training Metrics"
   ]
  },
  {
   "cell_type": "code",
   "execution_count": 199,
   "metadata": {},
   "outputs": [
    {
     "name": "stdout",
     "output_type": "stream",
     "text": [
      "Classification Report\n",
      "              precision    recall  f1-score   support\n",
      "\n",
      "           0       0.90      0.95      0.93      1148\n",
      "           1       0.95      0.90      0.92      1148\n",
      "\n",
      "    accuracy                           0.92      2296\n",
      "   macro avg       0.93      0.92      0.92      2296\n",
      "weighted avg       0.93      0.92      0.92      2296\n",
      "\n"
     ]
    }
   ],
   "source": [
    "y_pred_rf = rf.predict_proba(x_train)[:, 1]\n",
    "y_pred = rf.predict(x_train)\n",
    "fpr_rf, tpr_rf, _ = sk.metrics.roc_curve(y_train, y_pred_rf)\n",
    "print('Classification Report')\n",
    "print(sk.metrics.classification_report(y_train, y_pred))"
   ]
  },
  {
   "cell_type": "code",
   "execution_count": 200,
   "metadata": {},
   "outputs": [
    {
     "name": "stdout",
     "output_type": "stream",
     "text": [
      "Confusion Matrix\n",
      "[[1090   58]\n",
      " [ 115 1033]]\n"
     ]
    }
   ],
   "source": [
    "print('Confusion Matrix')\n",
    "print(sk.metrics.confusion_matrix(y_train, y_pred))"
   ]
  },
  {
   "cell_type": "code",
   "execution_count": 201,
   "metadata": {},
   "outputs": [
    {
     "name": "stdout",
     "output_type": "stream",
     "text": [
      "Accuracy\n",
      "0.9246515679442509\n"
     ]
    }
   ],
   "source": [
    "print('Accuracy')\n",
    "print(sk.metrics.accuracy_score(y_train, y_pred))"
   ]
  },
  {
   "cell_type": "code",
   "execution_count": 202,
   "metadata": {},
   "outputs": [
    {
     "data": {
      "image/png": "[encoded data removed]",
      "text/plain": [
       "<Figure size 432x288 with 1 Axes>"
      ]
     },
     "metadata": {
      "needs_background": "light"
     },
     "output_type": "display_data"
    }
   ],
   "source": [
    "plt.figure(1)\n",
    "plt.plot([0, 1], [0, 1], 'k--')\n",
    "plt.plot(fpr_rf, tpr_rf, label='RF')\n",
    "plt.xlabel('False positive rate')\n",
    "plt.ylabel('True positive rate')\n",
    "plt.title('ROC curve')\n",
    "plt.legend(loc='best')\n",
    "plt.show()"
   ]
  }
 ],
 "metadata": {
  "kernelspec": {
   "display_name": "Python 3.7.6 64-bit ('base': conda)",
   "language": "python",
   "name": "python37664bitbaseconda784a393941bc4e35b7c87680a7ceede7"
  },
  "language_info": {
   "codemirror_mode": {
    "name": "ipython",
    "version": 3
   },
   "file_extension": ".py",
   "mimetype": "text/x-python",
   "name": "python",
   "nbconvert_exporter": "python",
   "pygments_lexer": "ipython3",
   "version": "3.7.6"
  }
 },
 "nbformat": 4,
 "nbformat_minor": 4
}
