{
 "metadata": {
  "language_info": {
   "codemirror_mode": {
    "name": "ipython",
    "version": 3
   },
   "file_extension": ".py",
   "mimetype": "text/x-python",
   "name": "python",
   "nbconvert_exporter": "python",
   "pygments_lexer": "ipython3",
   "version": "3.7.6-final"
  },
  "orig_nbformat": 2,
  "kernelspec": {
   "name": "python37664bitbaseconda784a393941bc4e35b7c87680a7ceede7",
   "display_name": "Python 3.7.6 64-bit ('base': conda)"
  }
 },
 "nbformat": 4,
 "nbformat_minor": 2,
 "cells": [
  {
   "source": [
    "# Meta-Labeling for bet side and size"
   ],
   "cell_type": "markdown",
   "metadata": {}
  },
  {
   "source": [
    "Implementation of Triple-barrier method for determining side and Meta-labeling for size of the bet. Meta-labeling is a technique introduced by Marco Lopez De Prado in Advances to Financial machine learning."
   ],
   "cell_type": "markdown",
   "metadata": {}
  },
  {
   "source": [
    "## Imports"
   ],
   "cell_type": "markdown",
   "metadata": {}
  },
  {
   "cell_type": "code",
   "execution_count": 22,
   "metadata": {},
   "outputs": [
    {
     "output_type": "stream",
     "name": "stdout",
     "text": [
      "The autoreload extension is already loaded. To reload it, use:\n  %reload_ext autoreload\n"
     ]
    },
    {
     "output_type": "error",
     "ename": "ModuleNotFoundError",
     "evalue": "No module named 'mlfinlab'",
     "traceback": [
      "\u001b[1;31m---------------------------------------------------------------------------\u001b[0m",
      "\u001b[1;31mModuleNotFoundError\u001b[0m                       Traceback (most recent call last)",
      "\u001b[1;32m<ipython-input-22-c576384d3014>\u001b[0m in \u001b[0;36m<module>\u001b[1;34m\u001b[0m\n\u001b[0;32m     17\u001b[0m \u001b[1;32mimport\u001b[0m \u001b[0mstatsmodels\u001b[0m\u001b[1;33m.\u001b[0m\u001b[0mapi\u001b[0m \u001b[1;32mas\u001b[0m \u001b[0msm\u001b[0m\u001b[1;33m\u001b[0m\u001b[1;33m\u001b[0m\u001b[0m\n\u001b[0;32m     18\u001b[0m \u001b[1;32mimport\u001b[0m \u001b[0mmath\u001b[0m\u001b[1;33m\u001b[0m\u001b[1;33m\u001b[0m\u001b[0m\n\u001b[1;32m---> 19\u001b[1;33m \u001b[1;32mimport\u001b[0m \u001b[0mmlfinlab\u001b[0m \u001b[1;32mas\u001b[0m \u001b[0mml\u001b[0m\u001b[1;33m\u001b[0m\u001b[1;33m\u001b[0m\u001b[0m\n\u001b[0m\u001b[0;32m     20\u001b[0m \u001b[1;33m\u001b[0m\u001b[0m\n\u001b[0;32m     21\u001b[0m \u001b[1;31m# visual tools and plotting\u001b[0m\u001b[1;33m\u001b[0m\u001b[1;33m\u001b[0m\u001b[1;33m\u001b[0m\u001b[0m\n",
      "\u001b[1;31mModuleNotFoundError\u001b[0m: No module named 'mlfinlab'"
     ]
    }
   ],
   "source": [
    "%load_ext autoreload\n",
    "%autoreload 2\n",
    "\n",
    "# standard imports\n",
    "from pathlib import PurePath, Path \n",
    "import sys\n",
    "import time\n",
    "from collections import OrderedDict as od \n",
    "import re \n",
    "import os \n",
    "import json \n",
    "\n",
    "# scientific stack\n",
    "import pandas as pd \n",
    "import numpy as np\n",
    "import scipy.stats as stats\n",
    "import statsmodels.api as sm\n",
    "import math\n",
    "import mlfinlab as ml\n",
    "\n",
    "# visual tools and plotting\n",
    "import matplotlib as mpl\n",
    "import matplotlib.pyplot as plt\n",
    "%matplotlib inline\n",
    "import seaborn as sns"
   ]
  },
  {
   "source": [
    "## Import Dataset"
   ],
   "cell_type": "markdown",
   "metadata": {}
  },
  {
   "cell_type": "code",
   "execution_count": 16,
   "metadata": {},
   "outputs": [
    {
     "output_type": "stream",
     "name": "stdout",
     "text": [
      "                            open     high      low    close  cum_vol  \\\ndate_time                                                              \n2011-07-31 23:31:58.810  1306.00  1308.75  1301.75  1305.75    53658   \n2011-08-01 02:55:17.443  1305.75  1309.50  1304.00  1306.50    53552   \n2011-08-01 07:25:56.319  1306.75  1309.75  1304.75  1305.00    53543   \n2011-08-01 08:33:10.903  1305.00  1305.00  1299.00  1300.00    53830   \n2011-08-01 10:51:41.842  1300.00  1307.75  1299.00  1307.75    53734   \n...                          ...      ...      ...      ...      ...   \n2012-07-30 12:30:28.642  1379.25  1380.00  1377.50  1377.75    50843   \n2012-07-30 13:29:21.258  1377.75  1380.00  1377.00  1379.25    50782   \n2012-07-30 13:35:05.407  1379.25  1383.25  1379.00  1382.50    50675   \n2012-07-30 13:43:43.711  1382.50  1383.25  1380.00  1381.00    50667   \n2012-07-30 13:54:26.158  1380.75  1381.75  1379.75  1380.75    50698   \n\n                          cum_dollar  cum_ticks  \ndate_time                                        \n2011-07-31 23:31:58.810  70035704.75      14115  \n2011-08-01 02:55:17.443  70006277.00      15422  \n2011-08-01 07:25:56.319  70000901.00      14727  \n2011-08-01 08:33:10.903  70094217.75      14987  \n2011-08-01 10:51:41.842  70033006.25      14499  \n...                              ...        ...  \n2012-07-30 12:30:28.642  70116589.50      17923  \n2012-07-30 13:29:21.258  70014483.25      14040  \n2012-07-30 13:35:05.407  70001889.25      12017  \n2012-07-30 13:43:43.711  70002243.75      13904  \n2012-07-30 13:54:26.158  70007575.25      12706  \n\n[10000 rows x 7 columns]\n"
     ]
    }
   ],
   "source": [
    "# read in and store raw tick data in pandas dataframe to be cleaned and transformed\n",
    "raw_tick_data = pd.read_csv('tick_data.csv')\n",
    "raw_tick_data['date_time'] = pd.to_datetime(raw_tick_data.date_time)\n",
    "raw_tick_data.set_index('date_time', drop=True, inplace=True)\n",
    "print(raw_tick_data)"
   ]
  },
  {
   "source": [
    "## Create Dollar Bars"
   ],
   "cell_type": "markdown",
   "metadata": {}
  },
  {
   "source": [
    "Here we transform the raw ohlc data into various financial data structures that provide a better representation of the movement of trade information throughout the market.  These bars include: dollar, tick, and volume bars."
   ],
   "cell_type": "markdown",
   "metadata": {}
  },
  {
   "source": [
    "## Fitting the Primary Model"
   ],
   "cell_type": "markdown",
   "metadata": {}
  },
  {
   "source": [
    "This is is the primary model that we will use to drive our strategy (EMA Crossover)"
   ],
   "cell_type": "markdown",
   "metadata": {}
  },
  {
   "cell_type": "code",
   "execution_count": 17,
   "metadata": {},
   "outputs": [],
   "source": [
    "fast_window = 12\n",
    "slow_window = 26\n",
    "\n",
    "raw_tick_data['fast_mavg'] = raw_tick_data['close'].rolling(window=fast_window, min_periods=fast_window, center=False).mean()\n",
    "raw_tick_data['slow_mavg'] = raw_tick_data['close'].rolling(window=slow_window, min_periods=slow_window, center=False).mean()"
   ]
  },
  {
   "source": [
    "### Compute side"
   ],
   "cell_type": "markdown",
   "metadata": {}
  },
  {
   "cell_type": "code",
   "execution_count": 18,
   "metadata": {},
   "outputs": [
    {
     "output_type": "stream",
     "name": "stdout",
     "text": [
      "date_time\n2011-07-31 23:31:58.810    False\n2011-08-01 02:55:17.443    False\n2011-08-01 07:25:56.319    False\n2011-08-01 08:33:10.903    False\n2011-08-01 10:51:41.842    False\n                           ...  \n2012-07-30 12:30:28.642     True\n2012-07-30 13:29:21.258    False\n2012-07-30 13:35:05.407    False\n2012-07-30 13:43:43.711    False\n2012-07-30 13:54:26.158    False\nLength: 10000, dtype: bool\n"
     ]
    }
   ],
   "source": [
    "raw_tick_data['side'] = np.nan\n",
    "long_signals = raw_tick_data['fast_mavg'] >= raw_tick_data['slow_mavg']\n",
    "short_signals = raw_tick_data['fast_mavg'] < raw_tick_data['slow_mavg']\n",
    "raw_tick_data.loc[long_signals, 'side'] = 1\n",
    "raw_tick_data.loc[short_signals, 'side'] = -1\n",
    "data = raw_tick_data.dropna()\n",
    "print(long_signals)"
   ]
  },
  {
   "cell_type": "code",
   "execution_count": 26,
   "metadata": {},
   "outputs": [
    {
     "output_type": "error",
     "ename": "NameError",
     "evalue": "name 'ml' is not defined",
     "traceback": [
      "\u001b[1;31m---------------------------------------------------------------------------\u001b[0m",
      "\u001b[1;31mNameError\u001b[0m                                 Traceback (most recent call last)",
      "\u001b[1;32m<ipython-input-26-58799ec9adf6>\u001b[0m in \u001b[0;36m<module>\u001b[1;34m\u001b[0m\n\u001b[0;32m      1\u001b[0m \u001b[1;31m# set daily volatility\u001b[0m\u001b[1;33m\u001b[0m\u001b[1;33m\u001b[0m\u001b[1;33m\u001b[0m\u001b[0m\n\u001b[1;32m----> 2\u001b[1;33m \u001b[0mdaily_vol\u001b[0m \u001b[1;33m=\u001b[0m \u001b[0mml\u001b[0m\u001b[1;33m.\u001b[0m\u001b[0mutil\u001b[0m\u001b[1;33m.\u001b[0m\u001b[0mget_daily_vol\u001b[0m\u001b[1;33m(\u001b[0m\u001b[0mclose\u001b[0m\u001b[1;33m=\u001b[0m\u001b[0mdata\u001b[0m\u001b[1;33m[\u001b[0m\u001b[1;34m'close'\u001b[0m\u001b[1;33m]\u001b[0m\u001b[1;33m,\u001b[0m \u001b[0mlookback\u001b[0m\u001b[1;33m=\u001b[0m\u001b[1;36m50\u001b[0m\u001b[1;33m)\u001b[0m\u001b[1;33m\u001b[0m\u001b[1;33m\u001b[0m\u001b[0m\n\u001b[0m\u001b[0;32m      3\u001b[0m \u001b[0mprint\u001b[0m\u001b[1;33m(\u001b[0m\u001b[0mdaily_vol\u001b[0m\u001b[1;33m)\u001b[0m\u001b[1;33m\u001b[0m\u001b[1;33m\u001b[0m\u001b[0m\n",
      "\u001b[1;31mNameError\u001b[0m: name 'ml' is not defined"
     ]
    }
   ],
   "source": [
    "# set daily volatility\n",
    "daily_vol = ml.util.get_daily_vol(close=data['close'], lookback=50)\n",
    "print(daily_vol)"
   ]
  },
  {
   "source": [],
   "cell_type": "markdown",
   "metadata": {}
  },
  {
   "cell_type": "code",
   "execution_count": 25,
   "metadata": {},
   "outputs": [
    {
     "output_type": "error",
     "ename": "NameError",
     "evalue": "name 'daily_vol' is not defined",
     "traceback": [
      "\u001b[1;31m---------------------------------------------------------------------------\u001b[0m",
      "\u001b[1;31mNameError\u001b[0m                                 Traceback (most recent call last)",
      "\u001b[1;32m<ipython-input-25-44e35845437b>\u001b[0m in \u001b[0;36m<module>\u001b[1;34m\u001b[0m\n\u001b[0;32m      2\u001b[0m \u001b[0mtrading_hours_in_day\u001b[0m \u001b[1;33m=\u001b[0m \u001b[1;36m8\u001b[0m\u001b[1;33m\u001b[0m\u001b[1;33m\u001b[0m\u001b[0m\n\u001b[0;32m      3\u001b[0m \u001b[0mtrading_days_in_year\u001b[0m \u001b[1;33m=\u001b[0m \u001b[1;36m252\u001b[0m\u001b[1;33m\u001b[0m\u001b[1;33m\u001b[0m\u001b[0m\n\u001b[1;32m----> 4\u001b[1;33m \u001b[0mhourly_vol\u001b[0m \u001b[1;33m=\u001b[0m \u001b[0mdaily_vol\u001b[0m \u001b[1;33m/\u001b[0m \u001b[0mmath\u001b[0m\u001b[1;33m.\u001b[0m\u001b[0msqrt\u001b[0m\u001b[1;33m(\u001b[0m\u001b[0mtrading_hours_in_day\u001b[0m \u001b[1;33m*\u001b[0m \u001b[0mtrading_days_in_year\u001b[0m\u001b[1;33m)\u001b[0m\u001b[1;33m\u001b[0m\u001b[1;33m\u001b[0m\u001b[0m\n\u001b[0m\u001b[0;32m      5\u001b[0m \u001b[0mhourly_vol_mean\u001b[0m \u001b[1;33m=\u001b[0m \u001b[0mhourly_vol\u001b[0m\u001b[1;33m.\u001b[0m\u001b[0mmean\u001b[0m\u001b[1;33m(\u001b[0m\u001b[1;33m)\u001b[0m\u001b[1;33m\u001b[0m\u001b[1;33m\u001b[0m\u001b[0m\n\u001b[0;32m      6\u001b[0m \u001b[0mprint\u001b[0m\u001b[1;33m(\u001b[0m\u001b[0mhourly_vol\u001b[0m\u001b[1;33m)\u001b[0m\u001b[1;33m\u001b[0m\u001b[1;33m\u001b[0m\u001b[0m\n",
      "\u001b[1;31mNameError\u001b[0m: name 'daily_vol' is not defined"
     ]
    }
   ],
   "source": [
    "# convert from daily vol to hourly vol (since our data in hourly)\n",
    "trading_hours_in_day = 8\n",
    "trading_days_in_year = 252\n",
    "hourly_vol = daily_vol / math.sqrt(trading_hours_in_day * trading_days_in_year)\n",
    "hourly_vol_mean = hourly_vol.mean()\n",
    "print(hourly_vol)"
   ]
  },
  {
   "source": [
    "### Apply CUSUM Filter"
   ],
   "cell_type": "markdown",
   "metadata": {}
  },
  {
   "source": [
    "The purpose of the CUSUM filter is to locate instances of change detection.  These are points that will later be used as t_events for the Triple-barrier method."
   ],
   "cell_type": "markdown",
   "metadata": {}
  },
  {
   "cell_type": "code",
   "execution_count": 27,
   "metadata": {},
   "outputs": [
    {
     "output_type": "error",
     "ename": "NameError",
     "evalue": "name 'ml' is not defined",
     "traceback": [
      "\u001b[1;31m---------------------------------------------------------------------------\u001b[0m",
      "\u001b[1;31mNameError\u001b[0m                                 Traceback (most recent call last)",
      "\u001b[1;32m<ipython-input-27-0e7db34ddd52>\u001b[0m in \u001b[0;36m<module>\u001b[1;34m\u001b[0m\n\u001b[0;32m      1\u001b[0m \u001b[1;31m# apply symetric CUSUM filter and get timestamps for events\u001b[0m\u001b[1;33m\u001b[0m\u001b[1;33m\u001b[0m\u001b[1;33m\u001b[0m\u001b[0m\n\u001b[1;32m----> 2\u001b[1;33m \u001b[0mcusum_events\u001b[0m \u001b[1;33m=\u001b[0m \u001b[0mml\u001b[0m\u001b[1;33m.\u001b[0m\u001b[0mfilters\u001b[0m\u001b[1;33m.\u001b[0m\u001b[0mcusum_filter\u001b[0m\u001b[1;33m(\u001b[0m\u001b[0mdata\u001b[0m\u001b[1;33m[\u001b[0m\u001b[1;34m'close'\u001b[0m\u001b[1;33m]\u001b[0m\u001b[1;33m,\u001b[0m \u001b[0mthreshold\u001b[0m\u001b[1;33m=\u001b[0m\u001b[0mhourly_vol_mean\u001b[0m \u001b[1;33m*\u001b[0m \u001b[1;36m0.5\u001b[0m\u001b[1;33m)\u001b[0m\u001b[1;33m\u001b[0m\u001b[1;33m\u001b[0m\u001b[0m\n\u001b[0m\u001b[0;32m      3\u001b[0m \u001b[0mprint\u001b[0m\u001b[1;33m(\u001b[0m\u001b[0mcusum_events\u001b[0m\u001b[1;33m)\u001b[0m\u001b[1;33m\u001b[0m\u001b[1;33m\u001b[0m\u001b[0m\n",
      "\u001b[1;31mNameError\u001b[0m: name 'ml' is not defined"
     ]
    }
   ],
   "source": [
    "# apply symetric CUSUM filter and get timestamps for events\n",
    "cusum_events = ml.filters.cusum_filter(data['close'], threshold=hourly_vol_mean * 0.5)\n",
    "print(cusum_events)"
   ]
  },
  {
   "cell_type": "code",
   "execution_count": 28,
   "metadata": {},
   "outputs": [
    {
     "output_type": "error",
     "ename": "NameError",
     "evalue": "name 'ml' is not defined",
     "traceback": [
      "\u001b[1;31m---------------------------------------------------------------------------\u001b[0m",
      "\u001b[1;31mNameError\u001b[0m                                 Traceback (most recent call last)",
      "\u001b[1;32m<ipython-input-28-fe96d4653844>\u001b[0m in \u001b[0;36m<module>\u001b[1;34m\u001b[0m\n\u001b[0;32m      1\u001b[0m \u001b[1;31m# compute vertical barrier\u001b[0m\u001b[1;33m\u001b[0m\u001b[1;33m\u001b[0m\u001b[1;33m\u001b[0m\u001b[0m\n\u001b[1;32m----> 2\u001b[1;33m \u001b[0mvertical_barriers\u001b[0m \u001b[1;33m=\u001b[0m \u001b[0mml\u001b[0m\u001b[1;33m.\u001b[0m\u001b[0mlabeling\u001b[0m\u001b[1;33m.\u001b[0m\u001b[0madd_vertical_barrier\u001b[0m\u001b[1;33m(\u001b[0m\u001b[0mt_events\u001b[0m\u001b[1;33m=\u001b[0m\u001b[0mcusum_events\u001b[0m\u001b[1;33m,\u001b[0m \u001b[0mclose\u001b[0m\u001b[1;33m=\u001b[0m\u001b[0mdata\u001b[0m\u001b[1;33m[\u001b[0m\u001b[1;34m'close'\u001b[0m\u001b[1;33m]\u001b[0m\u001b[1;33m,\u001b[0m \u001b[0mnum_days\u001b[0m\u001b[1;33m=\u001b[0m\u001b[1;36m1\u001b[0m\u001b[1;33m)\u001b[0m\u001b[1;33m\u001b[0m\u001b[1;33m\u001b[0m\u001b[0m\n\u001b[0m\u001b[0;32m      3\u001b[0m \u001b[0mprint\u001b[0m\u001b[1;33m(\u001b[0m\u001b[0mvertical_barriers\u001b[0m\u001b[1;33m)\u001b[0m\u001b[1;33m\u001b[0m\u001b[1;33m\u001b[0m\u001b[0m\n",
      "\u001b[1;31mNameError\u001b[0m: name 'ml' is not defined"
     ]
    }
   ],
   "source": [
    "# compute vertical barrier\n",
    "vertical_barriers = ml.labeling.add_vertical_barrier(t_events=cusum_events, close=data['close'], num_days=1)\n",
    "print(vertical_barriers)"
   ]
  },
  {
   "cell_type": "code",
   "execution_count": null,
   "metadata": {},
   "outputs": [],
   "source": []
  }
 ]
}