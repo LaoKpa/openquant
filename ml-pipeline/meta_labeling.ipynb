{
 "cells": [
  {
   "cell_type": "markdown",
   "metadata": {},
   "source": [
    "# Meta-Labeling for bet side and size"
   ]
  },
  {
   "cell_type": "markdown",
   "metadata": {},
   "source": [
    "Implementation of Triple-barrier method for determining side and Meta-labeling for size of the bet. Meta-labeling is a technique introduced by Marco Lopez De Prado in Advances to Financial machine learning."
   ]
  },
  {
   "cell_type": "markdown",
   "metadata": {},
   "source": [
    "## Imports"
   ]
  },
  {
   "cell_type": "code",
   "execution_count": 2,
   "metadata": {},
   "outputs": [],
   "source": [
    "%load_ext autoreload\n",
    "%autoreload 2\n",
    "\n",
    "# standard imports\n",
    "from pathlib import PurePath, Path \n",
    "import sys\n",
    "import time\n",
    "from collections import OrderedDict as od \n",
    "import re \n",
    "import os \n",
    "import json \n",
    "\n",
    "# scientific stack\n",
    "import pandas as pd \n",
    "import numpy as np\n",
    "import scipy.stats as stats\n",
    "import statsmodels.api as sm\n",
    "import math\n",
    "import mlfinlab as ml\n",
    "import sklearn as sk\n",
    "import pyfolio as pf\n",
    "\n",
    "# visual tools and plotting\n",
    "import matplotlib as mpl\n",
    "import matplotlib.pyplot as plt\n",
    "%matplotlib inline\n",
    "import seaborn as sns"
   ]
  },
  {
   "cell_type": "markdown",
   "metadata": {},
   "source": [
    "## Import Dataset"
   ]
  },
  {
   "source": [
    "We are importing a raw dataset containing tick values"
   ],
   "cell_type": "markdown",
   "metadata": {}
  },
  {
   "cell_type": "code",
   "execution_count": 3,
   "metadata": {},
   "outputs": [
    {
     "output_type": "stream",
     "name": "stdout",
     "text": [
      "                         tick_num     open     high      low    close  \\\ndate_time                                                               \n2011-09-21 18:38:24.208      2000  53658.0  64534.0  53543.0  59436.0   \n2011-09-21 18:49:54.927      2002  59364.0  59364.0  59279.0  59279.0   \n2011-09-21 19:02:50.666      2004  59259.0  59259.0  59251.0  59251.0   \n2011-09-21 19:29:51.803      2008  59281.0  59333.0  59046.0  59333.0   \n2011-09-21 19:34:52.566      2009  59475.0  59475.0  59475.0  59475.0   \n...                           ...      ...      ...      ...      ...   \n2012-05-22 20:00:01.170      8196  53237.0  53237.0  53237.0  53237.0   \n2012-05-22 20:07:09.216      8197  53223.0  53223.0  53223.0  53223.0   \n2012-05-22 23:40:21.646      8198  53277.0  53277.0  53277.0  53277.0   \n2012-05-23 06:08:09.305      8199  53477.0  53477.0  53477.0  53477.0   \n2012-05-23 07:54:15.303      8200  53407.0  53407.0  53407.0  53407.0   \n\n                             volume     cum_vol  cum_ticks    cum_dollar  \ndate_time                                                                 \n2011-09-21 18:38:24.208  2360651.25  1205086.75       2000  1.400353e+11  \n2011-09-21 18:49:54.927     2361.75        0.00          2  1.401024e+08  \n2011-09-21 19:02:50.666     2364.25        0.00          2  1.400936e+08  \n2011-09-21 19:29:51.803     4730.00     3544.25          4  2.800316e+08  \n2011-09-21 19:34:52.566     1174.75     1174.75          1  6.986826e+07  \n...                             ...         ...        ...           ...  \n2012-05-22 20:00:01.170     1317.50        0.00          1  7.013975e+07  \n2012-05-22 20:07:09.216     1314.50        0.00          1  6.996163e+07  \n2012-05-22 23:40:21.646     1311.00     1311.00          1  6.984615e+07  \n2012-05-23 06:08:09.305     1307.50     1307.50          1  6.992118e+07  \n2012-05-23 07:54:15.303     1310.25        0.00          1  6.997652e+07  \n\n[6196 rows x 9 columns]\n"
     ]
    }
   ],
   "source": [
    "# read in and store raw tick data in pandas dataframe to be cleaned and transformed\n",
    "raw_tick_data = pd.read_csv('data_ema_imbalance_bar.csv')\n",
    "raw_tick_data['date_time'] = pd.to_datetime(raw_tick_data.date_time)\n",
    "raw_tick_data.set_index('date_time', drop=True, inplace=True)\n",
    "print(raw_tick_data)"
   ]
  },
  {
   "cell_type": "markdown",
   "metadata": {},
   "source": [
    "## Create Dollar Bars"
   ]
  },
  {
   "cell_type": "markdown",
   "metadata": {},
   "source": [
    "Here we transform the raw ohlc data into various financial data structures that provide a better representation of the movement of trade information throughout the market.  These bars include: dollar, tick, and volume bars."
   ]
  },
  {
   "cell_type": "markdown",
   "metadata": {},
   "source": [
    "## Fitting the Primary Model"
   ]
  },
  {
   "cell_type": "markdown",
   "metadata": {},
   "source": [
    "This is is the primary model that we will use to drive our strategy (EMA Crossover).  This could be any model that makes trading decions based on some criterion.  The purpose is to fina  strategy that can determine good entry/exits points and to use meta-labeling to improve f1 scores."
   ]
  },
  {
   "cell_type": "code",
   "execution_count": 4,
   "metadata": {},
   "outputs": [],
   "source": [
    "fast_window = 12\n",
    "slow_window = 26\n",
    "\n",
    "raw_tick_data['fast_mavg'] = raw_tick_data['close'].rolling(window=fast_window, min_periods=fast_window, center=False).mean()\n",
    "raw_tick_data['slow_mavg'] = raw_tick_data['close'].rolling(window=slow_window, min_periods=slow_window, center=False).mean()"
   ]
  },
  {
   "cell_type": "markdown",
   "metadata": {},
   "source": [
    "### Compute side"
   ]
  },
  {
   "source": [
    "Here we are computing the side of that the stretegy is leaning to (in this case it will be one moving average over the other).  -1 =  short, +1 = long"
   ],
   "cell_type": "markdown",
   "metadata": {}
  },
  {
   "cell_type": "code",
   "execution_count": 5,
   "metadata": {},
   "outputs": [
    {
     "output_type": "stream",
     "name": "stdout",
     "text": [
      "date_time\n2011-09-21 18:38:24.208    False\n2011-09-21 18:49:54.927    False\n2011-09-21 19:02:50.666    False\n2011-09-21 19:29:51.803    False\n2011-09-21 19:34:52.566    False\n                           ...  \n2012-05-22 20:00:01.170     True\n2012-05-22 20:07:09.216     True\n2012-05-22 23:40:21.646     True\n2012-05-23 06:08:09.305     True\n2012-05-23 07:54:15.303     True\nLength: 6196, dtype: bool\n"
     ]
    }
   ],
   "source": [
    "raw_tick_data['side'] = np.nan\n",
    "long_signals = raw_tick_data['fast_mavg'] >= raw_tick_data['slow_mavg']\n",
    "short_signals = raw_tick_data['fast_mavg'] < raw_tick_data['slow_mavg']\n",
    "raw_tick_data.loc[long_signals, 'side'] = 1\n",
    "raw_tick_data.loc[short_signals, 'side'] = -1\n",
    "data = raw_tick_data.dropna()\n",
    "raw_data = data.copy()\n",
    "print(long_signals)"
   ]
  },
  {
   "cell_type": "code",
   "execution_count": 6,
   "metadata": {},
   "outputs": [
    {
     "output_type": "stream",
     "name": "stdout",
     "text": [
      "date_time\n2011-09-23 13:01:29.218         NaN\n2011-09-23 13:09:25.468    0.005339\n2011-09-23 13:28:02.497    0.003936\n2011-09-23 13:34:15.402    0.003494\n2011-09-23 13:38:09.205    0.003027\n                             ...   \n2012-05-22 20:00:01.170    0.007705\n2012-05-22 20:07:09.216    0.007604\n2012-05-22 23:40:21.646    0.007461\n2012-05-23 06:08:09.305    0.007657\n2012-05-23 07:54:15.303    0.007785\nName: close, Length: 6094, dtype: float64\n"
     ]
    }
   ],
   "source": [
    "# set daily volatility\n",
    "daily_vol = ml.util.get_daily_vol(close=data['close'], lookback=50)\n",
    "print(daily_vol)"
   ]
  },
  {
   "cell_type": "markdown",
   "metadata": {},
   "source": []
  },
  {
   "cell_type": "code",
   "execution_count": 7,
   "metadata": {},
   "outputs": [
    {
     "output_type": "stream",
     "name": "stdout",
     "text": [
      "date_time\n2011-09-23 13:01:29.218         NaN\n2011-09-23 13:09:25.468    0.000119\n2011-09-23 13:28:02.497    0.000088\n2011-09-23 13:34:15.402    0.000078\n2011-09-23 13:38:09.205    0.000067\n                             ...   \n2012-05-22 20:00:01.170    0.000172\n2012-05-22 20:07:09.216    0.000169\n2012-05-22 23:40:21.646    0.000166\n2012-05-23 06:08:09.305    0.000171\n2012-05-23 07:54:15.303    0.000173\nName: close, Length: 6094, dtype: float64\n"
     ]
    }
   ],
   "source": [
    "# convert from daily vol to hourly vol (since our data in hourly)\n",
    "trading_hours_in_day = 8\n",
    "trading_days_in_year = 252\n",
    "hourly_vol = daily_vol / math.sqrt(trading_hours_in_day * trading_days_in_year)\n",
    "hourly_vol_mean = hourly_vol.mean()\n",
    "print(hourly_vol)"
   ]
  },
  {
   "cell_type": "markdown",
   "metadata": {},
   "source": [
    "### Apply CUSUM Filter"
   ]
  },
  {
   "cell_type": "markdown",
   "metadata": {},
   "source": [
    "The purpose of the CUSUM filter is to locate instances of change detection.  These are points that will later be used as t_events for the Triple-barrier method."
   ]
  },
  {
   "cell_type": "code",
   "execution_count": 8,
   "metadata": {},
   "outputs": [
    {
     "output_type": "execute_result",
     "data": {
      "text/plain": [
       "DatetimeIndex(['2011-09-22 12:54:02.776000', '2011-09-22 13:12:34.514000',\n",
       "               '2011-09-22 13:30:10.962000', '2011-09-22 13:34:54.287000',\n",
       "               '2011-09-22 13:39:39.989000', '2011-09-22 13:42:07.098000',\n",
       "               '2011-09-22 13:46:03.385000', '2011-09-22 13:51:15.392000',\n",
       "               '2011-09-22 13:55:12.101000', '2011-09-22 14:00:18.337000',\n",
       "               ...\n",
       "               '2012-05-22 19:42:56.944000', '2012-05-22 19:47:14.582000',\n",
       "               '2012-05-22 19:51:14.477000', '2012-05-22 19:54:38.899000',\n",
       "               '2012-05-22 19:58:30.729000', '2012-05-22 20:00:01.170000',\n",
       "               '2012-05-22 20:07:09.216000', '2012-05-22 23:40:21.646000',\n",
       "               '2012-05-23 06:08:09.305000', '2012-05-23 07:54:15.303000'],\n",
       "              dtype='datetime64[ns]', length=5874, freq=None)"
      ]
     },
     "metadata": {},
     "execution_count": 8
    }
   ],
   "source": [
    "# apply symetric CUSUM filter and get timestamps for events\n",
    "cusum_events = ml.filters.cusum_filter(data['close'], threshold=hourly_vol_mean * 0.5)\n",
    "cusum_events"
   ]
  },
  {
   "cell_type": "code",
   "execution_count": 9,
   "metadata": {},
   "outputs": [
    {
     "output_type": "execute_result",
     "data": {
      "text/plain": [
       "2011-09-22 12:54:02.776   2011-09-23 13:01:29.218\n",
       "2011-09-22 13:12:34.514   2011-09-23 13:28:02.497\n",
       "2011-09-22 13:30:10.962   2011-09-23 13:34:15.402\n",
       "2011-09-22 13:34:54.287   2011-09-23 13:38:09.205\n",
       "2011-09-22 13:39:39.989   2011-09-23 13:42:12.322\n",
       "                                    ...          \n",
       "2012-05-21 19:59:06.380   2012-05-22 20:00:01.170\n",
       "2012-05-21 20:00:33.945   2012-05-22 20:07:09.216\n",
       "2012-05-21 20:11:48.745   2012-05-22 23:40:21.646\n",
       "2012-05-22 00:02:28.930   2012-05-23 06:08:09.305\n",
       "2012-05-22 07:18:47.002   2012-05-23 07:54:15.303\n",
       "Name: date_time, Length: 5827, dtype: datetime64[ns]"
      ]
     },
     "metadata": {},
     "execution_count": 9
    }
   ],
   "source": [
    "# compute vertical barrier\n",
    "vertical_barriers = ml.labeling.add_vertical_barrier(t_events=cusum_events, close=data['close'], num_days=1)\n",
    "vertical_barriers"
   ]
  },
  {
   "cell_type": "markdown",
   "metadata": {},
   "source": [
    "### Set Take Profit and Stop Loss"
   ]
  },
  {
   "cell_type": "code",
   "execution_count": 10,
   "metadata": {},
   "outputs": [],
   "source": [
    "pt_sl = [1,2]\n",
    "min_ret = 0.005"
   ]
  },
  {
   "cell_type": "markdown",
   "metadata": {},
   "source": [
    "### Get Triple-barrier Events using CUSUM filter"
   ]
  },
  {
   "cell_type": "code",
   "execution_count": 11,
   "metadata": {},
   "outputs": [
    {
     "output_type": "stream",
     "name": "stderr",
     "text": [
      "2020-10-10 15:19:26.305299 100.0% apply_pt_sl_on_t1 done after 0.11 minutes. Remaining 0.0 minutes.\n"
     ]
    },
    {
     "output_type": "execute_result",
     "data": {
      "text/plain": [
       "                              ret      trgt  bin  side\n",
       "2011-09-23 13:09:25.468  0.005578  0.005339    1  -1.0\n",
       "2011-09-23 14:29:06.110  0.007440  0.005153    1  -1.0\n",
       "2011-09-23 15:17:05.382 -0.000371  0.005324    0  -1.0\n",
       "2011-09-23 15:25:00.710 -0.002452  0.005800    0  -1.0\n",
       "2011-09-23 15:35:18.697  0.000097  0.005991    0  -1.0\n",
       "...                           ...       ...  ...   ...\n",
       "2012-05-22 18:30:49.621  0.006796  0.006688    1   1.0\n",
       "2012-05-22 18:52:39.135  0.008615  0.006563    1   1.0\n",
       "2012-05-22 19:14:12.957  0.008026  0.006453    1   1.0\n",
       "2012-05-22 19:24:34.124  0.006452  0.006444    1   1.0\n",
       "2012-05-22 19:30:47.148  0.007513  0.006548    1   1.0\n",
       "\n",
       "[4423 rows x 4 columns]"
      ],
      "text/html": "<div>\n<style scoped>\n    .dataframe tbody tr th:only-of-type {\n        vertical-align: middle;\n    }\n\n    .dataframe tbody tr th {\n        vertical-align: top;\n    }\n\n    .dataframe thead th {\n        text-align: right;\n    }\n</style>\n<table border=\"1\" class=\"dataframe\">\n  <thead>\n    <tr style=\"text-align: right;\">\n      <th></th>\n      <th>ret</th>\n      <th>trgt</th>\n      <th>bin</th>\n      <th>side</th>\n    </tr>\n  </thead>\n  <tbody>\n    <tr>\n      <th>2011-09-23 13:09:25.468</th>\n      <td>0.005578</td>\n      <td>0.005339</td>\n      <td>1</td>\n      <td>-1.0</td>\n    </tr>\n    <tr>\n      <th>2011-09-23 14:29:06.110</th>\n      <td>0.007440</td>\n      <td>0.005153</td>\n      <td>1</td>\n      <td>-1.0</td>\n    </tr>\n    <tr>\n      <th>2011-09-23 15:17:05.382</th>\n      <td>-0.000371</td>\n      <td>0.005324</td>\n      <td>0</td>\n      <td>-1.0</td>\n    </tr>\n    <tr>\n      <th>2011-09-23 15:25:00.710</th>\n      <td>-0.002452</td>\n      <td>0.005800</td>\n      <td>0</td>\n      <td>-1.0</td>\n    </tr>\n    <tr>\n      <th>2011-09-23 15:35:18.697</th>\n      <td>0.000097</td>\n      <td>0.005991</td>\n      <td>0</td>\n      <td>-1.0</td>\n    </tr>\n    <tr>\n      <th>...</th>\n      <td>...</td>\n      <td>...</td>\n      <td>...</td>\n      <td>...</td>\n    </tr>\n    <tr>\n      <th>2012-05-22 18:30:49.621</th>\n      <td>0.006796</td>\n      <td>0.006688</td>\n      <td>1</td>\n      <td>1.0</td>\n    </tr>\n    <tr>\n      <th>2012-05-22 18:52:39.135</th>\n      <td>0.008615</td>\n      <td>0.006563</td>\n      <td>1</td>\n      <td>1.0</td>\n    </tr>\n    <tr>\n      <th>2012-05-22 19:14:12.957</th>\n      <td>0.008026</td>\n      <td>0.006453</td>\n      <td>1</td>\n      <td>1.0</td>\n    </tr>\n    <tr>\n      <th>2012-05-22 19:24:34.124</th>\n      <td>0.006452</td>\n      <td>0.006444</td>\n      <td>1</td>\n      <td>1.0</td>\n    </tr>\n    <tr>\n      <th>2012-05-22 19:30:47.148</th>\n      <td>0.007513</td>\n      <td>0.006548</td>\n      <td>1</td>\n      <td>1.0</td>\n    </tr>\n  </tbody>\n</table>\n<p>4423 rows × 4 columns</p>\n</div>"
     },
     "metadata": {},
     "execution_count": 11
    }
   ],
   "source": [
    "triple_barrier_events = ml.labeling.get_events(close=data['close'],\n",
    "                                                t_events=cusum_events,\n",
    "                                                pt_sl=pt_sl,\n",
    "                                                #check between hourly and daily vol\n",
    "                                                target=daily_vol,\n",
    "                                                min_ret=min_ret,\n",
    "                                                num_threads=3,\n",
    "                                                vertical_barrier_times=vertical_barriers,\n",
    "                                                side_prediction=data['side'],\n",
    "                                                verbose=True\n",
    "                                                )\n",
    "\n",
    "labels = ml.labeling.get_bins(triple_barrier_events, data['close'])\n",
    "labels"
   ]
  },
  {
   "cell_type": "markdown",
   "metadata": {},
   "source": [
    "## Results of the Primary Model"
   ]
  },
  {
   "cell_type": "code",
   "execution_count": 12,
   "metadata": {},
   "outputs": [],
   "source": [
    "# set variables for analysis\n",
    "primary_forecast = pd.DataFrame(labels['bin'])\n",
    "primary_forecast['pred'] = 1\n",
    "primary_forecast.columns = ['actual', 'pred']"
   ]
  },
  {
   "cell_type": "code",
   "execution_count": 13,
   "metadata": {},
   "outputs": [],
   "source": [
    "# performance metrics\n",
    "actual = primary_forecast['actual']\n",
    "pred = primary_forecast['pred']"
   ]
  },
  {
   "cell_type": "markdown",
   "metadata": {},
   "source": [
    "#### Classification Report"
   ]
  },
  {
   "cell_type": "code",
   "execution_count": 14,
   "metadata": {},
   "outputs": [
    {
     "output_type": "stream",
     "name": "stdout",
     "text": [
      "CLassification Report\n              precision    recall  f1-score   support\n\n           0       0.00      0.00      0.00      2867\n           1       0.35      1.00      0.52      1556\n\n    accuracy                           0.35      4423\n   macro avg       0.18      0.50      0.26      4423\nweighted avg       0.12      0.35      0.18      4423\n\n"
     ]
    }
   ],
   "source": [
    "print('CLassification Report')\n",
    "print(sk.metrics.classification_report(y_true=actual,  y_pred=pred, zero_division=False))"
   ]
  },
  {
   "cell_type": "markdown",
   "metadata": {},
   "source": [
    "#### Confusion Matrix"
   ]
  },
  {
   "cell_type": "code",
   "execution_count": 15,
   "metadata": {},
   "outputs": [
    {
     "output_type": "stream",
     "name": "stdout",
     "text": [
      "Confusion Matrix\n"
     ]
    },
    {
     "output_type": "execute_result",
     "data": {
      "text/plain": [
       "array([[   0, 2867],\n",
       "       [   0, 1556]], dtype=int64)"
      ]
     },
     "metadata": {},
     "execution_count": 15
    }
   ],
   "source": [
    "print('Confusion Matrix')\n",
    "sk.metrics.confusion_matrix(actual, pred)"
   ]
  },
  {
   "cell_type": "markdown",
   "metadata": {},
   "source": [
    "#### Accuracy"
   ]
  },
  {
   "cell_type": "code",
   "execution_count": 16,
   "metadata": {},
   "outputs": [
    {
     "output_type": "stream",
     "name": "stdout",
     "text": [
      "Accuracy\n"
     ]
    },
    {
     "output_type": "execute_result",
     "data": {
      "text/plain": [
       "0.3517974225638707"
      ]
     },
     "metadata": {},
     "execution_count": 16
    }
   ],
   "source": [
    "print('Accuracy')\n",
    "sk.metrics.accuracy_score(actual, pred)"
   ]
  },
  {
   "cell_type": "markdown",
   "metadata": {},
   "source": [
    "## Fit the Meta Model (Train Forest for bet size)"
   ]
  },
  {
   "cell_type": "code",
   "execution_count": 17,
   "metadata": {},
   "outputs": [],
   "source": [
    "# get log of returns\n",
    "raw_data['log_ret'] = np.log(raw_data['close']).diff()"
   ]
  },
  {
   "cell_type": "code",
   "execution_count": 18,
   "metadata": {},
   "outputs": [],
   "source": [
    "# create momentum columns\n",
    "raw_data['mom1'] = raw_data['close'].pct_change(periods=1)\n",
    "raw_data['mom2'] = raw_data['close'].pct_change(periods=2)\n",
    "raw_data['mom3'] = raw_data['close'].pct_change(periods=3)\n",
    "raw_data['mom4'] = raw_data['close'].pct_change(periods=4)\n",
    "raw_data['mom5'] = raw_data['close'].pct_change(periods=5)"
   ]
  },
  {
   "cell_type": "code",
   "execution_count": 19,
   "metadata": {},
   "outputs": [],
   "source": [
    "# create volatility columns\n",
    "raw_data['volatility_50'] = raw_data['log_ret'].rolling(window=50, min_periods=50, center=False).std()\n",
    "raw_data['volatility_31'] = raw_data['log_ret'].rolling(window=31, min_periods=31, center=False).std()\n",
    "raw_data['volatility_15'] = raw_data['log_ret'].rolling(window=15, min_periods=15, center=False).std()"
   ]
  },
  {
   "cell_type": "code",
   "execution_count": 20,
   "metadata": {},
   "outputs": [],
   "source": [
    "# serial Correlation (Takes about 4 minutes)\n",
    "window_autocorr = 50\n",
    "\n",
    "raw_data['autocorr_1'] = raw_data['log_ret'].rolling(window=window_autocorr, min_periods=window_autocorr, center=False).apply(lambda x: x.autocorr(lag=1), raw=False)\n",
    "raw_data['autocorr_2'] = raw_data['log_ret'].rolling(window=window_autocorr, min_periods=window_autocorr, center=False).apply(lambda x: x.autocorr(lag=2), raw=False)\n",
    "raw_data['autocorr_3'] = raw_data['log_ret'].rolling(window=window_autocorr, min_periods=window_autocorr, center=False).apply(lambda x: x.autocorr(lag=3), raw=False)\n",
    "raw_data['autocorr_4'] = raw_data['log_ret'].rolling(window=window_autocorr, min_periods=window_autocorr, center=False).apply(lambda x: x.autocorr(lag=4), raw=False)\n",
    "raw_data['autocorr_5'] = raw_data['log_ret'].rolling(window=window_autocorr, min_periods=window_autocorr, center=False).apply(lambda x: x.autocorr(lag=5), raw=False)"
   ]
  },
  {
   "cell_type": "code",
   "execution_count": 21,
   "metadata": {},
   "outputs": [],
   "source": [
    "# serial Correlation (Takes about 4 minutes)\n",
    "window_autocorr = 50\n",
    "\n",
    "raw_data['autocorr_1'] = raw_data['log_ret'].rolling(window=window_autocorr, min_periods=window_autocorr, center=False).apply(lambda x: x.autocorr(lag=1), raw=False)\n",
    "raw_data['autocorr_2'] = raw_data['log_ret'].rolling(window=window_autocorr, min_periods=window_autocorr, center=False).apply(lambda x: x.autocorr(lag=2), raw=False)\n",
    "raw_data['autocorr_3'] = raw_data['log_ret'].rolling(window=window_autocorr, min_periods=window_autocorr, center=False).apply(lambda x: x.autocorr(lag=3), raw=False)\n",
    "raw_data['autocorr_4'] = raw_data['log_ret'].rolling(window=window_autocorr, min_periods=window_autocorr, center=False).apply(lambda x: x.autocorr(lag=4), raw=False)\n",
    "raw_data['autocorr_5'] = raw_data['log_ret'].rolling(window=window_autocorr, min_periods=window_autocorr, center=False).apply(lambda x: x.autocorr(lag=5), raw=False)"
   ]
  },
  {
   "cell_type": "markdown",
   "metadata": {},
   "source": [
    "### Recompute sides"
   ]
  },
  {
   "cell_type": "code",
   "execution_count": 22,
   "metadata": {},
   "outputs": [],
   "source": [
    "raw_data['side'] = np.nan\n",
    "long_signals = raw_data['fast_mavg'] >= raw_data['slow_mavg']\n",
    "short_signals = raw_data['fast_mavg'] < raw_data['slow_mavg']\n",
    "raw_data.loc[long_signals, 'side'] = 1\n",
    "raw_data.loc[short_signals, 'side'] = -1"
   ]
  },
  {
   "cell_type": "code",
   "execution_count": 23,
   "metadata": {},
   "outputs": [
    {
     "output_type": "execute_result",
     "data": {
      "text/plain": [
       "date_time\n",
       "2011-09-22 12:40:50.216    True\n",
       "2011-09-22 12:54:02.776    True\n",
       "2011-09-22 13:12:34.514    True\n",
       "2011-09-22 13:30:10.962    True\n",
       "2011-09-22 13:34:54.287    True\n",
       "                           ... \n",
       "2012-05-22 20:00:01.170    True\n",
       "2012-05-22 20:07:09.216    True\n",
       "2012-05-22 23:40:21.646    True\n",
       "2012-05-23 06:08:09.305    True\n",
       "2012-05-23 07:54:15.303    True\n",
       "Length: 6171, dtype: bool"
      ]
     },
     "metadata": {},
     "execution_count": 23
    }
   ],
   "source": [
    "long_signals"
   ]
  },
  {
   "cell_type": "code",
   "execution_count": 24,
   "metadata": {},
   "outputs": [],
   "source": [
    "# remove look ahead bias\n",
    "raw_data = raw_data.shift(1)"
   ]
  },
  {
   "cell_type": "code",
   "execution_count": 25,
   "metadata": {},
   "outputs": [
    {
     "output_type": "execute_result",
     "data": {
      "text/plain": [
       "                         tick_num     open     high      low    close  \\\n",
       "2011-09-23 13:09:25.468    2107.0  63029.0  63029.0  63029.0  63029.0   \n",
       "2011-09-23 14:29:06.110    2119.0  62573.0  62573.0  62573.0  62573.0   \n",
       "2011-09-23 15:17:05.382    2125.0  62016.0  62016.0  62016.0  62016.0   \n",
       "2011-09-23 15:25:00.710    2126.0  61960.0  61960.0  61960.0  61960.0   \n",
       "2011-09-23 15:35:18.697    2127.0  61831.0  61831.0  61831.0  61831.0   \n",
       "\n",
       "                          volume  cum_vol  cum_ticks   cum_dollar  \\\n",
       "2011-09-23 13:09:25.468  1113.00  1113.00        1.0  70151277.00   \n",
       "2011-09-23 14:29:06.110  1116.75  1116.75        1.0  69878397.75   \n",
       "2011-09-23 15:17:05.382  1131.25     0.00        1.0  70155600.00   \n",
       "2011-09-23 15:25:00.710  1129.75     0.00        1.0  69999310.00   \n",
       "2011-09-23 15:35:18.697  1133.25     0.00        1.0  70069980.75   \n",
       "\n",
       "                            fast_mavg  ...      mom4      mom5  volatility_50  \\\n",
       "2011-09-23 13:09:25.468  62504.583333  ...  0.003215  0.003215       0.003228   \n",
       "2011-09-23 14:29:06.110  62461.083333  ...  0.005819  0.003448       0.003476   \n",
       "2011-09-23 15:17:05.382  62295.333333  ... -0.005165 -0.008664       0.003393   \n",
       "2011-09-23 15:25:00.710  62262.166667  ... -0.006430 -0.006064       0.003382   \n",
       "2011-09-23 15:35:18.697  62230.500000  ... -0.004268 -0.008499       0.003387   \n",
       "\n",
       "                         volatility_31  volatility_15  autocorr_1  autocorr_2  \\\n",
       "2011-09-23 13:09:25.468       0.003658       0.004653    0.183710    0.073399   \n",
       "2011-09-23 14:29:06.110       0.003862       0.003249    0.069271    0.138520   \n",
       "2011-09-23 15:17:05.382       0.003912       0.002424    0.060739    0.132694   \n",
       "2011-09-23 15:25:00.710       0.003890       0.002216    0.066261    0.120908   \n",
       "2011-09-23 15:35:18.697       0.003808       0.002109    0.080848    0.121798   \n",
       "\n",
       "                         autocorr_3  autocorr_4  autocorr_5  \n",
       "2011-09-23 13:09:25.468    0.099231   -0.356084   -0.267406  \n",
       "2011-09-23 14:29:06.110    0.180833   -0.470453   -0.127292  \n",
       "2011-09-23 15:17:05.382    0.275418   -0.487738   -0.126410  \n",
       "2011-09-23 15:25:00.710    0.275486   -0.484968   -0.138728  \n",
       "2011-09-23 15:35:18.697    0.275090   -0.458885   -0.132651  \n",
       "\n",
       "[5 rows x 26 columns]"
      ],
      "text/html": "<div>\n<style scoped>\n    .dataframe tbody tr th:only-of-type {\n        vertical-align: middle;\n    }\n\n    .dataframe tbody tr th {\n        vertical-align: top;\n    }\n\n    .dataframe thead th {\n        text-align: right;\n    }\n</style>\n<table border=\"1\" class=\"dataframe\">\n  <thead>\n    <tr style=\"text-align: right;\">\n      <th></th>\n      <th>tick_num</th>\n      <th>open</th>\n      <th>high</th>\n      <th>low</th>\n      <th>close</th>\n      <th>volume</th>\n      <th>cum_vol</th>\n      <th>cum_ticks</th>\n      <th>cum_dollar</th>\n      <th>fast_mavg</th>\n      <th>...</th>\n      <th>mom4</th>\n      <th>mom5</th>\n      <th>volatility_50</th>\n      <th>volatility_31</th>\n      <th>volatility_15</th>\n      <th>autocorr_1</th>\n      <th>autocorr_2</th>\n      <th>autocorr_3</th>\n      <th>autocorr_4</th>\n      <th>autocorr_5</th>\n    </tr>\n  </thead>\n  <tbody>\n    <tr>\n      <th>2011-09-23 13:09:25.468</th>\n      <td>2107.0</td>\n      <td>63029.0</td>\n      <td>63029.0</td>\n      <td>63029.0</td>\n      <td>63029.0</td>\n      <td>1113.00</td>\n      <td>1113.00</td>\n      <td>1.0</td>\n      <td>70151277.00</td>\n      <td>62504.583333</td>\n      <td>...</td>\n      <td>0.003215</td>\n      <td>0.003215</td>\n      <td>0.003228</td>\n      <td>0.003658</td>\n      <td>0.004653</td>\n      <td>0.183710</td>\n      <td>0.073399</td>\n      <td>0.099231</td>\n      <td>-0.356084</td>\n      <td>-0.267406</td>\n    </tr>\n    <tr>\n      <th>2011-09-23 14:29:06.110</th>\n      <td>2119.0</td>\n      <td>62573.0</td>\n      <td>62573.0</td>\n      <td>62573.0</td>\n      <td>62573.0</td>\n      <td>1116.75</td>\n      <td>1116.75</td>\n      <td>1.0</td>\n      <td>69878397.75</td>\n      <td>62461.083333</td>\n      <td>...</td>\n      <td>0.005819</td>\n      <td>0.003448</td>\n      <td>0.003476</td>\n      <td>0.003862</td>\n      <td>0.003249</td>\n      <td>0.069271</td>\n      <td>0.138520</td>\n      <td>0.180833</td>\n      <td>-0.470453</td>\n      <td>-0.127292</td>\n    </tr>\n    <tr>\n      <th>2011-09-23 15:17:05.382</th>\n      <td>2125.0</td>\n      <td>62016.0</td>\n      <td>62016.0</td>\n      <td>62016.0</td>\n      <td>62016.0</td>\n      <td>1131.25</td>\n      <td>0.00</td>\n      <td>1.0</td>\n      <td>70155600.00</td>\n      <td>62295.333333</td>\n      <td>...</td>\n      <td>-0.005165</td>\n      <td>-0.008664</td>\n      <td>0.003393</td>\n      <td>0.003912</td>\n      <td>0.002424</td>\n      <td>0.060739</td>\n      <td>0.132694</td>\n      <td>0.275418</td>\n      <td>-0.487738</td>\n      <td>-0.126410</td>\n    </tr>\n    <tr>\n      <th>2011-09-23 15:25:00.710</th>\n      <td>2126.0</td>\n      <td>61960.0</td>\n      <td>61960.0</td>\n      <td>61960.0</td>\n      <td>61960.0</td>\n      <td>1129.75</td>\n      <td>0.00</td>\n      <td>1.0</td>\n      <td>69999310.00</td>\n      <td>62262.166667</td>\n      <td>...</td>\n      <td>-0.006430</td>\n      <td>-0.006064</td>\n      <td>0.003382</td>\n      <td>0.003890</td>\n      <td>0.002216</td>\n      <td>0.066261</td>\n      <td>0.120908</td>\n      <td>0.275486</td>\n      <td>-0.484968</td>\n      <td>-0.138728</td>\n    </tr>\n    <tr>\n      <th>2011-09-23 15:35:18.697</th>\n      <td>2127.0</td>\n      <td>61831.0</td>\n      <td>61831.0</td>\n      <td>61831.0</td>\n      <td>61831.0</td>\n      <td>1133.25</td>\n      <td>0.00</td>\n      <td>1.0</td>\n      <td>70069980.75</td>\n      <td>62230.500000</td>\n      <td>...</td>\n      <td>-0.004268</td>\n      <td>-0.008499</td>\n      <td>0.003387</td>\n      <td>0.003808</td>\n      <td>0.002109</td>\n      <td>0.080848</td>\n      <td>0.121798</td>\n      <td>0.275090</td>\n      <td>-0.458885</td>\n      <td>-0.132651</td>\n    </tr>\n  </tbody>\n</table>\n<p>5 rows × 26 columns</p>\n</div>"
     },
     "metadata": {},
     "execution_count": 25
    }
   ],
   "source": [
    "# get features at event times\n",
    "x = raw_data.loc[labels.index, :]\n",
    "x.head()"
   ]
  },
  {
   "cell_type": "code",
   "execution_count": 26,
   "metadata": {},
   "outputs": [
    {
     "output_type": "execute_result",
     "data": {
      "text/plain": [
       "                         tick_num   volume  side   log_ret      mom1  \\\n",
       "2011-09-23 13:09:25.468    2107.0  1113.00  -1.0  0.001572  0.001573   \n",
       "2011-09-23 14:29:06.110    2119.0  1116.75  -1.0  0.002464  0.002467   \n",
       "2011-09-23 15:17:05.382    2125.0  1131.25  -1.0 -0.000032 -0.000032   \n",
       "2011-09-23 15:25:00.710    2126.0  1129.75  -1.0 -0.000903 -0.000903   \n",
       "2011-09-23 15:35:18.697    2127.0  1133.25  -1.0 -0.002084 -0.002082   \n",
       "\n",
       "                             mom2      mom3      mom4      mom5  \\\n",
       "2011-09-23 13:09:25.468 -0.003730 -0.005726  0.003215  0.003215   \n",
       "2011-09-23 14:29:06.110  0.002499  0.006337  0.005819  0.003448   \n",
       "2011-09-23 15:17:05.382 -0.001288 -0.005532 -0.005165 -0.008664   \n",
       "2011-09-23 15:25:00.710 -0.000935 -0.002190 -0.006430 -0.006064   \n",
       "2011-09-23 15:35:18.697 -0.002983 -0.003015 -0.004268 -0.008499   \n",
       "\n",
       "                         volatility_50  volatility_31  volatility_15  \\\n",
       "2011-09-23 13:09:25.468       0.003228       0.003658       0.004653   \n",
       "2011-09-23 14:29:06.110       0.003476       0.003862       0.003249   \n",
       "2011-09-23 15:17:05.382       0.003393       0.003912       0.002424   \n",
       "2011-09-23 15:25:00.710       0.003382       0.003890       0.002216   \n",
       "2011-09-23 15:35:18.697       0.003387       0.003808       0.002109   \n",
       "\n",
       "                         autocorr_1  autocorr_2  autocorr_3  autocorr_4  \\\n",
       "2011-09-23 13:09:25.468    0.183710    0.073399    0.099231   -0.356084   \n",
       "2011-09-23 14:29:06.110    0.069271    0.138520    0.180833   -0.470453   \n",
       "2011-09-23 15:17:05.382    0.060739    0.132694    0.275418   -0.487738   \n",
       "2011-09-23 15:25:00.710    0.066261    0.120908    0.275486   -0.484968   \n",
       "2011-09-23 15:35:18.697    0.080848    0.121798    0.275090   -0.458885   \n",
       "\n",
       "                         autocorr_5  \n",
       "2011-09-23 13:09:25.468   -0.267406  \n",
       "2011-09-23 14:29:06.110   -0.127292  \n",
       "2011-09-23 15:17:05.382   -0.126410  \n",
       "2011-09-23 15:25:00.710   -0.138728  \n",
       "2011-09-23 15:35:18.697   -0.132651  "
      ],
      "text/html": "<div>\n<style scoped>\n    .dataframe tbody tr th:only-of-type {\n        vertical-align: middle;\n    }\n\n    .dataframe tbody tr th {\n        vertical-align: top;\n    }\n\n    .dataframe thead th {\n        text-align: right;\n    }\n</style>\n<table border=\"1\" class=\"dataframe\">\n  <thead>\n    <tr style=\"text-align: right;\">\n      <th></th>\n      <th>tick_num</th>\n      <th>volume</th>\n      <th>side</th>\n      <th>log_ret</th>\n      <th>mom1</th>\n      <th>mom2</th>\n      <th>mom3</th>\n      <th>mom4</th>\n      <th>mom5</th>\n      <th>volatility_50</th>\n      <th>volatility_31</th>\n      <th>volatility_15</th>\n      <th>autocorr_1</th>\n      <th>autocorr_2</th>\n      <th>autocorr_3</th>\n      <th>autocorr_4</th>\n      <th>autocorr_5</th>\n    </tr>\n  </thead>\n  <tbody>\n    <tr>\n      <th>2011-09-23 13:09:25.468</th>\n      <td>2107.0</td>\n      <td>1113.00</td>\n      <td>-1.0</td>\n      <td>0.001572</td>\n      <td>0.001573</td>\n      <td>-0.003730</td>\n      <td>-0.005726</td>\n      <td>0.003215</td>\n      <td>0.003215</td>\n      <td>0.003228</td>\n      <td>0.003658</td>\n      <td>0.004653</td>\n      <td>0.183710</td>\n      <td>0.073399</td>\n      <td>0.099231</td>\n      <td>-0.356084</td>\n      <td>-0.267406</td>\n    </tr>\n    <tr>\n      <th>2011-09-23 14:29:06.110</th>\n      <td>2119.0</td>\n      <td>1116.75</td>\n      <td>-1.0</td>\n      <td>0.002464</td>\n      <td>0.002467</td>\n      <td>0.002499</td>\n      <td>0.006337</td>\n      <td>0.005819</td>\n      <td>0.003448</td>\n      <td>0.003476</td>\n      <td>0.003862</td>\n      <td>0.003249</td>\n      <td>0.069271</td>\n      <td>0.138520</td>\n      <td>0.180833</td>\n      <td>-0.470453</td>\n      <td>-0.127292</td>\n    </tr>\n    <tr>\n      <th>2011-09-23 15:17:05.382</th>\n      <td>2125.0</td>\n      <td>1131.25</td>\n      <td>-1.0</td>\n      <td>-0.000032</td>\n      <td>-0.000032</td>\n      <td>-0.001288</td>\n      <td>-0.005532</td>\n      <td>-0.005165</td>\n      <td>-0.008664</td>\n      <td>0.003393</td>\n      <td>0.003912</td>\n      <td>0.002424</td>\n      <td>0.060739</td>\n      <td>0.132694</td>\n      <td>0.275418</td>\n      <td>-0.487738</td>\n      <td>-0.126410</td>\n    </tr>\n    <tr>\n      <th>2011-09-23 15:25:00.710</th>\n      <td>2126.0</td>\n      <td>1129.75</td>\n      <td>-1.0</td>\n      <td>-0.000903</td>\n      <td>-0.000903</td>\n      <td>-0.000935</td>\n      <td>-0.002190</td>\n      <td>-0.006430</td>\n      <td>-0.006064</td>\n      <td>0.003382</td>\n      <td>0.003890</td>\n      <td>0.002216</td>\n      <td>0.066261</td>\n      <td>0.120908</td>\n      <td>0.275486</td>\n      <td>-0.484968</td>\n      <td>-0.138728</td>\n    </tr>\n    <tr>\n      <th>2011-09-23 15:35:18.697</th>\n      <td>2127.0</td>\n      <td>1133.25</td>\n      <td>-1.0</td>\n      <td>-0.002084</td>\n      <td>-0.002082</td>\n      <td>-0.002983</td>\n      <td>-0.003015</td>\n      <td>-0.004268</td>\n      <td>-0.008499</td>\n      <td>0.003387</td>\n      <td>0.003808</td>\n      <td>0.002109</td>\n      <td>0.080848</td>\n      <td>0.121798</td>\n      <td>0.275090</td>\n      <td>-0.458885</td>\n      <td>-0.132651</td>\n    </tr>\n  </tbody>\n</table>\n</div>"
     },
     "metadata": {},
     "execution_count": 26
    }
   ],
   "source": [
    "# remove unwanted columns\n",
    "x.drop(['open', 'high', 'low', 'close', 'cum_vol', 'cum_dollar', 'cum_ticks','fast_mavg', 'slow_mavg'], axis=1, inplace=True)\n",
    "y = labels['bin']\n",
    "x.head()"
   ]
  },
  {
   "cell_type": "code",
   "execution_count": 27,
   "metadata": {},
   "outputs": [
    {
     "output_type": "execute_result",
     "data": {
      "text/plain": [
       "0    2867\n",
       "1    1556\n",
       "Name: bin, dtype: int64"
      ]
     },
     "metadata": {},
     "execution_count": 27
    }
   ],
   "source": [
    "# print the y values (0, 1)\n",
    "y.value_counts()"
   ]
  },
  {
   "cell_type": "markdown",
   "metadata": {},
   "source": [
    "### Model Training"
   ]
  },
  {
   "cell_type": "markdown",
   "metadata": {},
   "source": [
    "Here we will strart by seperating our dataset in a training and test set for the purpose of implementing our random forest and checking itts abiility to accurately make predictions on the test set."
   ]
  },
  {
   "cell_type": "markdown",
   "metadata": {},
   "source": [
    "#### Split into training and test set"
   ]
  },
  {
   "cell_type": "code",
   "execution_count": 28,
   "metadata": {},
   "outputs": [],
   "source": [
    "raw_data = raw_data.dropna()\n",
    "x_training_validation = x\n",
    "y_training_validation = y"
   ]
  },
  {
   "cell_type": "code",
   "execution_count": 29,
   "metadata": {},
   "outputs": [],
   "source": [
    "# function to create train, test, and split data from scikit-learn\n",
    "x_train, x_validate, y_train, y_validate = sk.model_selection.train_test_split(\n",
    "                                        x_training_validation, \n",
    "                                        y_training_validation,\n",
    "                                        test_size=0.70,\n",
    "                                        train_size=0.30,  \n",
    "                                        shuffle=False)"
   ]
  },
  {
   "cell_type": "code",
   "execution_count": 30,
   "metadata": {},
   "outputs": [
    {
     "output_type": "execute_result",
     "data": {
      "text/plain": [
       "0    783\n",
       "1    543\n",
       "Name: bin, dtype: int64"
      ]
     },
     "metadata": {},
     "execution_count": 30
    }
   ],
   "source": [
    "# create train dataframe\n",
    "train_df = pd.concat([y_train,x_train], axis=1, join='inner')\n",
    "train_df['bin'].value_counts()"
   ]
  },
  {
   "cell_type": "markdown",
   "metadata": {},
   "source": [
    "#### Unsample training data for 50/50 split"
   ]
  },
  {
   "cell_type": "code",
   "execution_count": 31,
   "metadata": {},
   "outputs": [],
   "source": [
    "majority = train_df[train_df['bin'] == 0]\n",
    "minority = train_df[train_df['bin'] == 1]"
   ]
  },
  {
   "cell_type": "code",
   "execution_count": 32,
   "metadata": {},
   "outputs": [],
   "source": [
    "majority = train_df[train_df['bin'] == 0]\n",
    "minority = train_df[train_df['bin'] == 1]\n",
    "\n",
    "new_minority = sk.utils.resample(minority,\n",
    "                        replace=True,\n",
    "                        n_samples=majority.shape[0], # to match majority class\n",
    "                        random_state=42) # figure random state out\n",
    "\n",
    "train_df = pd.concat([majority, new_minority])\n",
    "train_df = sk.utils.shuffle(train_df, random_state=42)"
   ]
  },
  {
   "cell_type": "code",
   "execution_count": 33,
   "metadata": {},
   "outputs": [
    {
     "output_type": "execute_result",
     "data": {
      "text/plain": [
       "                         bin  tick_num   volume  side   log_ret      mom1  \\\n",
       "2011-10-24 02:07:01.287    0    3067.0  1235.00   1.0  0.001919  0.001921   \n",
       "2011-10-07 20:00:00.057    0    2659.0  1149.50   1.0  0.003890  0.003897   \n",
       "2011-10-11 13:43:59.618    1    2698.0  1183.00  -1.0 -0.000406 -0.000406   \n",
       "2011-10-03 19:36:32.042    1    2444.0  1099.50   1.0  0.003664  0.003671   \n",
       "2011-09-27 17:37:42.994    0    2234.0  1182.75  -1.0 -0.001284 -0.001283   \n",
       "\n",
       "                             mom2      mom3      mom4      mom5  \\\n",
       "2011-10-24 02:07:01.287  0.000845 -0.002089 -0.001282 -0.001282   \n",
       "2011-10-07 20:00:00.057  0.007274  0.009884  0.007090  0.001615   \n",
       "2011-10-11 13:43:59.618  0.001286 -0.000287  0.002712  0.003358   \n",
       "2011-10-03 19:36:32.042  0.002092 -0.000863 -0.000722  0.002155   \n",
       "2011-09-27 17:37:42.994  0.000490  0.002593  0.000118 -0.000642   \n",
       "\n",
       "                         volatility_50  volatility_31  volatility_15  \\\n",
       "2011-10-24 02:07:01.287       0.001635       0.001416       0.001527   \n",
       "2011-10-07 20:00:00.057       0.002482       0.002213       0.002493   \n",
       "2011-10-11 13:43:59.618       0.002326       0.001665       0.001899   \n",
       "2011-10-03 19:36:32.042       0.002579       0.002411       0.002247   \n",
       "2011-09-27 17:37:42.994       0.001545       0.001516       0.001370   \n",
       "\n",
       "                         autocorr_1  autocorr_2  autocorr_3  autocorr_4  \\\n",
       "2011-10-24 02:07:01.287    0.179145   -0.154324    0.023113    0.105271   \n",
       "2011-10-07 20:00:00.057    0.336528   -0.071634   -0.148044   -0.203449   \n",
       "2011-10-11 13:43:59.618    0.306322    0.093305   -0.239405   -0.268412   \n",
       "2011-10-03 19:36:32.042    0.022037    0.018330   -0.057580   -0.069830   \n",
       "2011-09-27 17:37:42.994    0.134094    0.079357    0.257030   -0.072981   \n",
       "\n",
       "                         autocorr_5  \n",
       "2011-10-24 02:07:01.287    0.008159  \n",
       "2011-10-07 20:00:00.057   -0.296291  \n",
       "2011-10-11 13:43:59.618   -0.240072  \n",
       "2011-10-03 19:36:32.042   -0.094617  \n",
       "2011-09-27 17:37:42.994    0.307598  "
      ],
      "text/html": "<div>\n<style scoped>\n    .dataframe tbody tr th:only-of-type {\n        vertical-align: middle;\n    }\n\n    .dataframe tbody tr th {\n        vertical-align: top;\n    }\n\n    .dataframe thead th {\n        text-align: right;\n    }\n</style>\n<table border=\"1\" class=\"dataframe\">\n  <thead>\n    <tr style=\"text-align: right;\">\n      <th></th>\n      <th>bin</th>\n      <th>tick_num</th>\n      <th>volume</th>\n      <th>side</th>\n      <th>log_ret</th>\n      <th>mom1</th>\n      <th>mom2</th>\n      <th>mom3</th>\n      <th>mom4</th>\n      <th>mom5</th>\n      <th>volatility_50</th>\n      <th>volatility_31</th>\n      <th>volatility_15</th>\n      <th>autocorr_1</th>\n      <th>autocorr_2</th>\n      <th>autocorr_3</th>\n      <th>autocorr_4</th>\n      <th>autocorr_5</th>\n    </tr>\n  </thead>\n  <tbody>\n    <tr>\n      <th>2011-10-24 02:07:01.287</th>\n      <td>0</td>\n      <td>3067.0</td>\n      <td>1235.00</td>\n      <td>1.0</td>\n      <td>0.001919</td>\n      <td>0.001921</td>\n      <td>0.000845</td>\n      <td>-0.002089</td>\n      <td>-0.001282</td>\n      <td>-0.001282</td>\n      <td>0.001635</td>\n      <td>0.001416</td>\n      <td>0.001527</td>\n      <td>0.179145</td>\n      <td>-0.154324</td>\n      <td>0.023113</td>\n      <td>0.105271</td>\n      <td>0.008159</td>\n    </tr>\n    <tr>\n      <th>2011-10-07 20:00:00.057</th>\n      <td>0</td>\n      <td>2659.0</td>\n      <td>1149.50</td>\n      <td>1.0</td>\n      <td>0.003890</td>\n      <td>0.003897</td>\n      <td>0.007274</td>\n      <td>0.009884</td>\n      <td>0.007090</td>\n      <td>0.001615</td>\n      <td>0.002482</td>\n      <td>0.002213</td>\n      <td>0.002493</td>\n      <td>0.336528</td>\n      <td>-0.071634</td>\n      <td>-0.148044</td>\n      <td>-0.203449</td>\n      <td>-0.296291</td>\n    </tr>\n    <tr>\n      <th>2011-10-11 13:43:59.618</th>\n      <td>1</td>\n      <td>2698.0</td>\n      <td>1183.00</td>\n      <td>-1.0</td>\n      <td>-0.000406</td>\n      <td>-0.000406</td>\n      <td>0.001286</td>\n      <td>-0.000287</td>\n      <td>0.002712</td>\n      <td>0.003358</td>\n      <td>0.002326</td>\n      <td>0.001665</td>\n      <td>0.001899</td>\n      <td>0.306322</td>\n      <td>0.093305</td>\n      <td>-0.239405</td>\n      <td>-0.268412</td>\n      <td>-0.240072</td>\n    </tr>\n    <tr>\n      <th>2011-10-03 19:36:32.042</th>\n      <td>1</td>\n      <td>2444.0</td>\n      <td>1099.50</td>\n      <td>1.0</td>\n      <td>0.003664</td>\n      <td>0.003671</td>\n      <td>0.002092</td>\n      <td>-0.000863</td>\n      <td>-0.000722</td>\n      <td>0.002155</td>\n      <td>0.002579</td>\n      <td>0.002411</td>\n      <td>0.002247</td>\n      <td>0.022037</td>\n      <td>0.018330</td>\n      <td>-0.057580</td>\n      <td>-0.069830</td>\n      <td>-0.094617</td>\n    </tr>\n    <tr>\n      <th>2011-09-27 17:37:42.994</th>\n      <td>0</td>\n      <td>2234.0</td>\n      <td>1182.75</td>\n      <td>-1.0</td>\n      <td>-0.001284</td>\n      <td>-0.001283</td>\n      <td>0.000490</td>\n      <td>0.002593</td>\n      <td>0.000118</td>\n      <td>-0.000642</td>\n      <td>0.001545</td>\n      <td>0.001516</td>\n      <td>0.001370</td>\n      <td>0.134094</td>\n      <td>0.079357</td>\n      <td>0.257030</td>\n      <td>-0.072981</td>\n      <td>0.307598</td>\n    </tr>\n  </tbody>\n</table>\n</div>"
     },
     "metadata": {},
     "execution_count": 33
    }
   ],
   "source": [
    "train_df.head()"
   ]
  },
  {
   "cell_type": "code",
   "execution_count": 34,
   "metadata": {},
   "outputs": [
    {
     "output_type": "execute_result",
     "data": {
      "text/plain": [
       "1    783\n",
       "0    783\n",
       "Name: bin, dtype: int64"
      ]
     },
     "metadata": {},
     "execution_count": 34
    }
   ],
   "source": [
    "train_df['bin'].value_counts()"
   ]
  },
  {
   "cell_type": "markdown",
   "metadata": {},
   "source": [
    "#### Create Training Data"
   ]
  },
  {
   "cell_type": "code",
   "execution_count": 35,
   "metadata": {},
   "outputs": [],
   "source": [
    "y_train = train_df['bin']\n",
    "x_train = train_df.loc[:, train_df.columns != 'bin']"
   ]
  },
  {
   "cell_type": "code",
   "execution_count": 36,
   "metadata": {},
   "outputs": [],
   "source": [
    "# fit the model\n",
    "parameters = {'max_depth': [2, 3, 4, 5, 7],\n",
    "                'n_estimators': [1, 10, 25, 50, 100],\n",
    "                'random_state': [42] }\n"
   ]
  },
  {
   "cell_type": "code",
   "execution_count": 37,
   "metadata": {},
   "outputs": [],
   "source": [
    "def perform_grid_search(x_data, y_data):\n",
    "        rf = sk.ensemble.RandomForestClassifier()\n",
    "\n",
    "        clf = sk.model_selection.GridSearchCV(rf, parameters, cv=4, scoring='roc_auc', n_jobs=3)\n",
    "\n",
    "        clf.fit(x_data, y_data)\n",
    "\n",
    "        print(clf.cv_results_['mean_test_score'])\n",
    "        print(clf.best_params_['n_estimators'])\n",
    "        print(clf.best_params_['max_depth'])\n",
    "\n",
    "        return clf.best_params_['n_estimators'], clf.best_params_['max_depth']"
   ]
  },
  {
   "cell_type": "markdown",
   "metadata": {},
   "source": [
    "#### Extract Parameters"
   ]
  },
  {
   "cell_type": "code",
   "execution_count": 38,
   "metadata": {},
   "outputs": [
    {
     "output_type": "stream",
     "name": "stdout",
     "text": [
      "[0.62199658 0.75003387 0.7530543  0.74007421 0.74206833 0.67240159\n 0.81019716 0.81161333 0.80497542 0.81039524 0.71772153 0.84667598\n 0.85759691 0.86003875 0.86977551 0.73423655 0.87958636 0.88559252\n 0.89202566 0.8961683  0.7679792  0.91139129 0.92624042 0.93387074\n 0.94139147]\n100\n7\nn_estimator: 100 \ndepth: 7 \nc_random_state: 42\n"
     ]
    }
   ],
   "source": [
    "n_estimator, depth = perform_grid_search(x_train, y_train)\n",
    "c_random_state = 42\n",
    "print('n_estimator: ' + str(n_estimator), '\\ndepth: ' + str(depth), '\\nc_random_state: ' + str(c_random_state))"
   ]
  },
  {
   "cell_type": "markdown",
   "metadata": {},
   "source": [
    "#### Refit new model with best params"
   ]
  },
  {
   "cell_type": "code",
   "execution_count": 39,
   "metadata": {},
   "outputs": [
    {
     "output_type": "execute_result",
     "data": {
      "text/plain": [
       "RandomForestClassifier(max_depth=7, random_state=42)"
      ]
     },
     "metadata": {},
     "execution_count": 39
    }
   ],
   "source": [
    "rf = sk.ensemble.RandomForestClassifier(max_depth=depth, n_estimators=n_estimator, random_state=c_random_state)\n",
    "rf.fit(x_train, y_train.values.ravel())"
   ]
  },
  {
   "cell_type": "markdown",
   "metadata": {},
   "source": [
    "### Training Metrics"
   ]
  },
  {
   "cell_type": "code",
   "execution_count": 40,
   "metadata": {},
   "outputs": [
    {
     "output_type": "stream",
     "name": "stdout",
     "text": [
      "Classification Report\n              precision    recall  f1-score   support\n\n           0       0.97      0.88      0.93       783\n           1       0.89      0.98      0.93       783\n\n    accuracy                           0.93      1566\n   macro avg       0.93      0.93      0.93      1566\nweighted avg       0.93      0.93      0.93      1566\n\n"
     ]
    }
   ],
   "source": [
    "y_pred_rf = rf.predict_proba(x_train)[:, 1]\n",
    "y_pred = rf.predict(x_train)\n",
    "fpr_rf, tpr_rf, _ = sk.metrics.roc_curve(y_train, y_pred_rf)\n",
    "\n",
    "print('Classification Report')\n",
    "print(sk.metrics.classification_report(y_train, y_pred))"
   ]
  },
  {
   "cell_type": "code",
   "execution_count": 41,
   "metadata": {},
   "outputs": [
    {
     "output_type": "stream",
     "name": "stdout",
     "text": [
      "Confusion Matrix\n[[692  91]\n [ 19 764]]\n"
     ]
    }
   ],
   "source": [
    "print('Confusion Matrix')\n",
    "print(sk.metrics.confusion_matrix(y_train, y_pred))"
   ]
  },
  {
   "cell_type": "code",
   "execution_count": 42,
   "metadata": {},
   "outputs": [
    {
     "output_type": "stream",
     "name": "stdout",
     "text": [
      "Accuracy\n0.929757343550447\n"
     ]
    }
   ],
   "source": [
    "print('Accuracy')\n",
    "print(sk.metrics.accuracy_score(y_train, y_pred))"
   ]
  },
  {
   "cell_type": "code",
   "execution_count": 43,
   "metadata": {},
   "outputs": [
    {
     "output_type": "display_data",
     "data": {
      "text/plain": "<Figure size 432x288 with 1 Axes>",
      "image/svg+xml": "<?xml version=\"1.0\" encoding=\"utf-8\" standalone=\"no\"?>\r\n<!DOCTYPE svg PUBLIC \"-//W3C//DTD SVG 1.1//EN\"\r\n  \"http://www.w3.org/Graphics/SVG/1.1/DTD/svg11.dtd\">\r\n<!-- Created with matplotlib (https://matplotlib.org/) -->\r\n<svg height=\"277.314375pt\" version=\"1.1\" viewBox=\"0 0 385.78125 277.314375\" width=\"385.78125pt\" xmlns=\"http://www.w3.org/2000/svg\" xmlns:xlink=\"http://www.w3.org/1999/xlink\">\r\n <defs>\r\n  <style type=\"text/css\">\r\n*{stroke-linecap:butt;stroke-linejoin:round;}\r\n  </style>\r\n </defs>\r\n <g id=\"figure_1\">\r\n  <g id=\"patch_1\">\r\n   <path d=\"M 0 277.314375 \r\nL 385.78125 277.314375 \r\nL 385.78125 0 \r\nL 0 0 \r\nz\r\n\" style=\"fill:none;\"/>\r\n  </g>\r\n  <g id=\"axes_1\">\r\n   <g id=\"patch_2\">\r\n    <path d=\"M 43.78125 239.758125 \r\nL 378.58125 239.758125 \r\nL 378.58125 22.318125 \r\nL 43.78125 22.318125 \r\nz\r\n\" style=\"fill:#ffffff;\"/>\r\n   </g>\r\n   <g id=\"matplotlib.axis_1\">\r\n    <g id=\"xtick_1\">\r\n     <g id=\"line2d_1\">\r\n      <defs>\r\n       <path d=\"M 0 0 \r\nL 0 3.5 \r\n\" id=\"m352aac2f9b\" style=\"stroke:#000000;stroke-width:0.8;\"/>\r\n      </defs>\r\n      <g>\r\n       <use style=\"stroke:#000000;stroke-width:0.8;\" x=\"58.999432\" xlink:href=\"#m352aac2f9b\" y=\"239.758125\"/>\r\n      </g>\r\n     </g>\r\n     <g id=\"text_1\">\r\n      <!-- 0.0 -->\r\n      <defs>\r\n       <path d=\"M 31.78125 66.40625 \r\nQ 24.171875 66.40625 20.328125 58.90625 \r\nQ 16.5 51.421875 16.5 36.375 \r\nQ 16.5 21.390625 20.328125 13.890625 \r\nQ 24.171875 6.390625 31.78125 6.390625 \r\nQ 39.453125 6.390625 43.28125 13.890625 \r\nQ 47.125 21.390625 47.125 36.375 \r\nQ 47.125 51.421875 43.28125 58.90625 \r\nQ 39.453125 66.40625 31.78125 66.40625 \r\nz\r\nM 31.78125 74.21875 \r\nQ 44.046875 74.21875 50.515625 64.515625 \r\nQ 56.984375 54.828125 56.984375 36.375 \r\nQ 56.984375 17.96875 50.515625 8.265625 \r\nQ 44.046875 -1.421875 31.78125 -1.421875 \r\nQ 19.53125 -1.421875 13.0625 8.265625 \r\nQ 6.59375 17.96875 6.59375 36.375 \r\nQ 6.59375 54.828125 13.0625 64.515625 \r\nQ 19.53125 74.21875 31.78125 74.21875 \r\nz\r\n\" id=\"DejaVuSans-48\"/>\r\n       <path d=\"M 10.6875 12.40625 \r\nL 21 12.40625 \r\nL 21 0 \r\nL 10.6875 0 \r\nz\r\n\" id=\"DejaVuSans-46\"/>\r\n      </defs>\r\n      <g transform=\"translate(51.047869 254.356562)scale(0.1 -0.1)\">\r\n       <use xlink:href=\"#DejaVuSans-48\"/>\r\n       <use x=\"63.623047\" xlink:href=\"#DejaVuSans-46\"/>\r\n       <use x=\"95.410156\" xlink:href=\"#DejaVuSans-48\"/>\r\n      </g>\r\n     </g>\r\n    </g>\r\n    <g id=\"xtick_2\">\r\n     <g id=\"line2d_2\">\r\n      <g>\r\n       <use style=\"stroke:#000000;stroke-width:0.8;\" x=\"119.872159\" xlink:href=\"#m352aac2f9b\" y=\"239.758125\"/>\r\n      </g>\r\n     </g>\r\n     <g id=\"text_2\">\r\n      <!-- 0.2 -->\r\n      <defs>\r\n       <path d=\"M 19.1875 8.296875 \r\nL 53.609375 8.296875 \r\nL 53.609375 0 \r\nL 7.328125 0 \r\nL 7.328125 8.296875 \r\nQ 12.9375 14.109375 22.625 23.890625 \r\nQ 32.328125 33.6875 34.8125 36.53125 \r\nQ 39.546875 41.84375 41.421875 45.53125 \r\nQ 43.3125 49.21875 43.3125 52.78125 \r\nQ 43.3125 58.59375 39.234375 62.25 \r\nQ 35.15625 65.921875 28.609375 65.921875 \r\nQ 23.96875 65.921875 18.8125 64.3125 \r\nQ 13.671875 62.703125 7.8125 59.421875 \r\nL 7.8125 69.390625 \r\nQ 13.765625 71.78125 18.9375 73 \r\nQ 24.125 74.21875 28.421875 74.21875 \r\nQ 39.75 74.21875 46.484375 68.546875 \r\nQ 53.21875 62.890625 53.21875 53.421875 \r\nQ 53.21875 48.921875 51.53125 44.890625 \r\nQ 49.859375 40.875 45.40625 35.40625 \r\nQ 44.1875 33.984375 37.640625 27.21875 \r\nQ 31.109375 20.453125 19.1875 8.296875 \r\nz\r\n\" id=\"DejaVuSans-50\"/>\r\n      </defs>\r\n      <g transform=\"translate(111.920597 254.356562)scale(0.1 -0.1)\">\r\n       <use xlink:href=\"#DejaVuSans-48\"/>\r\n       <use x=\"63.623047\" xlink:href=\"#DejaVuSans-46\"/>\r\n       <use x=\"95.410156\" xlink:href=\"#DejaVuSans-50\"/>\r\n      </g>\r\n     </g>\r\n    </g>\r\n    <g id=\"xtick_3\">\r\n     <g id=\"line2d_3\">\r\n      <g>\r\n       <use style=\"stroke:#000000;stroke-width:0.8;\" x=\"180.744886\" xlink:href=\"#m352aac2f9b\" y=\"239.758125\"/>\r\n      </g>\r\n     </g>\r\n     <g id=\"text_3\">\r\n      <!-- 0.4 -->\r\n      <defs>\r\n       <path d=\"M 37.796875 64.3125 \r\nL 12.890625 25.390625 \r\nL 37.796875 25.390625 \r\nz\r\nM 35.203125 72.90625 \r\nL 47.609375 72.90625 \r\nL 47.609375 25.390625 \r\nL 58.015625 25.390625 \r\nL 58.015625 17.1875 \r\nL 47.609375 17.1875 \r\nL 47.609375 0 \r\nL 37.796875 0 \r\nL 37.796875 17.1875 \r\nL 4.890625 17.1875 \r\nL 4.890625 26.703125 \r\nz\r\n\" id=\"DejaVuSans-52\"/>\r\n      </defs>\r\n      <g transform=\"translate(172.793324 254.356562)scale(0.1 -0.1)\">\r\n       <use xlink:href=\"#DejaVuSans-48\"/>\r\n       <use x=\"63.623047\" xlink:href=\"#DejaVuSans-46\"/>\r\n       <use x=\"95.410156\" xlink:href=\"#DejaVuSans-52\"/>\r\n      </g>\r\n     </g>\r\n    </g>\r\n    <g id=\"xtick_4\">\r\n     <g id=\"line2d_4\">\r\n      <g>\r\n       <use style=\"stroke:#000000;stroke-width:0.8;\" x=\"241.617614\" xlink:href=\"#m352aac2f9b\" y=\"239.758125\"/>\r\n      </g>\r\n     </g>\r\n     <g id=\"text_4\">\r\n      <!-- 0.6 -->\r\n      <defs>\r\n       <path d=\"M 33.015625 40.375 \r\nQ 26.375 40.375 22.484375 35.828125 \r\nQ 18.609375 31.296875 18.609375 23.390625 \r\nQ 18.609375 15.53125 22.484375 10.953125 \r\nQ 26.375 6.390625 33.015625 6.390625 \r\nQ 39.65625 6.390625 43.53125 10.953125 \r\nQ 47.40625 15.53125 47.40625 23.390625 \r\nQ 47.40625 31.296875 43.53125 35.828125 \r\nQ 39.65625 40.375 33.015625 40.375 \r\nz\r\nM 52.59375 71.296875 \r\nL 52.59375 62.3125 \r\nQ 48.875 64.0625 45.09375 64.984375 \r\nQ 41.3125 65.921875 37.59375 65.921875 \r\nQ 27.828125 65.921875 22.671875 59.328125 \r\nQ 17.53125 52.734375 16.796875 39.40625 \r\nQ 19.671875 43.65625 24.015625 45.921875 \r\nQ 28.375 48.1875 33.59375 48.1875 \r\nQ 44.578125 48.1875 50.953125 41.515625 \r\nQ 57.328125 34.859375 57.328125 23.390625 \r\nQ 57.328125 12.15625 50.6875 5.359375 \r\nQ 44.046875 -1.421875 33.015625 -1.421875 \r\nQ 20.359375 -1.421875 13.671875 8.265625 \r\nQ 6.984375 17.96875 6.984375 36.375 \r\nQ 6.984375 53.65625 15.1875 63.9375 \r\nQ 23.390625 74.21875 37.203125 74.21875 \r\nQ 40.921875 74.21875 44.703125 73.484375 \r\nQ 48.484375 72.75 52.59375 71.296875 \r\nz\r\n\" id=\"DejaVuSans-54\"/>\r\n      </defs>\r\n      <g transform=\"translate(233.666051 254.356562)scale(0.1 -0.1)\">\r\n       <use xlink:href=\"#DejaVuSans-48\"/>\r\n       <use x=\"63.623047\" xlink:href=\"#DejaVuSans-46\"/>\r\n       <use x=\"95.410156\" xlink:href=\"#DejaVuSans-54\"/>\r\n      </g>\r\n     </g>\r\n    </g>\r\n    <g id=\"xtick_5\">\r\n     <g id=\"line2d_5\">\r\n      <g>\r\n       <use style=\"stroke:#000000;stroke-width:0.8;\" x=\"302.490341\" xlink:href=\"#m352aac2f9b\" y=\"239.758125\"/>\r\n      </g>\r\n     </g>\r\n     <g id=\"text_5\">\r\n      <!-- 0.8 -->\r\n      <defs>\r\n       <path d=\"M 31.78125 34.625 \r\nQ 24.75 34.625 20.71875 30.859375 \r\nQ 16.703125 27.09375 16.703125 20.515625 \r\nQ 16.703125 13.921875 20.71875 10.15625 \r\nQ 24.75 6.390625 31.78125 6.390625 \r\nQ 38.8125 6.390625 42.859375 10.171875 \r\nQ 46.921875 13.96875 46.921875 20.515625 \r\nQ 46.921875 27.09375 42.890625 30.859375 \r\nQ 38.875 34.625 31.78125 34.625 \r\nz\r\nM 21.921875 38.8125 \r\nQ 15.578125 40.375 12.03125 44.71875 \r\nQ 8.5 49.078125 8.5 55.328125 \r\nQ 8.5 64.0625 14.71875 69.140625 \r\nQ 20.953125 74.21875 31.78125 74.21875 \r\nQ 42.671875 74.21875 48.875 69.140625 \r\nQ 55.078125 64.0625 55.078125 55.328125 \r\nQ 55.078125 49.078125 51.53125 44.71875 \r\nQ 48 40.375 41.703125 38.8125 \r\nQ 48.828125 37.15625 52.796875 32.3125 \r\nQ 56.78125 27.484375 56.78125 20.515625 \r\nQ 56.78125 9.90625 50.3125 4.234375 \r\nQ 43.84375 -1.421875 31.78125 -1.421875 \r\nQ 19.734375 -1.421875 13.25 4.234375 \r\nQ 6.78125 9.90625 6.78125 20.515625 \r\nQ 6.78125 27.484375 10.78125 32.3125 \r\nQ 14.796875 37.15625 21.921875 38.8125 \r\nz\r\nM 18.3125 54.390625 \r\nQ 18.3125 48.734375 21.84375 45.5625 \r\nQ 25.390625 42.390625 31.78125 42.390625 \r\nQ 38.140625 42.390625 41.71875 45.5625 \r\nQ 45.3125 48.734375 45.3125 54.390625 \r\nQ 45.3125 60.0625 41.71875 63.234375 \r\nQ 38.140625 66.40625 31.78125 66.40625 \r\nQ 25.390625 66.40625 21.84375 63.234375 \r\nQ 18.3125 60.0625 18.3125 54.390625 \r\nz\r\n\" id=\"DejaVuSans-56\"/>\r\n      </defs>\r\n      <g transform=\"translate(294.538778 254.356562)scale(0.1 -0.1)\">\r\n       <use xlink:href=\"#DejaVuSans-48\"/>\r\n       <use x=\"63.623047\" xlink:href=\"#DejaVuSans-46\"/>\r\n       <use x=\"95.410156\" xlink:href=\"#DejaVuSans-56\"/>\r\n      </g>\r\n     </g>\r\n    </g>\r\n    <g id=\"xtick_6\">\r\n     <g id=\"line2d_6\">\r\n      <g>\r\n       <use style=\"stroke:#000000;stroke-width:0.8;\" x=\"363.363068\" xlink:href=\"#m352aac2f9b\" y=\"239.758125\"/>\r\n      </g>\r\n     </g>\r\n     <g id=\"text_6\">\r\n      <!-- 1.0 -->\r\n      <defs>\r\n       <path d=\"M 12.40625 8.296875 \r\nL 28.515625 8.296875 \r\nL 28.515625 63.921875 \r\nL 10.984375 60.40625 \r\nL 10.984375 69.390625 \r\nL 28.421875 72.90625 \r\nL 38.28125 72.90625 \r\nL 38.28125 8.296875 \r\nL 54.390625 8.296875 \r\nL 54.390625 0 \r\nL 12.40625 0 \r\nz\r\n\" id=\"DejaVuSans-49\"/>\r\n      </defs>\r\n      <g transform=\"translate(355.411506 254.356562)scale(0.1 -0.1)\">\r\n       <use xlink:href=\"#DejaVuSans-49\"/>\r\n       <use x=\"63.623047\" xlink:href=\"#DejaVuSans-46\"/>\r\n       <use x=\"95.410156\" xlink:href=\"#DejaVuSans-48\"/>\r\n      </g>\r\n     </g>\r\n    </g>\r\n    <g id=\"text_7\">\r\n     <!-- False positive rate -->\r\n     <defs>\r\n      <path d=\"M 9.8125 72.90625 \r\nL 51.703125 72.90625 \r\nL 51.703125 64.59375 \r\nL 19.671875 64.59375 \r\nL 19.671875 43.109375 \r\nL 48.578125 43.109375 \r\nL 48.578125 34.8125 \r\nL 19.671875 34.8125 \r\nL 19.671875 0 \r\nL 9.8125 0 \r\nz\r\n\" id=\"DejaVuSans-70\"/>\r\n      <path d=\"M 34.28125 27.484375 \r\nQ 23.390625 27.484375 19.1875 25 \r\nQ 14.984375 22.515625 14.984375 16.5 \r\nQ 14.984375 11.71875 18.140625 8.90625 \r\nQ 21.296875 6.109375 26.703125 6.109375 \r\nQ 34.1875 6.109375 38.703125 11.40625 \r\nQ 43.21875 16.703125 43.21875 25.484375 \r\nL 43.21875 27.484375 \r\nz\r\nM 52.203125 31.203125 \r\nL 52.203125 0 \r\nL 43.21875 0 \r\nL 43.21875 8.296875 \r\nQ 40.140625 3.328125 35.546875 0.953125 \r\nQ 30.953125 -1.421875 24.3125 -1.421875 \r\nQ 15.921875 -1.421875 10.953125 3.296875 \r\nQ 6 8.015625 6 15.921875 \r\nQ 6 25.140625 12.171875 29.828125 \r\nQ 18.359375 34.515625 30.609375 34.515625 \r\nL 43.21875 34.515625 \r\nL 43.21875 35.40625 \r\nQ 43.21875 41.609375 39.140625 45 \r\nQ 35.0625 48.390625 27.6875 48.390625 \r\nQ 23 48.390625 18.546875 47.265625 \r\nQ 14.109375 46.140625 10.015625 43.890625 \r\nL 10.015625 52.203125 \r\nQ 14.9375 54.109375 19.578125 55.046875 \r\nQ 24.21875 56 28.609375 56 \r\nQ 40.484375 56 46.34375 49.84375 \r\nQ 52.203125 43.703125 52.203125 31.203125 \r\nz\r\n\" id=\"DejaVuSans-97\"/>\r\n      <path d=\"M 9.421875 75.984375 \r\nL 18.40625 75.984375 \r\nL 18.40625 0 \r\nL 9.421875 0 \r\nz\r\n\" id=\"DejaVuSans-108\"/>\r\n      <path d=\"M 44.28125 53.078125 \r\nL 44.28125 44.578125 \r\nQ 40.484375 46.53125 36.375 47.5 \r\nQ 32.28125 48.484375 27.875 48.484375 \r\nQ 21.1875 48.484375 17.84375 46.4375 \r\nQ 14.5 44.390625 14.5 40.28125 \r\nQ 14.5 37.15625 16.890625 35.375 \r\nQ 19.28125 33.59375 26.515625 31.984375 \r\nL 29.59375 31.296875 \r\nQ 39.15625 29.25 43.1875 25.515625 \r\nQ 47.21875 21.78125 47.21875 15.09375 \r\nQ 47.21875 7.46875 41.1875 3.015625 \r\nQ 35.15625 -1.421875 24.609375 -1.421875 \r\nQ 20.21875 -1.421875 15.453125 -0.5625 \r\nQ 10.6875 0.296875 5.421875 2 \r\nL 5.421875 11.28125 \r\nQ 10.40625 8.6875 15.234375 7.390625 \r\nQ 20.0625 6.109375 24.8125 6.109375 \r\nQ 31.15625 6.109375 34.5625 8.28125 \r\nQ 37.984375 10.453125 37.984375 14.40625 \r\nQ 37.984375 18.0625 35.515625 20.015625 \r\nQ 33.0625 21.96875 24.703125 23.78125 \r\nL 21.578125 24.515625 \r\nQ 13.234375 26.265625 9.515625 29.90625 \r\nQ 5.8125 33.546875 5.8125 39.890625 \r\nQ 5.8125 47.609375 11.28125 51.796875 \r\nQ 16.75 56 26.8125 56 \r\nQ 31.78125 56 36.171875 55.265625 \r\nQ 40.578125 54.546875 44.28125 53.078125 \r\nz\r\n\" id=\"DejaVuSans-115\"/>\r\n      <path d=\"M 56.203125 29.59375 \r\nL 56.203125 25.203125 \r\nL 14.890625 25.203125 \r\nQ 15.484375 15.921875 20.484375 11.0625 \r\nQ 25.484375 6.203125 34.421875 6.203125 \r\nQ 39.59375 6.203125 44.453125 7.46875 \r\nQ 49.3125 8.734375 54.109375 11.28125 \r\nL 54.109375 2.78125 \r\nQ 49.265625 0.734375 44.1875 -0.34375 \r\nQ 39.109375 -1.421875 33.890625 -1.421875 \r\nQ 20.796875 -1.421875 13.15625 6.1875 \r\nQ 5.515625 13.8125 5.515625 26.8125 \r\nQ 5.515625 40.234375 12.765625 48.109375 \r\nQ 20.015625 56 32.328125 56 \r\nQ 43.359375 56 49.78125 48.890625 \r\nQ 56.203125 41.796875 56.203125 29.59375 \r\nz\r\nM 47.21875 32.234375 \r\nQ 47.125 39.59375 43.09375 43.984375 \r\nQ 39.0625 48.390625 32.421875 48.390625 \r\nQ 24.90625 48.390625 20.390625 44.140625 \r\nQ 15.875 39.890625 15.1875 32.171875 \r\nz\r\n\" id=\"DejaVuSans-101\"/>\r\n      <path id=\"DejaVuSans-32\"/>\r\n      <path d=\"M 18.109375 8.203125 \r\nL 18.109375 -20.796875 \r\nL 9.078125 -20.796875 \r\nL 9.078125 54.6875 \r\nL 18.109375 54.6875 \r\nL 18.109375 46.390625 \r\nQ 20.953125 51.265625 25.265625 53.625 \r\nQ 29.59375 56 35.59375 56 \r\nQ 45.5625 56 51.78125 48.09375 \r\nQ 58.015625 40.1875 58.015625 27.296875 \r\nQ 58.015625 14.40625 51.78125 6.484375 \r\nQ 45.5625 -1.421875 35.59375 -1.421875 \r\nQ 29.59375 -1.421875 25.265625 0.953125 \r\nQ 20.953125 3.328125 18.109375 8.203125 \r\nz\r\nM 48.6875 27.296875 \r\nQ 48.6875 37.203125 44.609375 42.84375 \r\nQ 40.53125 48.484375 33.40625 48.484375 \r\nQ 26.265625 48.484375 22.1875 42.84375 \r\nQ 18.109375 37.203125 18.109375 27.296875 \r\nQ 18.109375 17.390625 22.1875 11.75 \r\nQ 26.265625 6.109375 33.40625 6.109375 \r\nQ 40.53125 6.109375 44.609375 11.75 \r\nQ 48.6875 17.390625 48.6875 27.296875 \r\nz\r\n\" id=\"DejaVuSans-112\"/>\r\n      <path d=\"M 30.609375 48.390625 \r\nQ 23.390625 48.390625 19.1875 42.75 \r\nQ 14.984375 37.109375 14.984375 27.296875 \r\nQ 14.984375 17.484375 19.15625 11.84375 \r\nQ 23.34375 6.203125 30.609375 6.203125 \r\nQ 37.796875 6.203125 41.984375 11.859375 \r\nQ 46.1875 17.53125 46.1875 27.296875 \r\nQ 46.1875 37.015625 41.984375 42.703125 \r\nQ 37.796875 48.390625 30.609375 48.390625 \r\nz\r\nM 30.609375 56 \r\nQ 42.328125 56 49.015625 48.375 \r\nQ 55.71875 40.765625 55.71875 27.296875 \r\nQ 55.71875 13.875 49.015625 6.21875 \r\nQ 42.328125 -1.421875 30.609375 -1.421875 \r\nQ 18.84375 -1.421875 12.171875 6.21875 \r\nQ 5.515625 13.875 5.515625 27.296875 \r\nQ 5.515625 40.765625 12.171875 48.375 \r\nQ 18.84375 56 30.609375 56 \r\nz\r\n\" id=\"DejaVuSans-111\"/>\r\n      <path d=\"M 9.421875 54.6875 \r\nL 18.40625 54.6875 \r\nL 18.40625 0 \r\nL 9.421875 0 \r\nz\r\nM 9.421875 75.984375 \r\nL 18.40625 75.984375 \r\nL 18.40625 64.59375 \r\nL 9.421875 64.59375 \r\nz\r\n\" id=\"DejaVuSans-105\"/>\r\n      <path d=\"M 18.3125 70.21875 \r\nL 18.3125 54.6875 \r\nL 36.8125 54.6875 \r\nL 36.8125 47.703125 \r\nL 18.3125 47.703125 \r\nL 18.3125 18.015625 \r\nQ 18.3125 11.328125 20.140625 9.421875 \r\nQ 21.96875 7.515625 27.59375 7.515625 \r\nL 36.8125 7.515625 \r\nL 36.8125 0 \r\nL 27.59375 0 \r\nQ 17.1875 0 13.234375 3.875 \r\nQ 9.28125 7.765625 9.28125 18.015625 \r\nL 9.28125 47.703125 \r\nL 2.6875 47.703125 \r\nL 2.6875 54.6875 \r\nL 9.28125 54.6875 \r\nL 9.28125 70.21875 \r\nz\r\n\" id=\"DejaVuSans-116\"/>\r\n      <path d=\"M 2.984375 54.6875 \r\nL 12.5 54.6875 \r\nL 29.59375 8.796875 \r\nL 46.6875 54.6875 \r\nL 56.203125 54.6875 \r\nL 35.6875 0 \r\nL 23.484375 0 \r\nz\r\n\" id=\"DejaVuSans-118\"/>\r\n      <path d=\"M 41.109375 46.296875 \r\nQ 39.59375 47.171875 37.8125 47.578125 \r\nQ 36.03125 48 33.890625 48 \r\nQ 26.265625 48 22.1875 43.046875 \r\nQ 18.109375 38.09375 18.109375 28.8125 \r\nL 18.109375 0 \r\nL 9.078125 0 \r\nL 9.078125 54.6875 \r\nL 18.109375 54.6875 \r\nL 18.109375 46.1875 \r\nQ 20.953125 51.171875 25.484375 53.578125 \r\nQ 30.03125 56 36.53125 56 \r\nQ 37.453125 56 38.578125 55.875 \r\nQ 39.703125 55.765625 41.0625 55.515625 \r\nz\r\n\" id=\"DejaVuSans-114\"/>\r\n     </defs>\r\n     <g transform=\"translate(165.680469 268.034687)scale(0.1 -0.1)\">\r\n      <use xlink:href=\"#DejaVuSans-70\"/>\r\n      <use x=\"48.394531\" xlink:href=\"#DejaVuSans-97\"/>\r\n      <use x=\"109.673828\" xlink:href=\"#DejaVuSans-108\"/>\r\n      <use x=\"137.457031\" xlink:href=\"#DejaVuSans-115\"/>\r\n      <use x=\"189.556641\" xlink:href=\"#DejaVuSans-101\"/>\r\n      <use x=\"251.080078\" xlink:href=\"#DejaVuSans-32\"/>\r\n      <use x=\"282.867188\" xlink:href=\"#DejaVuSans-112\"/>\r\n      <use x=\"346.34375\" xlink:href=\"#DejaVuSans-111\"/>\r\n      <use x=\"407.525391\" xlink:href=\"#DejaVuSans-115\"/>\r\n      <use x=\"459.625\" xlink:href=\"#DejaVuSans-105\"/>\r\n      <use x=\"487.408203\" xlink:href=\"#DejaVuSans-116\"/>\r\n      <use x=\"526.617188\" xlink:href=\"#DejaVuSans-105\"/>\r\n      <use x=\"554.400391\" xlink:href=\"#DejaVuSans-118\"/>\r\n      <use x=\"613.580078\" xlink:href=\"#DejaVuSans-101\"/>\r\n      <use x=\"675.103516\" xlink:href=\"#DejaVuSans-32\"/>\r\n      <use x=\"706.890625\" xlink:href=\"#DejaVuSans-114\"/>\r\n      <use x=\"748.003906\" xlink:href=\"#DejaVuSans-97\"/>\r\n      <use x=\"809.283203\" xlink:href=\"#DejaVuSans-116\"/>\r\n      <use x=\"848.492188\" xlink:href=\"#DejaVuSans-101\"/>\r\n     </g>\r\n    </g>\r\n   </g>\r\n   <g id=\"matplotlib.axis_2\">\r\n    <g id=\"ytick_1\">\r\n     <g id=\"line2d_7\">\r\n      <defs>\r\n       <path d=\"M 0 0 \r\nL -3.5 0 \r\n\" id=\"m2b22af4c58\" style=\"stroke:#000000;stroke-width:0.8;\"/>\r\n      </defs>\r\n      <g>\r\n       <use style=\"stroke:#000000;stroke-width:0.8;\" x=\"43.78125\" xlink:href=\"#m2b22af4c58\" y=\"229.874489\"/>\r\n      </g>\r\n     </g>\r\n     <g id=\"text_8\">\r\n      <!-- 0.0 -->\r\n      <g transform=\"translate(20.878125 233.673707)scale(0.1 -0.1)\">\r\n       <use xlink:href=\"#DejaVuSans-48\"/>\r\n       <use x=\"63.623047\" xlink:href=\"#DejaVuSans-46\"/>\r\n       <use x=\"95.410156\" xlink:href=\"#DejaVuSans-48\"/>\r\n      </g>\r\n     </g>\r\n    </g>\r\n    <g id=\"ytick_2\">\r\n     <g id=\"line2d_8\">\r\n      <g>\r\n       <use style=\"stroke:#000000;stroke-width:0.8;\" x=\"43.78125\" xlink:href=\"#m2b22af4c58\" y=\"190.339943\"/>\r\n      </g>\r\n     </g>\r\n     <g id=\"text_9\">\r\n      <!-- 0.2 -->\r\n      <g transform=\"translate(20.878125 194.139162)scale(0.1 -0.1)\">\r\n       <use xlink:href=\"#DejaVuSans-48\"/>\r\n       <use x=\"63.623047\" xlink:href=\"#DejaVuSans-46\"/>\r\n       <use x=\"95.410156\" xlink:href=\"#DejaVuSans-50\"/>\r\n      </g>\r\n     </g>\r\n    </g>\r\n    <g id=\"ytick_3\">\r\n     <g id=\"line2d_9\">\r\n      <g>\r\n       <use style=\"stroke:#000000;stroke-width:0.8;\" x=\"43.78125\" xlink:href=\"#m2b22af4c58\" y=\"150.805398\"/>\r\n      </g>\r\n     </g>\r\n     <g id=\"text_10\">\r\n      <!-- 0.4 -->\r\n      <g transform=\"translate(20.878125 154.604616)scale(0.1 -0.1)\">\r\n       <use xlink:href=\"#DejaVuSans-48\"/>\r\n       <use x=\"63.623047\" xlink:href=\"#DejaVuSans-46\"/>\r\n       <use x=\"95.410156\" xlink:href=\"#DejaVuSans-52\"/>\r\n      </g>\r\n     </g>\r\n    </g>\r\n    <g id=\"ytick_4\">\r\n     <g id=\"line2d_10\">\r\n      <g>\r\n       <use style=\"stroke:#000000;stroke-width:0.8;\" x=\"43.78125\" xlink:href=\"#m2b22af4c58\" y=\"111.270852\"/>\r\n      </g>\r\n     </g>\r\n     <g id=\"text_11\">\r\n      <!-- 0.6 -->\r\n      <g transform=\"translate(20.878125 115.070071)scale(0.1 -0.1)\">\r\n       <use xlink:href=\"#DejaVuSans-48\"/>\r\n       <use x=\"63.623047\" xlink:href=\"#DejaVuSans-46\"/>\r\n       <use x=\"95.410156\" xlink:href=\"#DejaVuSans-54\"/>\r\n      </g>\r\n     </g>\r\n    </g>\r\n    <g id=\"ytick_5\">\r\n     <g id=\"line2d_11\">\r\n      <g>\r\n       <use style=\"stroke:#000000;stroke-width:0.8;\" x=\"43.78125\" xlink:href=\"#m2b22af4c58\" y=\"71.736307\"/>\r\n      </g>\r\n     </g>\r\n     <g id=\"text_12\">\r\n      <!-- 0.8 -->\r\n      <g transform=\"translate(20.878125 75.535526)scale(0.1 -0.1)\">\r\n       <use xlink:href=\"#DejaVuSans-48\"/>\r\n       <use x=\"63.623047\" xlink:href=\"#DejaVuSans-46\"/>\r\n       <use x=\"95.410156\" xlink:href=\"#DejaVuSans-56\"/>\r\n      </g>\r\n     </g>\r\n    </g>\r\n    <g id=\"ytick_6\">\r\n     <g id=\"line2d_12\">\r\n      <g>\r\n       <use style=\"stroke:#000000;stroke-width:0.8;\" x=\"43.78125\" xlink:href=\"#m2b22af4c58\" y=\"32.201761\"/>\r\n      </g>\r\n     </g>\r\n     <g id=\"text_13\">\r\n      <!-- 1.0 -->\r\n      <g transform=\"translate(20.878125 36.00098)scale(0.1 -0.1)\">\r\n       <use xlink:href=\"#DejaVuSans-49\"/>\r\n       <use x=\"63.623047\" xlink:href=\"#DejaVuSans-46\"/>\r\n       <use x=\"95.410156\" xlink:href=\"#DejaVuSans-48\"/>\r\n      </g>\r\n     </g>\r\n    </g>\r\n    <g id=\"text_14\">\r\n     <!-- True positive rate -->\r\n     <defs>\r\n      <path d=\"M -0.296875 72.90625 \r\nL 61.375 72.90625 \r\nL 61.375 64.59375 \r\nL 35.5 64.59375 \r\nL 35.5 0 \r\nL 25.59375 0 \r\nL 25.59375 64.59375 \r\nL -0.296875 64.59375 \r\nz\r\n\" id=\"DejaVuSans-84\"/>\r\n      <path d=\"M 8.5 21.578125 \r\nL 8.5 54.6875 \r\nL 17.484375 54.6875 \r\nL 17.484375 21.921875 \r\nQ 17.484375 14.15625 20.5 10.265625 \r\nQ 23.53125 6.390625 29.59375 6.390625 \r\nQ 36.859375 6.390625 41.078125 11.03125 \r\nQ 45.3125 15.671875 45.3125 23.6875 \r\nL 45.3125 54.6875 \r\nL 54.296875 54.6875 \r\nL 54.296875 0 \r\nL 45.3125 0 \r\nL 45.3125 8.40625 \r\nQ 42.046875 3.421875 37.71875 1 \r\nQ 33.40625 -1.421875 27.6875 -1.421875 \r\nQ 18.265625 -1.421875 13.375 4.4375 \r\nQ 8.5 10.296875 8.5 21.578125 \r\nz\r\nM 31.109375 56 \r\nz\r\n\" id=\"DejaVuSans-117\"/>\r\n     </defs>\r\n     <g transform=\"translate(14.798438 174.602187)rotate(-90)scale(0.1 -0.1)\">\r\n      <use xlink:href=\"#DejaVuSans-84\"/>\r\n      <use x=\"46.333984\" xlink:href=\"#DejaVuSans-114\"/>\r\n      <use x=\"87.447266\" xlink:href=\"#DejaVuSans-117\"/>\r\n      <use x=\"150.826172\" xlink:href=\"#DejaVuSans-101\"/>\r\n      <use x=\"212.349609\" xlink:href=\"#DejaVuSans-32\"/>\r\n      <use x=\"244.136719\" xlink:href=\"#DejaVuSans-112\"/>\r\n      <use x=\"307.613281\" xlink:href=\"#DejaVuSans-111\"/>\r\n      <use x=\"368.794922\" xlink:href=\"#DejaVuSans-115\"/>\r\n      <use x=\"420.894531\" xlink:href=\"#DejaVuSans-105\"/>\r\n      <use x=\"448.677734\" xlink:href=\"#DejaVuSans-116\"/>\r\n      <use x=\"487.886719\" xlink:href=\"#DejaVuSans-105\"/>\r\n      <use x=\"515.669922\" xlink:href=\"#DejaVuSans-118\"/>\r\n      <use x=\"574.849609\" xlink:href=\"#DejaVuSans-101\"/>\r\n      <use x=\"636.373047\" xlink:href=\"#DejaVuSans-32\"/>\r\n      <use x=\"668.160156\" xlink:href=\"#DejaVuSans-114\"/>\r\n      <use x=\"709.273438\" xlink:href=\"#DejaVuSans-97\"/>\r\n      <use x=\"770.552734\" xlink:href=\"#DejaVuSans-116\"/>\r\n      <use x=\"809.761719\" xlink:href=\"#DejaVuSans-101\"/>\r\n     </g>\r\n    </g>\r\n   </g>\r\n   <g id=\"line2d_13\">\r\n    <path clip-path=\"url(#p9e6cbe5e4f)\" d=\"M 58.999432 229.874489 \r\nL 363.363068 32.201761 \r\n\" style=\"fill:none;stroke:#000000;stroke-dasharray:5.55,2.4;stroke-dashoffset:0;stroke-width:1.5;\"/>\r\n   </g>\r\n   <g id=\"line2d_14\">\r\n    <path clip-path=\"url(#p9e6cbe5e4f)\" d=\"M 58.999432 229.874489 \r\nL 58.999432 114.754739 \r\nL 59.388147 114.754739 \r\nL 59.388147 113.997373 \r\nL 59.776861 113.997373 \r\nL 59.776861 104.656516 \r\nL 60.165576 104.656516 \r\nL 60.165576 96.325481 \r\nL 60.554291 96.325481 \r\nL 60.554291 91.781281 \r\nL 60.943005 91.781281 \r\nL 60.943005 72.089745 \r\nL 61.33172 72.089745 \r\nL 61.33172 71.584833 \r\nL 61.720435 71.584833 \r\nL 61.720435 71.332378 \r\nL 62.886579 71.332378 \r\nL 62.886579 69.817644 \r\nL 63.275294 69.817644 \r\nL 63.275294 67.293088 \r\nL 63.664009 67.293088 \r\nL 63.664009 64.263621 \r\nL 64.052723 64.263621 \r\nL 64.052723 61.234154 \r\nL 64.441438 61.234154 \r\nL 64.441438 60.476787 \r\nL 64.830153 60.476787 \r\nL 64.830153 59.719421 \r\nL 65.607582 59.719421 \r\nL 65.607582 56.942409 \r\nL 66.385012 56.942409 \r\nL 66.385012 55.932587 \r\nL 67.551156 55.932587 \r\nL 67.551156 53.912942 \r\nL 68.7173 53.912942 \r\nL 68.7173 53.660487 \r\nL 69.49473 53.660487 \r\nL 69.49473 51.388386 \r\nL 69.883444 51.388386 \r\nL 69.883444 50.631019 \r\nL 70.660874 50.631019 \r\nL 70.660874 49.873653 \r\nL 71.438303 49.873653 \r\nL 71.438303 49.368742 \r\nL 72.993162 49.368742 \r\nL 72.993162 48.106464 \r\nL 73.381877 48.106464 \r\nL 73.381877 47.349097 \r\nL 73.770592 47.349097 \r\nL 73.770592 46.339274 \r\nL 74.159306 46.339274 \r\nL 74.159306 46.086819 \r\nL 75.714165 46.086819 \r\nL 75.714165 43.309807 \r\nL 76.10288 43.309807 \r\nL 76.10288 43.057352 \r\nL 80.767457 43.057352 \r\nL 80.767457 42.552441 \r\nL 83.099745 42.552441 \r\nL 83.099745 42.047529 \r\nL 83.877175 42.047529 \r\nL 83.877175 41.542618 \r\nL 84.265889 41.542618 \r\nL 84.265889 41.037707 \r\nL 84.654604 41.037707 \r\nL 84.654604 40.785251 \r\nL 85.043319 40.785251 \r\nL 85.043319 40.28034 \r\nL 85.432034 40.28034 \r\nL 85.432034 40.027885 \r\nL 85.820748 40.027885 \r\nL 85.820748 39.522973 \r\nL 86.209463 39.522973 \r\nL 86.209463 39.270518 \r\nL 86.598178 39.270518 \r\nL 86.598178 39.018062 \r\nL 88.930466 39.018062 \r\nL 88.930466 38.513151 \r\nL 89.319181 38.513151 \r\nL 89.319181 38.260696 \r\nL 90.87404 38.260696 \r\nL 90.87404 38.00824 \r\nL 92.040184 38.00824 \r\nL 92.040184 37.503329 \r\nL 93.595043 37.503329 \r\nL 93.595043 36.998418 \r\nL 95.149902 36.998418 \r\nL 95.149902 36.745962 \r\nL 95.927332 36.745962 \r\nL 95.927332 36.493506 \r\nL 96.316046 36.493506 \r\nL 96.316046 36.241051 \r\nL 99.425764 36.241051 \r\nL 99.425764 35.483684 \r\nL 107.588774 35.483684 \r\nL 107.588774 35.231228 \r\nL 111.087206 35.231228 \r\nL 111.087206 34.978773 \r\nL 111.475921 34.978773 \r\nL 111.475921 34.726317 \r\nL 112.25335 34.726317 \r\nL 112.25335 34.473862 \r\nL 113.419495 34.473862 \r\nL 113.419495 34.221406 \r\nL 114.585639 34.221406 \r\nL 114.585639 33.96895 \r\nL 115.751783 33.96895 \r\nL 115.751783 33.716495 \r\nL 118.084071 33.716495 \r\nL 118.084071 33.464039 \r\nL 119.63893 33.464039 \r\nL 119.63893 32.959128 \r\nL 124.692222 32.959128 \r\nL 124.692222 32.706673 \r\nL 129.356799 32.706673 \r\nL 129.356799 32.454217 \r\nL 175.613852 32.454217 \r\nL 175.613852 32.201761 \r\nL 363.363068 32.201761 \r\nL 363.363068 32.201761 \r\n\" style=\"fill:none;stroke:#1f77b4;stroke-linecap:square;stroke-width:1.5;\"/>\r\n   </g>\r\n   <g id=\"patch_3\">\r\n    <path d=\"M 43.78125 239.758125 \r\nL 43.78125 22.318125 \r\n\" style=\"fill:none;stroke:#000000;stroke-linecap:square;stroke-linejoin:miter;stroke-width:0.8;\"/>\r\n   </g>\r\n   <g id=\"patch_4\">\r\n    <path d=\"M 378.58125 239.758125 \r\nL 378.58125 22.318125 \r\n\" style=\"fill:none;stroke:#000000;stroke-linecap:square;stroke-linejoin:miter;stroke-width:0.8;\"/>\r\n   </g>\r\n   <g id=\"patch_5\">\r\n    <path d=\"M 43.78125 239.758125 \r\nL 378.58125 239.758125 \r\n\" style=\"fill:none;stroke:#000000;stroke-linecap:square;stroke-linejoin:miter;stroke-width:0.8;\"/>\r\n   </g>\r\n   <g id=\"patch_6\">\r\n    <path d=\"M 43.78125 22.318125 \r\nL 378.58125 22.318125 \r\n\" style=\"fill:none;stroke:#000000;stroke-linecap:square;stroke-linejoin:miter;stroke-width:0.8;\"/>\r\n   </g>\r\n   <g id=\"text_15\">\r\n    <!-- ROC curve -->\r\n    <defs>\r\n     <path d=\"M 44.390625 34.1875 \r\nQ 47.5625 33.109375 50.5625 29.59375 \r\nQ 53.5625 26.078125 56.59375 19.921875 \r\nL 66.609375 0 \r\nL 56 0 \r\nL 46.6875 18.703125 \r\nQ 43.0625 26.03125 39.671875 28.421875 \r\nQ 36.28125 30.8125 30.421875 30.8125 \r\nL 19.671875 30.8125 \r\nL 19.671875 0 \r\nL 9.8125 0 \r\nL 9.8125 72.90625 \r\nL 32.078125 72.90625 \r\nQ 44.578125 72.90625 50.734375 67.671875 \r\nQ 56.890625 62.453125 56.890625 51.90625 \r\nQ 56.890625 45.015625 53.6875 40.46875 \r\nQ 50.484375 35.9375 44.390625 34.1875 \r\nz\r\nM 19.671875 64.796875 \r\nL 19.671875 38.921875 \r\nL 32.078125 38.921875 \r\nQ 39.203125 38.921875 42.84375 42.21875 \r\nQ 46.484375 45.515625 46.484375 51.90625 \r\nQ 46.484375 58.296875 42.84375 61.546875 \r\nQ 39.203125 64.796875 32.078125 64.796875 \r\nz\r\n\" id=\"DejaVuSans-82\"/>\r\n     <path d=\"M 39.40625 66.21875 \r\nQ 28.65625 66.21875 22.328125 58.203125 \r\nQ 16.015625 50.203125 16.015625 36.375 \r\nQ 16.015625 22.609375 22.328125 14.59375 \r\nQ 28.65625 6.59375 39.40625 6.59375 \r\nQ 50.140625 6.59375 56.421875 14.59375 \r\nQ 62.703125 22.609375 62.703125 36.375 \r\nQ 62.703125 50.203125 56.421875 58.203125 \r\nQ 50.140625 66.21875 39.40625 66.21875 \r\nz\r\nM 39.40625 74.21875 \r\nQ 54.734375 74.21875 63.90625 63.9375 \r\nQ 73.09375 53.65625 73.09375 36.375 \r\nQ 73.09375 19.140625 63.90625 8.859375 \r\nQ 54.734375 -1.421875 39.40625 -1.421875 \r\nQ 24.03125 -1.421875 14.8125 8.828125 \r\nQ 5.609375 19.09375 5.609375 36.375 \r\nQ 5.609375 53.65625 14.8125 63.9375 \r\nQ 24.03125 74.21875 39.40625 74.21875 \r\nz\r\n\" id=\"DejaVuSans-79\"/>\r\n     <path d=\"M 64.40625 67.28125 \r\nL 64.40625 56.890625 \r\nQ 59.421875 61.53125 53.78125 63.8125 \r\nQ 48.140625 66.109375 41.796875 66.109375 \r\nQ 29.296875 66.109375 22.65625 58.46875 \r\nQ 16.015625 50.828125 16.015625 36.375 \r\nQ 16.015625 21.96875 22.65625 14.328125 \r\nQ 29.296875 6.6875 41.796875 6.6875 \r\nQ 48.140625 6.6875 53.78125 8.984375 \r\nQ 59.421875 11.28125 64.40625 15.921875 \r\nL 64.40625 5.609375 \r\nQ 59.234375 2.09375 53.4375 0.328125 \r\nQ 47.65625 -1.421875 41.21875 -1.421875 \r\nQ 24.65625 -1.421875 15.125 8.703125 \r\nQ 5.609375 18.84375 5.609375 36.375 \r\nQ 5.609375 53.953125 15.125 64.078125 \r\nQ 24.65625 74.21875 41.21875 74.21875 \r\nQ 47.75 74.21875 53.53125 72.484375 \r\nQ 59.328125 70.75 64.40625 67.28125 \r\nz\r\n\" id=\"DejaVuSans-67\"/>\r\n     <path d=\"M 48.78125 52.59375 \r\nL 48.78125 44.1875 \r\nQ 44.96875 46.296875 41.140625 47.34375 \r\nQ 37.3125 48.390625 33.40625 48.390625 \r\nQ 24.65625 48.390625 19.8125 42.84375 \r\nQ 14.984375 37.3125 14.984375 27.296875 \r\nQ 14.984375 17.28125 19.8125 11.734375 \r\nQ 24.65625 6.203125 33.40625 6.203125 \r\nQ 37.3125 6.203125 41.140625 7.25 \r\nQ 44.96875 8.296875 48.78125 10.40625 \r\nL 48.78125 2.09375 \r\nQ 45.015625 0.34375 40.984375 -0.53125 \r\nQ 36.96875 -1.421875 32.421875 -1.421875 \r\nQ 20.0625 -1.421875 12.78125 6.34375 \r\nQ 5.515625 14.109375 5.515625 27.296875 \r\nQ 5.515625 40.671875 12.859375 48.328125 \r\nQ 20.21875 56 33.015625 56 \r\nQ 37.15625 56 41.109375 55.140625 \r\nQ 45.0625 54.296875 48.78125 52.59375 \r\nz\r\n\" id=\"DejaVuSans-99\"/>\r\n    </defs>\r\n    <g transform=\"translate(179.38125 16.318125)scale(0.12 -0.12)\">\r\n     <use xlink:href=\"#DejaVuSans-82\"/>\r\n     <use x=\"69.482422\" xlink:href=\"#DejaVuSans-79\"/>\r\n     <use x=\"148.193359\" xlink:href=\"#DejaVuSans-67\"/>\r\n     <use x=\"218.017578\" xlink:href=\"#DejaVuSans-32\"/>\r\n     <use x=\"249.804688\" xlink:href=\"#DejaVuSans-99\"/>\r\n     <use x=\"304.785156\" xlink:href=\"#DejaVuSans-117\"/>\r\n     <use x=\"368.164062\" xlink:href=\"#DejaVuSans-114\"/>\r\n     <use x=\"409.277344\" xlink:href=\"#DejaVuSans-118\"/>\r\n     <use x=\"468.457031\" xlink:href=\"#DejaVuSans-101\"/>\r\n    </g>\r\n   </g>\r\n   <g id=\"legend_1\">\r\n    <g id=\"patch_7\">\r\n     <path d=\"M 326.88125 234.758125 \r\nL 371.58125 234.758125 \r\nQ 373.58125 234.758125 373.58125 232.758125 \r\nL 373.58125 219.08 \r\nQ 373.58125 217.08 371.58125 217.08 \r\nL 326.88125 217.08 \r\nQ 324.88125 217.08 324.88125 219.08 \r\nL 324.88125 232.758125 \r\nQ 324.88125 234.758125 326.88125 234.758125 \r\nz\r\n\" style=\"fill:#ffffff;opacity:0.8;stroke:#cccccc;stroke-linejoin:miter;\"/>\r\n    </g>\r\n    <g id=\"line2d_15\">\r\n     <path d=\"M 328.88125 225.178437 \r\nL 348.88125 225.178437 \r\n\" style=\"fill:none;stroke:#1f77b4;stroke-linecap:square;stroke-width:1.5;\"/>\r\n    </g>\r\n    <g id=\"line2d_16\"/>\r\n    <g id=\"text_16\">\r\n     <!-- RF -->\r\n     <g transform=\"translate(356.88125 228.678437)scale(0.1 -0.1)\">\r\n      <use xlink:href=\"#DejaVuSans-82\"/>\r\n      <use x=\"69.482422\" xlink:href=\"#DejaVuSans-70\"/>\r\n     </g>\r\n    </g>\r\n   </g>\r\n  </g>\r\n </g>\r\n <defs>\r\n  <clipPath id=\"p9e6cbe5e4f\">\r\n   <rect height=\"217.44\" width=\"334.8\" x=\"43.78125\" y=\"22.318125\"/>\r\n  </clipPath>\r\n </defs>\r\n</svg>\r\n",
      "image/png": "[encoded data removed]"
     },
     "metadata": {
      "needs_background": "light"
     }
    }
   ],
   "source": [
    "plt.figure(1)\n",
    "plt.plot([0, 1], [0, 1], 'k--')\n",
    "plt.plot(fpr_rf, tpr_rf, label='RF')\n",
    "plt.xlabel('False positive rate')\n",
    "plt.ylabel('True positive rate')\n",
    "plt.title('ROC curve')\n",
    "plt.legend(loc='best')\n",
    "plt.show()"
   ]
  },
  {
   "cell_type": "code",
   "execution_count": 44,
   "metadata": {},
   "outputs": [
    {
     "output_type": "stream",
     "name": "stdout",
     "text": [
      "Timestamp of min value : 2011-11-04 14:36:38.114000 \nTimestamp of max value : 2012-05-22 19:30:47.148000\n"
     ]
    }
   ],
   "source": [
    "print('Timestamp of min value :' + ' ' + str(x_validate.index.min()), '\\nTimestamp of max value :' + ' ' + str(x_validate.index.max()))"
   ]
  },
  {
   "cell_type": "markdown",
   "metadata": {},
   "source": [
    "### Meta-label "
   ]
  },
  {
   "cell_type": "markdown",
   "metadata": {},
   "source": [
    "These are the results of the model with meta-labeling for size"
   ]
  },
  {
   "cell_type": "markdown",
   "metadata": {},
   "source": [
    "#### Performance Metrics"
   ]
  },
  {
   "cell_type": "code",
   "execution_count": 45,
   "metadata": {},
   "outputs": [
    {
     "output_type": "stream",
     "name": "stdout",
     "text": [
      "              precision    recall  f1-score   support\n",
      "\n",
      "           0       0.68      0.99      0.80      2084\n",
      "           1       0.49      0.02      0.05      1013\n",
      "\n",
      "    accuracy                           0.67      3097\n",
      "   macro avg       0.58      0.51      0.42      3097\n",
      "weighted avg       0.61      0.67      0.56      3097\n",
      "\n"
     ]
    }
   ],
   "source": [
    "y_pred_rf = rf.predict_proba(x_validate)[:, 1]\n",
    "y_pred = rf.predict(x_validate)\n",
    "\n",
    "fpr_rf, tpr_rf, _ = sk.metrics.roc_curve(y_validate, y_pred_rf)\n",
    "\n",
    "print(sk.metrics.classification_report(y_validate, y_pred))"
   ]
  },
  {
   "cell_type": "markdown",
   "metadata": {},
   "source": [
    "#### Confusion Matrix"
   ]
  },
  {
   "cell_type": "code",
   "execution_count": 46,
   "metadata": {},
   "outputs": [
    {
     "output_type": "stream",
     "name": "stdout",
     "text": [
      "[[2058   26]\n [ 988   25]]\n"
     ]
    }
   ],
   "source": [
    "print(sk.metrics.confusion_matrix(y_validate, y_pred))"
   ]
  },
  {
   "cell_type": "markdown",
   "metadata": {},
   "source": [
    "#### Accuracy"
   ]
  },
  {
   "cell_type": "code",
   "execution_count": 47,
   "metadata": {},
   "outputs": [
    {
     "output_type": "stream",
     "name": "stdout",
     "text": [
      "0.6725863739102357\n"
     ]
    }
   ],
   "source": [
    "print(sk.metrics.accuracy_score(y_validate, y_pred))"
   ]
  },
  {
   "cell_type": "code",
   "execution_count": 48,
   "metadata": {},
   "outputs": [
    {
     "output_type": "display_data",
     "data": {
      "text/plain": "<Figure size 432x288 with 1 Axes>",
      "image/svg+xml": "<?xml version=\"1.0\" encoding=\"utf-8\" standalone=\"no\"?>\r\n<!DOCTYPE svg PUBLIC \"-//W3C//DTD SVG 1.1//EN\"\r\n  \"http://www.w3.org/Graphics/SVG/1.1/DTD/svg11.dtd\">\r\n<!-- Created with matplotlib (https://matplotlib.org/) -->\r\n<svg height=\"277.314375pt\" version=\"1.1\" viewBox=\"0 0 385.78125 277.314375\" width=\"385.78125pt\" xmlns=\"http://www.w3.org/2000/svg\" xmlns:xlink=\"http://www.w3.org/1999/xlink\">\r\n <defs>\r\n  <style type=\"text/css\">\r\n*{stroke-linecap:butt;stroke-linejoin:round;}\r\n  </style>\r\n </defs>\r\n <g id=\"figure_1\">\r\n  <g id=\"patch_1\">\r\n   <path d=\"M 0 277.314375 \r\nL 385.78125 277.314375 \r\nL 385.78125 0 \r\nL 0 0 \r\nz\r\n\" style=\"fill:none;\"/>\r\n  </g>\r\n  <g id=\"axes_1\">\r\n   <g id=\"patch_2\">\r\n    <path d=\"M 43.78125 239.758125 \r\nL 378.58125 239.758125 \r\nL 378.58125 22.318125 \r\nL 43.78125 22.318125 \r\nz\r\n\" style=\"fill:#ffffff;\"/>\r\n   </g>\r\n   <g id=\"matplotlib.axis_1\">\r\n    <g id=\"xtick_1\">\r\n     <g id=\"line2d_1\">\r\n      <defs>\r\n       <path d=\"M 0 0 \r\nL 0 3.5 \r\n\" id=\"md08752c69d\" style=\"stroke:#000000;stroke-width:0.8;\"/>\r\n      </defs>\r\n      <g>\r\n       <use style=\"stroke:#000000;stroke-width:0.8;\" x=\"58.999432\" xlink:href=\"#md08752c69d\" y=\"239.758125\"/>\r\n      </g>\r\n     </g>\r\n     <g id=\"text_1\">\r\n      <!-- 0.0 -->\r\n      <defs>\r\n       <path d=\"M 31.78125 66.40625 \r\nQ 24.171875 66.40625 20.328125 58.90625 \r\nQ 16.5 51.421875 16.5 36.375 \r\nQ 16.5 21.390625 20.328125 13.890625 \r\nQ 24.171875 6.390625 31.78125 6.390625 \r\nQ 39.453125 6.390625 43.28125 13.890625 \r\nQ 47.125 21.390625 47.125 36.375 \r\nQ 47.125 51.421875 43.28125 58.90625 \r\nQ 39.453125 66.40625 31.78125 66.40625 \r\nz\r\nM 31.78125 74.21875 \r\nQ 44.046875 74.21875 50.515625 64.515625 \r\nQ 56.984375 54.828125 56.984375 36.375 \r\nQ 56.984375 17.96875 50.515625 8.265625 \r\nQ 44.046875 -1.421875 31.78125 -1.421875 \r\nQ 19.53125 -1.421875 13.0625 8.265625 \r\nQ 6.59375 17.96875 6.59375 36.375 \r\nQ 6.59375 54.828125 13.0625 64.515625 \r\nQ 19.53125 74.21875 31.78125 74.21875 \r\nz\r\n\" id=\"DejaVuSans-48\"/>\r\n       <path d=\"M 10.6875 12.40625 \r\nL 21 12.40625 \r\nL 21 0 \r\nL 10.6875 0 \r\nz\r\n\" id=\"DejaVuSans-46\"/>\r\n      </defs>\r\n      <g transform=\"translate(51.047869 254.356562)scale(0.1 -0.1)\">\r\n       <use xlink:href=\"#DejaVuSans-48\"/>\r\n       <use x=\"63.623047\" xlink:href=\"#DejaVuSans-46\"/>\r\n       <use x=\"95.410156\" xlink:href=\"#DejaVuSans-48\"/>\r\n      </g>\r\n     </g>\r\n    </g>\r\n    <g id=\"xtick_2\">\r\n     <g id=\"line2d_2\">\r\n      <g>\r\n       <use style=\"stroke:#000000;stroke-width:0.8;\" x=\"119.872159\" xlink:href=\"#md08752c69d\" y=\"239.758125\"/>\r\n      </g>\r\n     </g>\r\n     <g id=\"text_2\">\r\n      <!-- 0.2 -->\r\n      <defs>\r\n       <path d=\"M 19.1875 8.296875 \r\nL 53.609375 8.296875 \r\nL 53.609375 0 \r\nL 7.328125 0 \r\nL 7.328125 8.296875 \r\nQ 12.9375 14.109375 22.625 23.890625 \r\nQ 32.328125 33.6875 34.8125 36.53125 \r\nQ 39.546875 41.84375 41.421875 45.53125 \r\nQ 43.3125 49.21875 43.3125 52.78125 \r\nQ 43.3125 58.59375 39.234375 62.25 \r\nQ 35.15625 65.921875 28.609375 65.921875 \r\nQ 23.96875 65.921875 18.8125 64.3125 \r\nQ 13.671875 62.703125 7.8125 59.421875 \r\nL 7.8125 69.390625 \r\nQ 13.765625 71.78125 18.9375 73 \r\nQ 24.125 74.21875 28.421875 74.21875 \r\nQ 39.75 74.21875 46.484375 68.546875 \r\nQ 53.21875 62.890625 53.21875 53.421875 \r\nQ 53.21875 48.921875 51.53125 44.890625 \r\nQ 49.859375 40.875 45.40625 35.40625 \r\nQ 44.1875 33.984375 37.640625 27.21875 \r\nQ 31.109375 20.453125 19.1875 8.296875 \r\nz\r\n\" id=\"DejaVuSans-50\"/>\r\n      </defs>\r\n      <g transform=\"translate(111.920597 254.356562)scale(0.1 -0.1)\">\r\n       <use xlink:href=\"#DejaVuSans-48\"/>\r\n       <use x=\"63.623047\" xlink:href=\"#DejaVuSans-46\"/>\r\n       <use x=\"95.410156\" xlink:href=\"#DejaVuSans-50\"/>\r\n      </g>\r\n     </g>\r\n    </g>\r\n    <g id=\"xtick_3\">\r\n     <g id=\"line2d_3\">\r\n      <g>\r\n       <use style=\"stroke:#000000;stroke-width:0.8;\" x=\"180.744886\" xlink:href=\"#md08752c69d\" y=\"239.758125\"/>\r\n      </g>\r\n     </g>\r\n     <g id=\"text_3\">\r\n      <!-- 0.4 -->\r\n      <defs>\r\n       <path d=\"M 37.796875 64.3125 \r\nL 12.890625 25.390625 \r\nL 37.796875 25.390625 \r\nz\r\nM 35.203125 72.90625 \r\nL 47.609375 72.90625 \r\nL 47.609375 25.390625 \r\nL 58.015625 25.390625 \r\nL 58.015625 17.1875 \r\nL 47.609375 17.1875 \r\nL 47.609375 0 \r\nL 37.796875 0 \r\nL 37.796875 17.1875 \r\nL 4.890625 17.1875 \r\nL 4.890625 26.703125 \r\nz\r\n\" id=\"DejaVuSans-52\"/>\r\n      </defs>\r\n      <g transform=\"translate(172.793324 254.356562)scale(0.1 -0.1)\">\r\n       <use xlink:href=\"#DejaVuSans-48\"/>\r\n       <use x=\"63.623047\" xlink:href=\"#DejaVuSans-46\"/>\r\n       <use x=\"95.410156\" xlink:href=\"#DejaVuSans-52\"/>\r\n      </g>\r\n     </g>\r\n    </g>\r\n    <g id=\"xtick_4\">\r\n     <g id=\"line2d_4\">\r\n      <g>\r\n       <use style=\"stroke:#000000;stroke-width:0.8;\" x=\"241.617614\" xlink:href=\"#md08752c69d\" y=\"239.758125\"/>\r\n      </g>\r\n     </g>\r\n     <g id=\"text_4\">\r\n      <!-- 0.6 -->\r\n      <defs>\r\n       <path d=\"M 33.015625 40.375 \r\nQ 26.375 40.375 22.484375 35.828125 \r\nQ 18.609375 31.296875 18.609375 23.390625 \r\nQ 18.609375 15.53125 22.484375 10.953125 \r\nQ 26.375 6.390625 33.015625 6.390625 \r\nQ 39.65625 6.390625 43.53125 10.953125 \r\nQ 47.40625 15.53125 47.40625 23.390625 \r\nQ 47.40625 31.296875 43.53125 35.828125 \r\nQ 39.65625 40.375 33.015625 40.375 \r\nz\r\nM 52.59375 71.296875 \r\nL 52.59375 62.3125 \r\nQ 48.875 64.0625 45.09375 64.984375 \r\nQ 41.3125 65.921875 37.59375 65.921875 \r\nQ 27.828125 65.921875 22.671875 59.328125 \r\nQ 17.53125 52.734375 16.796875 39.40625 \r\nQ 19.671875 43.65625 24.015625 45.921875 \r\nQ 28.375 48.1875 33.59375 48.1875 \r\nQ 44.578125 48.1875 50.953125 41.515625 \r\nQ 57.328125 34.859375 57.328125 23.390625 \r\nQ 57.328125 12.15625 50.6875 5.359375 \r\nQ 44.046875 -1.421875 33.015625 -1.421875 \r\nQ 20.359375 -1.421875 13.671875 8.265625 \r\nQ 6.984375 17.96875 6.984375 36.375 \r\nQ 6.984375 53.65625 15.1875 63.9375 \r\nQ 23.390625 74.21875 37.203125 74.21875 \r\nQ 40.921875 74.21875 44.703125 73.484375 \r\nQ 48.484375 72.75 52.59375 71.296875 \r\nz\r\n\" id=\"DejaVuSans-54\"/>\r\n      </defs>\r\n      <g transform=\"translate(233.666051 254.356562)scale(0.1 -0.1)\">\r\n       <use xlink:href=\"#DejaVuSans-48\"/>\r\n       <use x=\"63.623047\" xlink:href=\"#DejaVuSans-46\"/>\r\n       <use x=\"95.410156\" xlink:href=\"#DejaVuSans-54\"/>\r\n      </g>\r\n     </g>\r\n    </g>\r\n    <g id=\"xtick_5\">\r\n     <g id=\"line2d_5\">\r\n      <g>\r\n       <use style=\"stroke:#000000;stroke-width:0.8;\" x=\"302.490341\" xlink:href=\"#md08752c69d\" y=\"239.758125\"/>\r\n      </g>\r\n     </g>\r\n     <g id=\"text_5\">\r\n      <!-- 0.8 -->\r\n      <defs>\r\n       <path d=\"M 31.78125 34.625 \r\nQ 24.75 34.625 20.71875 30.859375 \r\nQ 16.703125 27.09375 16.703125 20.515625 \r\nQ 16.703125 13.921875 20.71875 10.15625 \r\nQ 24.75 6.390625 31.78125 6.390625 \r\nQ 38.8125 6.390625 42.859375 10.171875 \r\nQ 46.921875 13.96875 46.921875 20.515625 \r\nQ 46.921875 27.09375 42.890625 30.859375 \r\nQ 38.875 34.625 31.78125 34.625 \r\nz\r\nM 21.921875 38.8125 \r\nQ 15.578125 40.375 12.03125 44.71875 \r\nQ 8.5 49.078125 8.5 55.328125 \r\nQ 8.5 64.0625 14.71875 69.140625 \r\nQ 20.953125 74.21875 31.78125 74.21875 \r\nQ 42.671875 74.21875 48.875 69.140625 \r\nQ 55.078125 64.0625 55.078125 55.328125 \r\nQ 55.078125 49.078125 51.53125 44.71875 \r\nQ 48 40.375 41.703125 38.8125 \r\nQ 48.828125 37.15625 52.796875 32.3125 \r\nQ 56.78125 27.484375 56.78125 20.515625 \r\nQ 56.78125 9.90625 50.3125 4.234375 \r\nQ 43.84375 -1.421875 31.78125 -1.421875 \r\nQ 19.734375 -1.421875 13.25 4.234375 \r\nQ 6.78125 9.90625 6.78125 20.515625 \r\nQ 6.78125 27.484375 10.78125 32.3125 \r\nQ 14.796875 37.15625 21.921875 38.8125 \r\nz\r\nM 18.3125 54.390625 \r\nQ 18.3125 48.734375 21.84375 45.5625 \r\nQ 25.390625 42.390625 31.78125 42.390625 \r\nQ 38.140625 42.390625 41.71875 45.5625 \r\nQ 45.3125 48.734375 45.3125 54.390625 \r\nQ 45.3125 60.0625 41.71875 63.234375 \r\nQ 38.140625 66.40625 31.78125 66.40625 \r\nQ 25.390625 66.40625 21.84375 63.234375 \r\nQ 18.3125 60.0625 18.3125 54.390625 \r\nz\r\n\" id=\"DejaVuSans-56\"/>\r\n      </defs>\r\n      <g transform=\"translate(294.538778 254.356562)scale(0.1 -0.1)\">\r\n       <use xlink:href=\"#DejaVuSans-48\"/>\r\n       <use x=\"63.623047\" xlink:href=\"#DejaVuSans-46\"/>\r\n       <use x=\"95.410156\" xlink:href=\"#DejaVuSans-56\"/>\r\n      </g>\r\n     </g>\r\n    </g>\r\n    <g id=\"xtick_6\">\r\n     <g id=\"line2d_6\">\r\n      <g>\r\n       <use style=\"stroke:#000000;stroke-width:0.8;\" x=\"363.363068\" xlink:href=\"#md08752c69d\" y=\"239.758125\"/>\r\n      </g>\r\n     </g>\r\n     <g id=\"text_6\">\r\n      <!-- 1.0 -->\r\n      <defs>\r\n       <path d=\"M 12.40625 8.296875 \r\nL 28.515625 8.296875 \r\nL 28.515625 63.921875 \r\nL 10.984375 60.40625 \r\nL 10.984375 69.390625 \r\nL 28.421875 72.90625 \r\nL 38.28125 72.90625 \r\nL 38.28125 8.296875 \r\nL 54.390625 8.296875 \r\nL 54.390625 0 \r\nL 12.40625 0 \r\nz\r\n\" id=\"DejaVuSans-49\"/>\r\n      </defs>\r\n      <g transform=\"translate(355.411506 254.356562)scale(0.1 -0.1)\">\r\n       <use xlink:href=\"#DejaVuSans-49\"/>\r\n       <use x=\"63.623047\" xlink:href=\"#DejaVuSans-46\"/>\r\n       <use x=\"95.410156\" xlink:href=\"#DejaVuSans-48\"/>\r\n      </g>\r\n     </g>\r\n    </g>\r\n    <g id=\"text_7\">\r\n     <!-- False positive rate -->\r\n     <defs>\r\n      <path d=\"M 9.8125 72.90625 \r\nL 51.703125 72.90625 \r\nL 51.703125 64.59375 \r\nL 19.671875 64.59375 \r\nL 19.671875 43.109375 \r\nL 48.578125 43.109375 \r\nL 48.578125 34.8125 \r\nL 19.671875 34.8125 \r\nL 19.671875 0 \r\nL 9.8125 0 \r\nz\r\n\" id=\"DejaVuSans-70\"/>\r\n      <path d=\"M 34.28125 27.484375 \r\nQ 23.390625 27.484375 19.1875 25 \r\nQ 14.984375 22.515625 14.984375 16.5 \r\nQ 14.984375 11.71875 18.140625 8.90625 \r\nQ 21.296875 6.109375 26.703125 6.109375 \r\nQ 34.1875 6.109375 38.703125 11.40625 \r\nQ 43.21875 16.703125 43.21875 25.484375 \r\nL 43.21875 27.484375 \r\nz\r\nM 52.203125 31.203125 \r\nL 52.203125 0 \r\nL 43.21875 0 \r\nL 43.21875 8.296875 \r\nQ 40.140625 3.328125 35.546875 0.953125 \r\nQ 30.953125 -1.421875 24.3125 -1.421875 \r\nQ 15.921875 -1.421875 10.953125 3.296875 \r\nQ 6 8.015625 6 15.921875 \r\nQ 6 25.140625 12.171875 29.828125 \r\nQ 18.359375 34.515625 30.609375 34.515625 \r\nL 43.21875 34.515625 \r\nL 43.21875 35.40625 \r\nQ 43.21875 41.609375 39.140625 45 \r\nQ 35.0625 48.390625 27.6875 48.390625 \r\nQ 23 48.390625 18.546875 47.265625 \r\nQ 14.109375 46.140625 10.015625 43.890625 \r\nL 10.015625 52.203125 \r\nQ 14.9375 54.109375 19.578125 55.046875 \r\nQ 24.21875 56 28.609375 56 \r\nQ 40.484375 56 46.34375 49.84375 \r\nQ 52.203125 43.703125 52.203125 31.203125 \r\nz\r\n\" id=\"DejaVuSans-97\"/>\r\n      <path d=\"M 9.421875 75.984375 \r\nL 18.40625 75.984375 \r\nL 18.40625 0 \r\nL 9.421875 0 \r\nz\r\n\" id=\"DejaVuSans-108\"/>\r\n      <path d=\"M 44.28125 53.078125 \r\nL 44.28125 44.578125 \r\nQ 40.484375 46.53125 36.375 47.5 \r\nQ 32.28125 48.484375 27.875 48.484375 \r\nQ 21.1875 48.484375 17.84375 46.4375 \r\nQ 14.5 44.390625 14.5 40.28125 \r\nQ 14.5 37.15625 16.890625 35.375 \r\nQ 19.28125 33.59375 26.515625 31.984375 \r\nL 29.59375 31.296875 \r\nQ 39.15625 29.25 43.1875 25.515625 \r\nQ 47.21875 21.78125 47.21875 15.09375 \r\nQ 47.21875 7.46875 41.1875 3.015625 \r\nQ 35.15625 -1.421875 24.609375 -1.421875 \r\nQ 20.21875 -1.421875 15.453125 -0.5625 \r\nQ 10.6875 0.296875 5.421875 2 \r\nL 5.421875 11.28125 \r\nQ 10.40625 8.6875 15.234375 7.390625 \r\nQ 20.0625 6.109375 24.8125 6.109375 \r\nQ 31.15625 6.109375 34.5625 8.28125 \r\nQ 37.984375 10.453125 37.984375 14.40625 \r\nQ 37.984375 18.0625 35.515625 20.015625 \r\nQ 33.0625 21.96875 24.703125 23.78125 \r\nL 21.578125 24.515625 \r\nQ 13.234375 26.265625 9.515625 29.90625 \r\nQ 5.8125 33.546875 5.8125 39.890625 \r\nQ 5.8125 47.609375 11.28125 51.796875 \r\nQ 16.75 56 26.8125 56 \r\nQ 31.78125 56 36.171875 55.265625 \r\nQ 40.578125 54.546875 44.28125 53.078125 \r\nz\r\n\" id=\"DejaVuSans-115\"/>\r\n      <path d=\"M 56.203125 29.59375 \r\nL 56.203125 25.203125 \r\nL 14.890625 25.203125 \r\nQ 15.484375 15.921875 20.484375 11.0625 \r\nQ 25.484375 6.203125 34.421875 6.203125 \r\nQ 39.59375 6.203125 44.453125 7.46875 \r\nQ 49.3125 8.734375 54.109375 11.28125 \r\nL 54.109375 2.78125 \r\nQ 49.265625 0.734375 44.1875 -0.34375 \r\nQ 39.109375 -1.421875 33.890625 -1.421875 \r\nQ 20.796875 -1.421875 13.15625 6.1875 \r\nQ 5.515625 13.8125 5.515625 26.8125 \r\nQ 5.515625 40.234375 12.765625 48.109375 \r\nQ 20.015625 56 32.328125 56 \r\nQ 43.359375 56 49.78125 48.890625 \r\nQ 56.203125 41.796875 56.203125 29.59375 \r\nz\r\nM 47.21875 32.234375 \r\nQ 47.125 39.59375 43.09375 43.984375 \r\nQ 39.0625 48.390625 32.421875 48.390625 \r\nQ 24.90625 48.390625 20.390625 44.140625 \r\nQ 15.875 39.890625 15.1875 32.171875 \r\nz\r\n\" id=\"DejaVuSans-101\"/>\r\n      <path id=\"DejaVuSans-32\"/>\r\n      <path d=\"M 18.109375 8.203125 \r\nL 18.109375 -20.796875 \r\nL 9.078125 -20.796875 \r\nL 9.078125 54.6875 \r\nL 18.109375 54.6875 \r\nL 18.109375 46.390625 \r\nQ 20.953125 51.265625 25.265625 53.625 \r\nQ 29.59375 56 35.59375 56 \r\nQ 45.5625 56 51.78125 48.09375 \r\nQ 58.015625 40.1875 58.015625 27.296875 \r\nQ 58.015625 14.40625 51.78125 6.484375 \r\nQ 45.5625 -1.421875 35.59375 -1.421875 \r\nQ 29.59375 -1.421875 25.265625 0.953125 \r\nQ 20.953125 3.328125 18.109375 8.203125 \r\nz\r\nM 48.6875 27.296875 \r\nQ 48.6875 37.203125 44.609375 42.84375 \r\nQ 40.53125 48.484375 33.40625 48.484375 \r\nQ 26.265625 48.484375 22.1875 42.84375 \r\nQ 18.109375 37.203125 18.109375 27.296875 \r\nQ 18.109375 17.390625 22.1875 11.75 \r\nQ 26.265625 6.109375 33.40625 6.109375 \r\nQ 40.53125 6.109375 44.609375 11.75 \r\nQ 48.6875 17.390625 48.6875 27.296875 \r\nz\r\n\" id=\"DejaVuSans-112\"/>\r\n      <path d=\"M 30.609375 48.390625 \r\nQ 23.390625 48.390625 19.1875 42.75 \r\nQ 14.984375 37.109375 14.984375 27.296875 \r\nQ 14.984375 17.484375 19.15625 11.84375 \r\nQ 23.34375 6.203125 30.609375 6.203125 \r\nQ 37.796875 6.203125 41.984375 11.859375 \r\nQ 46.1875 17.53125 46.1875 27.296875 \r\nQ 46.1875 37.015625 41.984375 42.703125 \r\nQ 37.796875 48.390625 30.609375 48.390625 \r\nz\r\nM 30.609375 56 \r\nQ 42.328125 56 49.015625 48.375 \r\nQ 55.71875 40.765625 55.71875 27.296875 \r\nQ 55.71875 13.875 49.015625 6.21875 \r\nQ 42.328125 -1.421875 30.609375 -1.421875 \r\nQ 18.84375 -1.421875 12.171875 6.21875 \r\nQ 5.515625 13.875 5.515625 27.296875 \r\nQ 5.515625 40.765625 12.171875 48.375 \r\nQ 18.84375 56 30.609375 56 \r\nz\r\n\" id=\"DejaVuSans-111\"/>\r\n      <path d=\"M 9.421875 54.6875 \r\nL 18.40625 54.6875 \r\nL 18.40625 0 \r\nL 9.421875 0 \r\nz\r\nM 9.421875 75.984375 \r\nL 18.40625 75.984375 \r\nL 18.40625 64.59375 \r\nL 9.421875 64.59375 \r\nz\r\n\" id=\"DejaVuSans-105\"/>\r\n      <path d=\"M 18.3125 70.21875 \r\nL 18.3125 54.6875 \r\nL 36.8125 54.6875 \r\nL 36.8125 47.703125 \r\nL 18.3125 47.703125 \r\nL 18.3125 18.015625 \r\nQ 18.3125 11.328125 20.140625 9.421875 \r\nQ 21.96875 7.515625 27.59375 7.515625 \r\nL 36.8125 7.515625 \r\nL 36.8125 0 \r\nL 27.59375 0 \r\nQ 17.1875 0 13.234375 3.875 \r\nQ 9.28125 7.765625 9.28125 18.015625 \r\nL 9.28125 47.703125 \r\nL 2.6875 47.703125 \r\nL 2.6875 54.6875 \r\nL 9.28125 54.6875 \r\nL 9.28125 70.21875 \r\nz\r\n\" id=\"DejaVuSans-116\"/>\r\n      <path d=\"M 2.984375 54.6875 \r\nL 12.5 54.6875 \r\nL 29.59375 8.796875 \r\nL 46.6875 54.6875 \r\nL 56.203125 54.6875 \r\nL 35.6875 0 \r\nL 23.484375 0 \r\nz\r\n\" id=\"DejaVuSans-118\"/>\r\n      <path d=\"M 41.109375 46.296875 \r\nQ 39.59375 47.171875 37.8125 47.578125 \r\nQ 36.03125 48 33.890625 48 \r\nQ 26.265625 48 22.1875 43.046875 \r\nQ 18.109375 38.09375 18.109375 28.8125 \r\nL 18.109375 0 \r\nL 9.078125 0 \r\nL 9.078125 54.6875 \r\nL 18.109375 54.6875 \r\nL 18.109375 46.1875 \r\nQ 20.953125 51.171875 25.484375 53.578125 \r\nQ 30.03125 56 36.53125 56 \r\nQ 37.453125 56 38.578125 55.875 \r\nQ 39.703125 55.765625 41.0625 55.515625 \r\nz\r\n\" id=\"DejaVuSans-114\"/>\r\n     </defs>\r\n     <g transform=\"translate(165.680469 268.034687)scale(0.1 -0.1)\">\r\n      <use xlink:href=\"#DejaVuSans-70\"/>\r\n      <use x=\"48.394531\" xlink:href=\"#DejaVuSans-97\"/>\r\n      <use x=\"109.673828\" xlink:href=\"#DejaVuSans-108\"/>\r\n      <use x=\"137.457031\" xlink:href=\"#DejaVuSans-115\"/>\r\n      <use x=\"189.556641\" xlink:href=\"#DejaVuSans-101\"/>\r\n      <use x=\"251.080078\" xlink:href=\"#DejaVuSans-32\"/>\r\n      <use x=\"282.867188\" xlink:href=\"#DejaVuSans-112\"/>\r\n      <use x=\"346.34375\" xlink:href=\"#DejaVuSans-111\"/>\r\n      <use x=\"407.525391\" xlink:href=\"#DejaVuSans-115\"/>\r\n      <use x=\"459.625\" xlink:href=\"#DejaVuSans-105\"/>\r\n      <use x=\"487.408203\" xlink:href=\"#DejaVuSans-116\"/>\r\n      <use x=\"526.617188\" xlink:href=\"#DejaVuSans-105\"/>\r\n      <use x=\"554.400391\" xlink:href=\"#DejaVuSans-118\"/>\r\n      <use x=\"613.580078\" xlink:href=\"#DejaVuSans-101\"/>\r\n      <use x=\"675.103516\" xlink:href=\"#DejaVuSans-32\"/>\r\n      <use x=\"706.890625\" xlink:href=\"#DejaVuSans-114\"/>\r\n      <use x=\"748.003906\" xlink:href=\"#DejaVuSans-97\"/>\r\n      <use x=\"809.283203\" xlink:href=\"#DejaVuSans-116\"/>\r\n      <use x=\"848.492188\" xlink:href=\"#DejaVuSans-101\"/>\r\n     </g>\r\n    </g>\r\n   </g>\r\n   <g id=\"matplotlib.axis_2\">\r\n    <g id=\"ytick_1\">\r\n     <g id=\"line2d_7\">\r\n      <defs>\r\n       <path d=\"M 0 0 \r\nL -3.5 0 \r\n\" id=\"mfd1bc5742e\" style=\"stroke:#000000;stroke-width:0.8;\"/>\r\n      </defs>\r\n      <g>\r\n       <use style=\"stroke:#000000;stroke-width:0.8;\" x=\"43.78125\" xlink:href=\"#mfd1bc5742e\" y=\"229.874489\"/>\r\n      </g>\r\n     </g>\r\n     <g id=\"text_8\">\r\n      <!-- 0.0 -->\r\n      <g transform=\"translate(20.878125 233.673707)scale(0.1 -0.1)\">\r\n       <use xlink:href=\"#DejaVuSans-48\"/>\r\n       <use x=\"63.623047\" xlink:href=\"#DejaVuSans-46\"/>\r\n       <use x=\"95.410156\" xlink:href=\"#DejaVuSans-48\"/>\r\n      </g>\r\n     </g>\r\n    </g>\r\n    <g id=\"ytick_2\">\r\n     <g id=\"line2d_8\">\r\n      <g>\r\n       <use style=\"stroke:#000000;stroke-width:0.8;\" x=\"43.78125\" xlink:href=\"#mfd1bc5742e\" y=\"190.339943\"/>\r\n      </g>\r\n     </g>\r\n     <g id=\"text_9\">\r\n      <!-- 0.2 -->\r\n      <g transform=\"translate(20.878125 194.139162)scale(0.1 -0.1)\">\r\n       <use xlink:href=\"#DejaVuSans-48\"/>\r\n       <use x=\"63.623047\" xlink:href=\"#DejaVuSans-46\"/>\r\n       <use x=\"95.410156\" xlink:href=\"#DejaVuSans-50\"/>\r\n      </g>\r\n     </g>\r\n    </g>\r\n    <g id=\"ytick_3\">\r\n     <g id=\"line2d_9\">\r\n      <g>\r\n       <use style=\"stroke:#000000;stroke-width:0.8;\" x=\"43.78125\" xlink:href=\"#mfd1bc5742e\" y=\"150.805398\"/>\r\n      </g>\r\n     </g>\r\n     <g id=\"text_10\">\r\n      <!-- 0.4 -->\r\n      <g transform=\"translate(20.878125 154.604616)scale(0.1 -0.1)\">\r\n       <use xlink:href=\"#DejaVuSans-48\"/>\r\n       <use x=\"63.623047\" xlink:href=\"#DejaVuSans-46\"/>\r\n       <use x=\"95.410156\" xlink:href=\"#DejaVuSans-52\"/>\r\n      </g>\r\n     </g>\r\n    </g>\r\n    <g id=\"ytick_4\">\r\n     <g id=\"line2d_10\">\r\n      <g>\r\n       <use style=\"stroke:#000000;stroke-width:0.8;\" x=\"43.78125\" xlink:href=\"#mfd1bc5742e\" y=\"111.270852\"/>\r\n      </g>\r\n     </g>\r\n     <g id=\"text_11\">\r\n      <!-- 0.6 -->\r\n      <g transform=\"translate(20.878125 115.070071)scale(0.1 -0.1)\">\r\n       <use xlink:href=\"#DejaVuSans-48\"/>\r\n       <use x=\"63.623047\" xlink:href=\"#DejaVuSans-46\"/>\r\n       <use x=\"95.410156\" xlink:href=\"#DejaVuSans-54\"/>\r\n      </g>\r\n     </g>\r\n    </g>\r\n    <g id=\"ytick_5\">\r\n     <g id=\"line2d_11\">\r\n      <g>\r\n       <use style=\"stroke:#000000;stroke-width:0.8;\" x=\"43.78125\" xlink:href=\"#mfd1bc5742e\" y=\"71.736307\"/>\r\n      </g>\r\n     </g>\r\n     <g id=\"text_12\">\r\n      <!-- 0.8 -->\r\n      <g transform=\"translate(20.878125 75.535526)scale(0.1 -0.1)\">\r\n       <use xlink:href=\"#DejaVuSans-48\"/>\r\n       <use x=\"63.623047\" xlink:href=\"#DejaVuSans-46\"/>\r\n       <use x=\"95.410156\" xlink:href=\"#DejaVuSans-56\"/>\r\n      </g>\r\n     </g>\r\n    </g>\r\n    <g id=\"ytick_6\">\r\n     <g id=\"line2d_12\">\r\n      <g>\r\n       <use style=\"stroke:#000000;stroke-width:0.8;\" x=\"43.78125\" xlink:href=\"#mfd1bc5742e\" y=\"32.201761\"/>\r\n      </g>\r\n     </g>\r\n     <g id=\"text_13\">\r\n      <!-- 1.0 -->\r\n      <g transform=\"translate(20.878125 36.00098)scale(0.1 -0.1)\">\r\n       <use xlink:href=\"#DejaVuSans-49\"/>\r\n       <use x=\"63.623047\" xlink:href=\"#DejaVuSans-46\"/>\r\n       <use x=\"95.410156\" xlink:href=\"#DejaVuSans-48\"/>\r\n      </g>\r\n     </g>\r\n    </g>\r\n    <g id=\"text_14\">\r\n     <!-- True positive rate -->\r\n     <defs>\r\n      <path d=\"M -0.296875 72.90625 \r\nL 61.375 72.90625 \r\nL 61.375 64.59375 \r\nL 35.5 64.59375 \r\nL 35.5 0 \r\nL 25.59375 0 \r\nL 25.59375 64.59375 \r\nL -0.296875 64.59375 \r\nz\r\n\" id=\"DejaVuSans-84\"/>\r\n      <path d=\"M 8.5 21.578125 \r\nL 8.5 54.6875 \r\nL 17.484375 54.6875 \r\nL 17.484375 21.921875 \r\nQ 17.484375 14.15625 20.5 10.265625 \r\nQ 23.53125 6.390625 29.59375 6.390625 \r\nQ 36.859375 6.390625 41.078125 11.03125 \r\nQ 45.3125 15.671875 45.3125 23.6875 \r\nL 45.3125 54.6875 \r\nL 54.296875 54.6875 \r\nL 54.296875 0 \r\nL 45.3125 0 \r\nL 45.3125 8.40625 \r\nQ 42.046875 3.421875 37.71875 1 \r\nQ 33.40625 -1.421875 27.6875 -1.421875 \r\nQ 18.265625 -1.421875 13.375 4.4375 \r\nQ 8.5 10.296875 8.5 21.578125 \r\nz\r\nM 31.109375 56 \r\nz\r\n\" id=\"DejaVuSans-117\"/>\r\n     </defs>\r\n     <g transform=\"translate(14.798438 174.602187)rotate(-90)scale(0.1 -0.1)\">\r\n      <use xlink:href=\"#DejaVuSans-84\"/>\r\n      <use x=\"46.333984\" xlink:href=\"#DejaVuSans-114\"/>\r\n      <use x=\"87.447266\" xlink:href=\"#DejaVuSans-117\"/>\r\n      <use x=\"150.826172\" xlink:href=\"#DejaVuSans-101\"/>\r\n      <use x=\"212.349609\" xlink:href=\"#DejaVuSans-32\"/>\r\n      <use x=\"244.136719\" xlink:href=\"#DejaVuSans-112\"/>\r\n      <use x=\"307.613281\" xlink:href=\"#DejaVuSans-111\"/>\r\n      <use x=\"368.794922\" xlink:href=\"#DejaVuSans-115\"/>\r\n      <use x=\"420.894531\" xlink:href=\"#DejaVuSans-105\"/>\r\n      <use x=\"448.677734\" xlink:href=\"#DejaVuSans-116\"/>\r\n      <use x=\"487.886719\" xlink:href=\"#DejaVuSans-105\"/>\r\n      <use x=\"515.669922\" xlink:href=\"#DejaVuSans-118\"/>\r\n      <use x=\"574.849609\" xlink:href=\"#DejaVuSans-101\"/>\r\n      <use x=\"636.373047\" xlink:href=\"#DejaVuSans-32\"/>\r\n      <use x=\"668.160156\" xlink:href=\"#DejaVuSans-114\"/>\r\n      <use x=\"709.273438\" xlink:href=\"#DejaVuSans-97\"/>\r\n      <use x=\"770.552734\" xlink:href=\"#DejaVuSans-116\"/>\r\n      <use x=\"809.761719\" xlink:href=\"#DejaVuSans-101\"/>\r\n     </g>\r\n    </g>\r\n   </g>\r\n   <g id=\"line2d_13\">\r\n    <path clip-path=\"url(#pc0e9509783)\" d=\"M 58.999432 229.874489 \r\nL 363.363068 32.201761 \r\n\" style=\"fill:none;stroke:#000000;stroke-dasharray:5.55,2.4;stroke-dashoffset:0;stroke-width:1.5;\"/>\r\n   </g>\r\n   <g id=\"line2d_14\">\r\n    <path clip-path=\"url(#pc0e9509783)\" d=\"M 58.999432 229.874489 \r\nL 59.875719 229.874489 \r\nL 59.875719 228.703673 \r\nL 60.021766 228.703673 \r\nL 60.021766 228.118265 \r\nL 60.313862 228.118265 \r\nL 60.313862 227.727993 \r\nL 60.45991 227.727993 \r\nL 60.45991 227.532857 \r\nL 60.898053 227.532857 \r\nL 60.898053 227.142585 \r\nL 61.044101 227.142585 \r\nL 61.044101 226.947449 \r\nL 61.482245 226.947449 \r\nL 61.482245 226.752313 \r\nL 61.77434 226.752313 \r\nL 61.77434 226.362041 \r\nL 62.066436 226.362041 \r\nL 62.066436 225.971769 \r\nL 62.212484 225.971769 \r\nL 62.212484 225.776633 \r\nL 62.796675 225.776633 \r\nL 62.796675 224.800954 \r\nL 63.380866 224.800954 \r\nL 63.380866 224.605818 \r\nL 63.672962 224.605818 \r\nL 63.672962 224.410682 \r\nL 64.841344 224.410682 \r\nL 64.841344 224.215546 \r\nL 64.987392 224.215546 \r\nL 64.987392 224.02041 \r\nL 66.44787 224.02041 \r\nL 66.44787 223.825274 \r\nL 67.178109 223.825274 \r\nL 67.178109 223.239866 \r\nL 69.660922 223.239866 \r\nL 69.660922 222.849594 \r\nL 70.245113 222.849594 \r\nL 70.245113 222.654458 \r\nL 70.683257 222.654458 \r\nL 70.683257 222.459322 \r\nL 70.975352 222.459322 \r\nL 70.975352 222.264186 \r\nL 71.1214 222.264186 \r\nL 71.1214 222.06905 \r\nL 72.581878 222.06905 \r\nL 72.581878 221.678778 \r\nL 73.604213 221.678778 \r\nL 73.604213 221.288506 \r\nL 74.772595 221.288506 \r\nL 74.772595 221.09337 \r\nL 75.648882 221.09337 \r\nL 75.648882 220.703099 \r\nL 75.79493 220.703099 \r\nL 75.79493 220.312827 \r\nL 76.233073 220.312827 \r\nL 76.233073 220.117691 \r\nL 76.671217 220.117691 \r\nL 76.671217 219.922555 \r\nL 77.10936 219.922555 \r\nL 77.10936 219.727419 \r\nL 77.255408 219.727419 \r\nL 77.255408 219.532283 \r\nL 77.401456 219.532283 \r\nL 77.401456 219.142011 \r\nL 77.693552 219.142011 \r\nL 77.693552 218.751739 \r\nL 77.985647 218.751739 \r\nL 77.985647 218.361467 \r\nL 78.131695 218.361467 \r\nL 78.131695 217.971195 \r\nL 78.277743 217.971195 \r\nL 78.277743 217.776059 \r\nL 78.569838 217.776059 \r\nL 78.569838 217.385787 \r\nL 78.715886 217.385787 \r\nL 78.715886 217.190651 \r\nL 79.446125 217.190651 \r\nL 79.446125 216.995515 \r\nL 79.592173 216.995515 \r\nL 79.592173 216.800379 \r\nL 79.738221 216.800379 \r\nL 79.738221 216.410107 \r\nL 80.030316 216.410107 \r\nL 80.030316 216.214971 \r\nL 80.322412 216.214971 \r\nL 80.322412 216.019835 \r\nL 81.052651 216.019835 \r\nL 81.052651 215.8247 \r\nL 81.198699 215.8247 \r\nL 81.198699 215.434428 \r\nL 81.344747 215.434428 \r\nL 81.344747 215.044156 \r\nL 81.636842 215.044156 \r\nL 81.636842 214.84902 \r\nL 82.805225 214.84902 \r\nL 82.805225 214.653884 \r\nL 83.09732 214.653884 \r\nL 83.09732 214.458748 \r\nL 83.243368 214.458748 \r\nL 83.243368 214.263612 \r\nL 83.82756 214.263612 \r\nL 83.82756 214.068476 \r\nL 84.119655 214.068476 \r\nL 84.119655 213.678204 \r\nL 84.557799 213.678204 \r\nL 84.557799 213.483068 \r\nL 84.849894 213.483068 \r\nL 84.849894 213.287932 \r\nL 85.288038 213.287932 \r\nL 85.288038 213.092796 \r\nL 85.872229 213.092796 \r\nL 85.872229 212.507388 \r\nL 86.748516 212.507388 \r\nL 86.748516 212.117116 \r\nL 87.040611 212.117116 \r\nL 87.040611 211.92198 \r\nL 87.332707 211.92198 \r\nL 87.332707 211.531708 \r\nL 87.916898 211.531708 \r\nL 87.916898 211.141436 \r\nL 88.355042 211.141436 \r\nL 88.355042 210.946301 \r\nL 88.501089 210.946301 \r\nL 88.501089 210.751165 \r\nL 88.647137 210.751165 \r\nL 88.647137 210.556029 \r\nL 89.523424 210.556029 \r\nL 89.523424 210.360893 \r\nL 89.669472 210.360893 \r\nL 89.669472 210.165757 \r\nL 89.961568 210.165757 \r\nL 89.961568 209.970621 \r\nL 90.107615 209.970621 \r\nL 90.107615 209.775485 \r\nL 90.837854 209.775485 \r\nL 90.837854 209.580349 \r\nL 91.422046 209.580349 \r\nL 91.422046 209.385213 \r\nL 92.44438 209.385213 \r\nL 92.44438 209.190077 \r\nL 92.590428 209.190077 \r\nL 92.590428 208.019261 \r\nL 92.736476 208.019261 \r\nL 92.736476 207.433853 \r\nL 93.466715 207.433853 \r\nL 93.466715 207.238717 \r\nL 93.758811 207.238717 \r\nL 93.758811 207.043581 \r\nL 93.904858 207.043581 \r\nL 93.904858 206.848445 \r\nL 94.050906 206.848445 \r\nL 94.050906 206.458173 \r\nL 94.196954 206.458173 \r\nL 94.196954 206.263038 \r\nL 94.48905 206.263038 \r\nL 94.48905 206.067902 \r\nL 95.365337 206.067902 \r\nL 95.365337 205.872766 \r\nL 96.095576 205.872766 \r\nL 96.095576 205.67763 \r\nL 96.533719 205.67763 \r\nL 96.533719 205.287358 \r\nL 97.263958 205.287358 \r\nL 97.263958 205.092222 \r\nL 97.848149 205.092222 \r\nL 97.848149 204.897086 \r\nL 98.724436 204.897086 \r\nL 98.724436 204.70195 \r\nL 98.870484 204.70195 \r\nL 98.870484 204.116542 \r\nL 99.016532 204.116542 \r\nL 99.016532 203.921406 \r\nL 99.746771 203.921406 \r\nL 99.746771 203.531134 \r\nL 100.47701 203.531134 \r\nL 100.47701 203.140862 \r\nL 100.623058 203.140862 \r\nL 100.623058 202.75059 \r\nL 101.353297 202.75059 \r\nL 101.353297 202.360318 \r\nL 101.499345 202.360318 \r\nL 101.499345 201.970046 \r\nL 101.645392 201.970046 \r\nL 101.645392 201.77491 \r\nL 101.937488 201.77491 \r\nL 101.937488 201.384639 \r\nL 102.959823 201.384639 \r\nL 102.959823 201.189503 \r\nL 103.251918 201.189503 \r\nL 103.251918 200.994367 \r\nL 104.274253 200.994367 \r\nL 104.274253 200.799231 \r\nL 104.712396 200.799231 \r\nL 104.712396 200.408959 \r\nL 105.004492 200.408959 \r\nL 105.004492 200.213823 \r\nL 105.15054 200.213823 \r\nL 105.15054 200.018687 \r\nL 106.026827 200.018687 \r\nL 106.026827 199.823551 \r\nL 106.46497 199.823551 \r\nL 106.46497 199.628415 \r\nL 106.611018 199.628415 \r\nL 106.611018 199.433279 \r\nL 106.903114 199.433279 \r\nL 106.903114 199.238143 \r\nL 107.195209 199.238143 \r\nL 107.195209 199.043007 \r\nL 107.633353 199.043007 \r\nL 107.633353 198.652735 \r\nL 108.655687 198.652735 \r\nL 108.655687 198.262463 \r\nL 109.82407 198.262463 \r\nL 109.82407 197.677055 \r\nL 110.116165 197.677055 \r\nL 110.116165 197.481919 \r\nL 110.262213 197.481919 \r\nL 110.262213 196.701375 \r\nL 110.408261 196.701375 \r\nL 110.408261 196.311104 \r\nL 110.554309 196.311104 \r\nL 110.554309 195.920832 \r\nL 110.700357 195.920832 \r\nL 110.700357 195.725696 \r\nL 111.1385 195.725696 \r\nL 111.1385 195.335424 \r\nL 111.722691 195.335424 \r\nL 111.722691 195.140288 \r\nL 113.037122 195.140288 \r\nL 113.037122 194.945152 \r\nL 113.329217 194.945152 \r\nL 113.329217 194.359744 \r\nL 113.913408 194.359744 \r\nL 113.913408 194.164608 \r\nL 114.059456 194.164608 \r\nL 114.059456 193.774336 \r\nL 114.643647 193.774336 \r\nL 114.643647 193.188928 \r\nL 114.789695 193.188928 \r\nL 114.789695 192.993792 \r\nL 115.081791 192.993792 \r\nL 115.081791 192.408384 \r\nL 115.373887 192.408384 \r\nL 115.373887 192.213248 \r\nL 115.665982 192.213248 \r\nL 115.665982 192.018112 \r\nL 115.958078 192.018112 \r\nL 115.958078 191.822976 \r\nL 116.104126 191.822976 \r\nL 116.104126 191.627841 \r\nL 116.250173 191.627841 \r\nL 116.250173 191.432705 \r\nL 116.542269 191.432705 \r\nL 116.542269 191.237569 \r\nL 116.980412 191.237569 \r\nL 116.980412 190.847297 \r\nL 117.710652 190.847297 \r\nL 117.710652 190.652161 \r\nL 117.856699 190.652161 \r\nL 117.856699 190.457025 \r\nL 118.002747 190.457025 \r\nL 118.002747 190.261889 \r\nL 118.294843 190.261889 \r\nL 118.294843 189.871617 \r\nL 118.732986 189.871617 \r\nL 118.732986 189.676481 \r\nL 118.879034 189.676481 \r\nL 118.879034 189.481345 \r\nL 119.17113 189.481345 \r\nL 119.17113 189.286209 \r\nL 119.755321 189.286209 \r\nL 119.755321 189.091073 \r\nL 119.901369 189.091073 \r\nL 119.901369 188.115393 \r\nL 121.653942 188.115393 \r\nL 121.653942 187.725121 \r\nL 122.530229 187.725121 \r\nL 122.530229 187.529985 \r\nL 123.260468 187.529985 \r\nL 123.260468 187.334849 \r\nL 123.990707 187.334849 \r\nL 123.990707 187.139713 \r\nL 124.428851 187.139713 \r\nL 124.428851 186.35917 \r\nL 125.013042 186.35917 \r\nL 125.013042 186.164034 \r\nL 125.451185 186.164034 \r\nL 125.451185 185.968898 \r\nL 126.765616 185.968898 \r\nL 126.765616 185.773762 \r\nL 127.057711 185.773762 \r\nL 127.057711 185.578626 \r\nL 127.641903 185.578626 \r\nL 127.641903 185.38349 \r\nL 127.78795 185.38349 \r\nL 127.78795 184.602946 \r\nL 128.664237 184.602946 \r\nL 128.664237 184.40781 \r\nL 129.102381 184.40781 \r\nL 129.102381 183.822402 \r\nL 129.248429 183.822402 \r\nL 129.248429 183.627266 \r\nL 129.394476 183.627266 \r\nL 129.394476 183.43213 \r\nL 129.686572 183.43213 \r\nL 129.686572 183.041858 \r\nL 130.416811 183.041858 \r\nL 130.416811 182.846722 \r\nL 130.562859 182.846722 \r\nL 130.562859 182.651586 \r\nL 130.708907 182.651586 \r\nL 130.708907 182.066178 \r\nL 131.731241 182.066178 \r\nL 131.731241 181.675907 \r\nL 132.169385 181.675907 \r\nL 132.169385 181.480771 \r\nL 132.315433 181.480771 \r\nL 132.315433 180.700227 \r\nL 133.191719 180.700227 \r\nL 133.191719 180.505091 \r\nL 133.337767 180.505091 \r\nL 133.337767 180.309955 \r\nL 134.652197 180.309955 \r\nL 134.652197 180.114819 \r\nL 134.944293 180.114819 \r\nL 134.944293 179.919683 \r\nL 135.236389 179.919683 \r\nL 135.236389 179.724547 \r\nL 135.528484 179.724547 \r\nL 135.528484 179.529411 \r\nL 135.674532 179.529411 \r\nL 135.674532 179.334275 \r\nL 136.258723 179.334275 \r\nL 136.258723 178.748867 \r\nL 136.550819 178.748867 \r\nL 136.550819 178.553731 \r\nL 137.719201 178.553731 \r\nL 137.719201 178.358595 \r\nL 137.865249 178.358595 \r\nL 137.865249 178.163459 \r\nL 138.449441 178.163459 \r\nL 138.449441 177.773187 \r\nL 139.033632 177.773187 \r\nL 139.033632 177.578051 \r\nL 139.17968 177.578051 \r\nL 139.17968 176.992644 \r\nL 140.348062 176.992644 \r\nL 140.348062 176.797508 \r\nL 140.786206 176.797508 \r\nL 140.786206 176.602372 \r\nL 141.224349 176.602372 \r\nL 141.224349 176.407236 \r\nL 141.954588 176.407236 \r\nL 141.954588 176.2121 \r\nL 142.392731 176.2121 \r\nL 142.392731 176.016964 \r\nL 142.538779 176.016964 \r\nL 142.538779 175.821828 \r\nL 142.684827 175.821828 \r\nL 142.684827 175.626692 \r\nL 142.976923 175.626692 \r\nL 142.976923 175.431556 \r\nL 143.12297 175.431556 \r\nL 143.12297 175.23642 \r\nL 143.269018 175.23642 \r\nL 143.269018 175.041284 \r\nL 143.561114 175.041284 \r\nL 143.561114 174.846148 \r\nL 143.999257 174.846148 \r\nL 143.999257 174.651012 \r\nL 144.291353 174.651012 \r\nL 144.291353 174.26074 \r\nL 144.437401 174.26074 \r\nL 144.437401 174.065604 \r\nL 144.583449 174.065604 \r\nL 144.583449 173.870468 \r\nL 144.729496 173.870468 \r\nL 144.729496 173.28506 \r\nL 145.459735 173.28506 \r\nL 145.459735 172.894788 \r\nL 145.751831 172.894788 \r\nL 145.751831 172.504516 \r\nL 145.897879 172.504516 \r\nL 145.897879 172.114245 \r\nL 146.043927 172.114245 \r\nL 146.043927 171.919109 \r\nL 146.336022 171.919109 \r\nL 146.336022 171.723973 \r\nL 146.48207 171.723973 \r\nL 146.48207 171.528837 \r\nL 146.774166 171.528837 \r\nL 146.774166 171.333701 \r\nL 146.920214 171.333701 \r\nL 146.920214 170.943429 \r\nL 147.066261 170.943429 \r\nL 147.066261 170.748293 \r\nL 147.504405 170.748293 \r\nL 147.504405 170.553157 \r\nL 147.650453 170.553157 \r\nL 147.650453 170.358021 \r\nL 147.942548 170.358021 \r\nL 147.942548 169.967749 \r\nL 148.380692 169.967749 \r\nL 148.380692 169.772613 \r\nL 148.526739 169.772613 \r\nL 148.526739 169.577477 \r\nL 148.672787 169.577477 \r\nL 148.672787 169.382341 \r\nL 149.256978 169.382341 \r\nL 149.256978 169.187205 \r\nL 149.403026 169.187205 \r\nL 149.403026 168.992069 \r\nL 149.549074 168.992069 \r\nL 149.549074 168.406661 \r\nL 149.987218 168.406661 \r\nL 149.987218 168.211525 \r\nL 150.133265 168.211525 \r\nL 150.133265 168.016389 \r\nL 150.425361 168.016389 \r\nL 150.425361 167.821253 \r\nL 150.571409 167.821253 \r\nL 150.571409 167.626117 \r\nL 151.009552 167.626117 \r\nL 151.009552 167.235846 \r\nL 151.1556 167.235846 \r\nL 151.1556 167.04071 \r\nL 151.301648 167.04071 \r\nL 151.301648 166.845574 \r\nL 152.031887 166.845574 \r\nL 152.031887 166.650438 \r\nL 152.47003 166.650438 \r\nL 152.47003 166.455302 \r\nL 152.762126 166.455302 \r\nL 152.762126 166.260166 \r\nL 153.200269 166.260166 \r\nL 153.200269 165.869894 \r\nL 153.638413 165.869894 \r\nL 153.638413 165.479622 \r\nL 155.244939 165.479622 \r\nL 155.244939 165.284486 \r\nL 156.559369 165.284486 \r\nL 156.559369 165.08935 \r\nL 156.705417 165.08935 \r\nL 156.705417 164.894214 \r\nL 156.851465 164.894214 \r\nL 156.851465 164.699078 \r\nL 156.997512 164.699078 \r\nL 156.997512 164.503942 \r\nL 157.14356 164.503942 \r\nL 157.14356 164.11367 \r\nL 158.165895 164.11367 \r\nL 158.165895 163.918534 \r\nL 158.750086 163.918534 \r\nL 158.750086 163.528262 \r\nL 159.626373 163.528262 \r\nL 159.626373 163.333126 \r\nL 159.918469 163.333126 \r\nL 159.918469 162.942854 \r\nL 160.356612 162.942854 \r\nL 160.356612 162.747718 \r\nL 160.50266 162.747718 \r\nL 160.50266 162.357447 \r\nL 160.648708 162.357447 \r\nL 160.648708 162.162311 \r\nL 162.255234 162.162311 \r\nL 162.255234 161.967175 \r\nL 162.985473 161.967175 \r\nL 162.985473 161.772039 \r\nL 163.13152 161.772039 \r\nL 163.13152 161.381767 \r\nL 163.86176 161.381767 \r\nL 163.86176 161.186631 \r\nL 164.153855 161.186631 \r\nL 164.153855 160.991495 \r\nL 165.030142 160.991495 \r\nL 165.030142 160.601223 \r\nL 165.322238 160.601223 \r\nL 165.322238 160.406087 \r\nL 165.760381 160.406087 \r\nL 165.760381 160.210951 \r\nL 166.052477 160.210951 \r\nL 166.052477 159.820679 \r\nL 167.074811 159.820679 \r\nL 167.074811 159.430407 \r\nL 167.366907 159.430407 \r\nL 167.366907 158.844999 \r\nL 167.80505 158.844999 \r\nL 167.80505 158.649863 \r\nL 168.973433 158.649863 \r\nL 168.973433 158.259591 \r\nL 169.119481 158.259591 \r\nL 169.119481 158.064455 \r\nL 169.265528 158.064455 \r\nL 169.265528 157.869319 \r\nL 169.411576 157.869319 \r\nL 169.411576 157.479048 \r\nL 169.557624 157.479048 \r\nL 169.557624 157.283912 \r\nL 169.703672 157.283912 \r\nL 169.703672 157.088776 \r\nL 169.84972 157.088776 \r\nL 169.84972 156.89364 \r\nL 169.995768 156.89364 \r\nL 169.995768 156.698504 \r\nL 170.141815 156.698504 \r\nL 170.141815 156.503368 \r\nL 170.287863 156.503368 \r\nL 170.287863 156.308232 \r\nL 171.16415 156.308232 \r\nL 171.16415 156.113096 \r\nL 172.040437 156.113096 \r\nL 172.040437 155.722824 \r\nL 172.624628 155.722824 \r\nL 172.624628 155.527688 \r\nL 173.208819 155.527688 \r\nL 173.208819 155.332552 \r\nL 173.354867 155.332552 \r\nL 173.354867 155.137416 \r\nL 174.52325 155.137416 \r\nL 174.52325 154.94228 \r\nL 174.669297 154.94228 \r\nL 174.669297 154.747144 \r\nL 175.253489 154.747144 \r\nL 175.253489 154.552008 \r\nL 175.83768 154.552008 \r\nL 175.83768 154.356872 \r\nL 176.275823 154.356872 \r\nL 176.275823 154.161736 \r\nL 177.590254 154.161736 \r\nL 177.590254 153.9666 \r\nL 178.758636 153.9666 \r\nL 178.758636 153.771464 \r\nL 179.050732 153.771464 \r\nL 179.050732 153.576328 \r\nL 179.19678 153.576328 \r\nL 179.19678 153.381192 \r\nL 179.927019 153.381192 \r\nL 179.927019 153.186056 \r\nL 180.51121 153.186056 \r\nL 180.51121 152.99092 \r\nL 181.241449 152.99092 \r\nL 181.241449 152.795785 \r\nL 181.387497 152.795785 \r\nL 181.387497 152.600649 \r\nL 182.117736 152.600649 \r\nL 182.117736 152.405513 \r\nL 182.263784 152.405513 \r\nL 182.263784 152.210377 \r\nL 183.432166 152.210377 \r\nL 183.432166 152.015241 \r\nL 183.87031 152.015241 \r\nL 183.87031 151.820105 \r\nL 184.454501 151.820105 \r\nL 184.454501 151.624969 \r\nL 184.600549 151.624969 \r\nL 184.600549 151.234697 \r\nL 184.892644 151.234697 \r\nL 184.892644 151.039561 \r\nL 186.49917 151.039561 \r\nL 186.49917 150.844425 \r\nL 186.645218 150.844425 \r\nL 186.645218 150.259017 \r\nL 186.791266 150.259017 \r\nL 186.791266 150.063881 \r\nL 186.937314 150.063881 \r\nL 186.937314 149.868745 \r\nL 187.083361 149.868745 \r\nL 187.083361 149.673609 \r\nL 187.229409 149.673609 \r\nL 187.229409 149.478473 \r\nL 187.959648 149.478473 \r\nL 187.959648 149.283337 \r\nL 188.835935 149.283337 \r\nL 188.835935 148.307657 \r\nL 189.128031 148.307657 \r\nL 189.128031 148.112521 \r\nL 189.274078 148.112521 \r\nL 189.274078 147.72225 \r\nL 189.420126 147.72225 \r\nL 189.420126 147.527114 \r\nL 190.004318 147.527114 \r\nL 190.004318 147.331978 \r\nL 190.150365 147.331978 \r\nL 190.150365 147.136842 \r\nL 190.734557 147.136842 \r\nL 190.734557 146.941706 \r\nL 190.880604 146.941706 \r\nL 190.880604 146.551434 \r\nL 191.756891 146.551434 \r\nL 191.756891 146.356298 \r\nL 192.195035 146.356298 \r\nL 192.195035 145.966026 \r\nL 192.341082 145.966026 \r\nL 192.341082 145.77089 \r\nL 192.633178 145.77089 \r\nL 192.633178 145.380618 \r\nL 194.093656 145.380618 \r\nL 194.093656 145.185482 \r\nL 194.385752 145.185482 \r\nL 194.385752 144.79521 \r\nL 195.115991 144.79521 \r\nL 195.115991 144.600074 \r\nL 195.408087 144.600074 \r\nL 195.408087 144.404938 \r\nL 196.138326 144.404938 \r\nL 196.138326 144.209802 \r\nL 196.722517 144.209802 \r\nL 196.722517 143.81953 \r\nL 197.014612 143.81953 \r\nL 197.014612 143.624394 \r\nL 198.475091 143.624394 \r\nL 198.475091 143.429258 \r\nL 199.497425 143.429258 \r\nL 199.497425 142.453579 \r\nL 199.643473 142.453579 \r\nL 199.643473 142.258443 \r\nL 199.789521 142.258443 \r\nL 199.789521 142.063307 \r\nL 200.081616 142.063307 \r\nL 200.081616 141.868171 \r\nL 200.227664 141.868171 \r\nL 200.227664 141.673035 \r\nL 200.373712 141.673035 \r\nL 200.373712 141.282763 \r\nL 200.811855 141.282763 \r\nL 200.811855 141.087627 \r\nL 201.249999 141.087627 \r\nL 201.249999 140.697355 \r\nL 201.980238 140.697355 \r\nL 201.980238 140.502219 \r\nL 202.272334 140.502219 \r\nL 202.272334 140.307083 \r\nL 202.418381 140.307083 \r\nL 202.418381 140.111947 \r\nL 204.463051 140.111947 \r\nL 204.463051 139.916811 \r\nL 205.047242 139.916811 \r\nL 205.047242 139.331403 \r\nL 205.777481 139.331403 \r\nL 205.777481 138.550859 \r\nL 206.799816 138.550859 \r\nL 206.799816 138.355723 \r\nL 207.091911 138.355723 \r\nL 207.091911 138.160588 \r\nL 207.968198 138.160588 \r\nL 207.968198 137.965452 \r\nL 208.114246 137.965452 \r\nL 208.114246 137.770316 \r\nL 208.552389 137.770316 \r\nL 208.552389 137.57518 \r\nL 208.990533 137.57518 \r\nL 208.990533 137.380044 \r\nL 209.136581 137.380044 \r\nL 209.136581 137.184908 \r\nL 209.428676 137.184908 \r\nL 209.428676 136.794636 \r\nL 210.743107 136.794636 \r\nL 210.743107 136.5995 \r\nL 211.473346 136.5995 \r\nL 211.473346 136.209228 \r\nL 212.349632 136.209228 \r\nL 212.349632 136.014092 \r\nL 212.49568 136.014092 \r\nL 212.49568 135.818956 \r\nL 213.079872 135.818956 \r\nL 213.079872 135.62382 \r\nL 213.518015 135.62382 \r\nL 213.518015 135.038412 \r\nL 213.664063 135.038412 \r\nL 213.664063 134.843276 \r\nL 214.394302 134.843276 \r\nL 214.394302 134.64814 \r\nL 214.832445 134.64814 \r\nL 214.832445 134.453004 \r\nL 215.124541 134.453004 \r\nL 215.124541 133.67246 \r\nL 215.270589 133.67246 \r\nL 215.270589 133.477324 \r\nL 216.731067 133.477324 \r\nL 216.731067 133.282189 \r\nL 217.461306 133.282189 \r\nL 217.461306 133.087053 \r\nL 217.753401 133.087053 \r\nL 217.753401 132.891917 \r\nL 218.337593 132.891917 \r\nL 218.337593 132.696781 \r\nL 219.798071 132.696781 \r\nL 219.798071 132.501645 \r\nL 219.944119 132.501645 \r\nL 219.944119 132.111373 \r\nL 220.236214 132.111373 \r\nL 220.236214 131.721101 \r\nL 220.966453 131.721101 \r\nL 220.966453 131.330829 \r\nL 222.134836 131.330829 \r\nL 222.134836 130.745421 \r\nL 223.303218 130.745421 \r\nL 223.303218 130.550285 \r\nL 223.595314 130.550285 \r\nL 223.595314 130.160013 \r\nL 223.741362 130.160013 \r\nL 223.741362 129.769741 \r\nL 224.471601 129.769741 \r\nL 224.471601 129.184333 \r\nL 224.617649 129.184333 \r\nL 224.617649 128.989197 \r\nL 224.909744 128.989197 \r\nL 224.909744 128.794061 \r\nL 225.786031 128.794061 \r\nL 225.786031 128.598926 \r\nL 225.932079 128.598926 \r\nL 225.932079 128.208654 \r\nL 226.078127 128.208654 \r\nL 226.078127 128.013518 \r\nL 226.370222 128.013518 \r\nL 226.370222 127.818382 \r\nL 226.662318 127.818382 \r\nL 226.662318 127.623246 \r\nL 226.808366 127.623246 \r\nL 226.808366 127.232974 \r\nL 227.246509 127.232974 \r\nL 227.246509 126.842702 \r\nL 227.684653 126.842702 \r\nL 227.684653 126.45243 \r\nL 227.976748 126.45243 \r\nL 227.976748 126.257294 \r\nL 228.414892 126.257294 \r\nL 228.414892 126.062158 \r\nL 228.706987 126.062158 \r\nL 228.706987 125.867022 \r\nL 229.291178 125.867022 \r\nL 229.291178 125.671886 \r\nL 229.729322 125.671886 \r\nL 229.729322 125.47675 \r\nL 230.313513 125.47675 \r\nL 230.313513 125.281614 \r\nL 230.605609 125.281614 \r\nL 230.605609 124.696206 \r\nL 230.751657 124.696206 \r\nL 230.751657 124.50107 \r\nL 231.043752 124.50107 \r\nL 231.043752 124.110798 \r\nL 231.1898 124.110798 \r\nL 231.1898 123.915662 \r\nL 231.335848 123.915662 \r\nL 231.335848 123.720527 \r\nL 232.796326 123.720527 \r\nL 232.796326 123.330255 \r\nL 234.5489 123.330255 \r\nL 234.5489 122.939983 \r\nL 235.279139 122.939983 \r\nL 235.279139 122.744847 \r\nL 236.301473 122.744847 \r\nL 236.301473 122.354575 \r\nL 236.447521 122.354575 \r\nL 236.447521 122.159439 \r\nL 237.615904 122.159439 \r\nL 237.615904 121.769167 \r\nL 237.761951 121.769167 \r\nL 237.761951 121.574031 \r\nL 238.930334 121.574031 \r\nL 238.930334 121.183759 \r\nL 239.076382 121.183759 \r\nL 239.076382 120.598351 \r\nL 239.22243 120.598351 \r\nL 239.22243 120.403215 \r\nL 239.368477 120.403215 \r\nL 239.368477 120.208079 \r\nL 239.806621 120.208079 \r\nL 239.806621 119.427535 \r\nL 240.682908 119.427535 \r\nL 240.682908 119.232399 \r\nL 240.975003 119.232399 \r\nL 240.975003 119.037263 \r\nL 242.289434 119.037263 \r\nL 242.289434 118.842128 \r\nL 243.16572 118.842128 \r\nL 243.16572 118.646992 \r\nL 243.603864 118.646992 \r\nL 243.603864 118.451856 \r\nL 244.626199 118.451856 \r\nL 244.626199 118.061584 \r\nL 244.772246 118.061584 \r\nL 244.772246 117.476176 \r\nL 245.648533 117.476176 \r\nL 245.648533 117.28104 \r\nL 246.086677 117.28104 \r\nL 246.086677 116.500496 \r\nL 248.423442 116.500496 \r\nL 248.423442 116.30536 \r\nL 248.861585 116.30536 \r\nL 248.861585 116.110224 \r\nL 249.299728 116.110224 \r\nL 249.299728 115.719952 \r\nL 250.029968 115.719952 \r\nL 250.029968 115.32968 \r\nL 252.074637 115.32968 \r\nL 252.074637 115.134544 \r\nL 252.220685 115.134544 \r\nL 252.220685 114.939408 \r\nL 252.950924 114.939408 \r\nL 252.950924 114.744272 \r\nL 253.096972 114.744272 \r\nL 253.096972 114.549136 \r\nL 253.243019 114.549136 \r\nL 253.243019 114.354 \r\nL 253.389067 114.354 \r\nL 253.389067 113.963729 \r\nL 253.681163 113.963729 \r\nL 253.681163 113.768593 \r\nL 254.703497 113.768593 \r\nL 254.703497 113.573457 \r\nL 255.725832 113.573457 \r\nL 255.725832 113.378321 \r\nL 255.87188 113.378321 \r\nL 255.87188 112.792913 \r\nL 256.017928 112.792913 \r\nL 256.017928 112.597777 \r\nL 256.163976 112.597777 \r\nL 256.163976 112.207505 \r\nL 256.310023 112.207505 \r\nL 256.310023 112.012369 \r\nL 256.456071 112.012369 \r\nL 256.456071 111.817233 \r\nL 256.602119 111.817233 \r\nL 256.602119 111.426961 \r\nL 257.040262 111.426961 \r\nL 257.040262 111.231825 \r\nL 257.18631 111.231825 \r\nL 257.18631 110.451281 \r\nL 257.624454 110.451281 \r\nL 257.624454 110.256145 \r\nL 257.916549 110.256145 \r\nL 257.916549 110.061009 \r\nL 259.669123 110.061009 \r\nL 259.669123 109.865873 \r\nL 260.253314 109.865873 \r\nL 260.253314 109.670737 \r\nL 260.399362 109.670737 \r\nL 260.54541 109.475601 \r\nL 260.691458 109.475601 \r\nL 260.691458 109.08533 \r\nL 260.837505 109.08533 \r\nL 260.837505 108.890194 \r\nL 261.129601 108.890194 \r\nL 261.129601 108.499922 \r\nL 262.444031 108.499922 \r\nL 262.444031 108.304786 \r\nL 263.17427 108.304786 \r\nL 263.17427 108.10965 \r\nL 263.612414 108.10965 \r\nL 263.612414 107.914514 \r\nL 264.196605 107.914514 \r\nL 264.196605 107.719378 \r\nL 264.342653 107.719378 \r\nL 264.342653 107.524242 \r\nL 264.488701 107.524242 \r\nL 264.488701 107.329106 \r\nL 264.780796 107.329106 \r\nL 264.780796 106.938834 \r\nL 265.511035 106.938834 \r\nL 265.511035 106.743698 \r\nL 265.803131 106.743698 \r\nL 265.803131 106.548562 \r\nL 265.949179 106.548562 \r\nL 265.949179 106.353426 \r\nL 266.53337 106.353426 \r\nL 266.53337 105.963154 \r\nL 266.679418 105.963154 \r\nL 266.679418 105.18261 \r\nL 266.971513 105.18261 \r\nL 266.971513 104.987474 \r\nL 267.117561 104.987474 \r\nL 267.117561 104.792338 \r\nL 267.263609 104.792338 \r\nL 267.263609 104.206931 \r\nL 268.431992 104.206931 \r\nL 268.431992 104.011795 \r\nL 269.600374 104.011795 \r\nL 269.600374 103.816659 \r\nL 270.038517 103.816659 \r\nL 270.038517 103.426387 \r\nL 270.768757 103.426387 \r\nL 270.768757 103.231251 \r\nL 271.2069 103.231251 \r\nL 271.2069 103.036115 \r\nL 271.352948 103.036115 \r\nL 271.352948 102.645843 \r\nL 271.937139 102.645843 \r\nL 271.937139 102.450707 \r\nL 273.105522 102.450707 \r\nL 273.105522 102.060435 \r\nL 273.689713 102.060435 \r\nL 273.689713 101.475027 \r\nL 274.273904 101.475027 \r\nL 274.273904 101.279891 \r\nL 274.566 101.279891 \r\nL 274.566 101.084755 \r\nL 275.442286 101.084755 \r\nL 275.442286 99.718803 \r\nL 276.610669 99.718803 \r\nL 276.610669 99.523667 \r\nL 277.048812 99.523667 \r\nL 277.048812 99.133396 \r\nL 278.50929 99.133396 \r\nL 278.50929 98.93826 \r\nL 279.093482 98.93826 \r\nL 279.093482 98.743124 \r\nL 279.385577 98.743124 \r\nL 279.385577 98.157716 \r\nL 279.823721 98.157716 \r\nL 279.823721 97.96258 \r\nL 280.115816 97.96258 \r\nL 280.115816 97.767444 \r\nL 280.846055 97.767444 \r\nL 280.846055 97.377172 \r\nL 281.138151 97.377172 \r\nL 281.138151 97.182036 \r\nL 281.284199 97.182036 \r\nL 281.284199 96.791764 \r\nL 281.430247 96.791764 \r\nL 281.430247 96.401492 \r\nL 281.576294 96.401492 \r\nL 281.576294 96.206356 \r\nL 282.306534 96.206356 \r\nL 282.306534 96.01122 \r\nL 282.744677 96.01122 \r\nL 282.744677 95.816084 \r\nL 282.890725 95.816084 \r\nL 282.890725 95.620948 \r\nL 283.328868 95.620948 \r\nL 283.328868 95.425812 \r\nL 283.474916 95.425812 \r\nL 283.474916 95.230676 \r\nL 283.620964 95.230676 \r\nL 283.620964 95.03554 \r\nL 283.913059 95.03554 \r\nL 283.913059 94.840404 \r\nL 284.497251 94.840404 \r\nL 284.497251 94.645268 \r\nL 284.643299 94.645268 \r\nL 284.643299 94.254997 \r\nL 285.22749 94.254997 \r\nL 285.22749 93.669589 \r\nL 285.519585 93.669589 \r\nL 285.519585 93.474453 \r\nL 286.103777 93.474453 \r\nL 286.103777 93.279317 \r\nL 286.395872 93.279317 \r\nL 286.395872 93.084181 \r\nL 287.126111 93.084181 \r\nL 287.126111 92.889045 \r\nL 287.272159 92.889045 \r\nL 287.272159 92.498773 \r\nL 287.418207 92.498773 \r\nL 287.418207 91.913365 \r\nL 287.85635 91.913365 \r\nL 287.85635 91.718229 \r\nL 288.294494 91.718229 \r\nL 288.294494 91.327957 \r\nL 289.608924 91.327957 \r\nL 289.608924 91.132821 \r\nL 289.90102 91.132821 \r\nL 290.047067 90.937685 \r\nL 290.485211 90.937685 \r\nL 290.485211 90.742549 \r\nL 291.069402 90.742549 \r\nL 291.069402 90.547413 \r\nL 291.21545 90.547413 \r\nL 291.21545 90.352277 \r\nL 291.361498 90.352277 \r\nL 291.361498 90.157141 \r\nL 291.507546 90.157141 \r\nL 291.507546 89.962005 \r\nL 291.799641 89.962005 \r\nL 291.799641 89.181462 \r\nL 291.945689 89.181462 \r\nL 291.945689 88.986326 \r\nL 292.52988 88.986326 \r\nL 292.52988 88.79119 \r\nL 293.990358 88.79119 \r\nL 293.990358 88.596054 \r\nL 294.282454 88.596054 \r\nL 294.282454 88.205782 \r\nL 294.57455 88.205782 \r\nL 294.57455 88.010646 \r\nL 294.720597 88.010646 \r\nL 294.720597 87.81551 \r\nL 294.866645 87.81551 \r\nL 294.866645 87.620374 \r\nL 296.181076 87.620374 \r\nL 296.181076 87.425238 \r\nL 296.473171 87.425238 \r\nL 296.473171 87.230102 \r\nL 296.911315 87.230102 \r\nL 296.911315 87.034966 \r\nL 298.079697 87.034966 \r\nL 298.079697 86.83983 \r\nL 298.809936 86.83983 \r\nL 298.809936 86.644694 \r\nL 298.955984 86.644694 \r\nL 298.955984 86.254422 \r\nL 299.540175 86.254422 \r\nL 299.540175 85.86415 \r\nL 299.686223 85.86415 \r\nL 299.686223 85.669014 \r\nL 299.832271 85.669014 \r\nL 299.832271 85.473878 \r\nL 299.978319 85.473878 \r\nL 299.978319 85.278742 \r\nL 300.708558 85.278742 \r\nL 300.708558 85.083606 \r\nL 300.854605 85.083606 \r\nL 300.854605 84.888471 \r\nL 301.000653 84.888471 \r\nL 301.000653 84.693335 \r\nL 301.730892 84.693335 \r\nL 301.730892 84.498199 \r\nL 302.461131 84.498199 \r\nL 302.461131 84.107927 \r\nL 302.607179 84.107927 \r\nL 302.607179 83.912791 \r\nL 302.753227 83.912791 \r\nL 302.753227 83.327383 \r\nL 303.045323 83.327383 \r\nL 303.045323 82.937111 \r\nL 303.337418 82.937111 \r\nL 303.337418 82.741975 \r\nL 304.213705 82.741975 \r\nL 304.213705 82.156567 \r\nL 304.359753 82.156567 \r\nL 304.359753 81.766295 \r\nL 305.528135 81.766295 \r\nL 305.528135 81.571159 \r\nL 305.674183 81.571159 \r\nL 305.674183 81.376023 \r\nL 305.966279 81.376023 \r\nL 305.966279 81.180887 \r\nL 306.258374 81.180887 \r\nL 306.258374 80.985751 \r\nL 306.404422 80.985751 \r\nL 306.404422 80.595479 \r\nL 306.55047 80.595479 \r\nL 306.55047 79.814936 \r\nL 306.842566 79.814936 \r\nL 306.842566 79.6198 \r\nL 307.572805 79.6198 \r\nL 307.572805 79.424664 \r\nL 308.156996 79.424664 \r\nL 308.156996 79.034392 \r\nL 308.449092 79.034392 \r\nL 308.449092 78.448984 \r\nL 308.595139 78.448984 \r\nL 308.595139 78.253848 \r\nL 308.741187 78.253848 \r\nL 308.741187 77.863576 \r\nL 308.887235 77.863576 \r\nL 308.887235 77.473304 \r\nL 309.033283 77.473304 \r\nL 309.033283 77.278168 \r\nL 309.325378 77.083032 \r\nL 309.90957 77.083032 \r\nL 309.90957 76.887896 \r\nL 312.830526 76.887896 \r\nL 312.830526 76.69276 \r\nL 312.976574 76.69276 \r\nL 312.976574 76.302488 \r\nL 313.122621 76.302488 \r\nL 313.122621 75.912216 \r\nL 313.414717 75.912216 \r\nL 313.414717 75.71708 \r\nL 313.560765 75.71708 \r\nL 313.560765 75.326808 \r\nL 314.144956 75.326808 \r\nL 314.144956 75.131673 \r\nL 314.875195 75.131673 \r\nL 314.875195 74.936537 \r\nL 315.021243 74.936537 \r\nL 315.021243 74.351129 \r\nL 315.459386 74.351129 \r\nL 315.459386 74.155993 \r\nL 315.605434 74.155993 \r\nL 315.605434 73.570585 \r\nL 316.043578 73.570585 \r\nL 316.043578 73.180313 \r\nL 316.189626 73.180313 \r\nL 316.189626 72.985177 \r\nL 316.335673 72.985177 \r\nL 316.335673 72.790041 \r\nL 316.627769 72.790041 \r\nL 316.627769 72.399769 \r\nL 316.773817 72.399769 \r\nL 316.773817 72.204633 \r\nL 318.234295 72.204633 \r\nL 318.234295 72.009497 \r\nL 318.52639 72.009497 \r\nL 318.52639 71.814361 \r\nL 318.672438 71.814361 \r\nL 318.672438 71.619225 \r\nL 319.25663 71.619225 \r\nL 319.25663 71.424089 \r\nL 319.402677 71.424089 \r\nL 319.402677 71.228953 \r\nL 319.694773 71.228953 \r\nL 319.694773 71.033817 \r\nL 319.986869 71.033817 \r\nL 319.986869 70.643545 \r\nL 320.132916 70.643545 \r\nL 320.132916 69.863002 \r\nL 320.425012 69.863002 \r\nL 320.425012 69.667866 \r\nL 321.009203 69.667866 \r\nL 321.009203 69.47273 \r\nL 321.155251 69.47273 \r\nL 321.155251 69.277594 \r\nL 321.301299 69.082458 \r\nL 321.739442 69.082458 \r\nL 321.739442 68.887322 \r\nL 322.907825 68.887322 \r\nL 322.907825 68.692186 \r\nL 323.19992 68.692186 \r\nL 323.19992 68.49705 \r\nL 323.345968 68.49705 \r\nL 323.345968 67.911642 \r\nL 323.784112 67.911642 \r\nL 323.784112 67.716506 \r\nL 323.930159 67.716506 \r\nL 323.930159 67.326234 \r\nL 324.514351 67.326234 \r\nL 324.514351 67.131098 \r\nL 324.952494 67.131098 \r\nL 324.952494 66.935962 \r\nL 325.536685 66.935962 \r\nL 325.536685 66.740826 \r\nL 325.682733 66.740826 \r\nL 325.682733 66.54569 \r\nL 325.974829 66.54569 \r\nL 325.974829 65.765146 \r\nL 326.55902 65.765146 \r\nL 326.55902 65.57001 \r\nL 328.457642 65.57001 \r\nL 328.457642 65.374875 \r\nL 328.603689 65.374875 \r\nL 328.603689 65.179739 \r\nL 328.749737 65.179739 \r\nL 328.749737 64.008923 \r\nL 329.333928 64.008923 \r\nL 329.333928 62.838107 \r\nL 329.626024 62.838107 \r\nL 329.626024 62.642971 \r\nL 330.064167 62.642971 \r\nL 330.064167 62.057563 \r\nL 330.210215 62.057563 \r\nL 330.502311 61.862427 \r\nL 330.502311 61.277019 \r\nL 330.794407 61.277019 \r\nL 330.940454 61.081883 \r\nL 330.940454 60.886747 \r\nL 331.23255 60.886747 \r\nL 331.23255 60.691611 \r\nL 331.670693 60.691611 \r\nL 331.670693 60.496476 \r\nL 332.108837 60.496476 \r\nL 332.108837 60.106204 \r\nL 332.254885 59.911068 \r\nL 332.254885 59.715932 \r\nL 332.54698 59.715932 \r\nL 332.54698 59.32566 \r\nL 332.985124 58.545116 \r\nL 332.985124 57.959708 \r\nL 333.277219 57.959708 \r\nL 333.277219 57.764572 \r\nL 333.569315 57.764572 \r\nL 333.569315 57.569436 \r\nL 334.299554 57.569436 \r\nL 334.299554 57.3743 \r\nL 335.029793 57.3743 \r\nL 335.029793 56.788892 \r\nL 335.175841 56.788892 \r\nL 335.175841 56.39862 \r\nL 335.321889 56.39862 \r\nL 335.321889 56.008348 \r\nL 335.613984 56.008348 \r\nL 335.613984 55.618077 \r\nL 335.90608 55.618077 \r\nL 335.90608 55.422941 \r\nL 336.052128 55.422941 \r\nL 336.052128 55.227805 \r\nL 336.490271 55.227805 \r\nL 336.490271 55.032669 \r\nL 336.782367 55.032669 \r\nL 336.782367 54.837533 \r\nL 337.950749 54.837533 \r\nL 337.950749 54.447261 \r\nL 338.242845 54.447261 \r\nL 338.242845 54.252125 \r\nL 338.973084 54.252125 \r\nL 338.973084 54.056989 \r\nL 339.411227 54.056989 \r\nL 339.411227 53.471581 \r\nL 339.557275 53.471581 \r\nL 339.557275 53.276445 \r\nL 340.725658 53.276445 \r\nL 340.725658 52.105629 \r\nL 341.163801 52.105629 \r\nL 341.163801 51.910493 \r\nL 341.601944 51.910493 \r\nL 341.601944 51.715357 \r\nL 341.747992 51.715357 \r\nL 341.747992 50.544542 \r\nL 342.186136 50.544542 \r\nL 342.186136 50.15427 \r\nL 342.624279 50.15427 \r\nL 342.624279 49.959134 \r\nL 342.770327 49.959134 \r\nL 342.916375 49.763998 \r\nL 342.916375 49.373726 \r\nL 343.354518 49.373726 \r\nL 343.354518 49.17859 \r\nL 343.646614 49.17859 \r\nL 343.646614 48.788318 \r\nL 343.792662 48.788318 \r\nL 343.792662 48.398046 \r\nL 344.230805 48.398046 \r\nL 344.230805 48.20291 \r\nL 344.522901 48.20291 \r\nL 344.522901 47.812638 \r\nL 344.668948 47.812638 \r\nL 344.668948 47.617502 \r\nL 345.25314 47.617502 \r\nL 345.25314 47.422366 \r\nL 345.399188 47.422366 \r\nL 345.399188 47.22723 \r\nL 345.837331 47.22723 \r\nL 345.837331 46.641822 \r\nL 345.983379 46.641822 \r\nL 345.983379 46.446686 \r\nL 346.713618 46.446686 \r\nL 346.713618 46.25155 \r\nL 347.151761 46.25155 \r\nL 347.151761 46.056415 \r\nL 347.735952 46.056415 \r\nL 347.735952 44.690463 \r\nL 348.174096 44.690463 \r\nL 348.174096 44.495327 \r\nL 348.466192 44.300191 \r\nL 349.050383 44.300191 \r\nL 349.050383 43.909919 \r\nL 350.072717 43.909919 \r\nL 350.072717 43.714783 \r\nL 350.364813 43.714783 \r\nL 350.364813 43.519647 \r\nL 350.949004 43.519647 \r\nL 350.949004 43.324511 \r\nL 351.095052 43.324511 \r\nL 351.095052 43.129375 \r\nL 351.533196 43.129375 \r\nL 351.533196 42.543967 \r\nL 351.679243 42.543967 \r\nL 351.679243 42.348831 \r\nL 352.117387 42.348831 \r\nL 352.117387 41.958559 \r\nL 352.55553 41.958559 \r\nL 352.55553 41.763423 \r\nL 352.993674 41.763423 \r\nL 352.993674 41.568287 \r\nL 353.139721 41.568287 \r\nL 353.139721 40.98288 \r\nL 353.723913 40.98288 \r\nL 353.723913 40.787744 \r\nL 353.869961 40.787744 \r\nL 353.869961 40.397472 \r\nL 354.016008 40.397472 \r\nL 354.016008 39.812064 \r\nL 354.162056 39.812064 \r\nL 354.162056 39.616928 \r\nL 354.308104 39.616928 \r\nL 354.308104 39.03152 \r\nL 354.454152 39.03152 \r\nL 354.454152 38.05584 \r\nL 354.892295 38.05584 \r\nL 354.892295 37.860704 \r\nL 355.038343 37.860704 \r\nL 355.038343 37.665568 \r\nL 355.476486 37.665568 \r\nL 355.476486 36.885024 \r\nL 355.622534 36.885024 \r\nL 355.622534 36.494752 \r\nL 355.768582 36.494752 \r\nL 355.768582 36.299617 \r\nL 355.91463 36.299617 \r\nL 355.91463 36.104481 \r\nL 357.521156 36.104481 \r\nL 357.521156 35.909345 \r\nL 358.397443 35.909345 \r\nL 358.397443 35.323937 \r\nL 358.689538 35.323937 \r\nL 358.689538 34.933665 \r\nL 359.127682 34.933665 \r\nL 359.127682 34.738529 \r\nL 359.419777 34.738529 \r\nL 359.419777 34.543393 \r\nL 361.026303 34.543393 \r\nL 361.026303 34.348257 \r\nL 361.172351 34.348257 \r\nL 361.172351 33.957985 \r\nL 361.464447 33.957985 \r\nL 361.464447 33.762849 \r\nL 361.610494 33.762849 \r\nL 361.610494 33.567713 \r\nL 361.90259 33.567713 \r\nL 361.90259 33.372577 \r\nL 362.486781 33.372577 \r\nL 362.486781 33.177441 \r\nL 362.632829 33.177441 \r\nL 362.632829 32.982305 \r\nL 362.778877 32.982305 \r\nL 362.778877 32.787169 \r\nL 363.070973 32.787169 \r\nL 363.070973 32.592033 \r\nL 363.21702 32.592033 \r\nL 363.363068 32.201761 \r\nL 363.363068 32.201761 \r\n\" style=\"fill:none;stroke:#1f77b4;stroke-linecap:square;stroke-width:1.5;\"/>\r\n   </g>\r\n   <g id=\"patch_3\">\r\n    <path d=\"M 43.78125 239.758125 \r\nL 43.78125 22.318125 \r\n\" style=\"fill:none;stroke:#000000;stroke-linecap:square;stroke-linejoin:miter;stroke-width:0.8;\"/>\r\n   </g>\r\n   <g id=\"patch_4\">\r\n    <path d=\"M 378.58125 239.758125 \r\nL 378.58125 22.318125 \r\n\" style=\"fill:none;stroke:#000000;stroke-linecap:square;stroke-linejoin:miter;stroke-width:0.8;\"/>\r\n   </g>\r\n   <g id=\"patch_5\">\r\n    <path d=\"M 43.78125 239.758125 \r\nL 378.58125 239.758125 \r\n\" style=\"fill:none;stroke:#000000;stroke-linecap:square;stroke-linejoin:miter;stroke-width:0.8;\"/>\r\n   </g>\r\n   <g id=\"patch_6\">\r\n    <path d=\"M 43.78125 22.318125 \r\nL 378.58125 22.318125 \r\n\" style=\"fill:none;stroke:#000000;stroke-linecap:square;stroke-linejoin:miter;stroke-width:0.8;\"/>\r\n   </g>\r\n   <g id=\"text_15\">\r\n    <!-- ROC curve -->\r\n    <defs>\r\n     <path d=\"M 44.390625 34.1875 \r\nQ 47.5625 33.109375 50.5625 29.59375 \r\nQ 53.5625 26.078125 56.59375 19.921875 \r\nL 66.609375 0 \r\nL 56 0 \r\nL 46.6875 18.703125 \r\nQ 43.0625 26.03125 39.671875 28.421875 \r\nQ 36.28125 30.8125 30.421875 30.8125 \r\nL 19.671875 30.8125 \r\nL 19.671875 0 \r\nL 9.8125 0 \r\nL 9.8125 72.90625 \r\nL 32.078125 72.90625 \r\nQ 44.578125 72.90625 50.734375 67.671875 \r\nQ 56.890625 62.453125 56.890625 51.90625 \r\nQ 56.890625 45.015625 53.6875 40.46875 \r\nQ 50.484375 35.9375 44.390625 34.1875 \r\nz\r\nM 19.671875 64.796875 \r\nL 19.671875 38.921875 \r\nL 32.078125 38.921875 \r\nQ 39.203125 38.921875 42.84375 42.21875 \r\nQ 46.484375 45.515625 46.484375 51.90625 \r\nQ 46.484375 58.296875 42.84375 61.546875 \r\nQ 39.203125 64.796875 32.078125 64.796875 \r\nz\r\n\" id=\"DejaVuSans-82\"/>\r\n     <path d=\"M 39.40625 66.21875 \r\nQ 28.65625 66.21875 22.328125 58.203125 \r\nQ 16.015625 50.203125 16.015625 36.375 \r\nQ 16.015625 22.609375 22.328125 14.59375 \r\nQ 28.65625 6.59375 39.40625 6.59375 \r\nQ 50.140625 6.59375 56.421875 14.59375 \r\nQ 62.703125 22.609375 62.703125 36.375 \r\nQ 62.703125 50.203125 56.421875 58.203125 \r\nQ 50.140625 66.21875 39.40625 66.21875 \r\nz\r\nM 39.40625 74.21875 \r\nQ 54.734375 74.21875 63.90625 63.9375 \r\nQ 73.09375 53.65625 73.09375 36.375 \r\nQ 73.09375 19.140625 63.90625 8.859375 \r\nQ 54.734375 -1.421875 39.40625 -1.421875 \r\nQ 24.03125 -1.421875 14.8125 8.828125 \r\nQ 5.609375 19.09375 5.609375 36.375 \r\nQ 5.609375 53.65625 14.8125 63.9375 \r\nQ 24.03125 74.21875 39.40625 74.21875 \r\nz\r\n\" id=\"DejaVuSans-79\"/>\r\n     <path d=\"M 64.40625 67.28125 \r\nL 64.40625 56.890625 \r\nQ 59.421875 61.53125 53.78125 63.8125 \r\nQ 48.140625 66.109375 41.796875 66.109375 \r\nQ 29.296875 66.109375 22.65625 58.46875 \r\nQ 16.015625 50.828125 16.015625 36.375 \r\nQ 16.015625 21.96875 22.65625 14.328125 \r\nQ 29.296875 6.6875 41.796875 6.6875 \r\nQ 48.140625 6.6875 53.78125 8.984375 \r\nQ 59.421875 11.28125 64.40625 15.921875 \r\nL 64.40625 5.609375 \r\nQ 59.234375 2.09375 53.4375 0.328125 \r\nQ 47.65625 -1.421875 41.21875 -1.421875 \r\nQ 24.65625 -1.421875 15.125 8.703125 \r\nQ 5.609375 18.84375 5.609375 36.375 \r\nQ 5.609375 53.953125 15.125 64.078125 \r\nQ 24.65625 74.21875 41.21875 74.21875 \r\nQ 47.75 74.21875 53.53125 72.484375 \r\nQ 59.328125 70.75 64.40625 67.28125 \r\nz\r\n\" id=\"DejaVuSans-67\"/>\r\n     <path d=\"M 48.78125 52.59375 \r\nL 48.78125 44.1875 \r\nQ 44.96875 46.296875 41.140625 47.34375 \r\nQ 37.3125 48.390625 33.40625 48.390625 \r\nQ 24.65625 48.390625 19.8125 42.84375 \r\nQ 14.984375 37.3125 14.984375 27.296875 \r\nQ 14.984375 17.28125 19.8125 11.734375 \r\nQ 24.65625 6.203125 33.40625 6.203125 \r\nQ 37.3125 6.203125 41.140625 7.25 \r\nQ 44.96875 8.296875 48.78125 10.40625 \r\nL 48.78125 2.09375 \r\nQ 45.015625 0.34375 40.984375 -0.53125 \r\nQ 36.96875 -1.421875 32.421875 -1.421875 \r\nQ 20.0625 -1.421875 12.78125 6.34375 \r\nQ 5.515625 14.109375 5.515625 27.296875 \r\nQ 5.515625 40.671875 12.859375 48.328125 \r\nQ 20.21875 56 33.015625 56 \r\nQ 37.15625 56 41.109375 55.140625 \r\nQ 45.0625 54.296875 48.78125 52.59375 \r\nz\r\n\" id=\"DejaVuSans-99\"/>\r\n    </defs>\r\n    <g transform=\"translate(179.38125 16.318125)scale(0.12 -0.12)\">\r\n     <use xlink:href=\"#DejaVuSans-82\"/>\r\n     <use x=\"69.482422\" xlink:href=\"#DejaVuSans-79\"/>\r\n     <use x=\"148.193359\" xlink:href=\"#DejaVuSans-67\"/>\r\n     <use x=\"218.017578\" xlink:href=\"#DejaVuSans-32\"/>\r\n     <use x=\"249.804688\" xlink:href=\"#DejaVuSans-99\"/>\r\n     <use x=\"304.785156\" xlink:href=\"#DejaVuSans-117\"/>\r\n     <use x=\"368.164062\" xlink:href=\"#DejaVuSans-114\"/>\r\n     <use x=\"409.277344\" xlink:href=\"#DejaVuSans-118\"/>\r\n     <use x=\"468.457031\" xlink:href=\"#DejaVuSans-101\"/>\r\n    </g>\r\n   </g>\r\n   <g id=\"legend_1\">\r\n    <g id=\"patch_7\">\r\n     <path d=\"M 50.78125 44.99625 \r\nL 95.48125 44.99625 \r\nQ 97.48125 44.99625 97.48125 42.99625 \r\nL 97.48125 29.318125 \r\nQ 97.48125 27.318125 95.48125 27.318125 \r\nL 50.78125 27.318125 \r\nQ 48.78125 27.318125 48.78125 29.318125 \r\nL 48.78125 42.99625 \r\nQ 48.78125 44.99625 50.78125 44.99625 \r\nz\r\n\" style=\"fill:#ffffff;opacity:0.8;stroke:#cccccc;stroke-linejoin:miter;\"/>\r\n    </g>\r\n    <g id=\"line2d_15\">\r\n     <path d=\"M 52.78125 35.416562 \r\nL 72.78125 35.416562 \r\n\" style=\"fill:none;stroke:#1f77b4;stroke-linecap:square;stroke-width:1.5;\"/>\r\n    </g>\r\n    <g id=\"line2d_16\"/>\r\n    <g id=\"text_16\">\r\n     <!-- RF -->\r\n     <g transform=\"translate(80.78125 38.916562)scale(0.1 -0.1)\">\r\n      <use xlink:href=\"#DejaVuSans-82\"/>\r\n      <use x=\"69.482422\" xlink:href=\"#DejaVuSans-70\"/>\r\n     </g>\r\n    </g>\r\n   </g>\r\n  </g>\r\n </g>\r\n <defs>\r\n  <clipPath id=\"pc0e9509783\">\r\n   <rect height=\"217.44\" width=\"334.8\" x=\"43.78125\" y=\"22.318125\"/>\r\n  </clipPath>\r\n </defs>\r\n</svg>\r\n",
      "image/png": "[encoded data removed]"
     },
     "metadata": {
      "needs_background": "light"
     }
    }
   ],
   "source": [
    "plt.figure(1)\n",
    "plt.plot([0, 1], [0, 1], 'k--')\n",
    "plt.plot(fpr_rf, tpr_rf, label='RF')\n",
    "plt.xlabel('False positive rate')\n",
    "plt.ylabel('True positive rate')\n",
    "plt.title('ROC curve')\n",
    "plt.legend(loc='best')\n",
    "plt.show()"
   ]
  },
  {
   "cell_type": "code",
   "execution_count": 49,
   "metadata": {},
   "outputs": [
    {
     "output_type": "stream",
     "name": "stdout",
     "text": [
      "x_validate_min : 2011-11-04 14:36:38.114000 \nx_validate_max : 2012-05-22 19:30:47.148000\n"
     ]
    }
   ],
   "source": [
    "print('x_validate_min :' + ' ' + str(x_validate.index.min()), '\\nx_validate_max :' + ' ' + str(x_validate.index.max()))"
   ]
  },
  {
   "cell_type": "code",
   "execution_count": 50,
   "metadata": {},
   "outputs": [
    {
     "output_type": "stream",
     "name": "stdout",
     "text": [
      "                              ret      trgt  bin  side\n2011-09-23 13:09:25.468  0.005578  0.005339    1  -1.0\n2011-09-23 14:29:06.110  0.007440  0.005153    1  -1.0\n2011-09-23 15:17:05.382 -0.000371  0.005324    0  -1.0\n2011-09-23 15:25:00.710 -0.002452  0.005800    0  -1.0\n2011-09-23 15:35:18.697  0.000097  0.005991    0  -1.0\n...                           ...       ...  ...   ...\n2012-05-22 18:30:49.621  0.006796  0.006688    1   1.0\n2012-05-22 18:52:39.135  0.008615  0.006563    1   1.0\n2012-05-22 19:14:12.957  0.008026  0.006453    1   1.0\n2012-05-22 19:24:34.124  0.006452  0.006444    1   1.0\n2012-05-22 19:30:47.148  0.007513  0.006548    1   1.0\n\n[4423 rows x 4 columns]\n"
     ]
    }
   ],
   "source": [
    "primary_forecast = pd.DataFrame(labels['bin'])\n",
    "primary_forecast['pred'] = 1\n",
    "primary_forecast.columns = ['actual', 'pred']\n",
    "print(labels)"
   ]
  },
  {
   "cell_type": "markdown",
   "metadata": {},
   "source": [
    "Set the time period for primary forecast"
   ]
  },
  {
   "cell_type": "code",
   "execution_count": 51,
   "metadata": {},
   "outputs": [],
   "source": [
    "start = primary_forecast.index.get_loc('2011-09-23 13:09:25.468')\n",
    "end = primary_forecast.index.get_loc('2012-05-22 19:30:47.148') + 1"
   ]
  },
  {
   "cell_type": "code",
   "execution_count": 52,
   "metadata": {},
   "outputs": [],
   "source": [
    "subset_prim = primary_forecast[start:end]"
   ]
  },
  {
   "cell_type": "markdown",
   "metadata": {},
   "source": [
    "### Performance Metrics"
   ]
  },
  {
   "cell_type": "code",
   "execution_count": 53,
   "metadata": {},
   "outputs": [
    {
     "output_type": "stream",
     "name": "stdout",
     "text": [
      "              precision    recall  f1-score   support\n\n           0       0.00      0.00      0.00      2867\n           1       0.35      1.00      0.52      1556\n\n    accuracy                           0.35      4423\n   macro avg       0.18      0.50      0.26      4423\nweighted avg       0.12      0.35      0.18      4423\n\n"
     ]
    }
   ],
   "source": [
    "actual = subset_prim['actual']\n",
    "pred = subset_prim['pred']\n",
    "print(sk.metrics.classification_report(y_true=actual, y_pred=pred))"
   ]
  },
  {
   "cell_type": "markdown",
   "metadata": {},
   "source": [
    "#### Confusion Matrix"
   ]
  },
  {
   "cell_type": "code",
   "execution_count": 54,
   "metadata": {},
   "outputs": [
    {
     "output_type": "stream",
     "name": "stdout",
     "text": [
      "[[   0 2867]\n [   0 1556]]\n"
     ]
    }
   ],
   "source": [
    "print(sk.metrics.confusion_matrix(actual, pred))"
   ]
  },
  {
   "cell_type": "markdown",
   "metadata": {},
   "source": [
    "#### Accuracy"
   ]
  },
  {
   "cell_type": "code",
   "execution_count": 55,
   "metadata": {},
   "outputs": [
    {
     "output_type": "stream",
     "name": "stdout",
     "text": [
      "0.3517974225638707\n"
     ]
    }
   ],
   "source": [
    "print(sk.metrics.accuracy_score(actual, pred))"
   ]
  },
  {
   "cell_type": "markdown",
   "metadata": {},
   "source": [
    "## Feature Importance"
   ]
  },
  {
   "cell_type": "code",
   "execution_count": 56,
   "metadata": {},
   "outputs": [
    {
     "output_type": "execute_result",
     "data": {
      "text/plain": [
       "<matplotlib.axes._subplots.AxesSubplot at 0x15553b87448>"
      ]
     },
     "metadata": {},
     "execution_count": 56
    },
    {
     "output_type": "display_data",
     "data": {
      "text/plain": "<Figure size 1080x360 with 1 Axes>",
      "image/svg+xml": "<?xml version=\"1.0\" encoding=\"utf-8\" standalone=\"no\"?>\r\n<!DOCTYPE svg PUBLIC \"-//W3C//DTD SVG 1.1//EN\"\r\n  \"http://www.w3.org/Graphics/SVG/1.1/DTD/svg11.dtd\">\r\n<!-- Created with matplotlib (https://matplotlib.org/) -->\r\n<svg height=\"317.99625pt\" version=\"1.1\" viewBox=\"0 0 932.840625 317.99625\" width=\"932.840625pt\" xmlns=\"http://www.w3.org/2000/svg\" xmlns:xlink=\"http://www.w3.org/1999/xlink\">\r\n <defs>\r\n  <style type=\"text/css\">\r\n*{stroke-linecap:butt;stroke-linejoin:round;}\r\n  </style>\r\n </defs>\r\n <g id=\"figure_1\">\r\n  <g id=\"patch_1\">\r\n   <path d=\"M 0 317.99625 \r\nL 932.840625 317.99625 \r\nL 932.840625 0 \r\nL 0 0 \r\nz\r\n\" style=\"fill:none;\"/>\r\n  </g>\r\n  <g id=\"axes_1\">\r\n   <g id=\"patch_2\">\r\n    <path d=\"M 88.640625 294.118125 \r\nL 925.640625 294.118125 \r\nL 925.640625 22.318125 \r\nL 88.640625 22.318125 \r\nz\r\n\" style=\"fill:#ffffff;\"/>\r\n   </g>\r\n   <g id=\"patch_3\">\r\n    <path clip-path=\"url(#pd46d44d9d9)\" d=\"M 88.640625 290.121066 \r\nL 173.238797 290.121066 \r\nL 173.238797 282.126949 \r\nL 88.640625 282.126949 \r\nz\r\n\" style=\"fill:#1f77b4;\"/>\r\n   </g>\r\n   <g id=\"patch_4\">\r\n    <path clip-path=\"url(#pd46d44d9d9)\" d=\"M 88.640625 274.132831 \r\nL 189.692011 274.132831 \r\nL 189.692011 266.138713 \r\nL 88.640625 266.138713 \r\nz\r\n\" style=\"fill:#1f77b4;\"/>\r\n   </g>\r\n   <g id=\"patch_5\">\r\n    <path clip-path=\"url(#pd46d44d9d9)\" d=\"M 88.640625 258.144596 \r\nL 202.225799 258.144596 \r\nL 202.225799 250.150478 \r\nL 88.640625 250.150478 \r\nz\r\n\" style=\"fill:#1f77b4;\"/>\r\n   </g>\r\n   <g id=\"patch_6\">\r\n    <path clip-path=\"url(#pd46d44d9d9)\" d=\"M 88.640625 242.15636 \r\nL 228.139242 242.15636 \r\nL 228.139242 234.162243 \r\nL 88.640625 234.162243 \r\nz\r\n\" style=\"fill:#1f77b4;\"/>\r\n   </g>\r\n   <g id=\"patch_7\">\r\n    <path clip-path=\"url(#pd46d44d9d9)\" d=\"M 88.640625 226.168125 \r\nL 239.829084 226.168125 \r\nL 239.829084 218.174007 \r\nL 88.640625 218.174007 \r\nz\r\n\" style=\"fill:#1f77b4;\"/>\r\n   </g>\r\n   <g id=\"patch_8\">\r\n    <path clip-path=\"url(#pd46d44d9d9)\" d=\"M 88.640625 210.17989 \r\nL 242.188033 210.17989 \r\nL 242.188033 202.185772 \r\nL 88.640625 202.185772 \r\nz\r\n\" style=\"fill:#1f77b4;\"/>\r\n   </g>\r\n   <g id=\"patch_9\">\r\n    <path clip-path=\"url(#pd46d44d9d9)\" d=\"M 88.640625 194.191654 \r\nL 307.44542 194.191654 \r\nL 307.44542 186.197537 \r\nL 88.640625 186.197537 \r\nz\r\n\" style=\"fill:#1f77b4;\"/>\r\n   </g>\r\n   <g id=\"patch_10\">\r\n    <path clip-path=\"url(#pd46d44d9d9)\" d=\"M 88.640625 178.203419 \r\nL 405.014034 178.203419 \r\nL 405.014034 170.209301 \r\nL 88.640625 170.209301 \r\nz\r\n\" style=\"fill:#1f77b4;\"/>\r\n   </g>\r\n   <g id=\"patch_11\">\r\n    <path clip-path=\"url(#pd46d44d9d9)\" d=\"M 88.640625 162.215184 \r\nL 430.964086 162.215184 \r\nL 430.964086 154.221066 \r\nL 88.640625 154.221066 \r\nz\r\n\" style=\"fill:#1f77b4;\"/>\r\n   </g>\r\n   <g id=\"patch_12\">\r\n    <path clip-path=\"url(#pd46d44d9d9)\" d=\"M 88.640625 146.226949 \r\nL 447.009371 146.226949 \r\nL 447.009371 138.232831 \r\nL 88.640625 138.232831 \r\nz\r\n\" style=\"fill:#1f77b4;\"/>\r\n   </g>\r\n   <g id=\"patch_13\">\r\n    <path clip-path=\"url(#pd46d44d9d9)\" d=\"M 88.640625 130.238713 \r\nL 532.444087 130.238713 \r\nL 532.444087 122.244596 \r\nL 88.640625 122.244596 \r\nz\r\n\" style=\"fill:#1f77b4;\"/>\r\n   </g>\r\n   <g id=\"patch_14\">\r\n    <path clip-path=\"url(#pd46d44d9d9)\" d=\"M 88.640625 114.250478 \r\nL 546.453375 114.250478 \r\nL 546.453375 106.25636 \r\nL 88.640625 106.25636 \r\nz\r\n\" style=\"fill:#1f77b4;\"/>\r\n   </g>\r\n   <g id=\"patch_15\">\r\n    <path clip-path=\"url(#pd46d44d9d9)\" d=\"M 88.640625 98.262243 \r\nL 743.817983 98.262243 \r\nL 743.817983 90.268125 \r\nL 88.640625 90.268125 \r\nz\r\n\" style=\"fill:#1f77b4;\"/>\r\n   </g>\r\n   <g id=\"patch_16\">\r\n    <path clip-path=\"url(#pd46d44d9d9)\" d=\"M 88.640625 82.274007 \r\nL 762.117646 82.274007 \r\nL 762.117646 74.27989 \r\nL 88.640625 74.27989 \r\nz\r\n\" style=\"fill:#1f77b4;\"/>\r\n   </g>\r\n   <g id=\"patch_17\">\r\n    <path clip-path=\"url(#pd46d44d9d9)\" d=\"M 88.640625 66.285772 \r\nL 773.887952 66.285772 \r\nL 773.887952 58.291654 \r\nL 88.640625 58.291654 \r\nz\r\n\" style=\"fill:#1f77b4;\"/>\r\n   </g>\r\n   <g id=\"patch_18\">\r\n    <path clip-path=\"url(#pd46d44d9d9)\" d=\"M 88.640625 50.297537 \r\nL 845.098192 50.297537 \r\nL 845.098192 42.303419 \r\nL 88.640625 42.303419 \r\nz\r\n\" style=\"fill:#1f77b4;\"/>\r\n   </g>\r\n   <g id=\"patch_19\">\r\n    <path clip-path=\"url(#pd46d44d9d9)\" d=\"M 88.640625 34.309301 \r\nL 885.783482 34.309301 \r\nL 885.783482 26.315184 \r\nL 88.640625 26.315184 \r\nz\r\n\" style=\"fill:#1f77b4;\"/>\r\n   </g>\r\n   <g id=\"matplotlib.axis_1\">\r\n    <g id=\"xtick_1\">\r\n     <g id=\"line2d_1\">\r\n      <defs>\r\n       <path d=\"M 0 0 \r\nL 0 3.5 \r\n\" id=\"ma172a6a824\" style=\"stroke:#000000;stroke-width:0.8;\"/>\r\n      </defs>\r\n      <g>\r\n       <use style=\"stroke:#000000;stroke-width:0.8;\" x=\"88.640625\" xlink:href=\"#ma172a6a824\" y=\"294.118125\"/>\r\n      </g>\r\n     </g>\r\n     <g id=\"text_1\">\r\n      <!-- 0.00 -->\r\n      <defs>\r\n       <path d=\"M 31.78125 66.40625 \r\nQ 24.171875 66.40625 20.328125 58.90625 \r\nQ 16.5 51.421875 16.5 36.375 \r\nQ 16.5 21.390625 20.328125 13.890625 \r\nQ 24.171875 6.390625 31.78125 6.390625 \r\nQ 39.453125 6.390625 43.28125 13.890625 \r\nQ 47.125 21.390625 47.125 36.375 \r\nQ 47.125 51.421875 43.28125 58.90625 \r\nQ 39.453125 66.40625 31.78125 66.40625 \r\nz\r\nM 31.78125 74.21875 \r\nQ 44.046875 74.21875 50.515625 64.515625 \r\nQ 56.984375 54.828125 56.984375 36.375 \r\nQ 56.984375 17.96875 50.515625 8.265625 \r\nQ 44.046875 -1.421875 31.78125 -1.421875 \r\nQ 19.53125 -1.421875 13.0625 8.265625 \r\nQ 6.59375 17.96875 6.59375 36.375 \r\nQ 6.59375 54.828125 13.0625 64.515625 \r\nQ 19.53125 74.21875 31.78125 74.21875 \r\nz\r\n\" id=\"DejaVuSans-48\"/>\r\n       <path d=\"M 10.6875 12.40625 \r\nL 21 12.40625 \r\nL 21 0 \r\nL 10.6875 0 \r\nz\r\n\" id=\"DejaVuSans-46\"/>\r\n      </defs>\r\n      <g transform=\"translate(77.507812 308.716563)scale(0.1 -0.1)\">\r\n       <use xlink:href=\"#DejaVuSans-48\"/>\r\n       <use x=\"63.623047\" xlink:href=\"#DejaVuSans-46\"/>\r\n       <use x=\"95.410156\" xlink:href=\"#DejaVuSans-48\"/>\r\n       <use x=\"159.033203\" xlink:href=\"#DejaVuSans-48\"/>\r\n      </g>\r\n     </g>\r\n    </g>\r\n    <g id=\"xtick_2\">\r\n     <g id=\"line2d_2\">\r\n      <g>\r\n       <use style=\"stroke:#000000;stroke-width:0.8;\" x=\"217.609784\" xlink:href=\"#ma172a6a824\" y=\"294.118125\"/>\r\n      </g>\r\n     </g>\r\n     <g id=\"text_2\">\r\n      <!-- 0.02 -->\r\n      <defs>\r\n       <path d=\"M 19.1875 8.296875 \r\nL 53.609375 8.296875 \r\nL 53.609375 0 \r\nL 7.328125 0 \r\nL 7.328125 8.296875 \r\nQ 12.9375 14.109375 22.625 23.890625 \r\nQ 32.328125 33.6875 34.8125 36.53125 \r\nQ 39.546875 41.84375 41.421875 45.53125 \r\nQ 43.3125 49.21875 43.3125 52.78125 \r\nQ 43.3125 58.59375 39.234375 62.25 \r\nQ 35.15625 65.921875 28.609375 65.921875 \r\nQ 23.96875 65.921875 18.8125 64.3125 \r\nQ 13.671875 62.703125 7.8125 59.421875 \r\nL 7.8125 69.390625 \r\nQ 13.765625 71.78125 18.9375 73 \r\nQ 24.125 74.21875 28.421875 74.21875 \r\nQ 39.75 74.21875 46.484375 68.546875 \r\nQ 53.21875 62.890625 53.21875 53.421875 \r\nQ 53.21875 48.921875 51.53125 44.890625 \r\nQ 49.859375 40.875 45.40625 35.40625 \r\nQ 44.1875 33.984375 37.640625 27.21875 \r\nQ 31.109375 20.453125 19.1875 8.296875 \r\nz\r\n\" id=\"DejaVuSans-50\"/>\r\n      </defs>\r\n      <g transform=\"translate(206.476972 308.716563)scale(0.1 -0.1)\">\r\n       <use xlink:href=\"#DejaVuSans-48\"/>\r\n       <use x=\"63.623047\" xlink:href=\"#DejaVuSans-46\"/>\r\n       <use x=\"95.410156\" xlink:href=\"#DejaVuSans-48\"/>\r\n       <use x=\"159.033203\" xlink:href=\"#DejaVuSans-50\"/>\r\n      </g>\r\n     </g>\r\n    </g>\r\n    <g id=\"xtick_3\">\r\n     <g id=\"line2d_3\">\r\n      <g>\r\n       <use style=\"stroke:#000000;stroke-width:0.8;\" x=\"346.578944\" xlink:href=\"#ma172a6a824\" y=\"294.118125\"/>\r\n      </g>\r\n     </g>\r\n     <g id=\"text_3\">\r\n      <!-- 0.04 -->\r\n      <defs>\r\n       <path d=\"M 37.796875 64.3125 \r\nL 12.890625 25.390625 \r\nL 37.796875 25.390625 \r\nz\r\nM 35.203125 72.90625 \r\nL 47.609375 72.90625 \r\nL 47.609375 25.390625 \r\nL 58.015625 25.390625 \r\nL 58.015625 17.1875 \r\nL 47.609375 17.1875 \r\nL 47.609375 0 \r\nL 37.796875 0 \r\nL 37.796875 17.1875 \r\nL 4.890625 17.1875 \r\nL 4.890625 26.703125 \r\nz\r\n\" id=\"DejaVuSans-52\"/>\r\n      </defs>\r\n      <g transform=\"translate(335.446131 308.716563)scale(0.1 -0.1)\">\r\n       <use xlink:href=\"#DejaVuSans-48\"/>\r\n       <use x=\"63.623047\" xlink:href=\"#DejaVuSans-46\"/>\r\n       <use x=\"95.410156\" xlink:href=\"#DejaVuSans-48\"/>\r\n       <use x=\"159.033203\" xlink:href=\"#DejaVuSans-52\"/>\r\n      </g>\r\n     </g>\r\n    </g>\r\n    <g id=\"xtick_4\">\r\n     <g id=\"line2d_4\">\r\n      <g>\r\n       <use style=\"stroke:#000000;stroke-width:0.8;\" x=\"475.548103\" xlink:href=\"#ma172a6a824\" y=\"294.118125\"/>\r\n      </g>\r\n     </g>\r\n     <g id=\"text_4\">\r\n      <!-- 0.06 -->\r\n      <defs>\r\n       <path d=\"M 33.015625 40.375 \r\nQ 26.375 40.375 22.484375 35.828125 \r\nQ 18.609375 31.296875 18.609375 23.390625 \r\nQ 18.609375 15.53125 22.484375 10.953125 \r\nQ 26.375 6.390625 33.015625 6.390625 \r\nQ 39.65625 6.390625 43.53125 10.953125 \r\nQ 47.40625 15.53125 47.40625 23.390625 \r\nQ 47.40625 31.296875 43.53125 35.828125 \r\nQ 39.65625 40.375 33.015625 40.375 \r\nz\r\nM 52.59375 71.296875 \r\nL 52.59375 62.3125 \r\nQ 48.875 64.0625 45.09375 64.984375 \r\nQ 41.3125 65.921875 37.59375 65.921875 \r\nQ 27.828125 65.921875 22.671875 59.328125 \r\nQ 17.53125 52.734375 16.796875 39.40625 \r\nQ 19.671875 43.65625 24.015625 45.921875 \r\nQ 28.375 48.1875 33.59375 48.1875 \r\nQ 44.578125 48.1875 50.953125 41.515625 \r\nQ 57.328125 34.859375 57.328125 23.390625 \r\nQ 57.328125 12.15625 50.6875 5.359375 \r\nQ 44.046875 -1.421875 33.015625 -1.421875 \r\nQ 20.359375 -1.421875 13.671875 8.265625 \r\nQ 6.984375 17.96875 6.984375 36.375 \r\nQ 6.984375 53.65625 15.1875 63.9375 \r\nQ 23.390625 74.21875 37.203125 74.21875 \r\nQ 40.921875 74.21875 44.703125 73.484375 \r\nQ 48.484375 72.75 52.59375 71.296875 \r\nz\r\n\" id=\"DejaVuSans-54\"/>\r\n      </defs>\r\n      <g transform=\"translate(464.415291 308.716563)scale(0.1 -0.1)\">\r\n       <use xlink:href=\"#DejaVuSans-48\"/>\r\n       <use x=\"63.623047\" xlink:href=\"#DejaVuSans-46\"/>\r\n       <use x=\"95.410156\" xlink:href=\"#DejaVuSans-48\"/>\r\n       <use x=\"159.033203\" xlink:href=\"#DejaVuSans-54\"/>\r\n      </g>\r\n     </g>\r\n    </g>\r\n    <g id=\"xtick_5\">\r\n     <g id=\"line2d_5\">\r\n      <g>\r\n       <use style=\"stroke:#000000;stroke-width:0.8;\" x=\"604.517263\" xlink:href=\"#ma172a6a824\" y=\"294.118125\"/>\r\n      </g>\r\n     </g>\r\n     <g id=\"text_5\">\r\n      <!-- 0.08 -->\r\n      <defs>\r\n       <path d=\"M 31.78125 34.625 \r\nQ 24.75 34.625 20.71875 30.859375 \r\nQ 16.703125 27.09375 16.703125 20.515625 \r\nQ 16.703125 13.921875 20.71875 10.15625 \r\nQ 24.75 6.390625 31.78125 6.390625 \r\nQ 38.8125 6.390625 42.859375 10.171875 \r\nQ 46.921875 13.96875 46.921875 20.515625 \r\nQ 46.921875 27.09375 42.890625 30.859375 \r\nQ 38.875 34.625 31.78125 34.625 \r\nz\r\nM 21.921875 38.8125 \r\nQ 15.578125 40.375 12.03125 44.71875 \r\nQ 8.5 49.078125 8.5 55.328125 \r\nQ 8.5 64.0625 14.71875 69.140625 \r\nQ 20.953125 74.21875 31.78125 74.21875 \r\nQ 42.671875 74.21875 48.875 69.140625 \r\nQ 55.078125 64.0625 55.078125 55.328125 \r\nQ 55.078125 49.078125 51.53125 44.71875 \r\nQ 48 40.375 41.703125 38.8125 \r\nQ 48.828125 37.15625 52.796875 32.3125 \r\nQ 56.78125 27.484375 56.78125 20.515625 \r\nQ 56.78125 9.90625 50.3125 4.234375 \r\nQ 43.84375 -1.421875 31.78125 -1.421875 \r\nQ 19.734375 -1.421875 13.25 4.234375 \r\nQ 6.78125 9.90625 6.78125 20.515625 \r\nQ 6.78125 27.484375 10.78125 32.3125 \r\nQ 14.796875 37.15625 21.921875 38.8125 \r\nz\r\nM 18.3125 54.390625 \r\nQ 18.3125 48.734375 21.84375 45.5625 \r\nQ 25.390625 42.390625 31.78125 42.390625 \r\nQ 38.140625 42.390625 41.71875 45.5625 \r\nQ 45.3125 48.734375 45.3125 54.390625 \r\nQ 45.3125 60.0625 41.71875 63.234375 \r\nQ 38.140625 66.40625 31.78125 66.40625 \r\nQ 25.390625 66.40625 21.84375 63.234375 \r\nQ 18.3125 60.0625 18.3125 54.390625 \r\nz\r\n\" id=\"DejaVuSans-56\"/>\r\n      </defs>\r\n      <g transform=\"translate(593.38445 308.716563)scale(0.1 -0.1)\">\r\n       <use xlink:href=\"#DejaVuSans-48\"/>\r\n       <use x=\"63.623047\" xlink:href=\"#DejaVuSans-46\"/>\r\n       <use x=\"95.410156\" xlink:href=\"#DejaVuSans-48\"/>\r\n       <use x=\"159.033203\" xlink:href=\"#DejaVuSans-56\"/>\r\n      </g>\r\n     </g>\r\n    </g>\r\n    <g id=\"xtick_6\">\r\n     <g id=\"line2d_6\">\r\n      <g>\r\n       <use style=\"stroke:#000000;stroke-width:0.8;\" x=\"733.486422\" xlink:href=\"#ma172a6a824\" y=\"294.118125\"/>\r\n      </g>\r\n     </g>\r\n     <g id=\"text_6\">\r\n      <!-- 0.10 -->\r\n      <defs>\r\n       <path d=\"M 12.40625 8.296875 \r\nL 28.515625 8.296875 \r\nL 28.515625 63.921875 \r\nL 10.984375 60.40625 \r\nL 10.984375 69.390625 \r\nL 28.421875 72.90625 \r\nL 38.28125 72.90625 \r\nL 38.28125 8.296875 \r\nL 54.390625 8.296875 \r\nL 54.390625 0 \r\nL 12.40625 0 \r\nz\r\n\" id=\"DejaVuSans-49\"/>\r\n      </defs>\r\n      <g transform=\"translate(722.353609 308.716563)scale(0.1 -0.1)\">\r\n       <use xlink:href=\"#DejaVuSans-48\"/>\r\n       <use x=\"63.623047\" xlink:href=\"#DejaVuSans-46\"/>\r\n       <use x=\"95.410156\" xlink:href=\"#DejaVuSans-49\"/>\r\n       <use x=\"159.033203\" xlink:href=\"#DejaVuSans-48\"/>\r\n      </g>\r\n     </g>\r\n    </g>\r\n    <g id=\"xtick_7\">\r\n     <g id=\"line2d_7\">\r\n      <g>\r\n       <use style=\"stroke:#000000;stroke-width:0.8;\" x=\"862.455581\" xlink:href=\"#ma172a6a824\" y=\"294.118125\"/>\r\n      </g>\r\n     </g>\r\n     <g id=\"text_7\">\r\n      <!-- 0.12 -->\r\n      <g transform=\"translate(851.322769 308.716563)scale(0.1 -0.1)\">\r\n       <use xlink:href=\"#DejaVuSans-48\"/>\r\n       <use x=\"63.623047\" xlink:href=\"#DejaVuSans-46\"/>\r\n       <use x=\"95.410156\" xlink:href=\"#DejaVuSans-49\"/>\r\n       <use x=\"159.033203\" xlink:href=\"#DejaVuSans-50\"/>\r\n      </g>\r\n     </g>\r\n    </g>\r\n   </g>\r\n   <g id=\"matplotlib.axis_2\">\r\n    <g id=\"ytick_1\">\r\n     <g id=\"line2d_8\">\r\n      <defs>\r\n       <path d=\"M 0 0 \r\nL -3.5 0 \r\n\" id=\"mb7a0d5abba\" style=\"stroke:#000000;stroke-width:0.8;\"/>\r\n      </defs>\r\n      <g>\r\n       <use style=\"stroke:#000000;stroke-width:0.8;\" x=\"88.640625\" xlink:href=\"#mb7a0d5abba\" y=\"286.124007\"/>\r\n      </g>\r\n     </g>\r\n     <g id=\"text_8\">\r\n      <!-- side -->\r\n      <defs>\r\n       <path d=\"M 44.28125 53.078125 \r\nL 44.28125 44.578125 \r\nQ 40.484375 46.53125 36.375 47.5 \r\nQ 32.28125 48.484375 27.875 48.484375 \r\nQ 21.1875 48.484375 17.84375 46.4375 \r\nQ 14.5 44.390625 14.5 40.28125 \r\nQ 14.5 37.15625 16.890625 35.375 \r\nQ 19.28125 33.59375 26.515625 31.984375 \r\nL 29.59375 31.296875 \r\nQ 39.15625 29.25 43.1875 25.515625 \r\nQ 47.21875 21.78125 47.21875 15.09375 \r\nQ 47.21875 7.46875 41.1875 3.015625 \r\nQ 35.15625 -1.421875 24.609375 -1.421875 \r\nQ 20.21875 -1.421875 15.453125 -0.5625 \r\nQ 10.6875 0.296875 5.421875 2 \r\nL 5.421875 11.28125 \r\nQ 10.40625 8.6875 15.234375 7.390625 \r\nQ 20.0625 6.109375 24.8125 6.109375 \r\nQ 31.15625 6.109375 34.5625 8.28125 \r\nQ 37.984375 10.453125 37.984375 14.40625 \r\nQ 37.984375 18.0625 35.515625 20.015625 \r\nQ 33.0625 21.96875 24.703125 23.78125 \r\nL 21.578125 24.515625 \r\nQ 13.234375 26.265625 9.515625 29.90625 \r\nQ 5.8125 33.546875 5.8125 39.890625 \r\nQ 5.8125 47.609375 11.28125 51.796875 \r\nQ 16.75 56 26.8125 56 \r\nQ 31.78125 56 36.171875 55.265625 \r\nQ 40.578125 54.546875 44.28125 53.078125 \r\nz\r\n\" id=\"DejaVuSans-115\"/>\r\n       <path d=\"M 9.421875 54.6875 \r\nL 18.40625 54.6875 \r\nL 18.40625 0 \r\nL 9.421875 0 \r\nz\r\nM 9.421875 75.984375 \r\nL 18.40625 75.984375 \r\nL 18.40625 64.59375 \r\nL 9.421875 64.59375 \r\nz\r\n\" id=\"DejaVuSans-105\"/>\r\n       <path d=\"M 45.40625 46.390625 \r\nL 45.40625 75.984375 \r\nL 54.390625 75.984375 \r\nL 54.390625 0 \r\nL 45.40625 0 \r\nL 45.40625 8.203125 \r\nQ 42.578125 3.328125 38.25 0.953125 \r\nQ 33.9375 -1.421875 27.875 -1.421875 \r\nQ 17.96875 -1.421875 11.734375 6.484375 \r\nQ 5.515625 14.40625 5.515625 27.296875 \r\nQ 5.515625 40.1875 11.734375 48.09375 \r\nQ 17.96875 56 27.875 56 \r\nQ 33.9375 56 38.25 53.625 \r\nQ 42.578125 51.265625 45.40625 46.390625 \r\nz\r\nM 14.796875 27.296875 \r\nQ 14.796875 17.390625 18.875 11.75 \r\nQ 22.953125 6.109375 30.078125 6.109375 \r\nQ 37.203125 6.109375 41.296875 11.75 \r\nQ 45.40625 17.390625 45.40625 27.296875 \r\nQ 45.40625 37.203125 41.296875 42.84375 \r\nQ 37.203125 48.484375 30.078125 48.484375 \r\nQ 22.953125 48.484375 18.875 42.84375 \r\nQ 14.796875 37.203125 14.796875 27.296875 \r\nz\r\n\" id=\"DejaVuSans-100\"/>\r\n       <path d=\"M 56.203125 29.59375 \r\nL 56.203125 25.203125 \r\nL 14.890625 25.203125 \r\nQ 15.484375 15.921875 20.484375 11.0625 \r\nQ 25.484375 6.203125 34.421875 6.203125 \r\nQ 39.59375 6.203125 44.453125 7.46875 \r\nQ 49.3125 8.734375 54.109375 11.28125 \r\nL 54.109375 2.78125 \r\nQ 49.265625 0.734375 44.1875 -0.34375 \r\nQ 39.109375 -1.421875 33.890625 -1.421875 \r\nQ 20.796875 -1.421875 13.15625 6.1875 \r\nQ 5.515625 13.8125 5.515625 26.8125 \r\nQ 5.515625 40.234375 12.765625 48.109375 \r\nQ 20.015625 56 32.328125 56 \r\nQ 43.359375 56 49.78125 48.890625 \r\nQ 56.203125 41.796875 56.203125 29.59375 \r\nz\r\nM 47.21875 32.234375 \r\nQ 47.125 39.59375 43.09375 43.984375 \r\nQ 39.0625 48.390625 32.421875 48.390625 \r\nQ 24.90625 48.390625 20.390625 44.140625 \r\nQ 15.875 39.890625 15.1875 32.171875 \r\nz\r\n\" id=\"DejaVuSans-101\"/>\r\n      </defs>\r\n      <g transform=\"translate(61.151562 289.923226)scale(0.1 -0.1)\">\r\n       <use xlink:href=\"#DejaVuSans-115\"/>\r\n       <use x=\"52.099609\" xlink:href=\"#DejaVuSans-105\"/>\r\n       <use x=\"79.882812\" xlink:href=\"#DejaVuSans-100\"/>\r\n       <use x=\"143.359375\" xlink:href=\"#DejaVuSans-101\"/>\r\n      </g>\r\n     </g>\r\n    </g>\r\n    <g id=\"ytick_2\">\r\n     <g id=\"line2d_9\">\r\n      <g>\r\n       <use style=\"stroke:#000000;stroke-width:0.8;\" x=\"88.640625\" xlink:href=\"#mb7a0d5abba\" y=\"270.135772\"/>\r\n      </g>\r\n     </g>\r\n     <g id=\"text_9\">\r\n      <!-- log_ret -->\r\n      <defs>\r\n       <path d=\"M 9.421875 75.984375 \r\nL 18.40625 75.984375 \r\nL 18.40625 0 \r\nL 9.421875 0 \r\nz\r\n\" id=\"DejaVuSans-108\"/>\r\n       <path d=\"M 30.609375 48.390625 \r\nQ 23.390625 48.390625 19.1875 42.75 \r\nQ 14.984375 37.109375 14.984375 27.296875 \r\nQ 14.984375 17.484375 19.15625 11.84375 \r\nQ 23.34375 6.203125 30.609375 6.203125 \r\nQ 37.796875 6.203125 41.984375 11.859375 \r\nQ 46.1875 17.53125 46.1875 27.296875 \r\nQ 46.1875 37.015625 41.984375 42.703125 \r\nQ 37.796875 48.390625 30.609375 48.390625 \r\nz\r\nM 30.609375 56 \r\nQ 42.328125 56 49.015625 48.375 \r\nQ 55.71875 40.765625 55.71875 27.296875 \r\nQ 55.71875 13.875 49.015625 6.21875 \r\nQ 42.328125 -1.421875 30.609375 -1.421875 \r\nQ 18.84375 -1.421875 12.171875 6.21875 \r\nQ 5.515625 13.875 5.515625 27.296875 \r\nQ 5.515625 40.765625 12.171875 48.375 \r\nQ 18.84375 56 30.609375 56 \r\nz\r\n\" id=\"DejaVuSans-111\"/>\r\n       <path d=\"M 45.40625 27.984375 \r\nQ 45.40625 37.75 41.375 43.109375 \r\nQ 37.359375 48.484375 30.078125 48.484375 \r\nQ 22.859375 48.484375 18.828125 43.109375 \r\nQ 14.796875 37.75 14.796875 27.984375 \r\nQ 14.796875 18.265625 18.828125 12.890625 \r\nQ 22.859375 7.515625 30.078125 7.515625 \r\nQ 37.359375 7.515625 41.375 12.890625 \r\nQ 45.40625 18.265625 45.40625 27.984375 \r\nz\r\nM 54.390625 6.78125 \r\nQ 54.390625 -7.171875 48.1875 -13.984375 \r\nQ 42 -20.796875 29.203125 -20.796875 \r\nQ 24.46875 -20.796875 20.265625 -20.09375 \r\nQ 16.0625 -19.390625 12.109375 -17.921875 \r\nL 12.109375 -9.1875 \r\nQ 16.0625 -11.328125 19.921875 -12.34375 \r\nQ 23.78125 -13.375 27.78125 -13.375 \r\nQ 36.625 -13.375 41.015625 -8.765625 \r\nQ 45.40625 -4.15625 45.40625 5.171875 \r\nL 45.40625 9.625 \r\nQ 42.625 4.78125 38.28125 2.390625 \r\nQ 33.9375 0 27.875 0 \r\nQ 17.828125 0 11.671875 7.65625 \r\nQ 5.515625 15.328125 5.515625 27.984375 \r\nQ 5.515625 40.671875 11.671875 48.328125 \r\nQ 17.828125 56 27.875 56 \r\nQ 33.9375 56 38.28125 53.609375 \r\nQ 42.625 51.21875 45.40625 46.390625 \r\nL 45.40625 54.6875 \r\nL 54.390625 54.6875 \r\nz\r\n\" id=\"DejaVuSans-103\"/>\r\n       <path d=\"M 50.984375 -16.609375 \r\nL 50.984375 -23.578125 \r\nL -0.984375 -23.578125 \r\nL -0.984375 -16.609375 \r\nz\r\n\" id=\"DejaVuSans-95\"/>\r\n       <path d=\"M 41.109375 46.296875 \r\nQ 39.59375 47.171875 37.8125 47.578125 \r\nQ 36.03125 48 33.890625 48 \r\nQ 26.265625 48 22.1875 43.046875 \r\nQ 18.109375 38.09375 18.109375 28.8125 \r\nL 18.109375 0 \r\nL 9.078125 0 \r\nL 9.078125 54.6875 \r\nL 18.109375 54.6875 \r\nL 18.109375 46.1875 \r\nQ 20.953125 51.171875 25.484375 53.578125 \r\nQ 30.03125 56 36.53125 56 \r\nQ 37.453125 56 38.578125 55.875 \r\nQ 39.703125 55.765625 41.0625 55.515625 \r\nz\r\n\" id=\"DejaVuSans-114\"/>\r\n       <path d=\"M 18.3125 70.21875 \r\nL 18.3125 54.6875 \r\nL 36.8125 54.6875 \r\nL 36.8125 47.703125 \r\nL 18.3125 47.703125 \r\nL 18.3125 18.015625 \r\nQ 18.3125 11.328125 20.140625 9.421875 \r\nQ 21.96875 7.515625 27.59375 7.515625 \r\nL 36.8125 7.515625 \r\nL 36.8125 0 \r\nL 27.59375 0 \r\nQ 17.1875 0 13.234375 3.875 \r\nQ 9.28125 7.765625 9.28125 18.015625 \r\nL 9.28125 47.703125 \r\nL 2.6875 47.703125 \r\nL 2.6875 54.6875 \r\nL 9.28125 54.6875 \r\nL 9.28125 70.21875 \r\nz\r\n\" id=\"DejaVuSans-116\"/>\r\n      </defs>\r\n      <g transform=\"translate(47.435938 273.934991)scale(0.1 -0.1)\">\r\n       <use xlink:href=\"#DejaVuSans-108\"/>\r\n       <use x=\"27.783203\" xlink:href=\"#DejaVuSans-111\"/>\r\n       <use x=\"88.964844\" xlink:href=\"#DejaVuSans-103\"/>\r\n       <use x=\"152.441406\" xlink:href=\"#DejaVuSans-95\"/>\r\n       <use x=\"202.441406\" xlink:href=\"#DejaVuSans-114\"/>\r\n       <use x=\"241.304688\" xlink:href=\"#DejaVuSans-101\"/>\r\n       <use x=\"302.828125\" xlink:href=\"#DejaVuSans-116\"/>\r\n      </g>\r\n     </g>\r\n    </g>\r\n    <g id=\"ytick_3\">\r\n     <g id=\"line2d_10\">\r\n      <g>\r\n       <use style=\"stroke:#000000;stroke-width:0.8;\" x=\"88.640625\" xlink:href=\"#mb7a0d5abba\" y=\"254.147537\"/>\r\n      </g>\r\n     </g>\r\n     <g id=\"text_10\">\r\n      <!-- mom1 -->\r\n      <defs>\r\n       <path d=\"M 52 44.1875 \r\nQ 55.375 50.25 60.0625 53.125 \r\nQ 64.75 56 71.09375 56 \r\nQ 79.640625 56 84.28125 50.015625 \r\nQ 88.921875 44.046875 88.921875 33.015625 \r\nL 88.921875 0 \r\nL 79.890625 0 \r\nL 79.890625 32.71875 \r\nQ 79.890625 40.578125 77.09375 44.375 \r\nQ 74.3125 48.1875 68.609375 48.1875 \r\nQ 61.625 48.1875 57.5625 43.546875 \r\nQ 53.515625 38.921875 53.515625 30.90625 \r\nL 53.515625 0 \r\nL 44.484375 0 \r\nL 44.484375 32.71875 \r\nQ 44.484375 40.625 41.703125 44.40625 \r\nQ 38.921875 48.1875 33.109375 48.1875 \r\nQ 26.21875 48.1875 22.15625 43.53125 \r\nQ 18.109375 38.875 18.109375 30.90625 \r\nL 18.109375 0 \r\nL 9.078125 0 \r\nL 9.078125 54.6875 \r\nL 18.109375 54.6875 \r\nL 18.109375 46.1875 \r\nQ 21.1875 51.21875 25.484375 53.609375 \r\nQ 29.78125 56 35.6875 56 \r\nQ 41.65625 56 45.828125 52.96875 \r\nQ 50 49.953125 52 44.1875 \r\nz\r\n\" id=\"DejaVuSans-109\"/>\r\n      </defs>\r\n      <g transform=\"translate(49.678125 257.946756)scale(0.1 -0.1)\">\r\n       <use xlink:href=\"#DejaVuSans-109\"/>\r\n       <use x=\"97.412109\" xlink:href=\"#DejaVuSans-111\"/>\r\n       <use x=\"158.59375\" xlink:href=\"#DejaVuSans-109\"/>\r\n       <use x=\"256.005859\" xlink:href=\"#DejaVuSans-49\"/>\r\n      </g>\r\n     </g>\r\n    </g>\r\n    <g id=\"ytick_4\">\r\n     <g id=\"line2d_11\">\r\n      <g>\r\n       <use style=\"stroke:#000000;stroke-width:0.8;\" x=\"88.640625\" xlink:href=\"#mb7a0d5abba\" y=\"238.159301\"/>\r\n      </g>\r\n     </g>\r\n     <g id=\"text_11\">\r\n      <!-- mom2 -->\r\n      <g transform=\"translate(49.678125 241.95852)scale(0.1 -0.1)\">\r\n       <use xlink:href=\"#DejaVuSans-109\"/>\r\n       <use x=\"97.412109\" xlink:href=\"#DejaVuSans-111\"/>\r\n       <use x=\"158.59375\" xlink:href=\"#DejaVuSans-109\"/>\r\n       <use x=\"256.005859\" xlink:href=\"#DejaVuSans-50\"/>\r\n      </g>\r\n     </g>\r\n    </g>\r\n    <g id=\"ytick_5\">\r\n     <g id=\"line2d_12\">\r\n      <g>\r\n       <use style=\"stroke:#000000;stroke-width:0.8;\" x=\"88.640625\" xlink:href=\"#mb7a0d5abba\" y=\"222.171066\"/>\r\n      </g>\r\n     </g>\r\n     <g id=\"text_12\">\r\n      <!-- mom4 -->\r\n      <g transform=\"translate(49.678125 225.970285)scale(0.1 -0.1)\">\r\n       <use xlink:href=\"#DejaVuSans-109\"/>\r\n       <use x=\"97.412109\" xlink:href=\"#DejaVuSans-111\"/>\r\n       <use x=\"158.59375\" xlink:href=\"#DejaVuSans-109\"/>\r\n       <use x=\"256.005859\" xlink:href=\"#DejaVuSans-52\"/>\r\n      </g>\r\n     </g>\r\n    </g>\r\n    <g id=\"ytick_6\">\r\n     <g id=\"line2d_13\">\r\n      <g>\r\n       <use style=\"stroke:#000000;stroke-width:0.8;\" x=\"88.640625\" xlink:href=\"#mb7a0d5abba\" y=\"206.182831\"/>\r\n      </g>\r\n     </g>\r\n     <g id=\"text_13\">\r\n      <!-- mom5 -->\r\n      <defs>\r\n       <path d=\"M 10.796875 72.90625 \r\nL 49.515625 72.90625 \r\nL 49.515625 64.59375 \r\nL 19.828125 64.59375 \r\nL 19.828125 46.734375 \r\nQ 21.96875 47.46875 24.109375 47.828125 \r\nQ 26.265625 48.1875 28.421875 48.1875 \r\nQ 40.625 48.1875 47.75 41.5 \r\nQ 54.890625 34.8125 54.890625 23.390625 \r\nQ 54.890625 11.625 47.5625 5.09375 \r\nQ 40.234375 -1.421875 26.90625 -1.421875 \r\nQ 22.3125 -1.421875 17.546875 -0.640625 \r\nQ 12.796875 0.140625 7.71875 1.703125 \r\nL 7.71875 11.625 \r\nQ 12.109375 9.234375 16.796875 8.0625 \r\nQ 21.484375 6.890625 26.703125 6.890625 \r\nQ 35.15625 6.890625 40.078125 11.328125 \r\nQ 45.015625 15.765625 45.015625 23.390625 \r\nQ 45.015625 31 40.078125 35.4375 \r\nQ 35.15625 39.890625 26.703125 39.890625 \r\nQ 22.75 39.890625 18.8125 39.015625 \r\nQ 14.890625 38.140625 10.796875 36.28125 \r\nz\r\n\" id=\"DejaVuSans-53\"/>\r\n      </defs>\r\n      <g transform=\"translate(49.678125 209.98205)scale(0.1 -0.1)\">\r\n       <use xlink:href=\"#DejaVuSans-109\"/>\r\n       <use x=\"97.412109\" xlink:href=\"#DejaVuSans-111\"/>\r\n       <use x=\"158.59375\" xlink:href=\"#DejaVuSans-109\"/>\r\n       <use x=\"256.005859\" xlink:href=\"#DejaVuSans-53\"/>\r\n      </g>\r\n     </g>\r\n    </g>\r\n    <g id=\"ytick_7\">\r\n     <g id=\"line2d_14\">\r\n      <g>\r\n       <use style=\"stroke:#000000;stroke-width:0.8;\" x=\"88.640625\" xlink:href=\"#mb7a0d5abba\" y=\"190.194596\"/>\r\n      </g>\r\n     </g>\r\n     <g id=\"text_14\">\r\n      <!-- mom3 -->\r\n      <defs>\r\n       <path d=\"M 40.578125 39.3125 \r\nQ 47.65625 37.796875 51.625 33 \r\nQ 55.609375 28.21875 55.609375 21.1875 \r\nQ 55.609375 10.40625 48.1875 4.484375 \r\nQ 40.765625 -1.421875 27.09375 -1.421875 \r\nQ 22.515625 -1.421875 17.65625 -0.515625 \r\nQ 12.796875 0.390625 7.625 2.203125 \r\nL 7.625 11.71875 \r\nQ 11.71875 9.328125 16.59375 8.109375 \r\nQ 21.484375 6.890625 26.8125 6.890625 \r\nQ 36.078125 6.890625 40.9375 10.546875 \r\nQ 45.796875 14.203125 45.796875 21.1875 \r\nQ 45.796875 27.640625 41.28125 31.265625 \r\nQ 36.765625 34.90625 28.71875 34.90625 \r\nL 20.21875 34.90625 \r\nL 20.21875 43.015625 \r\nL 29.109375 43.015625 \r\nQ 36.375 43.015625 40.234375 45.921875 \r\nQ 44.09375 48.828125 44.09375 54.296875 \r\nQ 44.09375 59.90625 40.109375 62.90625 \r\nQ 36.140625 65.921875 28.71875 65.921875 \r\nQ 24.65625 65.921875 20.015625 65.03125 \r\nQ 15.375 64.15625 9.8125 62.3125 \r\nL 9.8125 71.09375 \r\nQ 15.4375 72.65625 20.34375 73.4375 \r\nQ 25.25 74.21875 29.59375 74.21875 \r\nQ 40.828125 74.21875 47.359375 69.109375 \r\nQ 53.90625 64.015625 53.90625 55.328125 \r\nQ 53.90625 49.265625 50.4375 45.09375 \r\nQ 46.96875 40.921875 40.578125 39.3125 \r\nz\r\n\" id=\"DejaVuSans-51\"/>\r\n      </defs>\r\n      <g transform=\"translate(49.678125 193.993814)scale(0.1 -0.1)\">\r\n       <use xlink:href=\"#DejaVuSans-109\"/>\r\n       <use x=\"97.412109\" xlink:href=\"#DejaVuSans-111\"/>\r\n       <use x=\"158.59375\" xlink:href=\"#DejaVuSans-109\"/>\r\n       <use x=\"256.005859\" xlink:href=\"#DejaVuSans-51\"/>\r\n      </g>\r\n     </g>\r\n    </g>\r\n    <g id=\"ytick_8\">\r\n     <g id=\"line2d_15\">\r\n      <g>\r\n       <use style=\"stroke:#000000;stroke-width:0.8;\" x=\"88.640625\" xlink:href=\"#mb7a0d5abba\" y=\"174.20636\"/>\r\n      </g>\r\n     </g>\r\n     <g id=\"text_15\">\r\n      <!-- autocorr_3 -->\r\n      <defs>\r\n       <path d=\"M 34.28125 27.484375 \r\nQ 23.390625 27.484375 19.1875 25 \r\nQ 14.984375 22.515625 14.984375 16.5 \r\nQ 14.984375 11.71875 18.140625 8.90625 \r\nQ 21.296875 6.109375 26.703125 6.109375 \r\nQ 34.1875 6.109375 38.703125 11.40625 \r\nQ 43.21875 16.703125 43.21875 25.484375 \r\nL 43.21875 27.484375 \r\nz\r\nM 52.203125 31.203125 \r\nL 52.203125 0 \r\nL 43.21875 0 \r\nL 43.21875 8.296875 \r\nQ 40.140625 3.328125 35.546875 0.953125 \r\nQ 30.953125 -1.421875 24.3125 -1.421875 \r\nQ 15.921875 -1.421875 10.953125 3.296875 \r\nQ 6 8.015625 6 15.921875 \r\nQ 6 25.140625 12.171875 29.828125 \r\nQ 18.359375 34.515625 30.609375 34.515625 \r\nL 43.21875 34.515625 \r\nL 43.21875 35.40625 \r\nQ 43.21875 41.609375 39.140625 45 \r\nQ 35.0625 48.390625 27.6875 48.390625 \r\nQ 23 48.390625 18.546875 47.265625 \r\nQ 14.109375 46.140625 10.015625 43.890625 \r\nL 10.015625 52.203125 \r\nQ 14.9375 54.109375 19.578125 55.046875 \r\nQ 24.21875 56 28.609375 56 \r\nQ 40.484375 56 46.34375 49.84375 \r\nQ 52.203125 43.703125 52.203125 31.203125 \r\nz\r\n\" id=\"DejaVuSans-97\"/>\r\n       <path d=\"M 8.5 21.578125 \r\nL 8.5 54.6875 \r\nL 17.484375 54.6875 \r\nL 17.484375 21.921875 \r\nQ 17.484375 14.15625 20.5 10.265625 \r\nQ 23.53125 6.390625 29.59375 6.390625 \r\nQ 36.859375 6.390625 41.078125 11.03125 \r\nQ 45.3125 15.671875 45.3125 23.6875 \r\nL 45.3125 54.6875 \r\nL 54.296875 54.6875 \r\nL 54.296875 0 \r\nL 45.3125 0 \r\nL 45.3125 8.40625 \r\nQ 42.046875 3.421875 37.71875 1 \r\nQ 33.40625 -1.421875 27.6875 -1.421875 \r\nQ 18.265625 -1.421875 13.375 4.4375 \r\nQ 8.5 10.296875 8.5 21.578125 \r\nz\r\nM 31.109375 56 \r\nz\r\n\" id=\"DejaVuSans-117\"/>\r\n       <path d=\"M 48.78125 52.59375 \r\nL 48.78125 44.1875 \r\nQ 44.96875 46.296875 41.140625 47.34375 \r\nQ 37.3125 48.390625 33.40625 48.390625 \r\nQ 24.65625 48.390625 19.8125 42.84375 \r\nQ 14.984375 37.3125 14.984375 27.296875 \r\nQ 14.984375 17.28125 19.8125 11.734375 \r\nQ 24.65625 6.203125 33.40625 6.203125 \r\nQ 37.3125 6.203125 41.140625 7.25 \r\nQ 44.96875 8.296875 48.78125 10.40625 \r\nL 48.78125 2.09375 \r\nQ 45.015625 0.34375 40.984375 -0.53125 \r\nQ 36.96875 -1.421875 32.421875 -1.421875 \r\nQ 20.0625 -1.421875 12.78125 6.34375 \r\nQ 5.515625 14.109375 5.515625 27.296875 \r\nQ 5.515625 40.671875 12.859375 48.328125 \r\nQ 20.21875 56 33.015625 56 \r\nQ 37.15625 56 41.109375 55.140625 \r\nQ 45.0625 54.296875 48.78125 52.59375 \r\nz\r\n\" id=\"DejaVuSans-99\"/>\r\n      </defs>\r\n      <g transform=\"translate(28.109375 177.917298)scale(0.1 -0.1)\">\r\n       <use xlink:href=\"#DejaVuSans-97\"/>\r\n       <use x=\"61.279297\" xlink:href=\"#DejaVuSans-117\"/>\r\n       <use x=\"124.658203\" xlink:href=\"#DejaVuSans-116\"/>\r\n       <use x=\"163.867188\" xlink:href=\"#DejaVuSans-111\"/>\r\n       <use x=\"225.048828\" xlink:href=\"#DejaVuSans-99\"/>\r\n       <use x=\"280.029297\" xlink:href=\"#DejaVuSans-111\"/>\r\n       <use x=\"341.210938\" xlink:href=\"#DejaVuSans-114\"/>\r\n       <use x=\"380.574219\" xlink:href=\"#DejaVuSans-114\"/>\r\n       <use x=\"421.6875\" xlink:href=\"#DejaVuSans-95\"/>\r\n       <use x=\"471.6875\" xlink:href=\"#DejaVuSans-51\"/>\r\n      </g>\r\n     </g>\r\n    </g>\r\n    <g id=\"ytick_9\">\r\n     <g id=\"line2d_16\">\r\n      <g>\r\n       <use style=\"stroke:#000000;stroke-width:0.8;\" x=\"88.640625\" xlink:href=\"#mb7a0d5abba\" y=\"158.218125\"/>\r\n      </g>\r\n     </g>\r\n     <g id=\"text_16\">\r\n      <!-- autocorr_4 -->\r\n      <g transform=\"translate(28.109375 161.878281)scale(0.1 -0.1)\">\r\n       <use xlink:href=\"#DejaVuSans-97\"/>\r\n       <use x=\"61.279297\" xlink:href=\"#DejaVuSans-117\"/>\r\n       <use x=\"124.658203\" xlink:href=\"#DejaVuSans-116\"/>\r\n       <use x=\"163.867188\" xlink:href=\"#DejaVuSans-111\"/>\r\n       <use x=\"225.048828\" xlink:href=\"#DejaVuSans-99\"/>\r\n       <use x=\"280.029297\" xlink:href=\"#DejaVuSans-111\"/>\r\n       <use x=\"341.210938\" xlink:href=\"#DejaVuSans-114\"/>\r\n       <use x=\"380.574219\" xlink:href=\"#DejaVuSans-114\"/>\r\n       <use x=\"421.6875\" xlink:href=\"#DejaVuSans-95\"/>\r\n       <use x=\"471.6875\" xlink:href=\"#DejaVuSans-52\"/>\r\n      </g>\r\n     </g>\r\n    </g>\r\n    <g id=\"ytick_10\">\r\n     <g id=\"line2d_17\">\r\n      <g>\r\n       <use style=\"stroke:#000000;stroke-width:0.8;\" x=\"88.640625\" xlink:href=\"#mb7a0d5abba\" y=\"142.22989\"/>\r\n      </g>\r\n     </g>\r\n     <g id=\"text_17\">\r\n      <!-- autocorr_5 -->\r\n      <g transform=\"translate(28.109375 145.890046)scale(0.1 -0.1)\">\r\n       <use xlink:href=\"#DejaVuSans-97\"/>\r\n       <use x=\"61.279297\" xlink:href=\"#DejaVuSans-117\"/>\r\n       <use x=\"124.658203\" xlink:href=\"#DejaVuSans-116\"/>\r\n       <use x=\"163.867188\" xlink:href=\"#DejaVuSans-111\"/>\r\n       <use x=\"225.048828\" xlink:href=\"#DejaVuSans-99\"/>\r\n       <use x=\"280.029297\" xlink:href=\"#DejaVuSans-111\"/>\r\n       <use x=\"341.210938\" xlink:href=\"#DejaVuSans-114\"/>\r\n       <use x=\"380.574219\" xlink:href=\"#DejaVuSans-114\"/>\r\n       <use x=\"421.6875\" xlink:href=\"#DejaVuSans-95\"/>\r\n       <use x=\"471.6875\" xlink:href=\"#DejaVuSans-53\"/>\r\n      </g>\r\n     </g>\r\n    </g>\r\n    <g id=\"ytick_11\">\r\n     <g id=\"line2d_18\">\r\n      <g>\r\n       <use style=\"stroke:#000000;stroke-width:0.8;\" x=\"88.640625\" xlink:href=\"#mb7a0d5abba\" y=\"126.241654\"/>\r\n      </g>\r\n     </g>\r\n     <g id=\"text_18\">\r\n      <!-- autocorr_1 -->\r\n      <g transform=\"translate(28.109375 129.901811)scale(0.1 -0.1)\">\r\n       <use xlink:href=\"#DejaVuSans-97\"/>\r\n       <use x=\"61.279297\" xlink:href=\"#DejaVuSans-117\"/>\r\n       <use x=\"124.658203\" xlink:href=\"#DejaVuSans-116\"/>\r\n       <use x=\"163.867188\" xlink:href=\"#DejaVuSans-111\"/>\r\n       <use x=\"225.048828\" xlink:href=\"#DejaVuSans-99\"/>\r\n       <use x=\"280.029297\" xlink:href=\"#DejaVuSans-111\"/>\r\n       <use x=\"341.210938\" xlink:href=\"#DejaVuSans-114\"/>\r\n       <use x=\"380.574219\" xlink:href=\"#DejaVuSans-114\"/>\r\n       <use x=\"421.6875\" xlink:href=\"#DejaVuSans-95\"/>\r\n       <use x=\"471.6875\" xlink:href=\"#DejaVuSans-49\"/>\r\n      </g>\r\n     </g>\r\n    </g>\r\n    <g id=\"ytick_12\">\r\n     <g id=\"line2d_19\">\r\n      <g>\r\n       <use style=\"stroke:#000000;stroke-width:0.8;\" x=\"88.640625\" xlink:href=\"#mb7a0d5abba\" y=\"110.253419\"/>\r\n      </g>\r\n     </g>\r\n     <g id=\"text_19\">\r\n      <!-- autocorr_2 -->\r\n      <g transform=\"translate(28.109375 113.964357)scale(0.1 -0.1)\">\r\n       <use xlink:href=\"#DejaVuSans-97\"/>\r\n       <use x=\"61.279297\" xlink:href=\"#DejaVuSans-117\"/>\r\n       <use x=\"124.658203\" xlink:href=\"#DejaVuSans-116\"/>\r\n       <use x=\"163.867188\" xlink:href=\"#DejaVuSans-111\"/>\r\n       <use x=\"225.048828\" xlink:href=\"#DejaVuSans-99\"/>\r\n       <use x=\"280.029297\" xlink:href=\"#DejaVuSans-111\"/>\r\n       <use x=\"341.210938\" xlink:href=\"#DejaVuSans-114\"/>\r\n       <use x=\"380.574219\" xlink:href=\"#DejaVuSans-114\"/>\r\n       <use x=\"421.6875\" xlink:href=\"#DejaVuSans-95\"/>\r\n       <use x=\"471.6875\" xlink:href=\"#DejaVuSans-50\"/>\r\n      </g>\r\n     </g>\r\n    </g>\r\n    <g id=\"ytick_13\">\r\n     <g id=\"line2d_20\">\r\n      <g>\r\n       <use style=\"stroke:#000000;stroke-width:0.8;\" x=\"88.640625\" xlink:href=\"#mb7a0d5abba\" y=\"94.265184\"/>\r\n      </g>\r\n     </g>\r\n     <g id=\"text_20\">\r\n      <!-- volatility_50 -->\r\n      <defs>\r\n       <path d=\"M 2.984375 54.6875 \r\nL 12.5 54.6875 \r\nL 29.59375 8.796875 \r\nL 46.6875 54.6875 \r\nL 56.203125 54.6875 \r\nL 35.6875 0 \r\nL 23.484375 0 \r\nz\r\n\" id=\"DejaVuSans-118\"/>\r\n       <path d=\"M 32.171875 -5.078125 \r\nQ 28.375 -14.84375 24.75 -17.8125 \r\nQ 21.140625 -20.796875 15.09375 -20.796875 \r\nL 7.90625 -20.796875 \r\nL 7.90625 -13.28125 \r\nL 13.1875 -13.28125 \r\nQ 16.890625 -13.28125 18.9375 -11.515625 \r\nQ 21 -9.765625 23.484375 -3.21875 \r\nL 25.09375 0.875 \r\nL 2.984375 54.6875 \r\nL 12.5 54.6875 \r\nL 29.59375 11.921875 \r\nL 46.6875 54.6875 \r\nL 56.203125 54.6875 \r\nz\r\n\" id=\"DejaVuSans-121\"/>\r\n      </defs>\r\n      <g transform=\"translate(20.878125 98.064403)scale(0.1 -0.1)\">\r\n       <use xlink:href=\"#DejaVuSans-118\"/>\r\n       <use x=\"59.179688\" xlink:href=\"#DejaVuSans-111\"/>\r\n       <use x=\"120.361328\" xlink:href=\"#DejaVuSans-108\"/>\r\n       <use x=\"148.144531\" xlink:href=\"#DejaVuSans-97\"/>\r\n       <use x=\"209.423828\" xlink:href=\"#DejaVuSans-116\"/>\r\n       <use x=\"248.632812\" xlink:href=\"#DejaVuSans-105\"/>\r\n       <use x=\"276.416016\" xlink:href=\"#DejaVuSans-108\"/>\r\n       <use x=\"304.199219\" xlink:href=\"#DejaVuSans-105\"/>\r\n       <use x=\"331.982422\" xlink:href=\"#DejaVuSans-116\"/>\r\n       <use x=\"371.191406\" xlink:href=\"#DejaVuSans-121\"/>\r\n       <use x=\"430.371094\" xlink:href=\"#DejaVuSans-95\"/>\r\n       <use x=\"480.371094\" xlink:href=\"#DejaVuSans-53\"/>\r\n       <use x=\"543.994141\" xlink:href=\"#DejaVuSans-48\"/>\r\n      </g>\r\n     </g>\r\n    </g>\r\n    <g id=\"ytick_14\">\r\n     <g id=\"line2d_21\">\r\n      <g>\r\n       <use style=\"stroke:#000000;stroke-width:0.8;\" x=\"88.640625\" xlink:href=\"#mb7a0d5abba\" y=\"78.276949\"/>\r\n      </g>\r\n     </g>\r\n     <g id=\"text_21\">\r\n      <!-- volatility_15 -->\r\n      <g transform=\"translate(20.878125 82.076167)scale(0.1 -0.1)\">\r\n       <use xlink:href=\"#DejaVuSans-118\"/>\r\n       <use x=\"59.179688\" xlink:href=\"#DejaVuSans-111\"/>\r\n       <use x=\"120.361328\" xlink:href=\"#DejaVuSans-108\"/>\r\n       <use x=\"148.144531\" xlink:href=\"#DejaVuSans-97\"/>\r\n       <use x=\"209.423828\" xlink:href=\"#DejaVuSans-116\"/>\r\n       <use x=\"248.632812\" xlink:href=\"#DejaVuSans-105\"/>\r\n       <use x=\"276.416016\" xlink:href=\"#DejaVuSans-108\"/>\r\n       <use x=\"304.199219\" xlink:href=\"#DejaVuSans-105\"/>\r\n       <use x=\"331.982422\" xlink:href=\"#DejaVuSans-116\"/>\r\n       <use x=\"371.191406\" xlink:href=\"#DejaVuSans-121\"/>\r\n       <use x=\"430.371094\" xlink:href=\"#DejaVuSans-95\"/>\r\n       <use x=\"480.371094\" xlink:href=\"#DejaVuSans-49\"/>\r\n       <use x=\"543.994141\" xlink:href=\"#DejaVuSans-53\"/>\r\n      </g>\r\n     </g>\r\n    </g>\r\n    <g id=\"ytick_15\">\r\n     <g id=\"line2d_22\">\r\n      <g>\r\n       <use style=\"stroke:#000000;stroke-width:0.8;\" x=\"88.640625\" xlink:href=\"#mb7a0d5abba\" y=\"62.288713\"/>\r\n      </g>\r\n     </g>\r\n     <g id=\"text_22\">\r\n      <!-- volatility_31 -->\r\n      <g transform=\"translate(20.878125 66.087932)scale(0.1 -0.1)\">\r\n       <use xlink:href=\"#DejaVuSans-118\"/>\r\n       <use x=\"59.179688\" xlink:href=\"#DejaVuSans-111\"/>\r\n       <use x=\"120.361328\" xlink:href=\"#DejaVuSans-108\"/>\r\n       <use x=\"148.144531\" xlink:href=\"#DejaVuSans-97\"/>\r\n       <use x=\"209.423828\" xlink:href=\"#DejaVuSans-116\"/>\r\n       <use x=\"248.632812\" xlink:href=\"#DejaVuSans-105\"/>\r\n       <use x=\"276.416016\" xlink:href=\"#DejaVuSans-108\"/>\r\n       <use x=\"304.199219\" xlink:href=\"#DejaVuSans-105\"/>\r\n       <use x=\"331.982422\" xlink:href=\"#DejaVuSans-116\"/>\r\n       <use x=\"371.191406\" xlink:href=\"#DejaVuSans-121\"/>\r\n       <use x=\"430.371094\" xlink:href=\"#DejaVuSans-95\"/>\r\n       <use x=\"480.371094\" xlink:href=\"#DejaVuSans-51\"/>\r\n       <use x=\"543.994141\" xlink:href=\"#DejaVuSans-49\"/>\r\n      </g>\r\n     </g>\r\n    </g>\r\n    <g id=\"ytick_16\">\r\n     <g id=\"line2d_23\">\r\n      <g>\r\n       <use style=\"stroke:#000000;stroke-width:0.8;\" x=\"88.640625\" xlink:href=\"#mb7a0d5abba\" y=\"46.300478\"/>\r\n      </g>\r\n     </g>\r\n     <g id=\"text_23\">\r\n      <!-- tick_num -->\r\n      <defs>\r\n       <path d=\"M 9.078125 75.984375 \r\nL 18.109375 75.984375 \r\nL 18.109375 31.109375 \r\nL 44.921875 54.6875 \r\nL 56.390625 54.6875 \r\nL 27.390625 29.109375 \r\nL 57.625 0 \r\nL 45.90625 0 \r\nL 18.109375 26.703125 \r\nL 18.109375 0 \r\nL 9.078125 0 \r\nz\r\n\" id=\"DejaVuSans-107\"/>\r\n       <path d=\"M 54.890625 33.015625 \r\nL 54.890625 0 \r\nL 45.90625 0 \r\nL 45.90625 32.71875 \r\nQ 45.90625 40.484375 42.875 44.328125 \r\nQ 39.84375 48.1875 33.796875 48.1875 \r\nQ 26.515625 48.1875 22.3125 43.546875 \r\nQ 18.109375 38.921875 18.109375 30.90625 \r\nL 18.109375 0 \r\nL 9.078125 0 \r\nL 9.078125 54.6875 \r\nL 18.109375 54.6875 \r\nL 18.109375 46.1875 \r\nQ 21.34375 51.125 25.703125 53.5625 \r\nQ 30.078125 56 35.796875 56 \r\nQ 45.21875 56 50.046875 50.171875 \r\nQ 54.890625 44.34375 54.890625 33.015625 \r\nz\r\n\" id=\"DejaVuSans-110\"/>\r\n      </defs>\r\n      <g transform=\"translate(36.2375 50.099697)scale(0.1 -0.1)\">\r\n       <use xlink:href=\"#DejaVuSans-116\"/>\r\n       <use x=\"39.208984\" xlink:href=\"#DejaVuSans-105\"/>\r\n       <use x=\"66.992188\" xlink:href=\"#DejaVuSans-99\"/>\r\n       <use x=\"121.972656\" xlink:href=\"#DejaVuSans-107\"/>\r\n       <use x=\"179.882812\" xlink:href=\"#DejaVuSans-95\"/>\r\n       <use x=\"229.882812\" xlink:href=\"#DejaVuSans-110\"/>\r\n       <use x=\"293.261719\" xlink:href=\"#DejaVuSans-117\"/>\r\n       <use x=\"356.640625\" xlink:href=\"#DejaVuSans-109\"/>\r\n      </g>\r\n     </g>\r\n    </g>\r\n    <g id=\"ytick_17\">\r\n     <g id=\"line2d_24\">\r\n      <g>\r\n       <use style=\"stroke:#000000;stroke-width:0.8;\" x=\"88.640625\" xlink:href=\"#mb7a0d5abba\" y=\"30.312243\"/>\r\n      </g>\r\n     </g>\r\n     <g id=\"text_24\">\r\n      <!-- volume -->\r\n      <g transform=\"translate(44.59375 34.111461)scale(0.1 -0.1)\">\r\n       <use xlink:href=\"#DejaVuSans-118\"/>\r\n       <use x=\"59.179688\" xlink:href=\"#DejaVuSans-111\"/>\r\n       <use x=\"120.361328\" xlink:href=\"#DejaVuSans-108\"/>\r\n       <use x=\"148.144531\" xlink:href=\"#DejaVuSans-117\"/>\r\n       <use x=\"211.523438\" xlink:href=\"#DejaVuSans-109\"/>\r\n       <use x=\"308.935547\" xlink:href=\"#DejaVuSans-101\"/>\r\n      </g>\r\n     </g>\r\n    </g>\r\n    <g id=\"text_25\">\r\n     <!-- feature -->\r\n     <defs>\r\n      <path d=\"M 37.109375 75.984375 \r\nL 37.109375 68.5 \r\nL 28.515625 68.5 \r\nQ 23.6875 68.5 21.796875 66.546875 \r\nQ 19.921875 64.59375 19.921875 59.515625 \r\nL 19.921875 54.6875 \r\nL 34.71875 54.6875 \r\nL 34.71875 47.703125 \r\nL 19.921875 47.703125 \r\nL 19.921875 0 \r\nL 10.890625 0 \r\nL 10.890625 47.703125 \r\nL 2.296875 47.703125 \r\nL 2.296875 54.6875 \r\nL 10.890625 54.6875 \r\nL 10.890625 58.5 \r\nQ 10.890625 67.625 15.140625 71.796875 \r\nQ 19.390625 75.984375 28.609375 75.984375 \r\nz\r\n\" id=\"DejaVuSans-102\"/>\r\n     </defs>\r\n     <g transform=\"translate(14.798437 176.267344)rotate(-90)scale(0.1 -0.1)\">\r\n      <use xlink:href=\"#DejaVuSans-102\"/>\r\n      <use x=\"35.205078\" xlink:href=\"#DejaVuSans-101\"/>\r\n      <use x=\"96.728516\" xlink:href=\"#DejaVuSans-97\"/>\r\n      <use x=\"158.007812\" xlink:href=\"#DejaVuSans-116\"/>\r\n      <use x=\"197.216797\" xlink:href=\"#DejaVuSans-117\"/>\r\n      <use x=\"260.595703\" xlink:href=\"#DejaVuSans-114\"/>\r\n      <use x=\"299.458984\" xlink:href=\"#DejaVuSans-101\"/>\r\n     </g>\r\n    </g>\r\n   </g>\r\n   <g id=\"patch_20\">\r\n    <path d=\"M 88.640625 294.118125 \r\nL 88.640625 22.318125 \r\n\" style=\"fill:none;stroke:#000000;stroke-linecap:square;stroke-linejoin:miter;stroke-width:0.8;\"/>\r\n   </g>\r\n   <g id=\"patch_21\">\r\n    <path d=\"M 925.640625 294.118125 \r\nL 925.640625 22.318125 \r\n\" style=\"fill:none;stroke:#000000;stroke-linecap:square;stroke-linejoin:miter;stroke-width:0.8;\"/>\r\n   </g>\r\n   <g id=\"patch_22\">\r\n    <path d=\"M 88.640625 294.118125 \r\nL 925.640625 294.118125 \r\n\" style=\"fill:none;stroke:#000000;stroke-linecap:square;stroke-linejoin:miter;stroke-width:0.8;\"/>\r\n   </g>\r\n   <g id=\"patch_23\">\r\n    <path d=\"M 88.640625 22.318125 \r\nL 925.640625 22.318125 \r\n\" style=\"fill:none;stroke:#000000;stroke-linecap:square;stroke-linejoin:miter;stroke-width:0.8;\"/>\r\n   </g>\r\n   <g id=\"text_26\">\r\n    <!-- Feature Importance -->\r\n    <defs>\r\n     <path d=\"M 9.8125 72.90625 \r\nL 51.703125 72.90625 \r\nL 51.703125 64.59375 \r\nL 19.671875 64.59375 \r\nL 19.671875 43.109375 \r\nL 48.578125 43.109375 \r\nL 48.578125 34.8125 \r\nL 19.671875 34.8125 \r\nL 19.671875 0 \r\nL 9.8125 0 \r\nz\r\n\" id=\"DejaVuSans-70\"/>\r\n     <path id=\"DejaVuSans-32\"/>\r\n     <path d=\"M 9.8125 72.90625 \r\nL 19.671875 72.90625 \r\nL 19.671875 0 \r\nL 9.8125 0 \r\nz\r\n\" id=\"DejaVuSans-73\"/>\r\n     <path d=\"M 18.109375 8.203125 \r\nL 18.109375 -20.796875 \r\nL 9.078125 -20.796875 \r\nL 9.078125 54.6875 \r\nL 18.109375 54.6875 \r\nL 18.109375 46.390625 \r\nQ 20.953125 51.265625 25.265625 53.625 \r\nQ 29.59375 56 35.59375 56 \r\nQ 45.5625 56 51.78125 48.09375 \r\nQ 58.015625 40.1875 58.015625 27.296875 \r\nQ 58.015625 14.40625 51.78125 6.484375 \r\nQ 45.5625 -1.421875 35.59375 -1.421875 \r\nQ 29.59375 -1.421875 25.265625 0.953125 \r\nQ 20.953125 3.328125 18.109375 8.203125 \r\nz\r\nM 48.6875 27.296875 \r\nQ 48.6875 37.203125 44.609375 42.84375 \r\nQ 40.53125 48.484375 33.40625 48.484375 \r\nQ 26.265625 48.484375 22.1875 42.84375 \r\nQ 18.109375 37.203125 18.109375 27.296875 \r\nQ 18.109375 17.390625 22.1875 11.75 \r\nQ 26.265625 6.109375 33.40625 6.109375 \r\nQ 40.53125 6.109375 44.609375 11.75 \r\nQ 48.6875 17.390625 48.6875 27.296875 \r\nz\r\n\" id=\"DejaVuSans-112\"/>\r\n    </defs>\r\n    <g transform=\"translate(448.182187 16.318125)scale(0.12 -0.12)\">\r\n     <use xlink:href=\"#DejaVuSans-70\"/>\r\n     <use x=\"52.019531\" xlink:href=\"#DejaVuSans-101\"/>\r\n     <use x=\"113.542969\" xlink:href=\"#DejaVuSans-97\"/>\r\n     <use x=\"174.822266\" xlink:href=\"#DejaVuSans-116\"/>\r\n     <use x=\"214.03125\" xlink:href=\"#DejaVuSans-117\"/>\r\n     <use x=\"277.410156\" xlink:href=\"#DejaVuSans-114\"/>\r\n     <use x=\"316.273438\" xlink:href=\"#DejaVuSans-101\"/>\r\n     <use x=\"377.796875\" xlink:href=\"#DejaVuSans-32\"/>\r\n     <use x=\"409.583984\" xlink:href=\"#DejaVuSans-73\"/>\r\n     <use x=\"439.076172\" xlink:href=\"#DejaVuSans-109\"/>\r\n     <use x=\"536.488281\" xlink:href=\"#DejaVuSans-112\"/>\r\n     <use x=\"599.964844\" xlink:href=\"#DejaVuSans-111\"/>\r\n     <use x=\"661.146484\" xlink:href=\"#DejaVuSans-114\"/>\r\n     <use x=\"702.259766\" xlink:href=\"#DejaVuSans-116\"/>\r\n     <use x=\"741.46875\" xlink:href=\"#DejaVuSans-97\"/>\r\n     <use x=\"802.748047\" xlink:href=\"#DejaVuSans-110\"/>\r\n     <use x=\"866.126953\" xlink:href=\"#DejaVuSans-99\"/>\r\n     <use x=\"921.107422\" xlink:href=\"#DejaVuSans-101\"/>\r\n    </g>\r\n   </g>\r\n   <g id=\"legend_1\">\r\n    <g id=\"patch_24\">\r\n     <path d=\"M 829.334375 289.118125 \r\nL 918.640625 289.118125 \r\nQ 920.640625 289.118125 920.640625 287.118125 \r\nL 920.640625 273.44 \r\nQ 920.640625 271.44 918.640625 271.44 \r\nL 829.334375 271.44 \r\nQ 827.334375 271.44 827.334375 273.44 \r\nL 827.334375 287.118125 \r\nQ 827.334375 289.118125 829.334375 289.118125 \r\nz\r\n\" style=\"fill:#ffffff;opacity:0.8;stroke:#cccccc;stroke-linejoin:miter;\"/>\r\n    </g>\r\n    <g id=\"patch_25\">\r\n     <path d=\"M 831.334375 283.038438 \r\nL 851.334375 283.038438 \r\nL 851.334375 276.038438 \r\nL 831.334375 276.038438 \r\nz\r\n\" style=\"fill:#1f77b4;\"/>\r\n    </g>\r\n    <g id=\"text_27\">\r\n     <!-- Importance -->\r\n     <g transform=\"translate(859.334375 283.038438)scale(0.1 -0.1)\">\r\n      <use xlink:href=\"#DejaVuSans-73\"/>\r\n      <use x=\"29.492188\" xlink:href=\"#DejaVuSans-109\"/>\r\n      <use x=\"126.904297\" xlink:href=\"#DejaVuSans-112\"/>\r\n      <use x=\"190.380859\" xlink:href=\"#DejaVuSans-111\"/>\r\n      <use x=\"251.5625\" xlink:href=\"#DejaVuSans-114\"/>\r\n      <use x=\"292.675781\" xlink:href=\"#DejaVuSans-116\"/>\r\n      <use x=\"331.884766\" xlink:href=\"#DejaVuSans-97\"/>\r\n      <use x=\"393.164062\" xlink:href=\"#DejaVuSans-110\"/>\r\n      <use x=\"456.542969\" xlink:href=\"#DejaVuSans-99\"/>\r\n      <use x=\"511.523438\" xlink:href=\"#DejaVuSans-101\"/>\r\n     </g>\r\n    </g>\r\n   </g>\r\n  </g>\r\n </g>\r\n <defs>\r\n  <clipPath id=\"pd46d44d9d9\">\r\n   <rect height=\"271.8\" width=\"837\" x=\"88.640625\" y=\"22.318125\"/>\r\n  </clipPath>\r\n </defs>\r\n</svg>\r\n",
      "image/png": "[encoded data removed]"
     },
     "metadata": {
      "needs_background": "light"
     }
    }
   ],
   "source": [
    "title = 'Feature Importance'\n",
    "figsize = (15,5)\n",
    "\n",
    "feat_imp = pd.DataFrame({'Importance':rf.feature_importances_})\n",
    "feat_imp['feature'] = x.columns\n",
    "feat_imp.sort_values(by=\"Importance\", ascending=False, inplace=True)\n",
    "feat_imp = feat_imp\n",
    "\n",
    "feat_imp.sort_values(by='Importance', inplace=True)\n",
    "feat_imp = feat_imp.set_index('feature', drop=True)\n",
    "feat_imp.plot.barh(title=title, figsize=figsize)"
   ]
  },
  {
   "cell_type": "markdown",
   "metadata": {},
   "source": [
    "### Perfromance Sheet"
   ]
  },
  {
   "cell_type": "code",
   "execution_count": 57,
   "metadata": {},
   "outputs": [],
   "source": [
    "def get_daily_returns(intraday_returns):\n",
    "        \"\"\"\n",
    "        Daily returns for pyfolio\n",
    "        \"\"\"\n",
    "        cum_rets = ((intraday_returns + 1).cumprod())\n",
    "        # Downsample to daily\n",
    "        daily_rets = cum_rets.resample('B').last()\n",
    "        # Forward fill, Percent change, Drop NaN\n",
    "        daily_rets = daily_rets.ffill().pct_change().dropna()\n",
    "        return daily_rets"
   ]
  },
  {
   "cell_type": "code",
   "execution_count": 58,
   "metadata": {},
   "outputs": [],
   "source": [
    "valid_dates = x_validate.index\n",
    "base_rets = labels.loc[valid_dates, 'ret']\n",
    "primary_model_rets = get_daily_returns(base_rets)"
   ]
  },
  {
   "cell_type": "code",
   "execution_count": 59,
   "metadata": {},
   "outputs": [],
   "source": [
    "# Set up the function to extract the KPI's from pyfolio\n",
    "perf_func = pf.timeseries.perf_stats"
   ]
  },
  {
   "cell_type": "code",
   "execution_count": 60,
   "metadata": {},
   "outputs": [
    {
     "output_type": "display_data",
     "data": {
      "text/plain": "<IPython.core.display.HTML object>",
      "text/html": "<table border=\"1\" class=\"dataframe\">\n  <thead>\n    <tr style=\"text-align: right;\"><th>Start date</th><td colspan=2>2011-11-07</td></tr>\n    <tr style=\"text-align: right;\"><th>End date</th><td colspan=2>2012-05-22</td></tr>\n    <tr style=\"text-align: right;\"><th>Total months</th><td colspan=2>6</td></tr>\n    <tr style=\"text-align: right;\">\n      <th></th>\n      <th>Backtest</th>\n    </tr>\n  </thead>\n  <tbody>\n    <tr>\n      <th>Annual return</th>\n      <td>309.1%</td>\n    </tr>\n    <tr>\n      <th>Cumulative returns</th>\n      <td>121.2%</td>\n    </tr>\n    <tr>\n      <th>Annual volatility</th>\n      <td>145.9%</td>\n    </tr>\n    <tr>\n      <th>Sharpe ratio</th>\n      <td>1.65</td>\n    </tr>\n    <tr>\n      <th>Calmar ratio</th>\n      <td>3.79</td>\n    </tr>\n    <tr>\n      <th>Stability</th>\n      <td>0.00</td>\n    </tr>\n    <tr>\n      <th>Max drawdown</th>\n      <td>-81.6%</td>\n    </tr>\n    <tr>\n      <th>Omega ratio</th>\n      <td>1.37</td>\n    </tr>\n    <tr>\n      <th>Sortino ratio</th>\n      <td>3.08</td>\n    </tr>\n    <tr>\n      <th>Skew</th>\n      <td>1.18</td>\n    </tr>\n    <tr>\n      <th>Kurtosis</th>\n      <td>2.50</td>\n    </tr>\n    <tr>\n      <th>Tail ratio</th>\n      <td>1.66</td>\n    </tr>\n    <tr>\n      <th>Daily value at risk</th>\n      <td>-17.4%</td>\n    </tr>\n  </tbody>\n</table>"
     },
     "metadata": {}
    }
   ],
   "source": [
    "# Save the statistics in a dataframe\n",
    "perf_stats_all = perf_func(returns=primary_model_rets, \n",
    "                        factor_returns=None, \n",
    "                        positions=None,\n",
    "                        transactions=None,\n",
    "                        turnover_denom=\"AGB\")\n",
    "\n",
    "perf_stats_df = pd.DataFrame(data=perf_stats_all, columns=['Primary Model'])\n",
    "pf.show_perf_stats(primary_model_rets)"
   ]
  },
  {
   "cell_type": "markdown",
   "metadata": {},
   "source": [
    "### With Meta-labeling"
   ]
  },
  {
   "cell_type": "code",
   "execution_count": 61,
   "metadata": {},
   "outputs": [
    {
     "output_type": "display_data",
     "data": {
      "text/plain": "<IPython.core.display.HTML object>",
      "text/html": "<table border=\"1\" class=\"dataframe\">\n  <thead>\n    <tr style=\"text-align: right;\"><th>Start date</th><td colspan=2>2011-11-07</td></tr>\n    <tr style=\"text-align: right;\"><th>End date</th><td colspan=2>2012-05-22</td></tr>\n    <tr style=\"text-align: right;\"><th>Total months</th><td colspan=2>6</td></tr>\n    <tr style=\"text-align: right;\">\n      <th></th>\n      <th>Backtest</th>\n    </tr>\n  </thead>\n  <tbody>\n    <tr>\n      <th>Annual return</th>\n      <td>6.7%</td>\n    </tr>\n    <tr>\n      <th>Cumulative returns</th>\n      <td>3.7%</td>\n    </tr>\n    <tr>\n      <th>Annual volatility</th>\n      <td>8.6%</td>\n    </tr>\n    <tr>\n      <th>Sharpe ratio</th>\n      <td>0.80</td>\n    </tr>\n    <tr>\n      <th>Calmar ratio</th>\n      <td>1.33</td>\n    </tr>\n    <tr>\n      <th>Stability</th>\n      <td>0.00</td>\n    </tr>\n    <tr>\n      <th>Max drawdown</th>\n      <td>-5.0%</td>\n    </tr>\n    <tr>\n      <th>Omega ratio</th>\n      <td>1.35</td>\n    </tr>\n    <tr>\n      <th>Sortino ratio</th>\n      <td>1.09</td>\n    </tr>\n    <tr>\n      <th>Skew</th>\n      <td>-1.28</td>\n    </tr>\n    <tr>\n      <th>Kurtosis</th>\n      <td>13.12</td>\n    </tr>\n    <tr>\n      <th>Tail ratio</th>\n      <td>3.05</td>\n    </tr>\n    <tr>\n      <th>Daily value at risk</th>\n      <td>-1.1%</td>\n    </tr>\n  </tbody>\n</table>"
     },
     "metadata": {}
    }
   ],
   "source": [
    "meta_returns = labels.loc[valid_dates, 'ret'] * y_pred\n",
    "daily_meta_rets = get_daily_returns(meta_returns)\n",
    "\n",
    "# Save KPIs in a dataframe\n",
    "erf_stats_all = perf_func(returns=daily_meta_rets, \n",
    "                        factor_returns=None, \n",
    "                        positions=None,\n",
    "                        transactions=None,\n",
    "                        turnover_denom=\"AGB\")\n",
    "\n",
    "perf_stats_df['Meta Model'] = perf_stats_all\n",
    "\n",
    "pf.show_perf_stats(daily_meta_rets)"
   ]
  },
  {
   "cell_type": "markdown",
   "metadata": {},
   "source": [
    "### Out of Sample Test"
   ]
  },
  {
   "cell_type": "markdown",
   "metadata": {},
   "source": [
    "#### Meta Model Metrics"
   ]
  },
  {
   "cell_type": "code",
   "execution_count": 62,
   "metadata": {},
   "outputs": [
    {
     "output_type": "stream",
     "name": "stdout",
     "text": [
      "              precision    recall  f1-score   support\n\n           0       0.73      0.96      0.83      2867\n           1       0.82      0.33      0.47      1556\n\n    accuracy                           0.74      4423\n   macro avg       0.77      0.65      0.65      4423\nweighted avg       0.76      0.74      0.70      4423\n\n"
     ]
    }
   ],
   "source": [
    "# extract out of sample data\n",
    "# oos: out of sample\n",
    "x_oos = x\n",
    "y_oos = y\n",
    "\n",
    "# Performance Metrics\n",
    "y_pred_rf = rf.predict_proba(x_oos)[:, 1]\n",
    "y_pred = rf.predict(x_oos)\n",
    "fpr_rf, tpr_rf, _ = sk.metrics.roc_curve(y_oos, y_pred_rf)\n",
    "print(sk.metrics.classification_report(y_oos, y_pred))"
   ]
  },
  {
   "cell_type": "markdown",
   "metadata": {},
   "source": [
    "#### Confusion Matrix"
   ]
  },
  {
   "cell_type": "code",
   "execution_count": 63,
   "metadata": {},
   "outputs": [
    {
     "output_type": "stream",
     "name": "stdout",
     "text": [
      "[[2750  117]\n [1038  518]]\n"
     ]
    }
   ],
   "source": [
    "print(sk.metrics.confusion_matrix(y_oos, y_pred))"
   ]
  },
  {
   "cell_type": "markdown",
   "metadata": {},
   "source": [
    "#### Accuracy"
   ]
  },
  {
   "cell_type": "code",
   "execution_count": null,
   "metadata": {},
   "outputs": [],
   "source": [
    "This is the accuracy of the model in addition to the trained meta-labeling model."
   ]
  },
  {
   "cell_type": "code",
   "execution_count": 64,
   "metadata": {},
   "outputs": [
    {
     "output_type": "stream",
     "name": "stdout",
     "text": [
      "0.7388650237395433\n"
     ]
    }
   ],
   "source": [
    "print(sk.metrics.accuracy_score(y_oos, y_pred))"
   ]
  },
  {
   "cell_type": "code",
   "execution_count": 71,
   "metadata": {},
   "outputs": [
    {
     "output_type": "display_data",
     "data": {
      "text/plain": "<Figure size 432x288 with 1 Axes>",
      "image/svg+xml": "<?xml version=\"1.0\" encoding=\"utf-8\" standalone=\"no\"?>\r\n<!DOCTYPE svg PUBLIC \"-//W3C//DTD SVG 1.1//EN\"\r\n  \"http://www.w3.org/Graphics/SVG/1.1/DTD/svg11.dtd\">\r\n<!-- Created with matplotlib (https://matplotlib.org/) -->\r\n<svg height=\"277.314375pt\" version=\"1.1\" viewBox=\"0 0 385.78125 277.314375\" width=\"385.78125pt\" xmlns=\"http://www.w3.org/2000/svg\" xmlns:xlink=\"http://www.w3.org/1999/xlink\">\r\n <defs>\r\n  <style type=\"text/css\">\r\n*{stroke-linecap:butt;stroke-linejoin:round;}\r\n  </style>\r\n </defs>\r\n <g id=\"figure_1\">\r\n  <g id=\"patch_1\">\r\n   <path d=\"M 0 277.314375 \r\nL 385.78125 277.314375 \r\nL 385.78125 0 \r\nL 0 0 \r\nz\r\n\" style=\"fill:none;\"/>\r\n  </g>\r\n  <g id=\"axes_1\">\r\n   <g id=\"patch_2\">\r\n    <path d=\"M 43.78125 239.758125 \r\nL 378.58125 239.758125 \r\nL 378.58125 22.318125 \r\nL 43.78125 22.318125 \r\nz\r\n\" style=\"fill:#ffffff;\"/>\r\n   </g>\r\n   <g id=\"matplotlib.axis_1\">\r\n    <g id=\"xtick_1\">\r\n     <g id=\"line2d_1\">\r\n      <defs>\r\n       <path d=\"M 0 0 \r\nL 0 3.5 \r\n\" id=\"mf91d696fb6\" style=\"stroke:#000000;stroke-width:0.8;\"/>\r\n      </defs>\r\n      <g>\r\n       <use style=\"stroke:#000000;stroke-width:0.8;\" x=\"58.999432\" xlink:href=\"#mf91d696fb6\" y=\"239.758125\"/>\r\n      </g>\r\n     </g>\r\n     <g id=\"text_1\">\r\n      <!-- 0.0 -->\r\n      <defs>\r\n       <path d=\"M 31.78125 66.40625 \r\nQ 24.171875 66.40625 20.328125 58.90625 \r\nQ 16.5 51.421875 16.5 36.375 \r\nQ 16.5 21.390625 20.328125 13.890625 \r\nQ 24.171875 6.390625 31.78125 6.390625 \r\nQ 39.453125 6.390625 43.28125 13.890625 \r\nQ 47.125 21.390625 47.125 36.375 \r\nQ 47.125 51.421875 43.28125 58.90625 \r\nQ 39.453125 66.40625 31.78125 66.40625 \r\nz\r\nM 31.78125 74.21875 \r\nQ 44.046875 74.21875 50.515625 64.515625 \r\nQ 56.984375 54.828125 56.984375 36.375 \r\nQ 56.984375 17.96875 50.515625 8.265625 \r\nQ 44.046875 -1.421875 31.78125 -1.421875 \r\nQ 19.53125 -1.421875 13.0625 8.265625 \r\nQ 6.59375 17.96875 6.59375 36.375 \r\nQ 6.59375 54.828125 13.0625 64.515625 \r\nQ 19.53125 74.21875 31.78125 74.21875 \r\nz\r\n\" id=\"DejaVuSans-48\"/>\r\n       <path d=\"M 10.6875 12.40625 \r\nL 21 12.40625 \r\nL 21 0 \r\nL 10.6875 0 \r\nz\r\n\" id=\"DejaVuSans-46\"/>\r\n      </defs>\r\n      <g transform=\"translate(51.047869 254.356562)scale(0.1 -0.1)\">\r\n       <use xlink:href=\"#DejaVuSans-48\"/>\r\n       <use x=\"63.623047\" xlink:href=\"#DejaVuSans-46\"/>\r\n       <use x=\"95.410156\" xlink:href=\"#DejaVuSans-48\"/>\r\n      </g>\r\n     </g>\r\n    </g>\r\n    <g id=\"xtick_2\">\r\n     <g id=\"line2d_2\">\r\n      <g>\r\n       <use style=\"stroke:#000000;stroke-width:0.8;\" x=\"119.872159\" xlink:href=\"#mf91d696fb6\" y=\"239.758125\"/>\r\n      </g>\r\n     </g>\r\n     <g id=\"text_2\">\r\n      <!-- 0.2 -->\r\n      <defs>\r\n       <path d=\"M 19.1875 8.296875 \r\nL 53.609375 8.296875 \r\nL 53.609375 0 \r\nL 7.328125 0 \r\nL 7.328125 8.296875 \r\nQ 12.9375 14.109375 22.625 23.890625 \r\nQ 32.328125 33.6875 34.8125 36.53125 \r\nQ 39.546875 41.84375 41.421875 45.53125 \r\nQ 43.3125 49.21875 43.3125 52.78125 \r\nQ 43.3125 58.59375 39.234375 62.25 \r\nQ 35.15625 65.921875 28.609375 65.921875 \r\nQ 23.96875 65.921875 18.8125 64.3125 \r\nQ 13.671875 62.703125 7.8125 59.421875 \r\nL 7.8125 69.390625 \r\nQ 13.765625 71.78125 18.9375 73 \r\nQ 24.125 74.21875 28.421875 74.21875 \r\nQ 39.75 74.21875 46.484375 68.546875 \r\nQ 53.21875 62.890625 53.21875 53.421875 \r\nQ 53.21875 48.921875 51.53125 44.890625 \r\nQ 49.859375 40.875 45.40625 35.40625 \r\nQ 44.1875 33.984375 37.640625 27.21875 \r\nQ 31.109375 20.453125 19.1875 8.296875 \r\nz\r\n\" id=\"DejaVuSans-50\"/>\r\n      </defs>\r\n      <g transform=\"translate(111.920597 254.356562)scale(0.1 -0.1)\">\r\n       <use xlink:href=\"#DejaVuSans-48\"/>\r\n       <use x=\"63.623047\" xlink:href=\"#DejaVuSans-46\"/>\r\n       <use x=\"95.410156\" xlink:href=\"#DejaVuSans-50\"/>\r\n      </g>\r\n     </g>\r\n    </g>\r\n    <g id=\"xtick_3\">\r\n     <g id=\"line2d_3\">\r\n      <g>\r\n       <use style=\"stroke:#000000;stroke-width:0.8;\" x=\"180.744886\" xlink:href=\"#mf91d696fb6\" y=\"239.758125\"/>\r\n      </g>\r\n     </g>\r\n     <g id=\"text_3\">\r\n      <!-- 0.4 -->\r\n      <defs>\r\n       <path d=\"M 37.796875 64.3125 \r\nL 12.890625 25.390625 \r\nL 37.796875 25.390625 \r\nz\r\nM 35.203125 72.90625 \r\nL 47.609375 72.90625 \r\nL 47.609375 25.390625 \r\nL 58.015625 25.390625 \r\nL 58.015625 17.1875 \r\nL 47.609375 17.1875 \r\nL 47.609375 0 \r\nL 37.796875 0 \r\nL 37.796875 17.1875 \r\nL 4.890625 17.1875 \r\nL 4.890625 26.703125 \r\nz\r\n\" id=\"DejaVuSans-52\"/>\r\n      </defs>\r\n      <g transform=\"translate(172.793324 254.356562)scale(0.1 -0.1)\">\r\n       <use xlink:href=\"#DejaVuSans-48\"/>\r\n       <use x=\"63.623047\" xlink:href=\"#DejaVuSans-46\"/>\r\n       <use x=\"95.410156\" xlink:href=\"#DejaVuSans-52\"/>\r\n      </g>\r\n     </g>\r\n    </g>\r\n    <g id=\"xtick_4\">\r\n     <g id=\"line2d_4\">\r\n      <g>\r\n       <use style=\"stroke:#000000;stroke-width:0.8;\" x=\"241.617614\" xlink:href=\"#mf91d696fb6\" y=\"239.758125\"/>\r\n      </g>\r\n     </g>\r\n     <g id=\"text_4\">\r\n      <!-- 0.6 -->\r\n      <defs>\r\n       <path d=\"M 33.015625 40.375 \r\nQ 26.375 40.375 22.484375 35.828125 \r\nQ 18.609375 31.296875 18.609375 23.390625 \r\nQ 18.609375 15.53125 22.484375 10.953125 \r\nQ 26.375 6.390625 33.015625 6.390625 \r\nQ 39.65625 6.390625 43.53125 10.953125 \r\nQ 47.40625 15.53125 47.40625 23.390625 \r\nQ 47.40625 31.296875 43.53125 35.828125 \r\nQ 39.65625 40.375 33.015625 40.375 \r\nz\r\nM 52.59375 71.296875 \r\nL 52.59375 62.3125 \r\nQ 48.875 64.0625 45.09375 64.984375 \r\nQ 41.3125 65.921875 37.59375 65.921875 \r\nQ 27.828125 65.921875 22.671875 59.328125 \r\nQ 17.53125 52.734375 16.796875 39.40625 \r\nQ 19.671875 43.65625 24.015625 45.921875 \r\nQ 28.375 48.1875 33.59375 48.1875 \r\nQ 44.578125 48.1875 50.953125 41.515625 \r\nQ 57.328125 34.859375 57.328125 23.390625 \r\nQ 57.328125 12.15625 50.6875 5.359375 \r\nQ 44.046875 -1.421875 33.015625 -1.421875 \r\nQ 20.359375 -1.421875 13.671875 8.265625 \r\nQ 6.984375 17.96875 6.984375 36.375 \r\nQ 6.984375 53.65625 15.1875 63.9375 \r\nQ 23.390625 74.21875 37.203125 74.21875 \r\nQ 40.921875 74.21875 44.703125 73.484375 \r\nQ 48.484375 72.75 52.59375 71.296875 \r\nz\r\n\" id=\"DejaVuSans-54\"/>\r\n      </defs>\r\n      <g transform=\"translate(233.666051 254.356562)scale(0.1 -0.1)\">\r\n       <use xlink:href=\"#DejaVuSans-48\"/>\r\n       <use x=\"63.623047\" xlink:href=\"#DejaVuSans-46\"/>\r\n       <use x=\"95.410156\" xlink:href=\"#DejaVuSans-54\"/>\r\n      </g>\r\n     </g>\r\n    </g>\r\n    <g id=\"xtick_5\">\r\n     <g id=\"line2d_5\">\r\n      <g>\r\n       <use style=\"stroke:#000000;stroke-width:0.8;\" x=\"302.490341\" xlink:href=\"#mf91d696fb6\" y=\"239.758125\"/>\r\n      </g>\r\n     </g>\r\n     <g id=\"text_5\">\r\n      <!-- 0.8 -->\r\n      <defs>\r\n       <path d=\"M 31.78125 34.625 \r\nQ 24.75 34.625 20.71875 30.859375 \r\nQ 16.703125 27.09375 16.703125 20.515625 \r\nQ 16.703125 13.921875 20.71875 10.15625 \r\nQ 24.75 6.390625 31.78125 6.390625 \r\nQ 38.8125 6.390625 42.859375 10.171875 \r\nQ 46.921875 13.96875 46.921875 20.515625 \r\nQ 46.921875 27.09375 42.890625 30.859375 \r\nQ 38.875 34.625 31.78125 34.625 \r\nz\r\nM 21.921875 38.8125 \r\nQ 15.578125 40.375 12.03125 44.71875 \r\nQ 8.5 49.078125 8.5 55.328125 \r\nQ 8.5 64.0625 14.71875 69.140625 \r\nQ 20.953125 74.21875 31.78125 74.21875 \r\nQ 42.671875 74.21875 48.875 69.140625 \r\nQ 55.078125 64.0625 55.078125 55.328125 \r\nQ 55.078125 49.078125 51.53125 44.71875 \r\nQ 48 40.375 41.703125 38.8125 \r\nQ 48.828125 37.15625 52.796875 32.3125 \r\nQ 56.78125 27.484375 56.78125 20.515625 \r\nQ 56.78125 9.90625 50.3125 4.234375 \r\nQ 43.84375 -1.421875 31.78125 -1.421875 \r\nQ 19.734375 -1.421875 13.25 4.234375 \r\nQ 6.78125 9.90625 6.78125 20.515625 \r\nQ 6.78125 27.484375 10.78125 32.3125 \r\nQ 14.796875 37.15625 21.921875 38.8125 \r\nz\r\nM 18.3125 54.390625 \r\nQ 18.3125 48.734375 21.84375 45.5625 \r\nQ 25.390625 42.390625 31.78125 42.390625 \r\nQ 38.140625 42.390625 41.71875 45.5625 \r\nQ 45.3125 48.734375 45.3125 54.390625 \r\nQ 45.3125 60.0625 41.71875 63.234375 \r\nQ 38.140625 66.40625 31.78125 66.40625 \r\nQ 25.390625 66.40625 21.84375 63.234375 \r\nQ 18.3125 60.0625 18.3125 54.390625 \r\nz\r\n\" id=\"DejaVuSans-56\"/>\r\n      </defs>\r\n      <g transform=\"translate(294.538778 254.356562)scale(0.1 -0.1)\">\r\n       <use xlink:href=\"#DejaVuSans-48\"/>\r\n       <use x=\"63.623047\" xlink:href=\"#DejaVuSans-46\"/>\r\n       <use x=\"95.410156\" xlink:href=\"#DejaVuSans-56\"/>\r\n      </g>\r\n     </g>\r\n    </g>\r\n    <g id=\"xtick_6\">\r\n     <g id=\"line2d_6\">\r\n      <g>\r\n       <use style=\"stroke:#000000;stroke-width:0.8;\" x=\"363.363068\" xlink:href=\"#mf91d696fb6\" y=\"239.758125\"/>\r\n      </g>\r\n     </g>\r\n     <g id=\"text_6\">\r\n      <!-- 1.0 -->\r\n      <defs>\r\n       <path d=\"M 12.40625 8.296875 \r\nL 28.515625 8.296875 \r\nL 28.515625 63.921875 \r\nL 10.984375 60.40625 \r\nL 10.984375 69.390625 \r\nL 28.421875 72.90625 \r\nL 38.28125 72.90625 \r\nL 38.28125 8.296875 \r\nL 54.390625 8.296875 \r\nL 54.390625 0 \r\nL 12.40625 0 \r\nz\r\n\" id=\"DejaVuSans-49\"/>\r\n      </defs>\r\n      <g transform=\"translate(355.411506 254.356562)scale(0.1 -0.1)\">\r\n       <use xlink:href=\"#DejaVuSans-49\"/>\r\n       <use x=\"63.623047\" xlink:href=\"#DejaVuSans-46\"/>\r\n       <use x=\"95.410156\" xlink:href=\"#DejaVuSans-48\"/>\r\n      </g>\r\n     </g>\r\n    </g>\r\n    <g id=\"text_7\">\r\n     <!-- False positive rate -->\r\n     <defs>\r\n      <path d=\"M 9.8125 72.90625 \r\nL 51.703125 72.90625 \r\nL 51.703125 64.59375 \r\nL 19.671875 64.59375 \r\nL 19.671875 43.109375 \r\nL 48.578125 43.109375 \r\nL 48.578125 34.8125 \r\nL 19.671875 34.8125 \r\nL 19.671875 0 \r\nL 9.8125 0 \r\nz\r\n\" id=\"DejaVuSans-70\"/>\r\n      <path d=\"M 34.28125 27.484375 \r\nQ 23.390625 27.484375 19.1875 25 \r\nQ 14.984375 22.515625 14.984375 16.5 \r\nQ 14.984375 11.71875 18.140625 8.90625 \r\nQ 21.296875 6.109375 26.703125 6.109375 \r\nQ 34.1875 6.109375 38.703125 11.40625 \r\nQ 43.21875 16.703125 43.21875 25.484375 \r\nL 43.21875 27.484375 \r\nz\r\nM 52.203125 31.203125 \r\nL 52.203125 0 \r\nL 43.21875 0 \r\nL 43.21875 8.296875 \r\nQ 40.140625 3.328125 35.546875 0.953125 \r\nQ 30.953125 -1.421875 24.3125 -1.421875 \r\nQ 15.921875 -1.421875 10.953125 3.296875 \r\nQ 6 8.015625 6 15.921875 \r\nQ 6 25.140625 12.171875 29.828125 \r\nQ 18.359375 34.515625 30.609375 34.515625 \r\nL 43.21875 34.515625 \r\nL 43.21875 35.40625 \r\nQ 43.21875 41.609375 39.140625 45 \r\nQ 35.0625 48.390625 27.6875 48.390625 \r\nQ 23 48.390625 18.546875 47.265625 \r\nQ 14.109375 46.140625 10.015625 43.890625 \r\nL 10.015625 52.203125 \r\nQ 14.9375 54.109375 19.578125 55.046875 \r\nQ 24.21875 56 28.609375 56 \r\nQ 40.484375 56 46.34375 49.84375 \r\nQ 52.203125 43.703125 52.203125 31.203125 \r\nz\r\n\" id=\"DejaVuSans-97\"/>\r\n      <path d=\"M 9.421875 75.984375 \r\nL 18.40625 75.984375 \r\nL 18.40625 0 \r\nL 9.421875 0 \r\nz\r\n\" id=\"DejaVuSans-108\"/>\r\n      <path d=\"M 44.28125 53.078125 \r\nL 44.28125 44.578125 \r\nQ 40.484375 46.53125 36.375 47.5 \r\nQ 32.28125 48.484375 27.875 48.484375 \r\nQ 21.1875 48.484375 17.84375 46.4375 \r\nQ 14.5 44.390625 14.5 40.28125 \r\nQ 14.5 37.15625 16.890625 35.375 \r\nQ 19.28125 33.59375 26.515625 31.984375 \r\nL 29.59375 31.296875 \r\nQ 39.15625 29.25 43.1875 25.515625 \r\nQ 47.21875 21.78125 47.21875 15.09375 \r\nQ 47.21875 7.46875 41.1875 3.015625 \r\nQ 35.15625 -1.421875 24.609375 -1.421875 \r\nQ 20.21875 -1.421875 15.453125 -0.5625 \r\nQ 10.6875 0.296875 5.421875 2 \r\nL 5.421875 11.28125 \r\nQ 10.40625 8.6875 15.234375 7.390625 \r\nQ 20.0625 6.109375 24.8125 6.109375 \r\nQ 31.15625 6.109375 34.5625 8.28125 \r\nQ 37.984375 10.453125 37.984375 14.40625 \r\nQ 37.984375 18.0625 35.515625 20.015625 \r\nQ 33.0625 21.96875 24.703125 23.78125 \r\nL 21.578125 24.515625 \r\nQ 13.234375 26.265625 9.515625 29.90625 \r\nQ 5.8125 33.546875 5.8125 39.890625 \r\nQ 5.8125 47.609375 11.28125 51.796875 \r\nQ 16.75 56 26.8125 56 \r\nQ 31.78125 56 36.171875 55.265625 \r\nQ 40.578125 54.546875 44.28125 53.078125 \r\nz\r\n\" id=\"DejaVuSans-115\"/>\r\n      <path d=\"M 56.203125 29.59375 \r\nL 56.203125 25.203125 \r\nL 14.890625 25.203125 \r\nQ 15.484375 15.921875 20.484375 11.0625 \r\nQ 25.484375 6.203125 34.421875 6.203125 \r\nQ 39.59375 6.203125 44.453125 7.46875 \r\nQ 49.3125 8.734375 54.109375 11.28125 \r\nL 54.109375 2.78125 \r\nQ 49.265625 0.734375 44.1875 -0.34375 \r\nQ 39.109375 -1.421875 33.890625 -1.421875 \r\nQ 20.796875 -1.421875 13.15625 6.1875 \r\nQ 5.515625 13.8125 5.515625 26.8125 \r\nQ 5.515625 40.234375 12.765625 48.109375 \r\nQ 20.015625 56 32.328125 56 \r\nQ 43.359375 56 49.78125 48.890625 \r\nQ 56.203125 41.796875 56.203125 29.59375 \r\nz\r\nM 47.21875 32.234375 \r\nQ 47.125 39.59375 43.09375 43.984375 \r\nQ 39.0625 48.390625 32.421875 48.390625 \r\nQ 24.90625 48.390625 20.390625 44.140625 \r\nQ 15.875 39.890625 15.1875 32.171875 \r\nz\r\n\" id=\"DejaVuSans-101\"/>\r\n      <path id=\"DejaVuSans-32\"/>\r\n      <path d=\"M 18.109375 8.203125 \r\nL 18.109375 -20.796875 \r\nL 9.078125 -20.796875 \r\nL 9.078125 54.6875 \r\nL 18.109375 54.6875 \r\nL 18.109375 46.390625 \r\nQ 20.953125 51.265625 25.265625 53.625 \r\nQ 29.59375 56 35.59375 56 \r\nQ 45.5625 56 51.78125 48.09375 \r\nQ 58.015625 40.1875 58.015625 27.296875 \r\nQ 58.015625 14.40625 51.78125 6.484375 \r\nQ 45.5625 -1.421875 35.59375 -1.421875 \r\nQ 29.59375 -1.421875 25.265625 0.953125 \r\nQ 20.953125 3.328125 18.109375 8.203125 \r\nz\r\nM 48.6875 27.296875 \r\nQ 48.6875 37.203125 44.609375 42.84375 \r\nQ 40.53125 48.484375 33.40625 48.484375 \r\nQ 26.265625 48.484375 22.1875 42.84375 \r\nQ 18.109375 37.203125 18.109375 27.296875 \r\nQ 18.109375 17.390625 22.1875 11.75 \r\nQ 26.265625 6.109375 33.40625 6.109375 \r\nQ 40.53125 6.109375 44.609375 11.75 \r\nQ 48.6875 17.390625 48.6875 27.296875 \r\nz\r\n\" id=\"DejaVuSans-112\"/>\r\n      <path d=\"M 30.609375 48.390625 \r\nQ 23.390625 48.390625 19.1875 42.75 \r\nQ 14.984375 37.109375 14.984375 27.296875 \r\nQ 14.984375 17.484375 19.15625 11.84375 \r\nQ 23.34375 6.203125 30.609375 6.203125 \r\nQ 37.796875 6.203125 41.984375 11.859375 \r\nQ 46.1875 17.53125 46.1875 27.296875 \r\nQ 46.1875 37.015625 41.984375 42.703125 \r\nQ 37.796875 48.390625 30.609375 48.390625 \r\nz\r\nM 30.609375 56 \r\nQ 42.328125 56 49.015625 48.375 \r\nQ 55.71875 40.765625 55.71875 27.296875 \r\nQ 55.71875 13.875 49.015625 6.21875 \r\nQ 42.328125 -1.421875 30.609375 -1.421875 \r\nQ 18.84375 -1.421875 12.171875 6.21875 \r\nQ 5.515625 13.875 5.515625 27.296875 \r\nQ 5.515625 40.765625 12.171875 48.375 \r\nQ 18.84375 56 30.609375 56 \r\nz\r\n\" id=\"DejaVuSans-111\"/>\r\n      <path d=\"M 9.421875 54.6875 \r\nL 18.40625 54.6875 \r\nL 18.40625 0 \r\nL 9.421875 0 \r\nz\r\nM 9.421875 75.984375 \r\nL 18.40625 75.984375 \r\nL 18.40625 64.59375 \r\nL 9.421875 64.59375 \r\nz\r\n\" id=\"DejaVuSans-105\"/>\r\n      <path d=\"M 18.3125 70.21875 \r\nL 18.3125 54.6875 \r\nL 36.8125 54.6875 \r\nL 36.8125 47.703125 \r\nL 18.3125 47.703125 \r\nL 18.3125 18.015625 \r\nQ 18.3125 11.328125 20.140625 9.421875 \r\nQ 21.96875 7.515625 27.59375 7.515625 \r\nL 36.8125 7.515625 \r\nL 36.8125 0 \r\nL 27.59375 0 \r\nQ 17.1875 0 13.234375 3.875 \r\nQ 9.28125 7.765625 9.28125 18.015625 \r\nL 9.28125 47.703125 \r\nL 2.6875 47.703125 \r\nL 2.6875 54.6875 \r\nL 9.28125 54.6875 \r\nL 9.28125 70.21875 \r\nz\r\n\" id=\"DejaVuSans-116\"/>\r\n      <path d=\"M 2.984375 54.6875 \r\nL 12.5 54.6875 \r\nL 29.59375 8.796875 \r\nL 46.6875 54.6875 \r\nL 56.203125 54.6875 \r\nL 35.6875 0 \r\nL 23.484375 0 \r\nz\r\n\" id=\"DejaVuSans-118\"/>\r\n      <path d=\"M 41.109375 46.296875 \r\nQ 39.59375 47.171875 37.8125 47.578125 \r\nQ 36.03125 48 33.890625 48 \r\nQ 26.265625 48 22.1875 43.046875 \r\nQ 18.109375 38.09375 18.109375 28.8125 \r\nL 18.109375 0 \r\nL 9.078125 0 \r\nL 9.078125 54.6875 \r\nL 18.109375 54.6875 \r\nL 18.109375 46.1875 \r\nQ 20.953125 51.171875 25.484375 53.578125 \r\nQ 30.03125 56 36.53125 56 \r\nQ 37.453125 56 38.578125 55.875 \r\nQ 39.703125 55.765625 41.0625 55.515625 \r\nz\r\n\" id=\"DejaVuSans-114\"/>\r\n     </defs>\r\n     <g transform=\"translate(165.680469 268.034687)scale(0.1 -0.1)\">\r\n      <use xlink:href=\"#DejaVuSans-70\"/>\r\n      <use x=\"48.394531\" xlink:href=\"#DejaVuSans-97\"/>\r\n      <use x=\"109.673828\" xlink:href=\"#DejaVuSans-108\"/>\r\n      <use x=\"137.457031\" xlink:href=\"#DejaVuSans-115\"/>\r\n      <use x=\"189.556641\" xlink:href=\"#DejaVuSans-101\"/>\r\n      <use x=\"251.080078\" xlink:href=\"#DejaVuSans-32\"/>\r\n      <use x=\"282.867188\" xlink:href=\"#DejaVuSans-112\"/>\r\n      <use x=\"346.34375\" xlink:href=\"#DejaVuSans-111\"/>\r\n      <use x=\"407.525391\" xlink:href=\"#DejaVuSans-115\"/>\r\n      <use x=\"459.625\" xlink:href=\"#DejaVuSans-105\"/>\r\n      <use x=\"487.408203\" xlink:href=\"#DejaVuSans-116\"/>\r\n      <use x=\"526.617188\" xlink:href=\"#DejaVuSans-105\"/>\r\n      <use x=\"554.400391\" xlink:href=\"#DejaVuSans-118\"/>\r\n      <use x=\"613.580078\" xlink:href=\"#DejaVuSans-101\"/>\r\n      <use x=\"675.103516\" xlink:href=\"#DejaVuSans-32\"/>\r\n      <use x=\"706.890625\" xlink:href=\"#DejaVuSans-114\"/>\r\n      <use x=\"748.003906\" xlink:href=\"#DejaVuSans-97\"/>\r\n      <use x=\"809.283203\" xlink:href=\"#DejaVuSans-116\"/>\r\n      <use x=\"848.492188\" xlink:href=\"#DejaVuSans-101\"/>\r\n     </g>\r\n    </g>\r\n   </g>\r\n   <g id=\"matplotlib.axis_2\">\r\n    <g id=\"ytick_1\">\r\n     <g id=\"line2d_7\">\r\n      <defs>\r\n       <path d=\"M 0 0 \r\nL -3.5 0 \r\n\" id=\"m9e66b5664e\" style=\"stroke:#000000;stroke-width:0.8;\"/>\r\n      </defs>\r\n      <g>\r\n       <use style=\"stroke:#000000;stroke-width:0.8;\" x=\"43.78125\" xlink:href=\"#m9e66b5664e\" y=\"229.874489\"/>\r\n      </g>\r\n     </g>\r\n     <g id=\"text_8\">\r\n      <!-- 0.0 -->\r\n      <g transform=\"translate(20.878125 233.673707)scale(0.1 -0.1)\">\r\n       <use xlink:href=\"#DejaVuSans-48\"/>\r\n       <use x=\"63.623047\" xlink:href=\"#DejaVuSans-46\"/>\r\n       <use x=\"95.410156\" xlink:href=\"#DejaVuSans-48\"/>\r\n      </g>\r\n     </g>\r\n    </g>\r\n    <g id=\"ytick_2\">\r\n     <g id=\"line2d_8\">\r\n      <g>\r\n       <use style=\"stroke:#000000;stroke-width:0.8;\" x=\"43.78125\" xlink:href=\"#m9e66b5664e\" y=\"190.339943\"/>\r\n      </g>\r\n     </g>\r\n     <g id=\"text_9\">\r\n      <!-- 0.2 -->\r\n      <g transform=\"translate(20.878125 194.139162)scale(0.1 -0.1)\">\r\n       <use xlink:href=\"#DejaVuSans-48\"/>\r\n       <use x=\"63.623047\" xlink:href=\"#DejaVuSans-46\"/>\r\n       <use x=\"95.410156\" xlink:href=\"#DejaVuSans-50\"/>\r\n      </g>\r\n     </g>\r\n    </g>\r\n    <g id=\"ytick_3\">\r\n     <g id=\"line2d_9\">\r\n      <g>\r\n       <use style=\"stroke:#000000;stroke-width:0.8;\" x=\"43.78125\" xlink:href=\"#m9e66b5664e\" y=\"150.805398\"/>\r\n      </g>\r\n     </g>\r\n     <g id=\"text_10\">\r\n      <!-- 0.4 -->\r\n      <g transform=\"translate(20.878125 154.604616)scale(0.1 -0.1)\">\r\n       <use xlink:href=\"#DejaVuSans-48\"/>\r\n       <use x=\"63.623047\" xlink:href=\"#DejaVuSans-46\"/>\r\n       <use x=\"95.410156\" xlink:href=\"#DejaVuSans-52\"/>\r\n      </g>\r\n     </g>\r\n    </g>\r\n    <g id=\"ytick_4\">\r\n     <g id=\"line2d_10\">\r\n      <g>\r\n       <use style=\"stroke:#000000;stroke-width:0.8;\" x=\"43.78125\" xlink:href=\"#m9e66b5664e\" y=\"111.270852\"/>\r\n      </g>\r\n     </g>\r\n     <g id=\"text_11\">\r\n      <!-- 0.6 -->\r\n      <g transform=\"translate(20.878125 115.070071)scale(0.1 -0.1)\">\r\n       <use xlink:href=\"#DejaVuSans-48\"/>\r\n       <use x=\"63.623047\" xlink:href=\"#DejaVuSans-46\"/>\r\n       <use x=\"95.410156\" xlink:href=\"#DejaVuSans-54\"/>\r\n      </g>\r\n     </g>\r\n    </g>\r\n    <g id=\"ytick_5\">\r\n     <g id=\"line2d_11\">\r\n      <g>\r\n       <use style=\"stroke:#000000;stroke-width:0.8;\" x=\"43.78125\" xlink:href=\"#m9e66b5664e\" y=\"71.736307\"/>\r\n      </g>\r\n     </g>\r\n     <g id=\"text_12\">\r\n      <!-- 0.8 -->\r\n      <g transform=\"translate(20.878125 75.535526)scale(0.1 -0.1)\">\r\n       <use xlink:href=\"#DejaVuSans-48\"/>\r\n       <use x=\"63.623047\" xlink:href=\"#DejaVuSans-46\"/>\r\n       <use x=\"95.410156\" xlink:href=\"#DejaVuSans-56\"/>\r\n      </g>\r\n     </g>\r\n    </g>\r\n    <g id=\"ytick_6\">\r\n     <g id=\"line2d_12\">\r\n      <g>\r\n       <use style=\"stroke:#000000;stroke-width:0.8;\" x=\"43.78125\" xlink:href=\"#m9e66b5664e\" y=\"32.201761\"/>\r\n      </g>\r\n     </g>\r\n     <g id=\"text_13\">\r\n      <!-- 1.0 -->\r\n      <g transform=\"translate(20.878125 36.00098)scale(0.1 -0.1)\">\r\n       <use xlink:href=\"#DejaVuSans-49\"/>\r\n       <use x=\"63.623047\" xlink:href=\"#DejaVuSans-46\"/>\r\n       <use x=\"95.410156\" xlink:href=\"#DejaVuSans-48\"/>\r\n      </g>\r\n     </g>\r\n    </g>\r\n    <g id=\"text_14\">\r\n     <!-- True positive rate -->\r\n     <defs>\r\n      <path d=\"M -0.296875 72.90625 \r\nL 61.375 72.90625 \r\nL 61.375 64.59375 \r\nL 35.5 64.59375 \r\nL 35.5 0 \r\nL 25.59375 0 \r\nL 25.59375 64.59375 \r\nL -0.296875 64.59375 \r\nz\r\n\" id=\"DejaVuSans-84\"/>\r\n      <path d=\"M 8.5 21.578125 \r\nL 8.5 54.6875 \r\nL 17.484375 54.6875 \r\nL 17.484375 21.921875 \r\nQ 17.484375 14.15625 20.5 10.265625 \r\nQ 23.53125 6.390625 29.59375 6.390625 \r\nQ 36.859375 6.390625 41.078125 11.03125 \r\nQ 45.3125 15.671875 45.3125 23.6875 \r\nL 45.3125 54.6875 \r\nL 54.296875 54.6875 \r\nL 54.296875 0 \r\nL 45.3125 0 \r\nL 45.3125 8.40625 \r\nQ 42.046875 3.421875 37.71875 1 \r\nQ 33.40625 -1.421875 27.6875 -1.421875 \r\nQ 18.265625 -1.421875 13.375 4.4375 \r\nQ 8.5 10.296875 8.5 21.578125 \r\nz\r\nM 31.109375 56 \r\nz\r\n\" id=\"DejaVuSans-117\"/>\r\n     </defs>\r\n     <g transform=\"translate(14.798438 174.602187)rotate(-90)scale(0.1 -0.1)\">\r\n      <use xlink:href=\"#DejaVuSans-84\"/>\r\n      <use x=\"46.333984\" xlink:href=\"#DejaVuSans-114\"/>\r\n      <use x=\"87.447266\" xlink:href=\"#DejaVuSans-117\"/>\r\n      <use x=\"150.826172\" xlink:href=\"#DejaVuSans-101\"/>\r\n      <use x=\"212.349609\" xlink:href=\"#DejaVuSans-32\"/>\r\n      <use x=\"244.136719\" xlink:href=\"#DejaVuSans-112\"/>\r\n      <use x=\"307.613281\" xlink:href=\"#DejaVuSans-111\"/>\r\n      <use x=\"368.794922\" xlink:href=\"#DejaVuSans-115\"/>\r\n      <use x=\"420.894531\" xlink:href=\"#DejaVuSans-105\"/>\r\n      <use x=\"448.677734\" xlink:href=\"#DejaVuSans-116\"/>\r\n      <use x=\"487.886719\" xlink:href=\"#DejaVuSans-105\"/>\r\n      <use x=\"515.669922\" xlink:href=\"#DejaVuSans-118\"/>\r\n      <use x=\"574.849609\" xlink:href=\"#DejaVuSans-101\"/>\r\n      <use x=\"636.373047\" xlink:href=\"#DejaVuSans-32\"/>\r\n      <use x=\"668.160156\" xlink:href=\"#DejaVuSans-114\"/>\r\n      <use x=\"709.273438\" xlink:href=\"#DejaVuSans-97\"/>\r\n      <use x=\"770.552734\" xlink:href=\"#DejaVuSans-116\"/>\r\n      <use x=\"809.761719\" xlink:href=\"#DejaVuSans-101\"/>\r\n     </g>\r\n    </g>\r\n   </g>\r\n   <g id=\"line2d_13\">\r\n    <path clip-path=\"url(#p4c2b962c69)\" d=\"M 58.999432 229.874489 \r\nL 363.363068 32.201761 \r\n\" style=\"fill:none;stroke:#000000;stroke-dasharray:5.55,2.4;stroke-dashoffset:0;stroke-width:1.5;\"/>\r\n   </g>\r\n   <g id=\"line2d_14\">\r\n    <path clip-path=\"url(#p4c2b962c69)\" d=\"M 58.999432 229.874489 \r\nL 59.105593 198.114732 \r\nL 59.211754 198.114732 \r\nL 59.317915 190.873507 \r\nL 59.424076 190.873507 \r\nL 59.530237 183.886361 \r\nL 59.636398 183.886361 \r\nL 59.742559 182.743009 \r\nL 59.84872 182.743009 \r\nL 59.954881 181.472619 \r\nL 60.061042 181.472619 \r\nL 60.061042 181.218541 \r\nL 60.379525 181.218541 \r\nL 60.485686 180.202229 \r\nL 60.591847 180.202229 \r\nL 60.698008 179.312956 \r\nL 60.804169 179.312956 \r\nL 60.91033 178.550721 \r\nL 61.016491 178.550721 \r\nL 61.122652 178.296643 \r\nL 61.334974 178.296643 \r\nL 61.441135 177.280331 \r\nL 61.547296 177.280331 \r\nL 61.547296 177.026253 \r\nL 61.865779 177.026253 \r\nL 61.865779 176.518097 \r\nL 62.078101 176.518097 \r\nL 62.184262 176.264019 \r\nL 62.396584 176.264019 \r\nL 62.502745 174.993629 \r\nL 62.715067 174.993629 \r\nL 62.715067 174.612512 \r\nL 62.927389 174.612512 \r\nL 63.03355 174.231394 \r\nL 63.139711 174.231394 \r\nL 63.139711 174.104355 \r\nL 63.458195 174.104355 \r\nL 63.564356 172.579887 \r\nL 63.670517 172.579887 \r\nL 63.776678 171.944692 \r\nL 63.882839 171.944692 \r\nL 63.882839 171.690614 \r\nL 64.201322 171.690614 \r\nL 64.307483 170.674302 \r\nL 64.413644 170.674302 \r\nL 64.413644 170.420224 \r\nL 64.625966 170.420224 \r\nL 64.625966 170.293185 \r\nL 65.262932 170.293185 \r\nL 65.369093 169.912068 \r\nL 65.687576 169.912068 \r\nL 65.687576 169.657989 \r\nL 66.218381 169.657989 \r\nL 66.218381 169.53095 \r\nL 66.536864 169.53095 \r\nL 66.536864 169.403911 \r\nL 66.749186 169.403911 \r\nL 66.855347 168.641677 \r\nL 67.17383 168.641677 \r\nL 67.279991 168.006482 \r\nL 67.386152 168.006482 \r\nL 67.492313 167.625365 \r\nL 67.598474 167.625365 \r\nL 67.704635 167.117209 \r\nL 67.810796 167.117209 \r\nL 67.810796 166.99017 \r\nL 68.023118 166.99017 \r\nL 68.023118 166.863131 \r\nL 68.23544 166.863131 \r\nL 68.23544 166.736092 \r\nL 68.447762 166.736092 \r\nL 68.447762 166.609053 \r\nL 68.766245 166.609053 \r\nL 68.766245 166.482014 \r\nL 69.190889 166.482014 \r\nL 69.29705 166.100897 \r\nL 69.403212 166.100897 \r\nL 69.509373 165.71978 \r\nL 69.721695 165.71978 \r\nL 69.721695 165.592741 \r\nL 69.934017 165.592741 \r\nL 70.040178 165.084584 \r\nL 70.570983 165.084584 \r\nL 70.570983 164.957545 \r\nL 71.207949 164.957545 \r\nL 71.207949 164.195311 \r\nL 71.420271 164.195311 \r\nL 71.526432 163.941233 \r\nL 71.632593 163.941233 \r\nL 71.738754 163.687155 \r\nL 72.057237 163.687155 \r\nL 72.163398 163.433077 \r\nL 72.906525 163.433077 \r\nL 73.012686 163.178999 \r\nL 73.331169 163.178999 \r\nL 73.331169 163.05196 \r\nL 73.543491 163.05196 \r\nL 73.543491 162.797882 \r\nL 74.392779 162.797882 \r\nL 74.392779 162.670843 \r\nL 74.605101 162.670843 \r\nL 74.711262 162.416765 \r\nL 75.772873 162.416765 \r\nL 75.772873 162.289726 \r\nL 76.516 162.289726 \r\nL 76.516 162.035648 \r\nL 76.728322 162.035648 \r\nL 76.728322 161.908609 \r\nL 77.683771 161.908609 \r\nL 77.683771 161.654531 \r\nL 77.896093 161.654531 \r\nL 77.896093 161.527492 \r\nL 78.533059 161.527492 \r\nL 78.533059 161.400453 \r\nL 80.337796 161.400453 \r\nL 80.337796 161.273414 \r\nL 80.974762 161.273414 \r\nL 81.080923 160.638218 \r\nL 81.187084 160.638218 \r\nL 81.187084 160.511179 \r\nL 81.399406 160.511179 \r\nL 81.399406 160.38414 \r\nL 81.930212 160.38414 \r\nL 81.930212 160.257101 \r\nL 82.248695 160.257101 \r\nL 82.248695 160.130062 \r\nL 82.461017 160.130062 \r\nL 82.461017 160.003023 \r\nL 82.7795 160.003023 \r\nL 82.885661 159.748945 \r\nL 83.416466 159.748945 \r\nL 83.416466 159.621906 \r\nL 83.947271 159.621906 \r\nL 83.947271 159.494867 \r\nL 84.478076 159.494867 \r\nL 84.478076 159.240789 \r\nL 84.90272 159.240789 \r\nL 84.90272 159.11375 \r\nL 85.433525 159.11375 \r\nL 85.433525 158.859672 \r\nL 85.539686 158.859672 \r\nL 85.752008 158.859672 \r\nL 85.858169 158.605594 \r\nL 86.282813 158.605594 \r\nL 86.282813 158.478555 \r\nL 88.193712 158.478555 \r\nL 88.193712 158.224477 \r\nL 88.512195 158.224477 \r\nL 88.512195 158.097438 \r\nL 89.149161 158.097438 \r\nL 89.149161 157.970399 \r\nL 89.361483 157.970399 \r\nL 89.361483 157.84336 \r\nL 89.679966 157.84336 \r\nL 89.679966 157.462243 \r\nL 90.10461 157.462243 \r\nL 90.10461 157.335204 \r\nL 91.060059 157.335204 \r\nL 91.060059 157.081126 \r\nL 92.333991 157.081126 \r\nL 92.440152 156.827048 \r\nL 92.546313 156.827048 \r\nL 92.652474 156.445931 \r\nL 92.970957 156.445931 \r\nL 92.970957 156.191853 \r\nL 93.395601 156.191853 \r\nL 93.501762 155.937774 \r\nL 93.820245 155.937774 \r\nL 93.926406 155.683696 \r\nL 94.032568 155.683696 \r\nL 94.032568 155.556657 \r\nL 94.24489 155.556657 \r\nL 94.24489 155.429618 \r\nL 94.669534 155.429618 \r\nL 94.775695 155.17554 \r\nL 95.094178 155.17554 \r\nL 95.094178 155.048501 \r\nL 95.837305 155.048501 \r\nL 95.837305 154.921462 \r\nL 96.049627 154.921462 \r\nL 96.049627 154.794423 \r\nL 96.474271 154.794423 \r\nL 96.474271 154.540345 \r\nL 96.792754 154.540345 \r\nL 96.898915 154.286267 \r\nL 97.111237 154.286267 \r\nL 97.111237 154.159228 \r\nL 97.642042 154.159228 \r\nL 97.642042 154.032189 \r\nL 98.279008 154.032189 \r\nL 98.279008 153.90515 \r\nL 98.49133 153.90515 \r\nL 98.49133 153.524033 \r\nL 98.703652 153.524033 \r\nL 98.703652 153.142916 \r\nL 99.128296 153.142916 \r\nL 99.128296 153.015877 \r\nL 100.50839 153.015877 \r\nL 100.50839 152.888838 \r\nL 101.039195 152.888838 \r\nL 101.145356 152.63476 \r\nL 101.676161 152.63476 \r\nL 101.676161 152.507721 \r\nL 102.100805 152.507721 \r\nL 102.100805 152.380682 \r\nL 102.313127 152.380682 \r\nL 102.313127 151.999565 \r\nL 102.950093 151.999565 \r\nL 102.950093 151.872526 \r\nL 103.374737 151.872526 \r\nL 103.374737 151.745487 \r\nL 104.330186 151.745487 \r\nL 104.436347 151.491408 \r\nL 104.75483 151.491408 \r\nL 104.75483 151.110291 \r\nL 105.710279 151.110291 \r\nL 105.710279 150.856213 \r\nL 106.028762 150.856213 \r\nL 106.028762 150.729174 \r\nL 106.241084 150.729174 \r\nL 106.347245 150.348057 \r\nL 107.302695 150.348057 \r\nL 107.302695 150.093979 \r\nL 107.8335 150.093979 \r\nL 107.8335 149.96694 \r\nL 108.045822 149.96694 \r\nL 108.045822 149.839901 \r\nL 108.364305 149.839901 \r\nL 108.364305 149.712862 \r\nL 109.107432 149.712862 \r\nL 109.107432 149.585823 \r\nL 109.425915 149.585823 \r\nL 109.425915 149.458784 \r\nL 109.532076 149.458784 \r\nL 109.744398 149.458784 \r\nL 109.744398 149.331745 \r\nL 110.062881 149.331745 \r\nL 110.062881 149.204706 \r\nL 110.593686 149.204706 \r\nL 110.593686 149.077667 \r\nL 111.124491 149.077667 \r\nL 111.124491 148.950628 \r\nL 112.186101 148.950628 \r\nL 112.186101 148.823589 \r\nL 113.03539 148.823589 \r\nL 113.03539 148.69655 \r\nL 113.247712 148.69655 \r\nL 113.353873 147.934316 \r\nL 113.566195 147.934316 \r\nL 113.566195 147.553199 \r\nL 114.097 147.553199 \r\nL 114.097 147.42616 \r\nL 114.627805 147.42616 \r\nL 114.733966 147.172082 \r\nL 114.840127 147.172082 \r\nL 114.840127 146.918003 \r\nL 115.15861 146.918003 \r\nL 115.15861 146.790964 \r\nL 115.477093 146.790964 \r\nL 115.477093 146.663925 \r\nL 116.114059 146.663925 \r\nL 116.114059 146.536886 \r\nL 116.644864 146.536886 \r\nL 116.644864 146.409847 \r\nL 117.28183 146.409847 \r\nL 117.28183 146.282808 \r\nL 117.600313 146.282808 \r\nL 117.600313 146.155769 \r\nL 118.131118 146.155769 \r\nL 118.131118 146.02873 \r\nL 118.661923 146.02873 \r\nL 118.661923 145.901691 \r\nL 119.29889 145.901691 \r\nL 119.29889 145.774652 \r\nL 119.511212 145.774652 \r\nL 119.617373 145.393535 \r\nL 119.723534 145.393535 \r\nL 119.723534 145.266496 \r\nL 120.466661 145.266496 \r\nL 120.466661 144.885379 \r\nL 121.315949 144.885379 \r\nL 121.315949 144.631301 \r\nL 121.528271 144.631301 \r\nL 121.528271 144.377223 \r\nL 122.377559 144.377223 \r\nL 122.48372 143.869067 \r\nL 122.696042 143.869067 \r\nL 122.696042 143.742028 \r\nL 123.014525 143.742028 \r\nL 123.120686 143.48795 \r\nL 123.863813 143.48795 \r\nL 123.863813 143.360911 \r\nL 124.076135 143.360911 \r\nL 124.076135 143.233872 \r\nL 125.031585 143.233872 \r\nL 125.031585 142.979794 \r\nL 125.56239 142.979794 \r\nL 125.56239 142.852755 \r\nL 125.774712 142.852755 \r\nL 125.774712 142.725716 \r\nL 125.987034 142.725716 \r\nL 126.093195 142.471638 \r\nL 127.154805 142.471638 \r\nL 127.154805 142.344598 \r\nL 127.579449 142.344598 \r\nL 127.68561 142.09052 \r\nL 127.897932 142.09052 \r\nL 127.897932 141.963481 \r\nL 128.216415 141.963481 \r\nL 128.216415 141.836442 \r\nL 128.534898 141.836442 \r\nL 128.534898 141.582364 \r\nL 129.384186 141.582364 \r\nL 129.490347 141.328286 \r\nL 130.445796 141.328286 \r\nL 130.551957 140.947169 \r\nL 130.87044 140.947169 \r\nL 130.87044 140.82013 \r\nL 131.082763 140.82013 \r\nL 131.082763 140.439013 \r\nL 131.295085 140.439013 \r\nL 131.401246 140.057896 \r\nL 131.507407 140.057896 \r\nL 131.613568 139.676779 \r\nL 132.038212 139.676779 \r\nL 132.038212 139.422701 \r\nL 132.675178 139.422701 \r\nL 132.675178 139.295662 \r\nL 133.630627 139.295662 \r\nL 133.630627 139.168623 \r\nL 133.842949 139.168623 \r\nL 133.94911 138.787506 \r\nL 134.373754 138.787506 \r\nL 134.373754 138.660467 \r\nL 134.692237 138.660467 \r\nL 134.692237 138.406389 \r\nL 135.329203 138.406389 \r\nL 135.329203 138.025272 \r\nL 135.647686 138.025272 \r\nL 135.647686 137.898233 \r\nL 135.966169 137.898233 \r\nL 135.966169 137.517115 \r\nL 136.178491 137.517115 \r\nL 136.178491 137.390076 \r\nL 136.390813 137.390076 \r\nL 136.390813 137.263037 \r\nL 136.603135 137.263037 \r\nL 136.709296 137.008959 \r\nL 137.027779 137.008959 \r\nL 137.027779 136.88192 \r\nL 137.240102 136.88192 \r\nL 137.240102 136.754881 \r\nL 137.558585 136.754881 \r\nL 137.558585 136.627842 \r\nL 137.770907 136.627842 \r\nL 137.877068 136.373764 \r\nL 138.726356 136.373764 \r\nL 138.832517 136.119686 \r\nL 138.938678 136.119686 \r\nL 138.938678 135.992647 \r\nL 139.257161 135.992647 \r\nL 139.257161 135.738569 \r\nL 139.575644 135.738569 \r\nL 139.681805 135.484491 \r\nL 139.787966 135.484491 \r\nL 139.787966 135.357452 \r\nL 140.106449 135.357452 \r\nL 140.106449 135.230413 \r\nL 140.637254 135.230413 \r\nL 140.637254 135.103374 \r\nL 140.849576 135.103374 \r\nL 140.955737 134.722257 \r\nL 141.061898 134.722257 \r\nL 141.061898 134.34114 \r\nL 142.441991 134.34114 \r\nL 142.548152 133.960023 \r\nL 143.397441 133.960023 \r\nL 143.397441 133.832984 \r\nL 144.034407 133.832984 \r\nL 144.034407 133.705945 \r\nL 144.565212 133.705945 \r\nL 144.565212 133.578906 \r\nL 144.883695 133.578906 \r\nL 144.883695 133.070749 \r\nL 145.4145 133.070749 \r\nL 145.4145 132.94371 \r\nL 145.839144 132.94371 \r\nL 145.839144 132.816671 \r\nL 146.794593 132.816671 \r\nL 146.794593 132.689632 \r\nL 147.113076 132.689632 \r\nL 147.113076 132.562593 \r\nL 147.53772 132.562593 \r\nL 147.643881 132.308515 \r\nL 147.750042 132.308515 \r\nL 147.856203 131.927398 \r\nL 148.705491 131.927398 \r\nL 148.705491 131.800359 \r\nL 149.023974 131.800359 \r\nL 149.130135 131.292203 \r\nL 149.236296 131.292203 \r\nL 149.236296 131.165164 \r\nL 149.767102 131.165164 \r\nL 149.767102 130.911086 \r\nL 150.61639 130.911086 \r\nL 150.61639 130.784047 \r\nL 151.041034 130.784047 \r\nL 151.147195 130.275891 \r\nL 151.890322 130.275891 \r\nL 151.996483 130.021813 \r\nL 152.421127 130.021813 \r\nL 152.527288 129.386618 \r\nL 153.270415 129.386618 \r\nL 153.270415 129.259579 \r\nL 153.482737 129.259579 \r\nL 153.482737 129.13254 \r\nL 154.544347 129.13254 \r\nL 154.544347 129.005501 \r\nL 154.756669 129.005501 \r\nL 154.756669 128.878462 \r\nL 154.968991 128.878462 \r\nL 154.968991 128.751422 \r\nL 155.287474 128.751422 \r\nL 155.393635 128.497344 \r\nL 155.81828 128.497344 \r\nL 155.81828 128.116227 \r\nL 156.030602 128.116227 \r\nL 156.030602 127.989188 \r\nL 157.198373 127.989188 \r\nL 157.304534 127.73511 \r\nL 157.729178 127.73511 \r\nL 157.729178 127.481032 \r\nL 158.153822 127.481032 \r\nL 158.153822 127.353993 \r\nL 158.366144 127.353993 \r\nL 158.366144 126.972876 \r\nL 159.321593 126.972876 \r\nL 159.321593 126.845837 \r\nL 159.958559 126.845837 \r\nL 159.958559 126.718798 \r\nL 160.383203 126.718798 \r\nL 160.383203 126.591759 \r\nL 160.914008 126.591759 \r\nL 160.914008 126.46472 \r\nL 161.232491 126.46472 \r\nL 161.338652 126.210642 \r\nL 161.657135 126.210642 \r\nL 161.657135 126.083603 \r\nL 161.975619 126.083603 \r\nL 162.08178 125.829525 \r\nL 162.187941 125.829525 \r\nL 162.187941 125.702486 \r\nL 162.400263 125.702486 \r\nL 162.400263 125.575447 \r\nL 162.931068 125.575447 \r\nL 162.931068 125.448408 \r\nL 163.14339 125.448408 \r\nL 163.249551 125.067291 \r\nL 163.461873 125.067291 \r\nL 163.568034 124.559135 \r\nL 164.098839 124.559135 \r\nL 164.098839 124.305057 \r\nL 164.311161 124.305057 \r\nL 164.417322 123.7969 \r\nL 164.523483 123.7969 \r\nL 164.523483 123.669861 \r\nL 164.841966 123.669861 \r\nL 164.948127 123.415783 \r\nL 165.160449 123.415783 \r\nL 165.26661 123.034666 \r\nL 165.372771 123.034666 \r\nL 165.372771 122.907627 \r\nL 165.691254 122.907627 \r\nL 165.797415 122.653549 \r\nL 166.32822 122.653549 \r\nL 166.32822 122.399471 \r\nL 166.646703 122.399471 \r\nL 166.752864 122.145393 \r\nL 166.859025 122.145393 \r\nL 166.859025 122.018354 \r\nL 167.38983 122.018354 \r\nL 167.495991 121.764276 \r\nL 167.602152 121.764276 \r\nL 167.602152 121.383159 \r\nL 167.920635 121.383159 \r\nL 168.026797 121.129081 \r\nL 168.451441 121.129081 \r\nL 168.557602 120.875003 \r\nL 168.982246 120.875003 \r\nL 168.982246 120.620925 \r\nL 169.300729 120.620925 \r\nL 169.40689 120.366847 \r\nL 169.937695 120.366847 \r\nL 169.937695 120.239808 \r\nL 170.362339 120.239808 \r\nL 170.362339 120.112769 \r\nL 170.680822 120.112769 \r\nL 170.680822 119.98573 \r\nL 170.999305 119.98573 \r\nL 170.999305 119.731652 \r\nL 171.317788 119.731652 \r\nL 171.317788 119.477573 \r\nL 173.122525 119.477573 \r\nL 173.122525 119.350534 \r\nL 174.502619 119.350534 \r\nL 174.502619 119.223495 \r\nL 174.714941 119.223495 \r\nL 174.714941 119.096456 \r\nL 174.927263 119.096456 \r\nL 175.033424 118.842378 \r\nL 175.245746 118.842378 \r\nL 175.351907 118.5883 \r\nL 176.201195 118.5883 \r\nL 176.201195 118.461261 \r\nL 176.732 118.461261 \r\nL 176.838161 118.207183 \r\nL 177.79361 118.207183 \r\nL 177.79361 118.080144 \r\nL 178.218254 118.080144 \r\nL 178.218254 117.826066 \r\nL 178.536737 117.826066 \r\nL 178.642898 117.444949 \r\nL 178.749059 117.444949 \r\nL 178.749059 117.31791 \r\nL 179.91683 117.31791 \r\nL 179.91683 117.190871 \r\nL 180.447636 117.190871 \r\nL 180.447636 117.063832 \r\nL 180.659958 117.063832 \r\nL 180.766119 116.809754 \r\nL 181.403085 116.809754 \r\nL 181.403085 116.682715 \r\nL 181.827729 116.682715 \r\nL 181.827729 116.555676 \r\nL 182.889339 116.555676 \r\nL 182.9955 116.301598 \r\nL 183.207822 116.301598 \r\nL 183.207822 116.04752 \r\nL 183.632466 116.04752 \r\nL 183.632466 115.920481 \r\nL 183.844788 115.920481 \r\nL 183.844788 115.666403 \r\nL 184.694076 115.666403 \r\nL 184.694076 115.412325 \r\nL 184.906398 115.412325 \r\nL 184.906398 115.031207 \r\nL 185.224881 115.031207 \r\nL 185.224881 114.904168 \r\nL 186.286491 114.904168 \r\nL 186.286491 114.65009 \r\nL 186.498813 114.65009 \r\nL 186.604975 114.396012 \r\nL 186.711136 114.396012 \r\nL 186.817297 114.014895 \r\nL 187.13578 114.014895 \r\nL 187.241941 113.760817 \r\nL 187.348102 113.760817 \r\nL 187.454263 113.506739 \r\nL 187.560424 113.506739 \r\nL 187.560424 113.3797 \r\nL 188.409712 113.3797 \r\nL 188.409712 113.252661 \r\nL 189.365161 113.252661 \r\nL 189.365161 112.998583 \r\nL 189.895966 112.998583 \r\nL 189.895966 112.871544 \r\nL 190.639093 112.871544 \r\nL 190.745254 112.617466 \r\nL 192.019186 112.617466 \r\nL 192.019186 112.490427 \r\nL 192.44383 112.490427 \r\nL 192.44383 112.363388 \r\nL 192.974636 112.363388 \r\nL 192.974636 112.236349 \r\nL 193.39928 112.236349 \r\nL 193.39928 112.10931 \r\nL 194.354729 112.10931 \r\nL 194.354729 111.982271 \r\nL 195.5225 111.982271 \r\nL 195.5225 111.855232 \r\nL 196.796432 111.855232 \r\nL 196.796432 111.728193 \r\nL 197.114915 111.728193 \r\nL 197.221076 111.474115 \r\nL 197.433398 111.474115 \r\nL 197.433398 111.347076 \r\nL 198.176525 111.347076 \r\nL 198.176525 111.220037 \r\nL 198.70733 111.220037 \r\nL 198.70733 111.092998 \r\nL 199.238136 111.092998 \r\nL 199.238136 110.965959 \r\nL 199.450458 110.965959 \r\nL 199.450458 110.83892 \r\nL 200.087424 110.83892 \r\nL 200.193585 110.584842 \r\nL 201.255195 110.584842 \r\nL 201.255195 110.457802 \r\nL 201.573678 110.457802 \r\nL 201.573678 110.330763 \r\nL 201.998322 110.330763 \r\nL 201.998322 110.203724 \r\nL 202.210644 110.203724 \r\nL 202.210644 109.949646 \r\nL 202.422966 109.949646 \r\nL 202.422966 109.822607 \r\nL 204.015381 109.822607 \r\nL 204.121542 109.314451 \r\nL 204.227703 109.314451 \r\nL 204.333864 109.060373 \r\nL 204.546186 109.060373 \r\nL 204.652347 108.806295 \r\nL 204.864669 108.806295 \r\nL 204.864669 108.679256 \r\nL 205.501636 108.679256 \r\nL 205.501636 108.552217 \r\nL 206.138602 108.552217 \r\nL 206.138602 107.917022 \r\nL 206.350924 107.917022 \r\nL 206.350924 107.789983 \r\nL 206.563246 107.789983 \r\nL 206.563246 107.535905 \r\nL 206.775568 107.535905 \r\nL 206.775568 107.408866 \r\nL 207.306373 107.408866 \r\nL 207.412534 107.154788 \r\nL 207.837178 107.154788 \r\nL 207.837178 107.027749 \r\nL 208.0495 107.027749 \r\nL 208.0495 106.773671 \r\nL 208.792627 106.773671 \r\nL 208.792627 106.646632 \r\nL 209.323432 106.646632 \r\nL 209.323432 106.392554 \r\nL 209.641915 106.392554 \r\nL 209.641915 106.265515 \r\nL 209.854237 106.265515 \r\nL 209.854237 106.011437 \r\nL 211.234331 106.011437 \r\nL 211.234331 105.884397 \r\nL 211.658975 105.884397 \r\nL 211.658975 105.630319 \r\nL 212.295941 105.630319 \r\nL 212.295941 105.50328 \r\nL 212.614424 105.50328 \r\nL 212.614424 105.376241 \r\nL 213.569873 105.376241 \r\nL 213.569873 105.249202 \r\nL 213.994517 105.249202 \r\nL 214.100678 104.995124 \r\nL 214.419161 104.995124 \r\nL 214.419161 104.868085 \r\nL 215.799254 104.868085 \r\nL 215.799254 104.741046 \r\nL 216.754703 104.741046 \r\nL 216.860864 103.978812 \r\nL 216.967025 103.978812 \r\nL 216.967025 103.851773 \r\nL 217.39167 103.851773 \r\nL 217.39167 103.724734 \r\nL 217.603992 103.724734 \r\nL 217.603992 103.597695 \r\nL 217.922475 103.597695 \r\nL 217.922475 103.343617 \r\nL 218.347119 103.343617 \r\nL 218.347119 103.216578 \r\nL 218.771763 103.216578 \r\nL 218.771763 102.9625 \r\nL 219.621051 102.9625 \r\nL 219.621051 102.708422 \r\nL 219.939534 102.708422 \r\nL 220.045695 102.454344 \r\nL 222.168915 102.454344 \r\nL 222.168915 102.327305 \r\nL 222.593559 102.327305 \r\nL 222.593559 101.946188 \r\nL 223.230525 101.946188 \r\nL 223.336686 101.565071 \r\nL 223.442847 101.565071 \r\nL 223.442847 101.438032 \r\nL 224.292136 101.438032 \r\nL 224.292136 101.310992 \r\nL 224.610619 101.310992 \r\nL 224.610619 101.183953 \r\nL 225.566068 101.183953 \r\nL 225.672229 100.929875 \r\nL 226.203034 100.929875 \r\nL 226.203034 100.802836 \r\nL 226.521517 100.802836 \r\nL 226.627678 100.548758 \r\nL 226.84 100.548758 \r\nL 226.84 100.29468 \r\nL 228.220093 100.29468 \r\nL 228.220093 100.167641 \r\nL 228.750898 100.167641 \r\nL 228.750898 99.913563 \r\nL 229.494025 99.913563 \r\nL 229.600186 99.659485 \r\nL 230.237153 99.659485 \r\nL 230.237153 99.532446 \r\nL 230.555636 99.532446 \r\nL 230.661797 99.278368 \r\nL 230.767958 99.278368 \r\nL 230.767958 99.151329 \r\nL 231.086441 99.151329 \r\nL 231.086441 99.02429 \r\nL 231.723407 99.02429 \r\nL 231.723407 98.897251 \r\nL 232.04189 98.897251 \r\nL 232.04189 98.770212 \r\nL 232.466534 98.770212 \r\nL 232.466534 98.262056 \r\nL 232.678856 98.262056 \r\nL 232.678856 98.135017 \r\nL 234.058949 98.135017 \r\nL 234.058949 98.007978 \r\nL 234.589754 98.007978 \r\nL 234.589754 97.880939 \r\nL 234.802076 97.880939 \r\nL 234.802076 97.7539 \r\nL 235.22672 97.7539 \r\nL 235.22672 97.626861 \r\nL 236.500653 97.626861 \r\nL 236.606814 97.245744 \r\nL 237.031458 97.245744 \r\nL 237.031458 96.991666 \r\nL 237.668424 96.991666 \r\nL 237.668424 96.737587 \r\nL 238.517712 96.737587 \r\nL 238.623873 96.35647 \r\nL 239.579322 96.35647 \r\nL 239.579322 96.229431 \r\nL 239.897805 96.229431 \r\nL 240.003966 95.721275 \r\nL 240.534771 95.721275 \r\nL 240.640932 95.213119 \r\nL 240.959415 95.213119 \r\nL 240.959415 95.08608 \r\nL 241.596381 95.08608 \r\nL 241.702542 94.704963 \r\nL 241.808703 94.704963 \r\nL 241.808703 94.577924 \r\nL 242.127187 94.577924 \r\nL 242.127187 94.450885 \r\nL 242.339509 94.450885 \r\nL 242.44567 94.069768 \r\nL 242.764153 94.069768 \r\nL 242.764153 93.81569 \r\nL 243.401119 93.81569 \r\nL 243.50728 93.561612 \r\nL 243.931924 93.561612 \r\nL 243.931924 93.434573 \r\nL 244.250407 93.434573 \r\nL 244.250407 93.307534 \r\nL 244.675051 93.307534 \r\nL 244.675051 93.180495 \r\nL 245.099695 93.180495 \r\nL 245.099695 93.053456 \r\nL 245.524339 93.053456 \r\nL 245.524339 92.926417 \r\nL 245.948983 92.926417 \r\nL 245.948983 92.799378 \r\nL 246.267466 92.799378 \r\nL 246.373627 92.291222 \r\nL 246.585949 92.291222 \r\nL 246.69211 91.910104 \r\nL 246.798271 91.910104 \r\nL 246.798271 91.783065 \r\nL 247.859881 91.783065 \r\nL 247.859881 91.528987 \r\nL 249.133814 91.528987 \r\nL 249.239975 91.274909 \r\nL 249.876941 91.274909 \r\nL 249.876941 91.14787 \r\nL 251.044712 91.14787 \r\nL 251.150873 90.766753 \r\nL 252.106322 90.766753 \r\nL 252.212483 90.385636 \r\nL 253.061771 90.385636 \r\nL 253.167932 90.131558 \r\nL 253.274093 90.131558 \r\nL 253.380254 89.750441 \r\nL 253.486415 89.750441 \r\nL 253.592576 89.496363 \r\nL 253.911059 89.496363 \r\nL 253.911059 88.988207 \r\nL 254.548026 88.988207 \r\nL 254.548026 88.861168 \r\nL 254.97267 88.861168 \r\nL 254.97267 88.734129 \r\nL 255.928119 88.734129 \r\nL 255.928119 88.60709 \r\nL 256.565085 88.60709 \r\nL 256.565085 88.480051 \r\nL 256.989729 88.480051 \r\nL 256.989729 88.353012 \r\nL 257.839017 88.353012 \r\nL 257.945178 87.717817 \r\nL 258.688305 87.717817 \r\nL 258.688305 87.590777 \r\nL 259.112949 87.590777 \r\nL 259.112949 87.082621 \r\nL 260.917687 87.082621 \r\nL 260.917687 86.955582 \r\nL 261.23617 86.955582 \r\nL 261.23617 86.828543 \r\nL 261.660814 86.828543 \r\nL 261.660814 86.574465 \r\nL 262.29778 86.574465 \r\nL 262.29778 86.320387 \r\nL 262.403941 86.320387 \r\nL 263.890195 86.320387 \r\nL 263.890195 86.193348 \r\nL 264.102517 86.193348 \r\nL 264.102517 86.066309 \r\nL 264.739483 86.066309 \r\nL 264.845644 85.812231 \r\nL 265.057966 85.812231 \r\nL 265.057966 85.685192 \r\nL 265.270288 85.685192 \r\nL 265.270288 85.431114 \r\nL 265.48261 85.431114 \r\nL 265.48261 85.304075 \r\nL 266.331898 85.304075 \r\nL 266.331898 85.177036 \r\nL 267.075026 85.177036 \r\nL 267.181187 84.66888 \r\nL 267.287348 84.66888 \r\nL 267.393509 84.287763 \r\nL 267.49967 84.287763 \r\nL 267.605831 84.033685 \r\nL 267.711992 84.033685 \r\nL 267.711992 83.779607 \r\nL 268.030475 83.779607 \r\nL 268.136636 83.144412 \r\nL 268.455119 83.144412 \r\nL 268.455119 83.017372 \r\nL 268.667441 83.017372 \r\nL 268.667441 82.890333 \r\nL 269.941373 82.890333 \r\nL 269.941373 82.763294 \r\nL 270.366017 82.763294 \r\nL 270.366017 82.636255 \r\nL 270.472178 82.636255 \r\nL 271.215305 81.874021 \r\nL 271.958432 81.874021 \r\nL 271.958432 81.746982 \r\nL 272.489237 81.746982 \r\nL 272.489237 81.619943 \r\nL 272.913882 81.619943 \r\nL 272.913882 81.492904 \r\nL 273.338526 81.492904 \r\nL 273.444687 81.238826 \r\nL 273.550848 81.238826 \r\nL 273.550848 81.111787 \r\nL 273.76317 81.111787 \r\nL 273.76317 80.857709 \r\nL 274.400136 80.857709 \r\nL 274.400136 80.73067 \r\nL 274.612458 80.73067 \r\nL 274.718619 80.476592 \r\nL 275.143263 80.476592 \r\nL 275.249424 79.714358 \r\nL 275.674068 79.714358 \r\nL 275.780229 79.46028 \r\nL 275.88639 79.46028 \r\nL 275.88639 79.079163 \r\nL 276.948 79.079163 \r\nL 276.948 78.952124 \r\nL 277.797288 78.952124 \r\nL 277.797288 78.825085 \r\nL 278.115771 78.825085 \r\nL 278.115771 78.571007 \r\nL 278.858898 78.571007 \r\nL 278.858898 78.443967 \r\nL 279.177382 78.443967 \r\nL 279.283543 78.06285 \r\nL 279.920509 78.06285 \r\nL 279.920509 77.935811 \r\nL 281.08828 77.935811 \r\nL 281.08828 77.681733 \r\nL 281.725246 77.681733 \r\nL 281.831407 77.300616 \r\nL 282.256051 77.300616 \r\nL 282.256051 77.173577 \r\nL 282.574534 77.173577 \r\nL 282.574534 77.046538 \r\nL 283.317661 77.046538 \r\nL 283.423822 76.157265 \r\nL 284.379271 76.157265 \r\nL 284.379271 76.030226 \r\nL 284.697754 76.030226 \r\nL 284.697754 75.776148 \r\nL 285.759365 75.776148 \r\nL 285.759365 75.649109 \r\nL 286.396331 75.649109 \r\nL 286.396331 75.52207 \r\nL 286.608653 75.52207 \r\nL 286.714814 75.140953 \r\nL 287.033297 75.140953 \r\nL 287.033297 75.013914 \r\nL 287.564102 75.013914 \r\nL 287.564102 74.886875 \r\nL 288.094907 74.886875 \r\nL 288.094907 74.632797 \r\nL 288.307229 74.632797 \r\nL 288.41339 74.25168 \r\nL 288.519551 74.25168 \r\nL 288.625712 73.870562 \r\nL 289.156517 73.870562 \r\nL 289.156517 73.743523 \r\nL 289.475 73.743523 \r\nL 289.581161 73.489445 \r\nL 289.899644 73.489445 \r\nL 290.005805 73.235367 \r\nL 290.218127 73.235367 \r\nL 290.218127 73.108328 \r\nL 290.430449 73.108328 \r\nL 290.430449 72.981289 \r\nL 290.961254 72.981289 \r\nL 291.067415 72.727211 \r\nL 291.385899 72.727211 \r\nL 291.385899 72.600172 \r\nL 291.810543 72.600172 \r\nL 291.916704 72.219055 \r\nL 292.235187 72.219055 \r\nL 292.235187 72.092016 \r\nL 292.765992 72.092016 \r\nL 292.765992 71.964977 \r\nL 293.084475 71.964977 \r\nL 293.084475 71.837938 \r\nL 293.61528 71.837938 \r\nL 293.721441 71.456821 \r\nL 293.827602 71.456821 \r\nL 293.827602 71.075704 \r\nL 294.146085 71.075704 \r\nL 294.146085 70.948665 \r\nL 294.252246 70.948665 \r\nL 294.464568 70.948665 \r\nL 294.464568 70.694587 \r\nL 295.526178 70.694587 \r\nL 295.526178 70.567548 \r\nL 295.7385 70.567548 \r\nL 295.844661 70.440509 \r\nL 296.163144 70.440509 \r\nL 296.163144 70.31347 \r\nL 296.587788 70.31347 \r\nL 296.693949 70.059392 \r\nL 296.80011 70.059392 \r\nL 296.906271 69.805314 \r\nL 297.224754 69.805314 \r\nL 297.330915 69.170118 \r\nL 297.75556 69.170118 \r\nL 297.75556 69.043079 \r\nL 299.029492 69.043079 \r\nL 299.029492 68.91604 \r\nL 299.241814 68.91604 \r\nL 299.241814 68.661962 \r\nL 299.560297 68.661962 \r\nL 299.666458 68.407884 \r\nL 299.772619 68.407884 \r\nL 299.772619 68.280845 \r\nL 300.728068 68.280845 \r\nL 300.728068 68.153806 \r\nL 300.94039 68.153806 \r\nL 300.94039 68.026767 \r\nL 301.258873 68.026767 \r\nL 301.258873 67.899728 \r\nL 302.320483 67.899728 \r\nL 302.320483 67.772689 \r\nL 302.957449 67.772689 \r\nL 302.957449 67.64565 \r\nL 303.169771 67.64565 \r\nL 303.169771 67.391572 \r\nL 303.594415 67.391572 \r\nL 303.700577 67.010455 \r\nL 303.806738 67.010455 \r\nL 303.912899 66.756377 \r\nL 304.443704 66.756377 \r\nL 304.549865 66.502299 \r\nL 304.868348 66.502299 \r\nL 304.868348 66.37526 \r\nL 305.399153 66.37526 \r\nL 305.399153 66.248221 \r\nL 305.929958 66.248221 \r\nL 306.036119 65.867104 \r\nL 306.14228 65.867104 \r\nL 306.14228 65.485987 \r\nL 306.354602 65.485987 \r\nL 306.354602 65.231909 \r\nL 306.566924 65.231909 \r\nL 306.566924 65.10487 \r\nL 306.673085 65.10487 \r\nL 307.20389 65.10487 \r\nL 307.310051 64.469674 \r\nL 308.159339 64.469674 \r\nL 308.2655 64.215596 \r\nL 308.583983 64.215596 \r\nL 308.583983 64.088557 \r\nL 308.796305 64.088557 \r\nL 308.796305 63.961518 \r\nL 309.008627 63.961518 \r\nL 309.114788 63.580401 \r\nL 309.220949 63.580401 \r\nL 309.220949 63.453362 \r\nL 309.433271 63.453362 \r\nL 309.433271 63.199284 \r\nL 309.751754 63.199284 \r\nL 309.751754 63.072245 \r\nL 310.28256 63.072245 \r\nL 310.28256 62.945206 \r\nL 310.919526 62.945206 \r\nL 310.919526 62.691128 \r\nL 311.131848 62.691128 \r\nL 311.238009 62.43705 \r\nL 311.450331 62.43705 \r\nL 311.556492 62.182972 \r\nL 311.662653 62.182972 \r\nL 311.768814 61.674816 \r\nL 311.874975 61.674816 \r\nL 311.874975 61.547777 \r\nL 312.087297 61.420738 \r\nL 312.724263 61.420738 \r\nL 312.724263 61.293699 \r\nL 315.059805 61.293699 \r\nL 315.165966 60.912582 \r\nL 315.272127 60.912582 \r\nL 315.272127 60.658504 \r\nL 315.484449 60.658504 \r\nL 315.59061 60.277387 \r\nL 316.227577 60.277387 \r\nL 316.227577 60.150347 \r\nL 316.864543 60.150347 \r\nL 316.970704 59.642191 \r\nL 317.289187 59.642191 \r\nL 317.395348 59.134035 \r\nL 317.713831 59.134035 \r\nL 317.819992 58.752918 \r\nL 317.926153 58.752918 \r\nL 317.926153 58.625879 \r\nL 318.244636 58.625879 \r\nL 318.244636 58.371801 \r\nL 318.563119 58.371801 \r\nL 318.563119 58.244762 \r\nL 320.049373 58.244762 \r\nL 320.049373 58.117723 \r\nL 320.367856 58.117723 \r\nL 320.474017 57.863645 \r\nL 321.004822 57.863645 \r\nL 321.110983 57.609567 \r\nL 321.323305 57.609567 \r\nL 321.323305 57.482528 \r\nL 321.535627 57.482528 \r\nL 321.535627 57.22845 \r\nL 321.85411 57.22845 \r\nL 321.85411 56.720294 \r\nL 322.172594 56.720294 \r\nL 322.172594 56.593255 \r\nL 322.703399 56.593255 \r\nL 322.80956 56.339177 \r\nL 322.915721 56.212138 \r\nL 323.234204 56.212138 \r\nL 323.234204 56.085099 \r\nL 324.295814 56.085099 \r\nL 324.295814 55.95806 \r\nL 324.508136 55.95806 \r\nL 324.614297 55.576942 \r\nL 324.826619 55.576942 \r\nL 324.826619 55.449903 \r\nL 325.145102 55.449903 \r\nL 325.251263 55.068786 \r\nL 325.99439 55.068786 \r\nL 325.99439 54.941747 \r\nL 326.312873 54.941747 \r\nL 326.312873 54.814708 \r\nL 326.843678 54.814708 \r\nL 326.949839 54.56063 \r\nL 327.162161 54.56063 \r\nL 327.162161 54.052474 \r\nL 327.586805 54.052474 \r\nL 327.586805 53.925435 \r\nL 329.07306 53.925435 \r\nL 329.179221 53.671357 \r\nL 329.391543 53.671357 \r\nL 329.391543 52.909123 \r\nL 329.816187 52.909123 \r\nL 329.922348 52.146889 \r\nL 330.240831 52.146889 \r\nL 330.240831 52.01985 \r\nL 330.346992 52.01985 \r\nL 330.559314 52.01985 \r\nL 330.559314 51.638733 \r\nL 330.665475 51.638733 \r\nL 330.877797 51.511694 \r\nL 330.877797 51.130577 \r\nL 331.090119 51.130577 \r\nL 331.408602 50.876498 \r\nL 331.514763 50.876498 \r\nL 331.514763 50.749459 \r\nL 331.833246 50.749459 \r\nL 331.833246 50.62242 \r\nL 331.939407 50.62242 \r\nL 332.151729 50.62242 \r\nL 332.25789 50.368342 \r\nL 332.576373 49.860186 \r\nL 333.001017 48.970913 \r\nL 333.213339 48.970913 \r\nL 333.213339 48.843874 \r\nL 333.531822 48.843874 \r\nL 333.531822 48.716835 \r\nL 334.062627 48.716835 \r\nL 334.062627 48.589796 \r\nL 334.593433 48.589796 \r\nL 334.699594 48.208679 \r\nL 334.805755 48.208679 \r\nL 334.911916 47.827562 \r\nL 335.018077 47.827562 \r\nL 335.018077 47.700523 \r\nL 335.230399 47.700523 \r\nL 335.230399 47.446445 \r\nL 335.548882 47.446445 \r\nL 335.655043 47.192367 \r\nL 336.185848 47.192367 \r\nL 336.185848 47.065328 \r\nL 336.39817 47.065328 \r\nL 336.39817 46.938289 \r\nL 337.353619 46.938289 \r\nL 337.353619 46.684211 \r\nL 337.565941 46.684211 \r\nL 337.565941 46.557172 \r\nL 338.202907 46.557172 \r\nL 338.202907 46.430132 \r\nL 338.52139 46.430132 \r\nL 338.627551 45.921976 \r\nL 339.689161 45.921976 \r\nL 339.795322 45.159742 \r\nL 340.219966 45.159742 \r\nL 340.219966 45.032703 \r\nL 340.64461 45.032703 \r\nL 340.750772 44.14343 \r\nL 341.069255 44.14343 \r\nL 341.069255 43.889352 \r\nL 341.175416 43.889352 \r\nL 341.387738 43.889352 \r\nL 341.387738 43.762313 \r\nL 341.60006 43.762313 \r\nL 341.706221 43.635274 \r\nL 341.706221 43.381196 \r\nL 342.024704 43.381196 \r\nL 342.024704 43.254157 \r\nL 342.237026 43.254157 \r\nL 342.237026 43.000079 \r\nL 342.449348 43.000079 \r\nL 342.449348 42.746001 \r\nL 342.873992 42.746001 \r\nL 342.873992 42.618962 \r\nL 343.086314 42.618962 \r\nL 343.086314 42.364884 \r\nL 343.298636 42.364884 \r\nL 343.298636 42.237845 \r\nL 343.72328 42.237845 \r\nL 343.829441 41.983767 \r\nL 344.254085 41.983767 \r\nL 344.360246 41.47561 \r\nL 345.103373 41.47561 \r\nL 345.103373 41.348571 \r\nL 345.421856 41.348571 \r\nL 345.421856 41.221532 \r\nL 346.164983 41.221532 \r\nL 346.164983 40.713376 \r\nL 346.377305 40.713376 \r\nL 346.377305 40.332259 \r\nL 346.695788 40.332259 \r\nL 346.695788 40.20522 \r\nL 347.120433 40.078181 \r\nL 347.332755 40.078181 \r\nL 347.332755 39.824103 \r\nL 348.075882 39.824103 \r\nL 348.075882 39.697064 \r\nL 348.288204 39.697064 \r\nL 348.288204 39.570025 \r\nL 348.394365 39.570025 \r\nL 348.92517 39.570025 \r\nL 348.92517 39.442986 \r\nL 349.243653 39.442986 \r\nL 349.243653 39.315947 \r\nL 349.668297 39.315947 \r\nL 349.774458 38.807791 \r\nL 350.199102 38.807791 \r\nL 350.199102 38.553713 \r\nL 350.517585 38.553713 \r\nL 350.517585 38.426674 \r\nL 350.836068 38.426674 \r\nL 350.942229 37.918518 \r\nL 351.473034 37.918518 \r\nL 351.579195 37.537401 \r\nL 351.791517 37.537401 \r\nL 351.897678 37.029244 \r\nL 352.746966 37.029244 \r\nL 352.853127 36.648127 \r\nL 352.959288 36.648127 \r\nL 352.959288 36.012932 \r\nL 353.06545 36.012932 \r\nL 353.277772 36.012932 \r\nL 353.277772 35.885893 \r\nL 353.490094 35.885893 \r\nL 353.490094 35.758854 \r\nL 353.914738 35.758854 \r\nL 354.020899 34.99662 \r\nL 354.12706 34.99662 \r\nL 354.233221 34.742542 \r\nL 355.507153 34.742542 \r\nL 355.507153 34.615503 \r\nL 356.462602 34.615503 \r\nL 356.462602 34.234386 \r\nL 356.781085 34.234386 \r\nL 356.781085 33.980308 \r\nL 357.099568 33.980308 \r\nL 357.099568 33.853269 \r\nL 357.31189 33.853269 \r\nL 357.31189 33.72623 \r\nL 359.222789 33.72623 \r\nL 359.222789 33.599191 \r\nL 359.435111 33.599191 \r\nL 359.541272 33.345113 \r\nL 359.753594 33.345113 \r\nL 359.753594 33.218074 \r\nL 360.284399 33.218074 \r\nL 360.284399 33.091035 \r\nL 360.815204 33.091035 \r\nL 360.815204 32.963996 \r\nL 360.921365 32.963996 \r\nL 361.45217 32.963996 \r\nL 361.45217 32.836957 \r\nL 361.664492 32.836957 \r\nL 361.664492 32.709917 \r\nL 362.089136 32.709917 \r\nL 362.089136 32.582878 \r\nL 362.938424 32.582878 \r\nL 362.938424 32.455839 \r\nL 363.256907 32.455839 \r\nL 363.363068 32.201761 \r\nL 363.363068 32.201761 \r\n\" style=\"fill:none;stroke:#1f77b4;stroke-linecap:square;stroke-width:1.5;\"/>\r\n   </g>\r\n   <g id=\"patch_3\">\r\n    <path d=\"M 43.78125 239.758125 \r\nL 43.78125 22.318125 \r\n\" style=\"fill:none;stroke:#000000;stroke-linecap:square;stroke-linejoin:miter;stroke-width:0.8;\"/>\r\n   </g>\r\n   <g id=\"patch_4\">\r\n    <path d=\"M 378.58125 239.758125 \r\nL 378.58125 22.318125 \r\n\" style=\"fill:none;stroke:#000000;stroke-linecap:square;stroke-linejoin:miter;stroke-width:0.8;\"/>\r\n   </g>\r\n   <g id=\"patch_5\">\r\n    <path d=\"M 43.78125 239.758125 \r\nL 378.58125 239.758125 \r\n\" style=\"fill:none;stroke:#000000;stroke-linecap:square;stroke-linejoin:miter;stroke-width:0.8;\"/>\r\n   </g>\r\n   <g id=\"patch_6\">\r\n    <path d=\"M 43.78125 22.318125 \r\nL 378.58125 22.318125 \r\n\" style=\"fill:none;stroke:#000000;stroke-linecap:square;stroke-linejoin:miter;stroke-width:0.8;\"/>\r\n   </g>\r\n   <g id=\"text_15\">\r\n    <!-- ROC curve -->\r\n    <defs>\r\n     <path d=\"M 44.390625 34.1875 \r\nQ 47.5625 33.109375 50.5625 29.59375 \r\nQ 53.5625 26.078125 56.59375 19.921875 \r\nL 66.609375 0 \r\nL 56 0 \r\nL 46.6875 18.703125 \r\nQ 43.0625 26.03125 39.671875 28.421875 \r\nQ 36.28125 30.8125 30.421875 30.8125 \r\nL 19.671875 30.8125 \r\nL 19.671875 0 \r\nL 9.8125 0 \r\nL 9.8125 72.90625 \r\nL 32.078125 72.90625 \r\nQ 44.578125 72.90625 50.734375 67.671875 \r\nQ 56.890625 62.453125 56.890625 51.90625 \r\nQ 56.890625 45.015625 53.6875 40.46875 \r\nQ 50.484375 35.9375 44.390625 34.1875 \r\nz\r\nM 19.671875 64.796875 \r\nL 19.671875 38.921875 \r\nL 32.078125 38.921875 \r\nQ 39.203125 38.921875 42.84375 42.21875 \r\nQ 46.484375 45.515625 46.484375 51.90625 \r\nQ 46.484375 58.296875 42.84375 61.546875 \r\nQ 39.203125 64.796875 32.078125 64.796875 \r\nz\r\n\" id=\"DejaVuSans-82\"/>\r\n     <path d=\"M 39.40625 66.21875 \r\nQ 28.65625 66.21875 22.328125 58.203125 \r\nQ 16.015625 50.203125 16.015625 36.375 \r\nQ 16.015625 22.609375 22.328125 14.59375 \r\nQ 28.65625 6.59375 39.40625 6.59375 \r\nQ 50.140625 6.59375 56.421875 14.59375 \r\nQ 62.703125 22.609375 62.703125 36.375 \r\nQ 62.703125 50.203125 56.421875 58.203125 \r\nQ 50.140625 66.21875 39.40625 66.21875 \r\nz\r\nM 39.40625 74.21875 \r\nQ 54.734375 74.21875 63.90625 63.9375 \r\nQ 73.09375 53.65625 73.09375 36.375 \r\nQ 73.09375 19.140625 63.90625 8.859375 \r\nQ 54.734375 -1.421875 39.40625 -1.421875 \r\nQ 24.03125 -1.421875 14.8125 8.828125 \r\nQ 5.609375 19.09375 5.609375 36.375 \r\nQ 5.609375 53.65625 14.8125 63.9375 \r\nQ 24.03125 74.21875 39.40625 74.21875 \r\nz\r\n\" id=\"DejaVuSans-79\"/>\r\n     <path d=\"M 64.40625 67.28125 \r\nL 64.40625 56.890625 \r\nQ 59.421875 61.53125 53.78125 63.8125 \r\nQ 48.140625 66.109375 41.796875 66.109375 \r\nQ 29.296875 66.109375 22.65625 58.46875 \r\nQ 16.015625 50.828125 16.015625 36.375 \r\nQ 16.015625 21.96875 22.65625 14.328125 \r\nQ 29.296875 6.6875 41.796875 6.6875 \r\nQ 48.140625 6.6875 53.78125 8.984375 \r\nQ 59.421875 11.28125 64.40625 15.921875 \r\nL 64.40625 5.609375 \r\nQ 59.234375 2.09375 53.4375 0.328125 \r\nQ 47.65625 -1.421875 41.21875 -1.421875 \r\nQ 24.65625 -1.421875 15.125 8.703125 \r\nQ 5.609375 18.84375 5.609375 36.375 \r\nQ 5.609375 53.953125 15.125 64.078125 \r\nQ 24.65625 74.21875 41.21875 74.21875 \r\nQ 47.75 74.21875 53.53125 72.484375 \r\nQ 59.328125 70.75 64.40625 67.28125 \r\nz\r\n\" id=\"DejaVuSans-67\"/>\r\n     <path d=\"M 48.78125 52.59375 \r\nL 48.78125 44.1875 \r\nQ 44.96875 46.296875 41.140625 47.34375 \r\nQ 37.3125 48.390625 33.40625 48.390625 \r\nQ 24.65625 48.390625 19.8125 42.84375 \r\nQ 14.984375 37.3125 14.984375 27.296875 \r\nQ 14.984375 17.28125 19.8125 11.734375 \r\nQ 24.65625 6.203125 33.40625 6.203125 \r\nQ 37.3125 6.203125 41.140625 7.25 \r\nQ 44.96875 8.296875 48.78125 10.40625 \r\nL 48.78125 2.09375 \r\nQ 45.015625 0.34375 40.984375 -0.53125 \r\nQ 36.96875 -1.421875 32.421875 -1.421875 \r\nQ 20.0625 -1.421875 12.78125 6.34375 \r\nQ 5.515625 14.109375 5.515625 27.296875 \r\nQ 5.515625 40.671875 12.859375 48.328125 \r\nQ 20.21875 56 33.015625 56 \r\nQ 37.15625 56 41.109375 55.140625 \r\nQ 45.0625 54.296875 48.78125 52.59375 \r\nz\r\n\" id=\"DejaVuSans-99\"/>\r\n    </defs>\r\n    <g transform=\"translate(179.38125 16.318125)scale(0.12 -0.12)\">\r\n     <use xlink:href=\"#DejaVuSans-82\"/>\r\n     <use x=\"69.482422\" xlink:href=\"#DejaVuSans-79\"/>\r\n     <use x=\"148.193359\" xlink:href=\"#DejaVuSans-67\"/>\r\n     <use x=\"218.017578\" xlink:href=\"#DejaVuSans-32\"/>\r\n     <use x=\"249.804688\" xlink:href=\"#DejaVuSans-99\"/>\r\n     <use x=\"304.785156\" xlink:href=\"#DejaVuSans-117\"/>\r\n     <use x=\"368.164062\" xlink:href=\"#DejaVuSans-114\"/>\r\n     <use x=\"409.277344\" xlink:href=\"#DejaVuSans-118\"/>\r\n     <use x=\"468.457031\" xlink:href=\"#DejaVuSans-101\"/>\r\n    </g>\r\n   </g>\r\n   <g id=\"legend_1\">\r\n    <g id=\"patch_7\">\r\n     <path d=\"M 50.78125 44.99625 \r\nL 95.48125 44.99625 \r\nQ 97.48125 44.99625 97.48125 42.99625 \r\nL 97.48125 29.318125 \r\nQ 97.48125 27.318125 95.48125 27.318125 \r\nL 50.78125 27.318125 \r\nQ 48.78125 27.318125 48.78125 29.318125 \r\nL 48.78125 42.99625 \r\nQ 48.78125 44.99625 50.78125 44.99625 \r\nz\r\n\" style=\"fill:#ffffff;opacity:0.8;stroke:#cccccc;stroke-linejoin:miter;\"/>\r\n    </g>\r\n    <g id=\"line2d_15\">\r\n     <path d=\"M 52.78125 35.416562 \r\nL 72.78125 35.416562 \r\n\" style=\"fill:none;stroke:#1f77b4;stroke-linecap:square;stroke-width:1.5;\"/>\r\n    </g>\r\n    <g id=\"line2d_16\"/>\r\n    <g id=\"text_16\">\r\n     <!-- RF -->\r\n     <g transform=\"translate(80.78125 38.916562)scale(0.1 -0.1)\">\r\n      <use xlink:href=\"#DejaVuSans-82\"/>\r\n      <use x=\"69.482422\" xlink:href=\"#DejaVuSans-70\"/>\r\n     </g>\r\n    </g>\r\n   </g>\r\n  </g>\r\n </g>\r\n <defs>\r\n  <clipPath id=\"p4c2b962c69\">\r\n   <rect height=\"217.44\" width=\"334.8\" x=\"43.78125\" y=\"22.318125\"/>\r\n  </clipPath>\r\n </defs>\r\n</svg>\r\n",
      "image/png": "[encoded data removed]"
     },
     "metadata": {
      "needs_background": "light"
     }
    }
   ],
   "source": [
    "plt.figure(1)\n",
    "plt.plot([0, 1], [0, 1], 'k--')\n",
    "plt.plot(fpr_rf, tpr_rf, label='RF')\n",
    "plt.xlabel('False positive rate')\n",
    "plt.ylabel('True positive rate')\n",
    "plt.title('ROC curve')\n",
    "plt.legend(loc='best')\n",
    "plt.show()"
   ]
  },
  {
   "cell_type": "code",
   "execution_count": 68,
   "metadata": {},
   "outputs": [
    {
     "output_type": "execute_result",
     "data": {
      "text/plain": [
       "<function matplotlib.pyplot.boxplot(x, notch=None, sym=None, vert=None, whis=None, positions=None, widths=None, patch_artist=None, bootstrap=None, usermedians=None, conf_intervals=None, meanline=None, showmeans=None, showcaps=None, showbox=None, showfliers=None, boxprops=None, labels=None, flierprops=None, medianprops=None, meanprops=None, capprops=None, whiskerprops=None, manage_ticks=True, autorange=False, zorder=None, *, data=None)>"
      ]
     },
     "metadata": {},
     "execution_count": 68
    }
   ],
   "source": [
    "plt.boxplot"
   ]
  },
  {
   "cell_type": "code",
   "execution_count": null,
   "metadata": {},
   "outputs": [],
   "source": []
  },
  {
   "cell_type": "code",
   "execution_count": null,
   "metadata": {},
   "outputs": [],
   "source": []
  },
  {
   "cell_type": "code",
   "execution_count": null,
   "metadata": {},
   "outputs": [],
   "source": []
  },
  {
   "cell_type": "code",
   "execution_count": null,
   "metadata": {},
   "outputs": [],
   "source": []
  }
 ],
 "metadata": {
  "kernelspec": {
   "display_name": "Python 3.7.6 64-bit ('base': conda)",
   "language": "python",
   "name": "python37664bitbaseconda784a393941bc4e35b7c87680a7ceede7"
  },
  "language_info": {
   "codemirror_mode": {
    "name": "ipython",
    "version": 3
   },
   "file_extension": ".py",
   "mimetype": "text/x-python",
   "name": "python",
   "nbconvert_exporter": "python",
   "pygments_lexer": "ipython3",
   "version": "3.7.6-final"
  }
 },
 "nbformat": 4,
 "nbformat_minor": 4
}